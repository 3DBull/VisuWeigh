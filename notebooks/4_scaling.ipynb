{
 "cells": [
  {
   "cell_type": "markdown",
   "id": "6454674a-13fd-402a-9bdb-a31af21b71c9",
   "metadata": {},
   "source": [
    "# Machine Learning at Scale"
   ]
  },
  {
   "cell_type": "markdown",
   "id": "8998b8bc-f8e3-4d9a-a11a-e127020023c9",
   "metadata": {},
   "source": [
    "Since we are continually collecting more data, we should see an imporovement in training results as we obtain greater data volumes. This notebook will look at the trend between amount of data and training accuracy. "
   ]
  },
  {
   "cell_type": "code",
   "execution_count": 1,
   "id": "0b9850c3-d82c-420a-ba55-a84265f245a6",
   "metadata": {},
   "outputs": [],
   "source": [
    "import os\n",
    "import tensorflow as tf\n",
    "from tensorflow.keras.applications.resnet50 import preprocess_input, decode_predictions\n",
    "import numpy as np\n",
    "import os\n",
    "from tensorflow.keras.preprocessing import image\n",
    "from lib.util import load_and_prep_data, test_on_image, evaluate_model\n",
    "from matplotlib import pyplot as plt\n",
    "from generator import Generator\n",
    "from lib import paths"
   ]
  },
  {
   "cell_type": "markdown",
   "id": "e744dcf3-aa3a-48a2-8d76-aa468b7a38f9",
   "metadata": {},
   "source": [
    "### Get the Data Ready"
   ]
  },
  {
   "cell_type": "code",
   "execution_count": 11,
   "id": "3bf4b744-a420-4349-920c-1c8bbbc79230",
   "metadata": {},
   "outputs": [
    {
     "name": "stdout",
     "output_type": "stream",
     "text": [
      "Found 119661 raw data points!\n",
      "Loaded 69917 filtered data points!\n"
     ]
    }
   ],
   "source": [
    "df_trim = load_and_prep_data(paths.TRAINING_DATA, paths.DATASET)"
   ]
  },
  {
   "cell_type": "code",
   "execution_count": 12,
   "id": "0ee75f11-d30c-4622-afa0-4b6885e9b30f",
   "metadata": {},
   "outputs": [
    {
     "data": {
      "text/plain": [
       "3152"
      ]
     },
     "execution_count": 12,
     "metadata": {},
     "output_type": "execute_result"
    }
   ],
   "source": [
    "# reserve recent data for evaluation\n",
    "cuttoff = '2022-03-13'\n",
    "cutoff2 = '2022-03-31'\n",
    "eval_df = df_trim[(df_trim.timestamp > cuttoff) & (df_trim.timestamp < cutoff2)].copy()\n",
    "training_df = df_trim[(df_trim.timestamp < cuttoff) | (df_trim.timestamp > cutoff2)].copy()\n",
    "len(eval_df)"
   ]
  },
  {
   "cell_type": "code",
   "execution_count": 19,
   "id": "85a37bcd-b934-4a9d-8544-dfde4698ccc7",
   "metadata": {},
   "outputs": [],
   "source": [
    "# split the training data into training and testing\n",
    "def train_test_split(d, frac=0.1):\n",
    "    test = d.sample(frac=frac, axis=0)\n",
    "    train = d.drop(index=test.index).sample(frac=1, axis=0)\n",
    "    return train, test"
   ]
  },
  {
   "cell_type": "code",
   "execution_count": 20,
   "id": "cd590c5e-cdcb-414e-96bd-4effe66bd480",
   "metadata": {
    "tags": []
   },
   "outputs": [],
   "source": [
    "train_df, test_df = train_test_split(training_df)"
   ]
  },
  {
   "cell_type": "markdown",
   "id": "f1bf843e-813f-4b94-85ca-b461806b8699",
   "metadata": {},
   "source": [
    "### Create the Data Generator for Batch Training"
   ]
  },
  {
   "cell_type": "code",
   "execution_count": 21,
   "id": "6de17bde-1b5c-4125-98d7-2beb213532eb",
   "metadata": {},
   "outputs": [],
   "source": [
    "   \n",
    "    \n",
    "def create_gen(training_df, validation_df, model_input_shape, color='grayscale'):\n",
    "    \n",
    "    train_datagen = image.ImageDataGenerator(\n",
    "            rescale=1./255,\n",
    "            #shear_range=0.2,\n",
    "            zoom_range=0.1,\n",
    "            horizontal_flip=True\n",
    "            )\n",
    "\n",
    "    test_datagen = image.ImageDataGenerator(rescale=1./255,\n",
    "                                           )\n",
    "\n",
    "    train_generator = train_datagen.flow_from_dataframe(\n",
    "            dataframe=training_df,\n",
    "            directory=os.path.join(paths.TRAINING_DATA, 'img'),\n",
    "            x_col='path',\n",
    "            y_col='weight',\n",
    "            target_size=model_input_shape,\n",
    "            batch_size=50,\n",
    "            class_mode='raw',\n",
    "            color_mode=color,\n",
    "            shuffle=True,\n",
    "            )\n",
    "\n",
    "    validation_generator = test_datagen.flow_from_dataframe(\n",
    "            dataframe=validation_df,\n",
    "            directory=os.path.join(paths.TRAINING_DATA, 'img'),\n",
    "            x_col='path',\n",
    "            y_col='weight',\n",
    "            target_size=model_input_shape,\n",
    "            batch_size=50,\n",
    "            class_mode='raw',\n",
    "            color_mode=color,\n",
    "            shuffle=True,\n",
    "            )\n",
    "\n",
    "    return train_generator, validation_generator"
   ]
  },
  {
   "cell_type": "code",
   "execution_count": 22,
   "id": "2aa2add5-4bdd-40ae-bc67-43b39475b905",
   "metadata": {},
   "outputs": [
    {
     "name": "stdout",
     "output_type": "stream",
     "text": [
      "Found 60089 validated image filenames.\n",
      "Found 6676 validated image filenames.\n"
     ]
    }
   ],
   "source": [
    "train_generator, val_generator = create_gen(train_df, test_df, (224,224), color='rgb')"
   ]
  },
  {
   "cell_type": "markdown",
   "id": "49f1f527-21bc-4fa7-8cca-c5f5440e81e8",
   "metadata": {},
   "source": [
    "## Training Accuracy vs. Dataset Size\n",
    "As a general rule, the more data we have for training, the better the model prediction will be. We assume that we will reach a saturation point where the model will no longer get better with more data. Let's see if we can predict where this saturation point will be. We will train the model in several iterations each time using a larger portion of the dataset. This will give us a projection of when saturation will be reached. \n",
    "\n",
    "Let's start by getting our model ready. "
   ]
  },
  {
   "cell_type": "code",
   "execution_count": 31,
   "id": "6c72e2e0-988e-4fbf-ba2e-18f270d03acf",
   "metadata": {},
   "outputs": [
    {
     "name": "stdout",
     "output_type": "stream",
     "text": [
      "The tensorboard extension is already loaded. To reload it, use:\n",
      "  %reload_ext tensorboard\n"
     ]
    }
   ],
   "source": [
    "import datetime  \n",
    "%load_ext tensorboard\n",
    "\n",
    "def gen_model(model_name):\n",
    "    # load pretrained model\n",
    "    x_model = tf.keras.applications.xception.Xception(weights='imagenet',\n",
    "            input_shape=(224, 224, 3),\n",
    "            include_top=False)\n",
    "    \n",
    "    # freez the first n layers\n",
    "    for layer in x_model.layers[:10]:\n",
    "        layer.trainable = False\n",
    "        \n",
    "    # build new layers\n",
    "    input_layer = tf.keras.Input(shape=(224, 224, 3))\n",
    "\n",
    "\n",
    "    # use the whole model and add a couple layers\n",
    "    x = x_model(input_layer, training=False)\n",
    "    x = tf.keras.layers.GlobalAveragePooling2D()(x)\n",
    "    x = tf.keras.layers.Dense(100)(x)\n",
    "    x = tf.keras.layers.Dropout(0.2)(x)  # Regularize with dropout\n",
    "\n",
    "    bias_init = tf.keras.initializers.Constant(train_df.weight.mean())\n",
    "\n",
    "    outputs = tf.keras.layers.Dense(1, bias_initializer=bias_init)(x) # reduce to one node for weight prediction\n",
    "    model = tf.keras.Model(input_layer, outputs)\n",
    "    \n",
    "    #optimizer\n",
    "    steps_per_epoch = 200\n",
    "    model_name = 'iceptres_freeze_adagrad'\n",
    "\n",
    "    first_decay_steps = 10*steps_per_epoch\n",
    "    t_mul = 2\n",
    "    lr_decayed_fn = tf.keras.optimizers.schedules.CosineDecayRestarts(0.001, first_decay_steps, t_mul=t_mul)\n",
    "    opt = tf.keras.optimizers.Adagrad(learning_rate=lr_decayed_fn)\n",
    "\n",
    "    # compile model\n",
    "    model.compile(\n",
    "        loss= \"mean_squared_error\" , \n",
    "        optimizer=opt, \n",
    "        metrics=[\"mean_squared_error\"])\n",
    "    return model"
   ]
  },
  {
   "cell_type": "markdown",
   "id": "2194a917-f065-44f6-83fc-6a8e7b58242a",
   "metadata": {},
   "source": [
    "### Training Loop"
   ]
  },
  {
   "cell_type": "markdown",
   "id": "e6ead5e9-7c14-4cc1-bd4d-b3288b4382f4",
   "metadata": {},
   "source": [
    "We will train the model on 7 different sizes of the dataset. The checkpoint callback will save the best models so we can test them later. "
   ]
  },
  {
   "cell_type": "code",
   "execution_count": 2,
   "id": "c9a89d1d-1215-406d-b4c9-e10b56fbd2cf",
   "metadata": {},
   "outputs": [],
   "source": [
    "data_sizes = [5000, 10000, 20000, 30000, 40000, 50000, 60000]"
   ]
  },
  {
   "cell_type": "code",
   "execution_count": null,
   "id": "b0cf5e1f-9a33-41cf-bb21-94a631a7a5d3",
   "metadata": {
    "tags": []
   },
   "outputs": [],
   "source": [
    "# Training loop \n",
    "\n",
    "for data_size in data_sizes:\n",
    "    \n",
    "    # load the datagenerator\n",
    "    train_generator, val_generator = create_gen(train_df[:data_size], test_df, (224,224), color='rgb')\n",
    "    \n",
    "    # generate the model\n",
    "    model_name = str(data_size)\n",
    "    model_xcept = gen_model(model_name)\n",
    "    \n",
    "    print(\"Training on {} images\".format(data_size))\n",
    "    \n",
    "    # Fit the model\n",
    "    epochs = 100\n",
    "    batch_size = 32\n",
    "    \n",
    "    # save checkpoints\n",
    "    checkpoint_callback = tf.keras.callbacks.ModelCheckpoint(\n",
    "    filepath='./scaling/{}_{}_{}'.format(model_name, \"{epoch}\", \"{val_loss}\"),\n",
    "    save_weights_only=False,\n",
    "    monitor='val_loss',\n",
    "    mode='min',\n",
    "    save_best_only=True)\n",
    "\n",
    "    # show on tensorboard\n",
    "    logs_base_dir = \"./scaling_logs\"\n",
    "    logdir = os.path.join(logs_base_dir, model_name + '_' + datetime.datetime.now().strftime(\"%Y%m%d-%H%M%S\"))\n",
    "    tensorboard_callback = tf.keras.callbacks.TensorBoard(logdir, histogram_freq=1)\n",
    "    \n",
    "    \n",
    "    history = model_xcept.fit(\n",
    "        train_generator,\n",
    "        steps_per_epoch=data_size//epochs//batch_size*20,  # the steps need to be limited with less data\n",
    "        initial_epoch=1,\n",
    "        epochs=epochs,\n",
    "        validation_data=val_generator,\n",
    "        validation_steps=10,\n",
    "        shuffle=True,\n",
    "        callbacks=[checkpoint_callback, tensorboard_callback]\n",
    "        )\n",
    "    \n",
    "    # unfreeze layers and continue training\n",
    "    for layer in model_xcept.layers[:10]:\n",
    "        layer.trainable = True\n",
    "    \n",
    "    history = model_xcept.fit(\n",
    "        train_generator,\n",
    "        steps_per_epoch=data_size//epochs//batch_size*20,\n",
    "        initial_epoch=100,\n",
    "        epochs=epochs*2,\n",
    "        validation_data=val_generator,\n",
    "        validation_steps=10,\n",
    "        shuffle=True,\n",
    "        callbacks=[checkpoint_callback, tensorboard_callback]\n",
    "        )\n",
    "    \n",
    "   "
   ]
  },
  {
   "cell_type": "markdown",
   "id": "8f199793-db73-4ea5-b68b-d3ba1b3ca6f8",
   "metadata": {},
   "source": [
    "### Evaluate Models\n",
    "We will evaluate the models using the `evaluate_model` function I built in the utilities module. We will store the results of the evaluation in a dataframe to look at later. "
   ]
  },
  {
   "cell_type": "code",
   "execution_count": 3,
   "id": "aff926fe-3175-4d74-b1cf-f5255a531b70",
   "metadata": {},
   "outputs": [],
   "source": [
    "def loss_from_name(s):\n",
    "    return s.split('_')[-1]\n",
    "\n",
    "def data_size_from_name(s):\n",
    "    return s.split('_')[0]"
   ]
  },
  {
   "cell_type": "code",
   "execution_count": 14,
   "id": "da42d8ec-4bfa-4e4f-be1d-bf61cbbb4c3b",
   "metadata": {},
   "outputs": [],
   "source": [
    "from importlib import reload\n",
    "import lib\n",
    "reload(lib.util)\n",
    "from lib.util import test_on_image, load_and_prep_data, evaluate_model"
   ]
  },
  {
   "cell_type": "code",
   "execution_count": 15,
   "id": "fa0bc568-f92c-4281-8f3b-ec22e25cf1f5",
   "metadata": {},
   "outputs": [
    {
     "name": "stdout",
     "output_type": "stream",
     "text": [
      "                               name             loss data_size\n",
      "0   scaling/10000_10_35353.23046875   35353.23046875     10000\n",
      "1  scaling/10000_11_28268.509765625  28268.509765625     10000\n",
      "2  scaling/10000_13_27454.998046875  27454.998046875     10000\n",
      "3  scaling/10000_14_24756.685546875  24756.685546875     10000\n",
      "4     scaling/10000_19_23264.796875     23264.796875     10000\n",
      "Found 5 files.\n",
      "Found 1266 data points!\n"
     ]
    },
    {
     "data": {
      "application/vnd.jupyter.widget-view+json": {
       "model_id": "8a9d841b831b43c39df4c541adb832b7",
       "version_major": 2,
       "version_minor": 0
      },
      "text/plain": [
       "  0%|          | 0/1266 [00:00<?, ?it/s]"
      ]
     },
     "metadata": {},
     "output_type": "display_data"
    },
    {
     "name": "stdout",
     "output_type": "stream",
     "text": [
      "5000_76_17712.419921875 average accuracy: 84.92%\n",
      "Found 5 files.\n",
      "Found 1266 data points!\n"
     ]
    },
    {
     "data": {
      "application/vnd.jupyter.widget-view+json": {
       "model_id": "558fa33fae704499b9910863dae0ba30",
       "version_major": 2,
       "version_minor": 0
      },
      "text/plain": [
       "  0%|          | 0/1266 [00:00<?, ?it/s]"
      ]
     },
     "metadata": {},
     "output_type": "display_data"
    },
    {
     "name": "stdout",
     "output_type": "stream",
     "text": [
      "5000_66_19410.48828125 average accuracy: 85.07%\n",
      "Found 5 files.\n",
      "Found 1266 data points!\n"
     ]
    },
    {
     "data": {
      "application/vnd.jupyter.widget-view+json": {
       "model_id": "a0313711aa78493c905b9040eb9ad144",
       "version_major": 2,
       "version_minor": 0
      },
      "text/plain": [
       "  0%|          | 0/1266 [00:00<?, ?it/s]"
      ]
     },
     "metadata": {},
     "output_type": "display_data"
    },
    {
     "name": "stdout",
     "output_type": "stream",
     "text": [
      "5000_52_20055.056640625 average accuracy: 84.38%\n",
      "Found 5 files.\n",
      "Found 1266 data points!\n"
     ]
    },
    {
     "data": {
      "application/vnd.jupyter.widget-view+json": {
       "model_id": "6a6d7f3b4d0e4af0a9b8d4e122f32c0b",
       "version_major": 2,
       "version_minor": 0
      },
      "text/plain": [
       "  0%|          | 0/1266 [00:00<?, ?it/s]"
      ]
     },
     "metadata": {},
     "output_type": "display_data"
    },
    {
     "name": "stdout",
     "output_type": "stream",
     "text": [
      "5000_50_22423.849609375 average accuracy: 84.94%\n",
      "Found 5 files.\n",
      "Found 1266 data points!\n"
     ]
    },
    {
     "data": {
      "application/vnd.jupyter.widget-view+json": {
       "model_id": "34470ffca4e142c88640d94c34770e69",
       "version_major": 2,
       "version_minor": 0
      },
      "text/plain": [
       "  0%|          | 0/1266 [00:00<?, ?it/s]"
      ]
     },
     "metadata": {},
     "output_type": "display_data"
    },
    {
     "name": "stdout",
     "output_type": "stream",
     "text": [
      "5000_48_23248.87109375 average accuracy: 85.02%\n",
      "Found 5 files.\n",
      "Found 1266 data points!\n"
     ]
    },
    {
     "data": {
      "application/vnd.jupyter.widget-view+json": {
       "model_id": "dc519a8eb9a8447cbdf9c104c119e259",
       "version_major": 2,
       "version_minor": 0
      },
      "text/plain": [
       "  0%|          | 0/1266 [00:00<?, ?it/s]"
      ]
     },
     "metadata": {},
     "output_type": "display_data"
    },
    {
     "name": "stdout",
     "output_type": "stream",
     "text": [
      "10000_66_14852.546875 average accuracy: 86.20%\n",
      "Found 5 files.\n",
      "Found 1266 data points!\n"
     ]
    },
    {
     "data": {
      "application/vnd.jupyter.widget-view+json": {
       "model_id": "649e3bf23c7b4e9da0aa58f20c35a0c3",
       "version_major": 2,
       "version_minor": 0
      },
      "text/plain": [
       "  0%|          | 0/1266 [00:00<?, ?it/s]"
      ]
     },
     "metadata": {},
     "output_type": "display_data"
    },
    {
     "name": "stdout",
     "output_type": "stream",
     "text": [
      "10000_63_16244.857421875 average accuracy: 86.76%\n",
      "Found 5 files.\n",
      "Found 1266 data points!\n"
     ]
    },
    {
     "data": {
      "application/vnd.jupyter.widget-view+json": {
       "model_id": "8ed940614900430886a612977802c66c",
       "version_major": 2,
       "version_minor": 0
      },
      "text/plain": [
       "  0%|          | 0/1266 [00:00<?, ?it/s]"
      ]
     },
     "metadata": {},
     "output_type": "display_data"
    },
    {
     "name": "stdout",
     "output_type": "stream",
     "text": [
      "10000_59_17557.69140625 average accuracy: 86.51%\n",
      "Found 5 files.\n",
      "Found 1266 data points!\n"
     ]
    },
    {
     "data": {
      "application/vnd.jupyter.widget-view+json": {
       "model_id": "9add0f7f9a3e4fdf9bc2c4e86b9b3c1b",
       "version_major": 2,
       "version_minor": 0
      },
      "text/plain": [
       "  0%|          | 0/1266 [00:00<?, ?it/s]"
      ]
     },
     "metadata": {},
     "output_type": "display_data"
    },
    {
     "name": "stdout",
     "output_type": "stream",
     "text": [
      "10000_55_18241.603515625 average accuracy: 87.07%\n",
      "Found 5 files.\n",
      "Found 1266 data points!\n"
     ]
    },
    {
     "data": {
      "application/vnd.jupyter.widget-view+json": {
       "model_id": "f73a8be3fd2540089a8ac02255afb519",
       "version_major": 2,
       "version_minor": 0
      },
      "text/plain": [
       "  0%|          | 0/1266 [00:00<?, ?it/s]"
      ]
     },
     "metadata": {},
     "output_type": "display_data"
    },
    {
     "name": "stdout",
     "output_type": "stream",
     "text": [
      "10000_52_18512.857421875 average accuracy: 86.53%\n",
      "Found 5 files.\n",
      "Found 1266 data points!\n"
     ]
    },
    {
     "data": {
      "application/vnd.jupyter.widget-view+json": {
       "model_id": "9e4f076c861041b3882da73cb6c5347f",
       "version_major": 2,
       "version_minor": 0
      },
      "text/plain": [
       "  0%|          | 0/1266 [00:00<?, ?it/s]"
      ]
     },
     "metadata": {},
     "output_type": "display_data"
    },
    {
     "name": "stdout",
     "output_type": "stream",
     "text": [
      "20000_169_13004.7041015625 average accuracy: 87.76%\n",
      "Found 5 files.\n",
      "Found 1266 data points!\n"
     ]
    },
    {
     "data": {
      "application/vnd.jupyter.widget-view+json": {
       "model_id": "5e73210861004122a058d24f4c9476d3",
       "version_major": 2,
       "version_minor": 0
      },
      "text/plain": [
       "  0%|          | 0/1266 [00:00<?, ?it/s]"
      ]
     },
     "metadata": {},
     "output_type": "display_data"
    },
    {
     "name": "stdout",
     "output_type": "stream",
     "text": [
      "20000_159_13928.0458984375 average accuracy: 87.16%\n",
      "Found 5 files.\n",
      "Found 1266 data points!\n"
     ]
    },
    {
     "data": {
      "application/vnd.jupyter.widget-view+json": {
       "model_id": "9e4a49f0f44b4130a3d739a801dcbb02",
       "version_major": 2,
       "version_minor": 0
      },
      "text/plain": [
       "  0%|          | 0/1266 [00:00<?, ?it/s]"
      ]
     },
     "metadata": {},
     "output_type": "display_data"
    },
    {
     "name": "stdout",
     "output_type": "stream",
     "text": [
      "20000_157_14243.244140625 average accuracy: 87.37%\n",
      "Found 5 files.\n",
      "Found 1266 data points!\n"
     ]
    },
    {
     "data": {
      "application/vnd.jupyter.widget-view+json": {
       "model_id": "0fa952b9125c4f5fae671da2369064bf",
       "version_major": 2,
       "version_minor": 0
      },
      "text/plain": [
       "  0%|          | 0/1266 [00:00<?, ?it/s]"
      ]
     },
     "metadata": {},
     "output_type": "display_data"
    },
    {
     "name": "stdout",
     "output_type": "stream",
     "text": [
      "20000_66_14260.8837890625 average accuracy: 87.50%\n",
      "Found 5 files.\n",
      "Found 1266 data points!\n"
     ]
    },
    {
     "data": {
      "application/vnd.jupyter.widget-view+json": {
       "model_id": "a34698080adc4a0f9a8c340a4422e8bf",
       "version_major": 2,
       "version_minor": 0
      },
      "text/plain": [
       "  0%|          | 0/1266 [00:00<?, ?it/s]"
      ]
     },
     "metadata": {},
     "output_type": "display_data"
    },
    {
     "name": "stdout",
     "output_type": "stream",
     "text": [
      "20000_63_15425.2841796875 average accuracy: 88.09%\n",
      "Found 5 files.\n",
      "Found 1266 data points!\n"
     ]
    },
    {
     "data": {
      "application/vnd.jupyter.widget-view+json": {
       "model_id": "e5aa961d0a074a4ca57d3709d64351a2",
       "version_major": 2,
       "version_minor": 0
      },
      "text/plain": [
       "  0%|          | 0/1266 [00:00<?, ?it/s]"
      ]
     },
     "metadata": {},
     "output_type": "display_data"
    },
    {
     "name": "stdout",
     "output_type": "stream",
     "text": [
      "30000_59_11236.9716796875 average accuracy: 87.85%\n",
      "Found 5 files.\n",
      "Found 1266 data points!\n"
     ]
    },
    {
     "data": {
      "application/vnd.jupyter.widget-view+json": {
       "model_id": "669cfcc4fba84a0598780e226c3a40de",
       "version_major": 2,
       "version_minor": 0
      },
      "text/plain": [
       "  0%|          | 0/1266 [00:00<?, ?it/s]"
      ]
     },
     "metadata": {},
     "output_type": "display_data"
    },
    {
     "name": "stdout",
     "output_type": "stream",
     "text": [
      "30000_44_12316.6181640625 average accuracy: 88.26%\n",
      "Found 5 files.\n",
      "Found 1266 data points!\n"
     ]
    },
    {
     "data": {
      "application/vnd.jupyter.widget-view+json": {
       "model_id": "d4a58f93565f498c8a3be1ddb96ea364",
       "version_major": 2,
       "version_minor": 0
      },
      "text/plain": [
       "  0%|          | 0/1266 [00:00<?, ?it/s]"
      ]
     },
     "metadata": {},
     "output_type": "display_data"
    },
    {
     "name": "stdout",
     "output_type": "stream",
     "text": [
      "30000_34_12887.4697265625 average accuracy: 87.13%\n",
      "Found 5 files.\n",
      "Found 1266 data points!\n"
     ]
    },
    {
     "data": {
      "application/vnd.jupyter.widget-view+json": {
       "model_id": "59dad1c895b24cf690e568d91c143c2e",
       "version_major": 2,
       "version_minor": 0
      },
      "text/plain": [
       "  0%|          | 0/1266 [00:00<?, ?it/s]"
      ]
     },
     "metadata": {},
     "output_type": "display_data"
    },
    {
     "name": "stdout",
     "output_type": "stream",
     "text": [
      "30000_23_13462.4599609375 average accuracy: 86.44%\n",
      "Found 5 files.\n",
      "Found 1266 data points!\n"
     ]
    },
    {
     "data": {
      "application/vnd.jupyter.widget-view+json": {
       "model_id": "04aff78794fa44338339dc8ff8857d7b",
       "version_major": 2,
       "version_minor": 0
      },
      "text/plain": [
       "  0%|          | 0/1266 [00:00<?, ?it/s]"
      ]
     },
     "metadata": {},
     "output_type": "display_data"
    },
    {
     "name": "stdout",
     "output_type": "stream",
     "text": [
      "30000_22_14957.9765625 average accuracy: 87.37%\n",
      "Found 5 files.\n",
      "Found 1266 data points!\n"
     ]
    },
    {
     "data": {
      "application/vnd.jupyter.widget-view+json": {
       "model_id": "5c2ba5ca2d3449cd8088ec7affa24375",
       "version_major": 2,
       "version_minor": 0
      },
      "text/plain": [
       "  0%|          | 0/1266 [00:00<?, ?it/s]"
      ]
     },
     "metadata": {},
     "output_type": "display_data"
    },
    {
     "name": "stdout",
     "output_type": "stream",
     "text": [
      "40000_103_10710.6611328125 average accuracy: 88.32%\n",
      "Found 5 files.\n",
      "Found 1266 data points!\n"
     ]
    },
    {
     "data": {
      "application/vnd.jupyter.widget-view+json": {
       "model_id": "1355941c656d414981ab55472136d859",
       "version_major": 2,
       "version_minor": 0
      },
      "text/plain": [
       "  0%|          | 0/1266 [00:00<?, ?it/s]"
      ]
     },
     "metadata": {},
     "output_type": "display_data"
    },
    {
     "name": "stdout",
     "output_type": "stream",
     "text": [
      "40000_82_10833.8173828125 average accuracy: 88.38%\n",
      "Found 5 files.\n",
      "Found 1266 data points!\n"
     ]
    },
    {
     "data": {
      "application/vnd.jupyter.widget-view+json": {
       "model_id": "79c00e2b09c141bbac5fbb986206f89e",
       "version_major": 2,
       "version_minor": 0
      },
      "text/plain": [
       "  0%|          | 0/1266 [00:00<?, ?it/s]"
      ]
     },
     "metadata": {},
     "output_type": "display_data"
    },
    {
     "name": "stdout",
     "output_type": "stream",
     "text": [
      "40000_60_11826.94140625 average accuracy: 87.51%\n",
      "Found 5 files.\n",
      "Found 1266 data points!\n"
     ]
    },
    {
     "data": {
      "application/vnd.jupyter.widget-view+json": {
       "model_id": "5c0c8cc7c5384df9af64e18f7f81f06e",
       "version_major": 2,
       "version_minor": 0
      },
      "text/plain": [
       "  0%|          | 0/1266 [00:00<?, ?it/s]"
      ]
     },
     "metadata": {},
     "output_type": "display_data"
    },
    {
     "name": "stdout",
     "output_type": "stream",
     "text": [
      "40000_50_12918.5556640625 average accuracy: 87.52%\n",
      "Found 5 files.\n",
      "Found 1266 data points!\n"
     ]
    },
    {
     "data": {
      "application/vnd.jupyter.widget-view+json": {
       "model_id": "aeb2819a66a241a9826bf4a1fd2e48e1",
       "version_major": 2,
       "version_minor": 0
      },
      "text/plain": [
       "  0%|          | 0/1266 [00:00<?, ?it/s]"
      ]
     },
     "metadata": {},
     "output_type": "display_data"
    },
    {
     "name": "stdout",
     "output_type": "stream",
     "text": [
      "40000_47_13213.708984375 average accuracy: 87.63%\n",
      "Found 5 files.\n",
      "Found 1266 data points!\n"
     ]
    },
    {
     "data": {
      "application/vnd.jupyter.widget-view+json": {
       "model_id": "33c75e8aa97d413eb584feb91485df97",
       "version_major": 2,
       "version_minor": 0
      },
      "text/plain": [
       "  0%|          | 0/1266 [00:00<?, ?it/s]"
      ]
     },
     "metadata": {},
     "output_type": "display_data"
    },
    {
     "name": "stdout",
     "output_type": "stream",
     "text": [
      "50000_51_11082.3427734375 average accuracy: 86.61%\n",
      "Found 5 files.\n",
      "Found 1266 data points!\n"
     ]
    },
    {
     "data": {
      "application/vnd.jupyter.widget-view+json": {
       "model_id": "57a2b9ee3a0f4b21a5d97d37c0453f26",
       "version_major": 2,
       "version_minor": 0
      },
      "text/plain": [
       "  0%|          | 0/1266 [00:00<?, ?it/s]"
      ]
     },
     "metadata": {},
     "output_type": "display_data"
    },
    {
     "name": "stdout",
     "output_type": "stream",
     "text": [
      "50000_42_12046.3994140625 average accuracy: 87.84%\n",
      "Found 5 files.\n",
      "Found 1266 data points!\n"
     ]
    },
    {
     "data": {
      "application/vnd.jupyter.widget-view+json": {
       "model_id": "afb8c4600d024fca8d23cc29a49372a2",
       "version_major": 2,
       "version_minor": 0
      },
      "text/plain": [
       "  0%|          | 0/1266 [00:00<?, ?it/s]"
      ]
     },
     "metadata": {},
     "output_type": "display_data"
    },
    {
     "name": "stdout",
     "output_type": "stream",
     "text": [
      "50000_39_12120.244140625 average accuracy: 87.85%\n",
      "Found 5 files.\n",
      "Found 1266 data points!\n"
     ]
    },
    {
     "data": {
      "application/vnd.jupyter.widget-view+json": {
       "model_id": "8d416728882d4602827b935a7e35e0f1",
       "version_major": 2,
       "version_minor": 0
      },
      "text/plain": [
       "  0%|          | 0/1266 [00:00<?, ?it/s]"
      ]
     },
     "metadata": {},
     "output_type": "display_data"
    },
    {
     "name": "stdout",
     "output_type": "stream",
     "text": [
      "50000_38_12782.3974609375 average accuracy: 88.10%\n",
      "Found 5 files.\n",
      "Found 1266 data points!\n"
     ]
    },
    {
     "data": {
      "application/vnd.jupyter.widget-view+json": {
       "model_id": "ab73bfc374b341aa8f93930ac0cfba18",
       "version_major": 2,
       "version_minor": 0
      },
      "text/plain": [
       "  0%|          | 0/1266 [00:00<?, ?it/s]"
      ]
     },
     "metadata": {},
     "output_type": "display_data"
    },
    {
     "name": "stdout",
     "output_type": "stream",
     "text": [
      "50000_37_13131.9404296875 average accuracy: 87.48%\n",
      "Found 5 files.\n",
      "Found 1266 data points!\n"
     ]
    },
    {
     "data": {
      "application/vnd.jupyter.widget-view+json": {
       "model_id": "db64018c09944d7f8596a7db2b759e3d",
       "version_major": 2,
       "version_minor": 0
      },
      "text/plain": [
       "  0%|          | 0/1266 [00:00<?, ?it/s]"
      ]
     },
     "metadata": {},
     "output_type": "display_data"
    },
    {
     "name": "stdout",
     "output_type": "stream",
     "text": [
      "60000_57_10541.4482421875 average accuracy: 88.02%\n",
      "Found 5 files.\n",
      "Found 1266 data points!\n"
     ]
    },
    {
     "data": {
      "application/vnd.jupyter.widget-view+json": {
       "model_id": "827503142f4a4f01b77535d30a1b63c7",
       "version_major": 2,
       "version_minor": 0
      },
      "text/plain": [
       "  0%|          | 0/1266 [00:00<?, ?it/s]"
      ]
     },
     "metadata": {},
     "output_type": "display_data"
    },
    {
     "name": "stdout",
     "output_type": "stream",
     "text": [
      "60000_47_10690.8515625 average accuracy: 88.06%\n",
      "Found 5 files.\n",
      "Found 1266 data points!\n"
     ]
    },
    {
     "data": {
      "application/vnd.jupyter.widget-view+json": {
       "model_id": "86a1cf2f1d3b4cf1920d9c5417b150cf",
       "version_major": 2,
       "version_minor": 0
      },
      "text/plain": [
       "  0%|          | 0/1266 [00:00<?, ?it/s]"
      ]
     },
     "metadata": {},
     "output_type": "display_data"
    },
    {
     "name": "stdout",
     "output_type": "stream",
     "text": [
      "60000_46_11216.037109375 average accuracy: 86.85%\n",
      "Found 5 files.\n",
      "Found 1266 data points!\n"
     ]
    },
    {
     "data": {
      "application/vnd.jupyter.widget-view+json": {
       "model_id": "9c9c1f7a3bae41e9ac57bf9d085884d2",
       "version_major": 2,
       "version_minor": 0
      },
      "text/plain": [
       "  0%|          | 0/1266 [00:00<?, ?it/s]"
      ]
     },
     "metadata": {},
     "output_type": "display_data"
    },
    {
     "name": "stdout",
     "output_type": "stream",
     "text": [
      "60000_37_11519.7958984375 average accuracy: 87.79%\n",
      "Found 5 files.\n",
      "Found 1266 data points!\n"
     ]
    },
    {
     "data": {
      "application/vnd.jupyter.widget-view+json": {
       "model_id": "58169fe944bc4579a60073430163f8df",
       "version_major": 2,
       "version_minor": 0
      },
      "text/plain": [
       "  0%|          | 0/1266 [00:00<?, ?it/s]"
      ]
     },
     "metadata": {},
     "output_type": "display_data"
    },
    {
     "name": "stdout",
     "output_type": "stream",
     "text": [
      "60000_32_12136.94921875 average accuracy: 87.45%\n"
     ]
    }
   ],
   "source": [
    "# Evaluate the best model from each sample size\n",
    "import pandas as pd\n",
    "\n",
    "test_group = pd.DataFrame()\n",
    "results_df = pd.DataFrame()\n",
    "results_df['name'] =  os.listdir('./scaling/')\n",
    "results_df['loss'] = results_df.name.apply(loss_from_name)\n",
    "results_df['data_size'] = results_df.name.apply(data_size_from_name)\n",
    "results_df['path'] = 'scaling/' + results_df.name\n",
    "print(results_df.head())\n",
    "\n",
    "for data_size in data_sizes:\n",
    "    \n",
    "    # lets look at the best 5 models for each data_size\n",
    "    df = results_df[results_df.data_size == str(data_size)].sort_values(by='loss', ascending=True)[:5]\n",
    "    \n",
    "    test_group = pd.concat([test_group, df])\n",
    "\n",
    "# run the evaluation on every model in the test_group  \n",
    "results_df = test_group.path.apply(evaluate_model) "
   ]
  },
  {
   "cell_type": "code",
   "execution_count": 16,
   "id": "4c1e1fc7-ec31-4963-a01b-5f671e2923ad",
   "metadata": {},
   "outputs": [],
   "source": [
    "results_df = [a[0] for a in results_df]"
   ]
  },
  {
   "cell_type": "code",
   "execution_count": 17,
   "id": "c306126b-865f-4041-91b7-73587775b2b4",
   "metadata": {},
   "outputs": [],
   "source": [
    "results_df = pd.DataFrame(results_df)"
   ]
  },
  {
   "cell_type": "code",
   "execution_count": 18,
   "id": "61e0535e-1609-494a-b0ad-666f8056ab77",
   "metadata": {},
   "outputs": [
    {
     "data": {
      "text/html": [
       "<div>\n",
       "<style scoped>\n",
       "    .dataframe tbody tr th:only-of-type {\n",
       "        vertical-align: middle;\n",
       "    }\n",
       "\n",
       "    .dataframe tbody tr th {\n",
       "        vertical-align: top;\n",
       "    }\n",
       "\n",
       "    .dataframe thead th {\n",
       "        text-align: right;\n",
       "    }\n",
       "</style>\n",
       "<table border=\"1\" class=\"dataframe\">\n",
       "  <thead>\n",
       "    <tr style=\"text-align: right;\">\n",
       "      <th></th>\n",
       "      <th>name</th>\n",
       "      <th>accuracy</th>\n",
       "      <th>error_mean</th>\n",
       "      <th>error_std</th>\n",
       "      <th>error_min</th>\n",
       "      <th>error_max</th>\n",
       "    </tr>\n",
       "  </thead>\n",
       "  <tbody>\n",
       "    <tr>\n",
       "      <th>0</th>\n",
       "      <td>5000_76_17712.419921875</td>\n",
       "      <td>84.915030</td>\n",
       "      <td>-10.923433</td>\n",
       "      <td>128.320207</td>\n",
       "      <td>-477.694275</td>\n",
       "      <td>589.165588</td>\n",
       "    </tr>\n",
       "    <tr>\n",
       "      <th>1</th>\n",
       "      <td>5000_66_19410.48828125</td>\n",
       "      <td>85.073449</td>\n",
       "      <td>-3.844661</td>\n",
       "      <td>128.302385</td>\n",
       "      <td>-485.398926</td>\n",
       "      <td>590.606567</td>\n",
       "    </tr>\n",
       "    <tr>\n",
       "      <th>2</th>\n",
       "      <td>5000_52_20055.056640625</td>\n",
       "      <td>84.383710</td>\n",
       "      <td>-18.997413</td>\n",
       "      <td>130.619890</td>\n",
       "      <td>-519.142212</td>\n",
       "      <td>629.373291</td>\n",
       "    </tr>\n",
       "    <tr>\n",
       "      <th>3</th>\n",
       "      <td>5000_50_22423.849609375</td>\n",
       "      <td>84.943909</td>\n",
       "      <td>13.281422</td>\n",
       "      <td>130.485439</td>\n",
       "      <td>-542.717651</td>\n",
       "      <td>610.617432</td>\n",
       "    </tr>\n",
       "    <tr>\n",
       "      <th>4</th>\n",
       "      <td>5000_48_23248.87109375</td>\n",
       "      <td>85.022513</td>\n",
       "      <td>22.277715</td>\n",
       "      <td>132.846007</td>\n",
       "      <td>-567.383911</td>\n",
       "      <td>639.676025</td>\n",
       "    </tr>\n",
       "  </tbody>\n",
       "</table>\n",
       "</div>"
      ],
      "text/plain": [
       "                      name   accuracy  error_mean   error_std   error_min  \\\n",
       "0  5000_76_17712.419921875  84.915030  -10.923433  128.320207 -477.694275   \n",
       "1   5000_66_19410.48828125  85.073449   -3.844661  128.302385 -485.398926   \n",
       "2  5000_52_20055.056640625  84.383710  -18.997413  130.619890 -519.142212   \n",
       "3  5000_50_22423.849609375  84.943909   13.281422  130.485439 -542.717651   \n",
       "4   5000_48_23248.87109375  85.022513   22.277715  132.846007 -567.383911   \n",
       "\n",
       "    error_max  \n",
       "0  589.165588  \n",
       "1  590.606567  \n",
       "2  629.373291  \n",
       "3  610.617432  \n",
       "4  639.676025  "
      ]
     },
     "execution_count": 18,
     "metadata": {},
     "output_type": "execute_result"
    }
   ],
   "source": [
    "results_df.to_csv('results_df.csv')\n",
    "results_df.head()"
   ]
  },
  {
   "cell_type": "code",
   "execution_count": 35,
   "id": "5c4b5505-9142-4ae0-94c0-98586c9b7e3b",
   "metadata": {},
   "outputs": [
    {
     "name": "stdout",
     "output_type": "stream",
     "text": [
      "<class 'pandas.core.frame.DataFrame'>\n",
      "RangeIndex: 35 entries, 0 to 34\n",
      "Data columns (total 6 columns):\n",
      " #   Column      Non-Null Count  Dtype  \n",
      "---  ------      --------------  -----  \n",
      " 0   name        35 non-null     object \n",
      " 1   accuracy    35 non-null     float64\n",
      " 2   error_mean  35 non-null     float64\n",
      " 3   error_std   35 non-null     float64\n",
      " 4   error_min   35 non-null     float64\n",
      " 5   error_max   35 non-null     float64\n",
      "dtypes: float64(5), object(1)\n",
      "memory usage: 1.8+ KB\n"
     ]
    }
   ],
   "source": [
    "results_df.info()"
   ]
  },
  {
   "cell_type": "code",
   "execution_count": 33,
   "id": "1206c715-36be-4c56-8d98-cc5ab1bfbce3",
   "metadata": {},
   "outputs": [
    {
     "name": "stdout",
     "output_type": "stream",
     "text": [
      "<class 'pandas.core.frame.DataFrame'>\n",
      "Int64Index: 35 entries, 111 to 125\n",
      "Data columns (total 4 columns):\n",
      " #   Column     Non-Null Count  Dtype \n",
      "---  ------     --------------  ----- \n",
      " 0   name       35 non-null     object\n",
      " 1   loss       35 non-null     object\n",
      " 2   data_size  35 non-null     object\n",
      " 3   path       35 non-null     object\n",
      "dtypes: object(4)\n",
      "memory usage: 2.4+ KB\n"
     ]
    }
   ],
   "source": [
    "test_group.info()"
   ]
  },
  {
   "cell_type": "code",
   "execution_count": 36,
   "id": "06221623-90cd-44f9-b81b-315b5579f79c",
   "metadata": {},
   "outputs": [],
   "source": [
    "results_df = results_df.merge(test_group, on='name')"
   ]
  },
  {
   "cell_type": "code",
   "execution_count": 39,
   "id": "f994e8bf-63dc-48c7-a722-1d78ba74a326",
   "metadata": {},
   "outputs": [],
   "source": [
    "results_df.loss = results_df.loss.astype(float)\n",
    "results_df.data_size = results_df.data_size.astype(int)"
   ]
  },
  {
   "cell_type": "code",
   "execution_count": 57,
   "id": "17339102-0f91-46f3-b889-189448cf3b3f",
   "metadata": {},
   "outputs": [
    {
     "data": {
      "image/png": "[encoded data removed]",
      "text/plain": [
       "<Figure size 432x288 with 2 Axes>"
      ]
     },
     "metadata": {
      "needs_background": "light"
     },
     "output_type": "display_data"
    }
   ],
   "source": [
    "import seaborn as sns\n",
    "fig = plt.figure() \n",
    "\n",
    "ax1 = fig.add_subplot(111)\n",
    "ax2 = ax1.twinx()\n",
    "\n",
    "# copy data_size to use for an x axis\n",
    "results_df['data_amount'] = results_df.data_size\n",
    "\n",
    "\n",
    "# average the results of each data size\n",
    "results_df.groupby(by='data_size').mean().plot(y='loss', color='red', ax=ax1)\n",
    "results_df.groupby(by='data_size').mean().plot(y='accuracy', color='blue', ax=ax2)\n",
    "\n",
    "ax1.set_ylabel('MSE Loss')\n",
    "ax2.set_ylabel('Mean Absolute Accuracy')\n",
    "\n",
    "plt.title('Effect of Data Size on Training')\n",
    "\n",
    "plt.show();"
   ]
  },
  {
   "cell_type": "markdown",
   "id": "54b9540c-7838-4cd1-82c9-9c5ee9669fec",
   "metadata": {},
   "source": [
    "### Summary\n",
    "We are using mean squared error to look at the loss: $$ MSE = \\sum \\limits _{i=0} ^{N} \\frac {(y_i - \\hat{y_i})^2} {N} $$\n",
    "Mean absolute accuracy is calculated using the following formula: $$ a = (1 -  \\frac{ε} {N}) * 100 \\% $$\n",
    "Where $ ε $ is the residuals of the predictions made: $$ \\epsilon =  \\sum \\limits _{i=0} ^{N} \\frac {|y_i - \\hat{y_i}|} {y} $$ \n",
    "\n",
    "We have trained a Xception network with 7 different sizes of dataset. We evaluated the 5 best models for each data sise and viewed the results. It looks like it is a good idea to have over 20000 images, but we see the signs of diminishing returns as we get to 50-60k datapoints."
   ]
  }
 ],
 "metadata": {
  "kernelspec": {
   "display_name": "cattle_env",
   "language": "python",
   "name": "cattle_env"
  },
  "language_info": {
   "codemirror_mode": {
    "name": "ipython",
    "version": 3
   },
   "file_extension": ".py",
   "mimetype": "text/x-python",
   "name": "python",
   "nbconvert_exporter": "python",
   "pygments_lexer": "ipython3",
   "version": "3.8.8"
  },
  "widgets": {
   "application/vnd.jupyter.widget-state+json": {
    "state": {
     "000156cc6e2e45afa6dbe6733a1dc46f": {
      "model_module": "@jupyter-widgets/controls",
      "model_module_version": "1.5.0",
      "model_name": "HTMLModel",
      "state": {
       "layout": "IPY_MODEL_dfeafd67b66e45ab8f55f36b5056d604",
       "style": "IPY_MODEL_085634d74e814312b55f8aa71b6c5faf",
       "value": "100%"
      }
     },
     "001b046e20fd47fd966a4695de4679cd": {
      "model_module": "@jupyter-widgets/base",
      "model_module_version": "1.2.0",
      "model_name": "LayoutModel",
      "state": {}
     },
     "002153f2434549aea53aff32b848c3a0": {
      "model_module": "@jupyter-widgets/controls",
      "model_module_version": "1.5.0",
      "model_name": "HTMLModel",
      "state": {
       "layout": "IPY_MODEL_f9478abee30a4e7783ac0bd2a431d3b6",
       "style": "IPY_MODEL_5bdd674debe14e1a963a6b5ce56e023e",
       "value": "100%"
      }
     },
     "002e374266c7470f86e228d5c1b67f8a": {
      "model_module": "@jupyter-widgets/controls",
      "model_module_version": "1.5.0",
      "model_name": "ProgressStyleModel",
      "state": {
       "description_width": ""
      }
     },
     "004bee855bfa4c019c9e916ece09ad3d": {
      "model_module": "@jupyter-widgets/base",
      "model_module_version": "1.2.0",
      "model_name": "LayoutModel",
      "state": {}
     },
     "0058758939874ba68411cca54ebee93e": {
      "model_module": "@jupyter-widgets/controls",
      "model_module_version": "1.5.0",
      "model_name": "FloatProgressModel",
      "state": {
       "layout": "IPY_MODEL_2b56c7ca8bad4276aeff8944b5173002",
       "max": 10,
       "style": "IPY_MODEL_11400f13329f4407801dfefcd3e75a14"
      }
     },
     "00635e8b2f354000a31c72ef1f4b5ddd": {
      "model_module": "@jupyter-widgets/base",
      "model_module_version": "1.2.0",
      "model_name": "LayoutModel",
      "state": {}
     },
     "00af25b6b139498cbb643619f20db863": {
      "model_module": "@jupyter-widgets/controls",
      "model_module_version": "1.5.0",
      "model_name": "DescriptionStyleModel",
      "state": {
       "description_width": ""
      }
     },
     "00d27059aee94b7698d1321d17658b7e": {
      "model_module": "@jupyter-widgets/controls",
      "model_module_version": "1.5.0",
      "model_name": "HTMLModel",
      "state": {
       "layout": "IPY_MODEL_2bf2f85c5e924600b417de4ba603d516",
       "style": "IPY_MODEL_43ecbe2fd0ad4b6f88728fecef6990e1",
       "value": " 2345/2345 [00:13&lt;00:00, 7539.52it/s]"
      }
     },
     "00f8d3509697404ab9330ef46e61b3d7": {
      "model_module": "@jupyter-widgets/controls",
      "model_module_version": "1.5.0",
      "model_name": "HTMLModel",
      "state": {
       "layout": "IPY_MODEL_bee72d4a5e80409b9302c37faadfbc83",
       "style": "IPY_MODEL_9cfcc74a26864a6da0990c3ac1844097",
       "value": "  0%"
      }
     },
     "00f93761afb845b1851942b234f92295": {
      "model_module": "@jupyter-widgets/base",
      "model_module_version": "1.2.0",
      "model_name": "LayoutModel",
      "state": {}
     },
     "013b0fac1bc94ed9a4fef51552ab5043": {
      "model_module": "@jupyter-widgets/controls",
      "model_module_version": "1.5.0",
      "model_name": "HTMLModel",
      "state": {
       "layout": "IPY_MODEL_5c4341fba49a4b4ba2502e77cbd94c5e",
       "style": "IPY_MODEL_135cfac3fe344f7c8a75eaca4d0710ee",
       "value": " 1266/1266 [01:05&lt;00:00, 20.84it/s]"
      }
     },
     "016f915d2afa42888b10918bfa758d3f": {
      "model_module": "@jupyter-widgets/base",
      "model_module_version": "1.2.0",
      "model_name": "LayoutModel",
      "state": {}
     },
     "01bc81f1aecb49fcb83e1cb605e242b0": {
      "model_module": "@jupyter-widgets/base",
      "model_module_version": "1.2.0",
      "model_name": "LayoutModel",
      "state": {}
     },
     "0220c53981a14b35acceb4dd4644cdb7": {
      "model_module": "@jupyter-widgets/controls",
      "model_module_version": "1.5.0",
      "model_name": "HTMLModel",
      "state": {
       "layout": "IPY_MODEL_fbca7e7c40884b8eb62450dad0965e86",
       "style": "IPY_MODEL_050b45d6a15f498ab4d4cb1d2d96a8be",
       "value": " 2345/2345 [00:16&lt;00:00, 7604.84it/s]"
      }
     },
     "028453f04a674d1f834353b6e3543c9c": {
      "model_module": "@jupyter-widgets/base",
      "model_module_version": "1.2.0",
      "model_name": "LayoutModel",
      "state": {}
     },
     "02a40084e2b64add887dc8b44c831af5": {
      "model_module": "@jupyter-widgets/base",
      "model_module_version": "1.2.0",
      "model_name": "LayoutModel",
      "state": {}
     },
     "02ab989337d44b958dfe89720b6f5e60": {
      "model_module": "@jupyter-widgets/controls",
      "model_module_version": "1.5.0",
      "model_name": "DescriptionStyleModel",
      "state": {
       "description_width": ""
      }
     },
     "02b9ed18362342b0af87cc2a25ea5c73": {
      "model_module": "@jupyter-widgets/base",
      "model_module_version": "1.2.0",
      "model_name": "LayoutModel",
      "state": {}
     },
     "02f7487467684851808dd092e355ba21": {
      "model_module": "@jupyter-widgets/controls",
      "model_module_version": "1.5.0",
      "model_name": "FloatProgressModel",
      "state": {
       "layout": "IPY_MODEL_ad8bc3521ec74508bba54c44b50d7c1b",
       "max": 2345,
       "style": "IPY_MODEL_41edfec3ce5a4c4abc944260cb3f39eb",
       "value": 2345
      }
     },
     "0341f8682fed487e8bbfd50ada0f7366": {
      "model_module": "@jupyter-widgets/base",
      "model_module_version": "1.2.0",
      "model_name": "LayoutModel",
      "state": {}
     },
     "037741fc27a64322b0f1b95af19e83e4": {
      "model_module": "@jupyter-widgets/controls",
      "model_module_version": "1.5.0",
      "model_name": "ProgressStyleModel",
      "state": {
       "description_width": ""
      }
     },
     "03880e394426434c8e37a2dd8a83297b": {
      "model_module": "@jupyter-widgets/controls",
      "model_module_version": "1.5.0",
      "model_name": "DescriptionStyleModel",
      "state": {
       "description_width": ""
      }
     },
     "0395882e4355413b85e18987f169b81e": {
      "model_module": "@jupyter-widgets/controls",
      "model_module_version": "1.5.0",
      "model_name": "DescriptionStyleModel",
      "state": {
       "description_width": ""
      }
     },
     "03bf1d4ef1e0413a90ac58d8be530d68": {
      "model_module": "@jupyter-widgets/base",
      "model_module_version": "1.2.0",
      "model_name": "LayoutModel",
      "state": {}
     },
     "03c7f39df98d4ca3b64eb2eb1a0e58cf": {
      "model_module": "@jupyter-widgets/controls",
      "model_module_version": "1.5.0",
      "model_name": "FloatProgressModel",
      "state": {
       "layout": "IPY_MODEL_8a7518f8a50e47c484ffaf262e0f7adf",
       "max": 1266,
       "style": "IPY_MODEL_636b70222ad54ba2b7706da76d7f23e6",
       "value": 1266
      }
     },
     "03d00a06817b48f49dd3f5a2181ada68": {
      "model_module": "@jupyter-widgets/controls",
      "model_module_version": "1.5.0",
      "model_name": "DescriptionStyleModel",
      "state": {
       "description_width": ""
      }
     },
     "03febd4be6c64b298916f033951a6d6c": {
      "model_module": "@jupyter-widgets/controls",
      "model_module_version": "1.5.0",
      "model_name": "ProgressStyleModel",
      "state": {
       "description_width": ""
      }
     },
     "04aff78794fa44338339dc8ff8857d7b": {
      "model_module": "@jupyter-widgets/controls",
      "model_module_version": "1.5.0",
      "model_name": "HBoxModel",
      "state": {
       "children": [
        "IPY_MODEL_26abd99ee53d4a4187e79ee694b0dfad",
        "IPY_MODEL_de2b94e777ca45a7ae568203984b360e",
        "IPY_MODEL_4167cd93c2f44ae4a9971d54115a1320"
       ],
       "layout": "IPY_MODEL_dc6a7786441648a6b996602f2bea2ede"
      }
     },
     "04b5e77e92534b83936bbbc2be39e880": {
      "model_module": "@jupyter-widgets/base",
      "model_module_version": "1.2.0",
      "model_name": "LayoutModel",
      "state": {}
     },
     "04e34d8f5e8642a4b8279227cf135221": {
      "model_module": "@jupyter-widgets/controls",
      "model_module_version": "1.5.0",
      "model_name": "ProgressStyleModel",
      "state": {
       "description_width": ""
      }
     },
     "04fbc5351f0d4c8c86cf3ffac537426e": {
      "model_module": "@jupyter-widgets/base",
      "model_module_version": "1.2.0",
      "model_name": "LayoutModel",
      "state": {}
     },
     "050b45d6a15f498ab4d4cb1d2d96a8be": {
      "model_module": "@jupyter-widgets/controls",
      "model_module_version": "1.5.0",
      "model_name": "DescriptionStyleModel",
      "state": {
       "description_width": ""
      }
     },
     "050f2ec3b4784a7cbb3f8fc362374ff1": {
      "model_module": "@jupyter-widgets/base",
      "model_module_version": "1.2.0",
      "model_name": "LayoutModel",
      "state": {}
     },
     "0519bc5c084e4daeb166fdbcdae4feaa": {
      "model_module": "@jupyter-widgets/controls",
      "model_module_version": "1.5.0",
      "model_name": "DescriptionStyleModel",
      "state": {
       "description_width": ""
      }
     },
     "0520b072caea4fd8834b88c0add80e8e": {
      "model_module": "@jupyter-widgets/base",
      "model_module_version": "1.2.0",
      "model_name": "LayoutModel",
      "state": {}
     },
     "063d96e9d1cb4d81b924fd210577e202": {
      "model_module": "@jupyter-widgets/controls",
      "model_module_version": "1.5.0",
      "model_name": "FloatProgressModel",
      "state": {
       "layout": "IPY_MODEL_a1e33b0c93d34790ac53efe24b1fa9fe",
       "max": 1266,
       "style": "IPY_MODEL_68ce4155d44f4c8998de95090724c66a",
       "value": 1266
      }
     },
     "06a6e1889a724f8eb52e137c3eaa5f3c": {
      "model_module": "@jupyter-widgets/controls",
      "model_module_version": "1.5.0",
      "model_name": "FloatProgressModel",
      "state": {
       "layout": "IPY_MODEL_530880c576cb4b0780177d8e8f38bb3e",
       "max": 2345,
       "style": "IPY_MODEL_1e54a2bddd804ae59a9aabd9f29a96de",
       "value": 2345
      }
     },
     "06e07c335b394e32ba664dc130b71639": {
      "model_module": "@jupyter-widgets/controls",
      "model_module_version": "1.5.0",
      "model_name": "HTMLModel",
      "state": {
       "layout": "IPY_MODEL_211386b2cb134b26ac7274cbad68e34c",
       "style": "IPY_MODEL_c5d5df295b3742449f71f6808437618d",
       "value": " 2345/2345 [01:49&lt;00:00, 25.92it/s]"
      }
     },
     "06ead84a4e1749388acbd1c22142abe5": {
      "model_module": "@jupyter-widgets/base",
      "model_module_version": "1.2.0",
      "model_name": "LayoutModel",
      "state": {}
     },
     "0726d33b625c4e4a9b6baab2e0d2870f": {
      "model_module": "@jupyter-widgets/controls",
      "model_module_version": "1.5.0",
      "model_name": "ProgressStyleModel",
      "state": {
       "description_width": ""
      }
     },
     "07369a3dca754fb494b73b1cddadade5": {
      "model_module": "@jupyter-widgets/base",
      "model_module_version": "1.2.0",
      "model_name": "LayoutModel",
      "state": {}
     },
     "07a5a7a1304b46ddae9d6c07cc0f4aca": {
      "model_module": "@jupyter-widgets/controls",
      "model_module_version": "1.5.0",
      "model_name": "FloatProgressModel",
      "state": {
       "layout": "IPY_MODEL_7f1e108953ed44118b6d478d38a0149a",
       "max": 2345,
       "style": "IPY_MODEL_6f066102ed0b47f393d5f74bd26b2e4b",
       "value": 2345
      }
     },
     "07b45a1343d647d895668408f80d3b31": {
      "model_module": "@jupyter-widgets/base",
      "model_module_version": "1.2.0",
      "model_name": "LayoutModel",
      "state": {}
     },
     "07cc6a50b6664460b9f782ec4e15df9f": {
      "model_module": "@jupyter-widgets/base",
      "model_module_version": "1.2.0",
      "model_name": "LayoutModel",
      "state": {}
     },
     "07ed092b50c2424f870e9831c8e44d6d": {
      "model_module": "@jupyter-widgets/base",
      "model_module_version": "1.2.0",
      "model_name": "LayoutModel",
      "state": {}
     },
     "07f95bfc58f44011b043af984dea1800": {
      "model_module": "@jupyter-widgets/base",
      "model_module_version": "1.2.0",
      "model_name": "LayoutModel",
      "state": {}
     },
     "085634d74e814312b55f8aa71b6c5faf": {
      "model_module": "@jupyter-widgets/controls",
      "model_module_version": "1.5.0",
      "model_name": "DescriptionStyleModel",
      "state": {
       "description_width": ""
      }
     },
     "0875d63622ef48b9a98086862022ba7e": {
      "model_module": "@jupyter-widgets/controls",
      "model_module_version": "1.5.0",
      "model_name": "HTMLModel",
      "state": {
       "layout": "IPY_MODEL_be05383a773444199761f0f536659cc9",
       "style": "IPY_MODEL_0d9a94f06afd4ef4b71141350ddc8416",
       "value": "100%"
      }
     },
     "087a7bb2f6f448f5be1bec8c4b2bc00c": {
      "model_module": "@jupyter-widgets/base",
      "model_module_version": "1.2.0",
      "model_name": "LayoutModel",
      "state": {}
     },
     "0944ad49586a4ff1a5c6e59c4aee28f2": {
      "model_module": "@jupyter-widgets/controls",
      "model_module_version": "1.5.0",
      "model_name": "HBoxModel",
      "state": {
       "children": [
        "IPY_MODEL_824a47a86a55484aa2e385455ac5c9e9",
        "IPY_MODEL_69f94043d76d416cbef2312b6159fe2c",
        "IPY_MODEL_f15764d25fef48bfa0bb6f96e5b249fe"
       ],
       "layout": "IPY_MODEL_f8f604dce2eb4006a728bf45fead5a30"
      }
     },
     "094cc3882d664b05a2966d99fb199614": {
      "model_module": "@jupyter-widgets/controls",
      "model_module_version": "1.5.0",
      "model_name": "DescriptionStyleModel",
      "state": {
       "description_width": ""
      }
     },
     "0970b1b80dcb4e41a6e18f7d3cc9c8d5": {
      "model_module": "@jupyter-widgets/base",
      "model_module_version": "1.2.0",
      "model_name": "LayoutModel",
      "state": {}
     },
     "09aff82de17540e38db17edfeebc9614": {
      "model_module": "@jupyter-widgets/controls",
      "model_module_version": "1.5.0",
      "model_name": "DescriptionStyleModel",
      "state": {
       "description_width": ""
      }
     },
     "0a366dd869ec4288b063b996a38544ee": {
      "model_module": "@jupyter-widgets/base",
      "model_module_version": "1.2.0",
      "model_name": "LayoutModel",
      "state": {}
     },
     "0a92989f9a3441a8be59211a5a0db441": {
      "model_module": "@jupyter-widgets/controls",
      "model_module_version": "1.5.0",
      "model_name": "DescriptionStyleModel",
      "state": {
       "description_width": ""
      }
     },
     "0ad98bdcf8a84eef964980d3c2793672": {
      "model_module": "@jupyter-widgets/controls",
      "model_module_version": "1.5.0",
      "model_name": "HTMLModel",
      "state": {
       "layout": "IPY_MODEL_ab0ef58011bd445f9e5f47b3ea9240cf",
       "style": "IPY_MODEL_9203ac01583f49b7a722100d10458812",
       "value": " 1266/1266 [01:03&lt;00:00, 23.33it/s]"
      }
     },
     "0b611d62a2b1450d8933923b5bdf2321": {
      "model_module": "@jupyter-widgets/base",
      "model_module_version": "1.2.0",
      "model_name": "LayoutModel",
      "state": {}
     },
     "0b77b1aad9774acdadd0be27f5bc9b84": {
      "model_module": "@jupyter-widgets/controls",
      "model_module_version": "1.5.0",
      "model_name": "HTMLModel",
      "state": {
       "layout": "IPY_MODEL_7b1b0c520c3943ac8bd8fe8edb86b06f",
       "style": "IPY_MODEL_f942d95f4780482f9e17e1a3ff212e71",
       "value": " 1266/1266 [01:09&lt;00:00, 23.36it/s]"
      }
     },
     "0bd03ffc248946e99dc4f9947edccf13": {
      "model_module": "@jupyter-widgets/controls",
      "model_module_version": "1.5.0",
      "model_name": "HBoxModel",
      "state": {
       "children": [
        "IPY_MODEL_f6dbeb5c4c1f453c8cc7b8ca0b27b253",
        "IPY_MODEL_deb5159ebd564843bdc6902b10439010",
        "IPY_MODEL_fd3b4ff5d72c4002a0ddc000925bb125"
       ],
       "layout": "IPY_MODEL_baf5923b47e04820a020f2084bf0c75a"
      }
     },
     "0c1c8c088406419eabfcad919e786b29": {
      "model_module": "@jupyter-widgets/controls",
      "model_module_version": "1.5.0",
      "model_name": "FloatProgressModel",
      "state": {
       "layout": "IPY_MODEL_385ec1b738b8425b836793124aa5f2d5",
       "max": 2345,
       "style": "IPY_MODEL_65515c0ecc0e44a7b3812aa51b0c7493",
       "value": 2345
      }
     },
     "0c5ca63754cf407087758b115e78055d": {
      "model_module": "@jupyter-widgets/controls",
      "model_module_version": "1.5.0",
      "model_name": "HBoxModel",
      "state": {
       "children": [
        "IPY_MODEL_cc0b60e047f349abad6e422bd3ec11b6",
        "IPY_MODEL_6581fbae749c449b81f30841aaa0e79b",
        "IPY_MODEL_b99f94695e6547d0b5b80dd14ca318a7"
       ],
       "layout": "IPY_MODEL_93c67a41c1764be89cfc737881f0f7f6"
      }
     },
     "0c8ab4f60c7b40c4b0489df33b28d8e8": {
      "model_module": "@jupyter-widgets/controls",
      "model_module_version": "1.5.0",
      "model_name": "FloatProgressModel",
      "state": {
       "layout": "IPY_MODEL_3907eec114df461fbee00a931d1aa812",
       "max": 1266,
       "style": "IPY_MODEL_a90c0549733f4687b743d5d0ff402b95",
       "value": 1266
      }
     },
     "0c910573df204b638eb8aa8a3f1ed779": {
      "model_module": "@jupyter-widgets/controls",
      "model_module_version": "1.5.0",
      "model_name": "DescriptionStyleModel",
      "state": {
       "description_width": ""
      }
     },
     "0ce4881e5c1f4270a5756a389398a503": {
      "model_module": "@jupyter-widgets/base",
      "model_module_version": "1.2.0",
      "model_name": "LayoutModel",
      "state": {}
     },
     "0ce7c0749ca34500b124da9e6de05c96": {
      "model_module": "@jupyter-widgets/base",
      "model_module_version": "1.2.0",
      "model_name": "LayoutModel",
      "state": {}
     },
     "0d23ca70faaa4605a8055852120add55": {
      "model_module": "@jupyter-widgets/controls",
      "model_module_version": "1.5.0",
      "model_name": "FloatProgressModel",
      "state": {
       "layout": "IPY_MODEL_9850a272c5b543ccab67878f97874f6b",
       "max": 2345,
       "style": "IPY_MODEL_8fcb04e90a6345d6b04458c205c7cbb2",
       "value": 2345
      }
     },
     "0d3b25e6f45845c184efe4abf0cf3f09": {
      "model_module": "@jupyter-widgets/controls",
      "model_module_version": "1.5.0",
      "model_name": "FloatProgressModel",
      "state": {
       "layout": "IPY_MODEL_4deae5c4491443c0a7f9786681475392",
       "max": 2345,
       "style": "IPY_MODEL_8955a93ecafd4dafaab064c664f7d747",
       "value": 2345
      }
     },
     "0d9a94f06afd4ef4b71141350ddc8416": {
      "model_module": "@jupyter-widgets/controls",
      "model_module_version": "1.5.0",
      "model_name": "DescriptionStyleModel",
      "state": {
       "description_width": ""
      }
     },
     "0de582089e284877847d422a8fdac30d": {
      "model_module": "@jupyter-widgets/controls",
      "model_module_version": "1.5.0",
      "model_name": "HTMLModel",
      "state": {
       "layout": "IPY_MODEL_700a262f8f4b4c07bbf662eaf19d9217",
       "style": "IPY_MODEL_7c5fb71d9b004051bee87f0fe0f1aa5b",
       "value": "100%"
      }
     },
     "0def9a898a5e40f2afe011fd33891eed": {
      "model_module": "@jupyter-widgets/controls",
      "model_module_version": "1.5.0",
      "model_name": "HTMLModel",
      "state": {
       "layout": "IPY_MODEL_fd7b3da520ad4552ad6a365d29ac424e",
       "style": "IPY_MODEL_13738ebf792e46dda36a23b8509fdb5d",
       "value": "100%"
      }
     },
     "0dfb8d78572245df98b5850c012dd71b": {
      "model_module": "@jupyter-widgets/controls",
      "model_module_version": "1.5.0",
      "model_name": "HTMLModel",
      "state": {
       "layout": "IPY_MODEL_2f835e31824c4083bfdbab9e87f4cfd4",
       "style": "IPY_MODEL_68e3664f721c424e849ddaa4a97137bf",
       "value": " 2345/2345 [00:13&lt;00:00, 7582.08it/s]"
      }
     },
     "0e258ad563114dbea237b1baa2ea2a42": {
      "model_module": "@jupyter-widgets/base",
      "model_module_version": "1.2.0",
      "model_name": "LayoutModel",
      "state": {}
     },
     "0e34cb9c147a437fb771090874367260": {
      "model_module": "@jupyter-widgets/controls",
      "model_module_version": "1.5.0",
      "model_name": "HBoxModel",
      "state": {
       "children": [
        "IPY_MODEL_e1b9c973bff843c2b7351ab876f2abe8",
        "IPY_MODEL_2218798ddaa547a2afe428be2b2d5b34",
        "IPY_MODEL_4eee02049f53465eb5b4d702b4428477"
       ],
       "layout": "IPY_MODEL_d7a9e0ca29fe4c43b62dec869d97c1f3"
      }
     },
     "0e3c26c7d92346cba4f00d20eb9e0f61": {
      "model_module": "@jupyter-widgets/controls",
      "model_module_version": "1.5.0",
      "model_name": "ProgressStyleModel",
      "state": {
       "description_width": ""
      }
     },
     "0e9941675f6b4961922096aba94ba16d": {
      "model_module": "@jupyter-widgets/controls",
      "model_module_version": "1.5.0",
      "model_name": "DescriptionStyleModel",
      "state": {
       "description_width": ""
      }
     },
     "0eb2c33ed3d7487cb492233a1d146f70": {
      "model_module": "@jupyter-widgets/controls",
      "model_module_version": "1.5.0",
      "model_name": "FloatProgressModel",
      "state": {
       "layout": "IPY_MODEL_30b753904f4049d68855781c3844373b",
       "max": 2345,
       "style": "IPY_MODEL_9b713df76de24dfdb26ff1e6243d2bbe",
       "value": 2345
      }
     },
     "0ec259faaede4b7eb28c16a455495dcd": {
      "model_module": "@jupyter-widgets/controls",
      "model_module_version": "1.5.0",
      "model_name": "HBoxModel",
      "state": {
       "children": [
        "IPY_MODEL_1663a6383a91404c90fa567ccf071aba",
        "IPY_MODEL_86dec958017a4c00bd3a91923b9b5eeb",
        "IPY_MODEL_cb923955009b40c8be5830eaf26c9947"
       ],
       "layout": "IPY_MODEL_72aaedadfbf4451cb5f46d875e35de38"
      }
     },
     "0ec5ce37837e4cb891b9f9d1097f321c": {
      "model_module": "@jupyter-widgets/base",
      "model_module_version": "1.2.0",
      "model_name": "LayoutModel",
      "state": {}
     },
     "0edd391d673e45bcb7aed573dcf38b02": {
      "model_module": "@jupyter-widgets/controls",
      "model_module_version": "1.5.0",
      "model_name": "ProgressStyleModel",
      "state": {
       "description_width": ""
      }
     },
     "0ee6411a81c147ef9df55b5697fbed43": {
      "model_module": "@jupyter-widgets/base",
      "model_module_version": "1.2.0",
      "model_name": "LayoutModel",
      "state": {}
     },
     "0f1fc28137a54f429e1c0625a8b7ade7": {
      "model_module": "@jupyter-widgets/base",
      "model_module_version": "1.2.0",
      "model_name": "LayoutModel",
      "state": {}
     },
     "0f305363011041489aa80afd7946b6c3": {
      "model_module": "@jupyter-widgets/controls",
      "model_module_version": "1.5.0",
      "model_name": "DescriptionStyleModel",
      "state": {
       "description_width": ""
      }
     },
     "0f658542519541c4bf83aa88299174df": {
      "model_module": "@jupyter-widgets/base",
      "model_module_version": "1.2.0",
      "model_name": "LayoutModel",
      "state": {}
     },
     "0f7dbf96336944b1b0e68d6ea026b083": {
      "model_module": "@jupyter-widgets/controls",
      "model_module_version": "1.5.0",
      "model_name": "HTMLModel",
      "state": {
       "layout": "IPY_MODEL_03bf1d4ef1e0413a90ac58d8be530d68",
       "style": "IPY_MODEL_9118bf6123a64b4aade7150f27ebbb58",
       "value": " 2345/2345 [00:11&lt;00:00, 7480.41it/s]"
      }
     },
     "0f90cbe9bc4045fb85887b536c1d1fb7": {
      "model_module": "@jupyter-widgets/controls",
      "model_module_version": "1.5.0",
      "model_name": "DescriptionStyleModel",
      "state": {
       "description_width": ""
      }
     },
     "0fa952b9125c4f5fae671da2369064bf": {
      "model_module": "@jupyter-widgets/controls",
      "model_module_version": "1.5.0",
      "model_name": "HBoxModel",
      "state": {
       "children": [
        "IPY_MODEL_319ed088af9044d7b2e79f94cb712eb5",
        "IPY_MODEL_13cabcb1842146c185c6821128a2d948",
        "IPY_MODEL_2572eb2d15634c379650551bfe9eea7f"
       ],
       "layout": "IPY_MODEL_7f7c67ecda7243b38f1606b1d682c9a1"
      }
     },
     "0faba1a10ad5455c90e85c95ced47344": {
      "model_module": "@jupyter-widgets/controls",
      "model_module_version": "1.5.0",
      "model_name": "HTMLModel",
      "state": {
       "layout": "IPY_MODEL_f938e522e5a546e6ae9eca053237e3d8",
       "style": "IPY_MODEL_16e6a232d2464bdf9746995cca914320",
       "value": "100%"
      }
     },
     "0fb0bc2b0ea645d6a8a5aedd1418e703": {
      "model_module": "@jupyter-widgets/base",
      "model_module_version": "1.2.0",
      "model_name": "LayoutModel",
      "state": {}
     },
     "0ff4ac6cd2d34745a8b219ed515881a3": {
      "model_module": "@jupyter-widgets/controls",
      "model_module_version": "1.5.0",
      "model_name": "DescriptionStyleModel",
      "state": {
       "description_width": ""
      }
     },
     "0ffb5d2c98b54089bceff39690f117b2": {
      "model_module": "@jupyter-widgets/base",
      "model_module_version": "1.2.0",
      "model_name": "LayoutModel",
      "state": {}
     },
     "1000763c19864e619c10c8ac5ab525ed": {
      "model_module": "@jupyter-widgets/base",
      "model_module_version": "1.2.0",
      "model_name": "LayoutModel",
      "state": {}
     },
     "100f364c906b4b47ac0ecee3575293ec": {
      "model_module": "@jupyter-widgets/controls",
      "model_module_version": "1.5.0",
      "model_name": "HBoxModel",
      "state": {
       "children": [
        "IPY_MODEL_79979563af7f4ae193347002760451ec",
        "IPY_MODEL_e6225e07be924985b9307228e9e9fa33",
        "IPY_MODEL_7b50beb40c344a77bd25cce7e57a6ede"
       ],
       "layout": "IPY_MODEL_a397b07dc31c4412905d8ed8c80930c2"
      }
     },
     "10fd897e7d5941fe86e1dac5535b834e": {
      "model_module": "@jupyter-widgets/controls",
      "model_module_version": "1.5.0",
      "model_name": "FloatProgressModel",
      "state": {
       "layout": "IPY_MODEL_97c9c83c42594a848d0fbe19c89aeaa9",
       "max": 1266,
       "style": "IPY_MODEL_22e6b4967f374214a64af8c408be27ed",
       "value": 1266
      }
     },
     "111134a57c794ae8b64acab1326b475b": {
      "model_module": "@jupyter-widgets/controls",
      "model_module_version": "1.5.0",
      "model_name": "HTMLModel",
      "state": {
       "layout": "IPY_MODEL_816b55e3dd294e638cab4c84c628ddb8",
       "style": "IPY_MODEL_38362b49c2064e55954c413708364694",
       "value": "100%"
      }
     },
     "11209c4bdc7c4ce391de70d3f3c5bef5": {
      "model_module": "@jupyter-widgets/controls",
      "model_module_version": "1.5.0",
      "model_name": "DescriptionStyleModel",
      "state": {
       "description_width": ""
      }
     },
     "11400f13329f4407801dfefcd3e75a14": {
      "model_module": "@jupyter-widgets/controls",
      "model_module_version": "1.5.0",
      "model_name": "ProgressStyleModel",
      "state": {
       "description_width": ""
      }
     },
     "114af63e7ddc442ca451cbd6dc74a41c": {
      "model_module": "@jupyter-widgets/base",
      "model_module_version": "1.2.0",
      "model_name": "LayoutModel",
      "state": {}
     },
     "119705c086f84c3fb621dbf77ba08921": {
      "model_module": "@jupyter-widgets/base",
      "model_module_version": "1.2.0",
      "model_name": "LayoutModel",
      "state": {}
     },
     "122c7f6bb3a240aa87559c4937275521": {
      "model_module": "@jupyter-widgets/controls",
      "model_module_version": "1.5.0",
      "model_name": "DescriptionStyleModel",
      "state": {
       "description_width": ""
      }
     },
     "1241d476bddc4469a7bd9366f9110bb7": {
      "model_module": "@jupyter-widgets/controls",
      "model_module_version": "1.5.0",
      "model_name": "HTMLModel",
      "state": {
       "layout": "IPY_MODEL_5a2dd5ccfd744192b9f06d2d118a5468",
       "style": "IPY_MODEL_a3675aabda194a2d8951f477f0c3ada7",
       "value": " 2345/2345 [00:14&lt;00:00, 7605.08it/s]"
      }
     },
     "126297c97918452d973b9ffb7928df54": {
      "model_module": "@jupyter-widgets/controls",
      "model_module_version": "1.5.0",
      "model_name": "FloatProgressModel",
      "state": {
       "layout": "IPY_MODEL_b2997bcc96884d278dae57cff4e98526",
       "max": 1266,
       "style": "IPY_MODEL_cc450a02a1684f4d8e0294b51f997631",
       "value": 1266
      }
     },
     "129de667a3eb4838918502ad4522bc39": {
      "model_module": "@jupyter-widgets/controls",
      "model_module_version": "1.5.0",
      "model_name": "FloatProgressModel",
      "state": {
       "layout": "IPY_MODEL_5bb30e323cd94a9db05067d13ef7c7a4",
       "max": 2345,
       "style": "IPY_MODEL_0726d33b625c4e4a9b6baab2e0d2870f",
       "value": 2345
      }
     },
     "12afcac5d53540fcb16c68849499f849": {
      "model_module": "@jupyter-widgets/controls",
      "model_module_version": "1.5.0",
      "model_name": "HBoxModel",
      "state": {
       "children": [
        "IPY_MODEL_fae6dd9cd76644b39b019e8ff6cf10bc",
        "IPY_MODEL_8e73b3c225d94e1c9f3c921b27a0736a",
        "IPY_MODEL_26967e62cd974898a71064285e51f857"
       ],
       "layout": "IPY_MODEL_001b046e20fd47fd966a4695de4679cd"
      }
     },
     "12bea307acc041a0bb2c67a3b8fb9317": {
      "model_module": "@jupyter-widgets/controls",
      "model_module_version": "1.5.0",
      "model_name": "ProgressStyleModel",
      "state": {
       "description_width": ""
      }
     },
     "133eda2f279f4e0ab1868d26ba912ef8": {
      "model_module": "@jupyter-widgets/controls",
      "model_module_version": "1.5.0",
      "model_name": "DescriptionStyleModel",
      "state": {
       "description_width": ""
      }
     },
     "1355941c656d414981ab55472136d859": {
      "model_module": "@jupyter-widgets/controls",
      "model_module_version": "1.5.0",
      "model_name": "HBoxModel",
      "state": {
       "children": [
        "IPY_MODEL_d5be4140bb5c4586aa8ba71a4f7d0bbd",
        "IPY_MODEL_6b3d5311382048628bc0039a68168f68",
        "IPY_MODEL_99c53487a9ac47d9a7a2c42637633894"
       ],
       "layout": "IPY_MODEL_25f94e945cf9400eb82046ae7113ad05"
      }
     },
     "135cfac3fe344f7c8a75eaca4d0710ee": {
      "model_module": "@jupyter-widgets/controls",
      "model_module_version": "1.5.0",
      "model_name": "DescriptionStyleModel",
      "state": {
       "description_width": ""
      }
     },
     "136651de33644a3e96f54ba36fe061ac": {
      "model_module": "@jupyter-widgets/base",
      "model_module_version": "1.2.0",
      "model_name": "LayoutModel",
      "state": {}
     },
     "13738ebf792e46dda36a23b8509fdb5d": {
      "model_module": "@jupyter-widgets/controls",
      "model_module_version": "1.5.0",
      "model_name": "DescriptionStyleModel",
      "state": {
       "description_width": ""
      }
     },
     "1392f4fe70274ce28a22f3d0abf53406": {
      "model_module": "@jupyter-widgets/base",
      "model_module_version": "1.2.0",
      "model_name": "LayoutModel",
      "state": {}
     },
     "139bbf34656e42eabe593782fca566fd": {
      "model_module": "@jupyter-widgets/base",
      "model_module_version": "1.2.0",
      "model_name": "LayoutModel",
      "state": {}
     },
     "13cabcb1842146c185c6821128a2d948": {
      "model_module": "@jupyter-widgets/controls",
      "model_module_version": "1.5.0",
      "model_name": "FloatProgressModel",
      "state": {
       "layout": "IPY_MODEL_4354b98d8b8343c6b88b7479596f7035",
       "max": 1266,
       "style": "IPY_MODEL_781e7110eff4485591ea94aee2ea58f3",
       "value": 1266
      }
     },
     "143e1f84ea4a44e480379f6a654ff153": {
      "model_module": "@jupyter-widgets/controls",
      "model_module_version": "1.5.0",
      "model_name": "DescriptionStyleModel",
      "state": {
       "description_width": ""
      }
     },
     "144e55745e294bbf90d49b2cd16e07df": {
      "model_module": "@jupyter-widgets/base",
      "model_module_version": "1.2.0",
      "model_name": "LayoutModel",
      "state": {}
     },
     "14bf008b61ad4bc692503089c396e2ea": {
      "model_module": "@jupyter-widgets/base",
      "model_module_version": "1.2.0",
      "model_name": "LayoutModel",
      "state": {}
     },
     "14d7bdf928ad489d9c4cf6463f813f1e": {
      "model_module": "@jupyter-widgets/controls",
      "model_module_version": "1.5.0",
      "model_name": "HTMLModel",
      "state": {
       "layout": "IPY_MODEL_39f4a701b2b04e74add439620d7d54e1",
       "style": "IPY_MODEL_c4fbd989cb1b47b6a35baf44331e95e7",
       "value": "100%"
      }
     },
     "14d8c9054c3146a4ad7f4be940bb7211": {
      "model_module": "@jupyter-widgets/controls",
      "model_module_version": "1.5.0",
      "model_name": "ProgressStyleModel",
      "state": {
       "description_width": ""
      }
     },
     "151b99f2fc0546909736b123244b5221": {
      "model_module": "@jupyter-widgets/base",
      "model_module_version": "1.2.0",
      "model_name": "LayoutModel",
      "state": {}
     },
     "1521ed4517c44825817429c63d5e8b20": {
      "model_module": "@jupyter-widgets/base",
      "model_module_version": "1.2.0",
      "model_name": "LayoutModel",
      "state": {}
     },
     "153bca88e4e741c386943bf93d121582": {
      "model_module": "@jupyter-widgets/base",
      "model_module_version": "1.2.0",
      "model_name": "LayoutModel",
      "state": {}
     },
     "155099ca0fbc44859c4cd4615986cf90": {
      "model_module": "@jupyter-widgets/base",
      "model_module_version": "1.2.0",
      "model_name": "LayoutModel",
      "state": {}
     },
     "156f545ba7374f0d808e071d31dac1a1": {
      "model_module": "@jupyter-widgets/controls",
      "model_module_version": "1.5.0",
      "model_name": "ProgressStyleModel",
      "state": {
       "description_width": ""
      }
     },
     "15b0643e027d403389e9da799af15338": {
      "model_module": "@jupyter-widgets/base",
      "model_module_version": "1.2.0",
      "model_name": "LayoutModel",
      "state": {}
     },
     "15f1364b7b4045a9a2ceab8c306bd106": {
      "model_module": "@jupyter-widgets/controls",
      "model_module_version": "1.5.0",
      "model_name": "HTMLModel",
      "state": {
       "layout": "IPY_MODEL_299b38d3cd264d83b6c34528dea3e237",
       "style": "IPY_MODEL_6a65c3d22f024b3291428933945e91f8",
       "value": " 2345/2345 [00:15&lt;00:00, 7590.07it/s]"
      }
     },
     "16024d689d7342f4acf2200ce8a3a2d2": {
      "model_module": "@jupyter-widgets/controls",
      "model_module_version": "1.5.0",
      "model_name": "FloatProgressModel",
      "state": {
       "layout": "IPY_MODEL_83eeeb54f57e45bd8fdc409049b66182",
       "max": 2345,
       "style": "IPY_MODEL_d0801eca57a6451b8665918d53d0d13b",
       "value": 2345
      }
     },
     "160512c31879436d87b2478c0f5ead32": {
      "model_module": "@jupyter-widgets/controls",
      "model_module_version": "1.5.0",
      "model_name": "HTMLModel",
      "state": {
       "layout": "IPY_MODEL_bdc8b8c277fa434eb55fe074c661a8b2",
       "style": "IPY_MODEL_ed0fd6cb32904ba0ab2837a3eea4e798",
       "value": " 2345/2345 [00:10&lt;00:00, 7475.48it/s]"
      }
     },
     "16111f5018a64ee18ce955c38373c158": {
      "model_module": "@jupyter-widgets/controls",
      "model_module_version": "1.5.0",
      "model_name": "FloatProgressModel",
      "state": {
       "layout": "IPY_MODEL_6f54e078fc8b472e8878d73af969bd65",
       "max": 2345,
       "style": "IPY_MODEL_8b6e91f694114fac85ee5aaa6924a8e2",
       "value": 2345
      }
     },
     "161885787ab9469fbf23e346016878a6": {
      "model_module": "@jupyter-widgets/controls",
      "model_module_version": "1.5.0",
      "model_name": "HBoxModel",
      "state": {
       "children": [
        "IPY_MODEL_b68486659b0a46289b3971c71803664a",
        "IPY_MODEL_b0178289348c4e7abbe3a5e0917ecc6d",
        "IPY_MODEL_3d4a268424314ec6b864040d62c886ba"
       ],
       "layout": "IPY_MODEL_62e42fb8edc449cb8b035c9edd85741c"
      }
     },
     "1663a6383a91404c90fa567ccf071aba": {
      "model_module": "@jupyter-widgets/controls",
      "model_module_version": "1.5.0",
      "model_name": "HTMLModel",
      "state": {
       "layout": "IPY_MODEL_f456b709290a4ff8ae27cb7befc02601",
       "style": "IPY_MODEL_a266b43153eb4dd8855d4fbe036700a7",
       "value": "100%"
      }
     },
     "16e6a232d2464bdf9746995cca914320": {
      "model_module": "@jupyter-widgets/controls",
      "model_module_version": "1.5.0",
      "model_name": "DescriptionStyleModel",
      "state": {
       "description_width": ""
      }
     },
     "16f384876dd24de3841c935ff50188e2": {
      "model_module": "@jupyter-widgets/controls",
      "model_module_version": "1.5.0",
      "model_name": "DescriptionStyleModel",
      "state": {
       "description_width": ""
      }
     },
     "16fcad58b86f402296b808b182f7a06d": {
      "model_module": "@jupyter-widgets/controls",
      "model_module_version": "1.5.0",
      "model_name": "DescriptionStyleModel",
      "state": {
       "description_width": ""
      }
     },
     "1705cb29aff540e7886a3876844ac458": {
      "model_module": "@jupyter-widgets/controls",
      "model_module_version": "1.5.0",
      "model_name": "ProgressStyleModel",
      "state": {
       "description_width": ""
      }
     },
     "17324ed63f154765977ade6192c96bba": {
      "model_module": "@jupyter-widgets/base",
      "model_module_version": "1.2.0",
      "model_name": "LayoutModel",
      "state": {}
     },
     "17429a6606304a39868a100012550ef5": {
      "model_module": "@jupyter-widgets/controls",
      "model_module_version": "1.5.0",
      "model_name": "DescriptionStyleModel",
      "state": {
       "description_width": ""
      }
     },
     "17982bc5c7b14793afb5e04adca360b4": {
      "model_module": "@jupyter-widgets/controls",
      "model_module_version": "1.5.0",
      "model_name": "ProgressStyleModel",
      "state": {
       "description_width": ""
      }
     },
     "17fe5ec96a4f437683133d1889ed477a": {
      "model_module": "@jupyter-widgets/base",
      "model_module_version": "1.2.0",
      "model_name": "LayoutModel",
      "state": {}
     },
     "18252921191540dc9c4dc995c1f46be8": {
      "model_module": "@jupyter-widgets/base",
      "model_module_version": "1.2.0",
      "model_name": "LayoutModel",
      "state": {}
     },
     "1827cffb375647329099ed298b2be3e3": {
      "model_module": "@jupyter-widgets/controls",
      "model_module_version": "1.5.0",
      "model_name": "DescriptionStyleModel",
      "state": {
       "description_width": ""
      }
     },
     "188d22b69f874b1da30faf8412cf66a2": {
      "model_module": "@jupyter-widgets/controls",
      "model_module_version": "1.5.0",
      "model_name": "HBoxModel",
      "state": {
       "children": [
        "IPY_MODEL_30595c1e22a449feb6f18fd559978e75",
        "IPY_MODEL_29e8f44c25e84116992502ec771e098e",
        "IPY_MODEL_7961eaf9399e475598fdbee133a91edf"
       ],
       "layout": "IPY_MODEL_66d927fe086048e096bb40d633670e75"
      }
     },
     "1897da7528e64931962632d3665e81ca": {
      "model_module": "@jupyter-widgets/controls",
      "model_module_version": "1.5.0",
      "model_name": "FloatProgressModel",
      "state": {
       "layout": "IPY_MODEL_678df84ff32748bca9fba1b7ae20922f",
       "max": 2345,
       "style": "IPY_MODEL_302e2850141546a8bc73faf5e29219c8",
       "value": 2345
      }
     },
     "18e5c31187754a2c9f780c5c87bca85a": {
      "model_module": "@jupyter-widgets/controls",
      "model_module_version": "1.5.0",
      "model_name": "FloatProgressModel",
      "state": {
       "layout": "IPY_MODEL_24b923dcb4c64861904869bf5ad9638b",
       "max": 1266,
       "style": "IPY_MODEL_67e807d5accf4d949e0cc31ee418ba6c",
       "value": 1266
      }
     },
     "19219a19bf6b4acdb563a35d73284f74": {
      "model_module": "@jupyter-widgets/controls",
      "model_module_version": "1.5.0",
      "model_name": "HBoxModel",
      "state": {
       "children": [
        "IPY_MODEL_8c8db780fb6440a795de4782b701bd37",
        "IPY_MODEL_f3ad7318d03b448cb1f5beddb4cf08ad",
        "IPY_MODEL_46fbb91f9ae140eba4a0b130a260037b"
       ],
       "layout": "IPY_MODEL_c6769f2aec154776ac043c652920e9a2"
      }
     },
     "198d81deda94459eb9e5f694445a5da3": {
      "model_module": "@jupyter-widgets/controls",
      "model_module_version": "1.5.0",
      "model_name": "ProgressStyleModel",
      "state": {
       "description_width": ""
      }
     },
     "19b0d84fb0884e4da0a10bb55e1f5e9f": {
      "model_module": "@jupyter-widgets/base",
      "model_module_version": "1.2.0",
      "model_name": "LayoutModel",
      "state": {}
     },
     "19fff35b57734174ab9d261fc6e47dcf": {
      "model_module": "@jupyter-widgets/base",
      "model_module_version": "1.2.0",
      "model_name": "LayoutModel",
      "state": {}
     },
     "1a09428d48dc4f2ea769ce024b94faff": {
      "model_module": "@jupyter-widgets/controls",
      "model_module_version": "1.5.0",
      "model_name": "DescriptionStyleModel",
      "state": {
       "description_width": ""
      }
     },
     "1a20d5ae9d524d6589dbc5105c6d5ed1": {
      "model_module": "@jupyter-widgets/controls",
      "model_module_version": "1.5.0",
      "model_name": "DescriptionStyleModel",
      "state": {
       "description_width": ""
      }
     },
     "1a24f7c1ca964795b68904bccb3a1f63": {
      "model_module": "@jupyter-widgets/base",
      "model_module_version": "1.2.0",
      "model_name": "LayoutModel",
      "state": {}
     },
     "1a52360b250b4384b567f2b55971233b": {
      "model_module": "@jupyter-widgets/controls",
      "model_module_version": "1.5.0",
      "model_name": "DescriptionStyleModel",
      "state": {
       "description_width": ""
      }
     },
     "1a6180dd20e946ae84dd12898e01902d": {
      "model_module": "@jupyter-widgets/controls",
      "model_module_version": "1.5.0",
      "model_name": "HTMLModel",
      "state": {
       "layout": "IPY_MODEL_49039da1183444e183c49a7e584de288",
       "style": "IPY_MODEL_143e1f84ea4a44e480379f6a654ff153",
       "value": "  0%"
      }
     },
     "1a7c7d4f91e14cfd958377c4d1944fc3": {
      "model_module": "@jupyter-widgets/controls",
      "model_module_version": "1.5.0",
      "model_name": "DescriptionStyleModel",
      "state": {
       "description_width": ""
      }
     },
     "1a8fc967d416476089a53f8766e3b36e": {
      "model_module": "@jupyter-widgets/base",
      "model_module_version": "1.2.0",
      "model_name": "LayoutModel",
      "state": {}
     },
     "1ac26777ad434a13baab1464ba28735d": {
      "model_module": "@jupyter-widgets/controls",
      "model_module_version": "1.5.0",
      "model_name": "FloatProgressModel",
      "state": {
       "layout": "IPY_MODEL_79f5c879b1ea41c983dffb4a772e83ed",
       "max": 2345,
       "style": "IPY_MODEL_42863bc683a34f9da156187ad8dacc07",
       "value": 2345
      }
     },
     "1ac6f1e0c755442b9f3d6cdbd79b1069": {
      "model_module": "@jupyter-widgets/controls",
      "model_module_version": "1.5.0",
      "model_name": "HTMLModel",
      "state": {
       "layout": "IPY_MODEL_d1f60faeab4b4b1d848de20c86140501",
       "style": "IPY_MODEL_630664337c4a41de826e04f4ba15209c",
       "value": "100%"
      }
     },
     "1ade1f2e26e7480ba115f69fadc805ba": {
      "model_module": "@jupyter-widgets/controls",
      "model_module_version": "1.5.0",
      "model_name": "HTMLModel",
      "state": {
       "layout": "IPY_MODEL_ef671f8960b7462094352482ec858806",
       "style": "IPY_MODEL_c99a567f943047428bdf5663f7ed6eb5",
       "value": " 2345/2345 [00:17&lt;00:00, 7655.27it/s]"
      }
     },
     "1b1150989cd54ab8b130efbec3ee5342": {
      "model_module": "@jupyter-widgets/base",
      "model_module_version": "1.2.0",
      "model_name": "LayoutModel",
      "state": {}
     },
     "1b1496bed12d4076b9c4443fe3d66cbd": {
      "model_module": "@jupyter-widgets/controls",
      "model_module_version": "1.5.0",
      "model_name": "DescriptionStyleModel",
      "state": {
       "description_width": ""
      }
     },
     "1b43db3ae70847309c697a77705e9330": {
      "model_module": "@jupyter-widgets/controls",
      "model_module_version": "1.5.0",
      "model_name": "DescriptionStyleModel",
      "state": {
       "description_width": ""
      }
     },
     "1b91d010d73b45f788a52672bc411445": {
      "model_module": "@jupyter-widgets/controls",
      "model_module_version": "1.5.0",
      "model_name": "HTMLModel",
      "state": {
       "layout": "IPY_MODEL_b50697e88b9d497084c3a13c90a94ae2",
       "style": "IPY_MODEL_94915fdb87f9469eb89d14ad00fabfea",
       "value": "100%"
      }
     },
     "1ba04361abb04b2d87aee273e6ed3a34": {
      "model_module": "@jupyter-widgets/base",
      "model_module_version": "1.2.0",
      "model_name": "LayoutModel",
      "state": {}
     },
     "1bd0d57d9c4e4271a592dc0976f07018": {
      "model_module": "@jupyter-widgets/base",
      "model_module_version": "1.2.0",
      "model_name": "LayoutModel",
      "state": {}
     },
     "1c44938ab35844f89a28bc07a8b0ffdd": {
      "model_module": "@jupyter-widgets/controls",
      "model_module_version": "1.5.0",
      "model_name": "DescriptionStyleModel",
      "state": {
       "description_width": ""
      }
     },
     "1c7b23d1ba67480e8a65cdbcd6be2820": {
      "model_module": "@jupyter-widgets/base",
      "model_module_version": "1.2.0",
      "model_name": "LayoutModel",
      "state": {}
     },
     "1c85f99f338a4360ae106d8521af973c": {
      "model_module": "@jupyter-widgets/base",
      "model_module_version": "1.2.0",
      "model_name": "LayoutModel",
      "state": {}
     },
     "1cdd982de52443cbaee3c059d2b429b0": {
      "model_module": "@jupyter-widgets/controls",
      "model_module_version": "1.5.0",
      "model_name": "HTMLModel",
      "state": {
       "layout": "IPY_MODEL_d9ad2da6082c408ab77c36f5c3f28a4b",
       "style": "IPY_MODEL_b8f619c79cc24842bd496e047bf2c6aa",
       "value": "100%"
      }
     },
     "1ce18056aefe4befa2219b2874d43b7f": {
      "model_module": "@jupyter-widgets/base",
      "model_module_version": "1.2.0",
      "model_name": "LayoutModel",
      "state": {}
     },
     "1ce404cf2ada48b59df3c005ced88c17": {
      "model_module": "@jupyter-widgets/base",
      "model_module_version": "1.2.0",
      "model_name": "LayoutModel",
      "state": {}
     },
     "1d15c4626dc24dc0addef1cca8ade696": {
      "model_module": "@jupyter-widgets/controls",
      "model_module_version": "1.5.0",
      "model_name": "DescriptionStyleModel",
      "state": {
       "description_width": ""
      }
     },
     "1d3c62547e514fe19a6096e6adf77bdd": {
      "model_module": "@jupyter-widgets/base",
      "model_module_version": "1.2.0",
      "model_name": "LayoutModel",
      "state": {}
     },
     "1d40482936c6423e892acc6bbaffcede": {
      "model_module": "@jupyter-widgets/controls",
      "model_module_version": "1.5.0",
      "model_name": "HTMLModel",
      "state": {
       "layout": "IPY_MODEL_04b5e77e92534b83936bbbc2be39e880",
       "style": "IPY_MODEL_1a09428d48dc4f2ea769ce024b94faff",
       "value": " 1266/1266 [01:05&lt;00:00, 24.91it/s]"
      }
     },
     "1d61dc9d9b814164a60ec833e14e6ac4": {
      "model_module": "@jupyter-widgets/controls",
      "model_module_version": "1.5.0",
      "model_name": "DescriptionStyleModel",
      "state": {
       "description_width": ""
      }
     },
     "1d76de2debfa4198a7ce2658e4bf9301": {
      "model_module": "@jupyter-widgets/controls",
      "model_module_version": "1.5.0",
      "model_name": "HTMLModel",
      "state": {
       "layout": "IPY_MODEL_217ef079e3b945219e7ab826ae52fc4a",
       "style": "IPY_MODEL_09aff82de17540e38db17edfeebc9614",
       "value": " 2345/2345 [00:13&lt;00:00, 7467.10it/s]"
      }
     },
     "1d8ee005ad294b3e9f7ce94ee0725eff": {
      "model_module": "@jupyter-widgets/controls",
      "model_module_version": "1.5.0",
      "model_name": "HTMLModel",
      "state": {
       "layout": "IPY_MODEL_a26163a8f61b4eb8ba29a0d5d8bb7a87",
       "style": "IPY_MODEL_6e05616401114e61a1ba9b58a1c4094b",
       "value": "100%"
      }
     },
     "1e0331a824bf410e93c3ace6ccfcfd71": {
      "model_module": "@jupyter-widgets/base",
      "model_module_version": "1.2.0",
      "model_name": "LayoutModel",
      "state": {}
     },
     "1e0a49ddef924bf2827ebac01303e34f": {
      "model_module": "@jupyter-widgets/controls",
      "model_module_version": "1.5.0",
      "model_name": "DescriptionStyleModel",
      "state": {
       "description_width": ""
      }
     },
     "1e54a2bddd804ae59a9aabd9f29a96de": {
      "model_module": "@jupyter-widgets/controls",
      "model_module_version": "1.5.0",
      "model_name": "ProgressStyleModel",
      "state": {
       "description_width": ""
      }
     },
     "1e5d91b55db64098b195a5b3b499e159": {
      "model_module": "@jupyter-widgets/controls",
      "model_module_version": "1.5.0",
      "model_name": "DescriptionStyleModel",
      "state": {
       "description_width": ""
      }
     },
     "1e69948c00684fe7913f1fa94f5b621c": {
      "model_module": "@jupyter-widgets/controls",
      "model_module_version": "1.5.0",
      "model_name": "HTMLModel",
      "state": {
       "layout": "IPY_MODEL_643b380b586d44a782c9ed9c05471c86",
       "style": "IPY_MODEL_60b9d6ba38d34b3e9411c13f10531979",
       "value": "100%"
      }
     },
     "1e6b7da465264700989feb8880b8301e": {
      "model_module": "@jupyter-widgets/controls",
      "model_module_version": "1.5.0",
      "model_name": "ProgressStyleModel",
      "state": {
       "description_width": ""
      }
     },
     "1e8f59fb08db4a65bce8a0825f325d4a": {
      "model_module": "@jupyter-widgets/base",
      "model_module_version": "1.2.0",
      "model_name": "LayoutModel",
      "state": {}
     },
     "1e8faccd43264dfd9b15bd4b0a876b83": {
      "model_module": "@jupyter-widgets/controls",
      "model_module_version": "1.5.0",
      "model_name": "ProgressStyleModel",
      "state": {
       "description_width": ""
      }
     },
     "1ee263c86eed42bc81472fb3cebd0a43": {
      "model_module": "@jupyter-widgets/controls",
      "model_module_version": "1.5.0",
      "model_name": "ProgressStyleModel",
      "state": {
       "description_width": ""
      }
     },
     "1f1c2d3b1f514cbf8a822727698e8665": {
      "model_module": "@jupyter-widgets/base",
      "model_module_version": "1.2.0",
      "model_name": "LayoutModel",
      "state": {}
     },
     "1f2debca7bb340e0a9ef5152f8f8dbf1": {
      "model_module": "@jupyter-widgets/base",
      "model_module_version": "1.2.0",
      "model_name": "LayoutModel",
      "state": {}
     },
     "1f307195256040919c31a0621c167b36": {
      "model_module": "@jupyter-widgets/controls",
      "model_module_version": "1.5.0",
      "model_name": "HBoxModel",
      "state": {
       "children": [
        "IPY_MODEL_927ae21aed664ff18025108e308b77bd",
        "IPY_MODEL_99549b1d1c25419687fa18c015388fe9",
        "IPY_MODEL_a0a2579cbefd485cb2cd105c4cb8faec"
       ],
       "layout": "IPY_MODEL_155099ca0fbc44859c4cd4615986cf90"
      }
     },
     "1f3305c8e2e846b99a31acca83aed198": {
      "model_module": "@jupyter-widgets/controls",
      "model_module_version": "1.5.0",
      "model_name": "DescriptionStyleModel",
      "state": {
       "description_width": ""
      }
     },
     "1f4063651c294753bdb16f7b0bc59a7c": {
      "model_module": "@jupyter-widgets/base",
      "model_module_version": "1.2.0",
      "model_name": "LayoutModel",
      "state": {}
     },
     "1f98c47aaa8341e3b4db1718014ccef2": {
      "model_module": "@jupyter-widgets/base",
      "model_module_version": "1.2.0",
      "model_name": "LayoutModel",
      "state": {}
     },
     "1fa5f651acd8491da69b5383e2d84a87": {
      "model_module": "@jupyter-widgets/controls",
      "model_module_version": "1.5.0",
      "model_name": "ProgressStyleModel",
      "state": {
       "description_width": ""
      }
     },
     "1fd12912b9f54e6a94e8628eb7ccc408": {
      "model_module": "@jupyter-widgets/base",
      "model_module_version": "1.2.0",
      "model_name": "LayoutModel",
      "state": {}
     },
     "1fda23a877674b6891fe2ed6fa8d5897": {
      "model_module": "@jupyter-widgets/base",
      "model_module_version": "1.2.0",
      "model_name": "LayoutModel",
      "state": {}
     },
     "1fe79ae0b4cf4131b8816c452f644b98": {
      "model_module": "@jupyter-widgets/base",
      "model_module_version": "1.2.0",
      "model_name": "LayoutModel",
      "state": {}
     },
     "20016edb68d74a048e9beeb059a69ff0": {
      "model_module": "@jupyter-widgets/base",
      "model_module_version": "1.2.0",
      "model_name": "LayoutModel",
      "state": {}
     },
     "20442fefcc0c4b0d909435990394c48e": {
      "model_module": "@jupyter-widgets/controls",
      "model_module_version": "1.5.0",
      "model_name": "FloatProgressModel",
      "state": {
       "layout": "IPY_MODEL_e6d1d41be5884f589ba75973415a3ceb",
       "max": 1266,
       "style": "IPY_MODEL_d53403722be54aae81e2f082962ca598",
       "value": 1266
      }
     },
     "204b07c70b3d46838a4a4d4819c06f2d": {
      "model_module": "@jupyter-widgets/controls",
      "model_module_version": "1.5.0",
      "model_name": "DescriptionStyleModel",
      "state": {
       "description_width": ""
      }
     },
     "206a2510a73e494aa30e9d112c714202": {
      "model_module": "@jupyter-widgets/base",
      "model_module_version": "1.2.0",
      "model_name": "LayoutModel",
      "state": {}
     },
     "20a4039a64a3473fba4ca5c1dec394cd": {
      "model_module": "@jupyter-widgets/base",
      "model_module_version": "1.2.0",
      "model_name": "LayoutModel",
      "state": {}
     },
     "20b92f6ac62740cf98dcfb1de7aba784": {
      "model_module": "@jupyter-widgets/controls",
      "model_module_version": "1.5.0",
      "model_name": "HTMLModel",
      "state": {
       "layout": "IPY_MODEL_e6cc56c15d98452191d1e434d65ec86e",
       "style": "IPY_MODEL_bf509f53d90e414596192d127cf4a434",
       "value": " 2345/2345 [00:18&lt;00:00, 7505.49it/s]"
      }
     },
     "20f3200dcf324a43b587d59a98a896c9": {
      "model_module": "@jupyter-widgets/base",
      "model_module_version": "1.2.0",
      "model_name": "LayoutModel",
      "state": {}
     },
     "211386b2cb134b26ac7274cbad68e34c": {
      "model_module": "@jupyter-widgets/base",
      "model_module_version": "1.2.0",
      "model_name": "LayoutModel",
      "state": {}
     },
     "217ef079e3b945219e7ab826ae52fc4a": {
      "model_module": "@jupyter-widgets/base",
      "model_module_version": "1.2.0",
      "model_name": "LayoutModel",
      "state": {}
     },
     "2193ebd91290439a9ee00d9531c95814": {
      "model_module": "@jupyter-widgets/controls",
      "model_module_version": "1.5.0",
      "model_name": "ProgressStyleModel",
      "state": {
       "description_width": ""
      }
     },
     "21baab8d4d984b0080f324169aa8485c": {
      "model_module": "@jupyter-widgets/controls",
      "model_module_version": "1.5.0",
      "model_name": "DescriptionStyleModel",
      "state": {
       "description_width": ""
      }
     },
     "2218798ddaa547a2afe428be2b2d5b34": {
      "model_module": "@jupyter-widgets/controls",
      "model_module_version": "1.5.0",
      "model_name": "FloatProgressModel",
      "state": {
       "layout": "IPY_MODEL_463936c74b924ba9a46efbb40ad655f6",
       "max": 2345,
       "style": "IPY_MODEL_e43b1806b4f04da291be3439366ff686",
       "value": 2345
      }
     },
     "22363b03bd9847a0a3ac21d3fc1e15eb": {
      "model_module": "@jupyter-widgets/controls",
      "model_module_version": "1.5.0",
      "model_name": "HTMLModel",
      "state": {
       "layout": "IPY_MODEL_267b1e5d3d2b476ca9cd9284cc946af2",
       "style": "IPY_MODEL_b758bd3df2e44881b5be1c58b0339aed",
       "value": " 2345/2345 [01:46&lt;00:00, 25.23it/s]"
      }
     },
     "225d7a07f2d3402cb3c5606c8d44e5eb": {
      "model_module": "@jupyter-widgets/controls",
      "model_module_version": "1.5.0",
      "model_name": "DescriptionStyleModel",
      "state": {
       "description_width": ""
      }
     },
     "22a258fefa9d48f193ed793a466fd5bc": {
      "model_module": "@jupyter-widgets/controls",
      "model_module_version": "1.5.0",
      "model_name": "HTMLModel",
      "state": {
       "layout": "IPY_MODEL_a8564ef4958d46928c330d8fe43b3dd0",
       "style": "IPY_MODEL_6ebb367e72474f45a70ef3f84803e7ad",
       "value": " 2345/2345 [01:45&lt;00:00, 25.44it/s]"
      }
     },
     "22a8909682f446279170dfb3048f22ac": {
      "model_module": "@jupyter-widgets/controls",
      "model_module_version": "1.5.0",
      "model_name": "HTMLModel",
      "state": {
       "layout": "IPY_MODEL_df71d8154b004e39b884d2f88d80088a",
       "style": "IPY_MODEL_0ff4ac6cd2d34745a8b219ed515881a3",
       "value": "100%"
      }
     },
     "22be36857af647468bee0500d4ab8f0a": {
      "model_module": "@jupyter-widgets/controls",
      "model_module_version": "1.5.0",
      "model_name": "DescriptionStyleModel",
      "state": {
       "description_width": ""
      }
     },
     "22dc859c8b5641f3bcc775ccc4dd80aa": {
      "model_module": "@jupyter-widgets/controls",
      "model_module_version": "1.5.0",
      "model_name": "HBoxModel",
      "state": {
       "children": [
        "IPY_MODEL_9853dffd689e4b7ab705cf07fbe3963b",
        "IPY_MODEL_fea9059337e94c26bd91374e3a8ba2e4",
        "IPY_MODEL_dab9b71a820a46839213157dd39e6aa7"
       ],
       "layout": "IPY_MODEL_e17ddc1086f04d63a549f618badf3a1b"
      }
     },
     "22e6b4967f374214a64af8c408be27ed": {
      "model_module": "@jupyter-widgets/controls",
      "model_module_version": "1.5.0",
      "model_name": "ProgressStyleModel",
      "state": {
       "description_width": ""
      }
     },
     "2340c789858046e2abdc9d1cb862a4a6": {
      "model_module": "@jupyter-widgets/controls",
      "model_module_version": "1.5.0",
      "model_name": "DescriptionStyleModel",
      "state": {
       "description_width": ""
      }
     },
     "2355a923195f4328849080ab9890c07d": {
      "model_module": "@jupyter-widgets/controls",
      "model_module_version": "1.5.0",
      "model_name": "HTMLModel",
      "state": {
       "layout": "IPY_MODEL_3669cc0906064f019924735e030555b7",
       "style": "IPY_MODEL_98d24590c6bd4303bb0deb3e8b728b7b",
       "value": "  0%"
      }
     },
     "2371ada23c464678b0bba6a463aed4f5": {
      "model_module": "@jupyter-widgets/controls",
      "model_module_version": "1.5.0",
      "model_name": "FloatProgressModel",
      "state": {
       "layout": "IPY_MODEL_9508fec75381492a956b6febc23fed05",
       "max": 2345,
       "style": "IPY_MODEL_5bddaca0189c408cbdf7196df6e665b7",
       "value": 2345
      }
     },
     "237aa0a5332a44e29d5e7aa23a89d10a": {
      "model_module": "@jupyter-widgets/controls",
      "model_module_version": "1.5.0",
      "model_name": "DescriptionStyleModel",
      "state": {
       "description_width": ""
      }
     },
     "23f375fca3234cc1a97aa1446774b2aa": {
      "model_module": "@jupyter-widgets/controls",
      "model_module_version": "1.5.0",
      "model_name": "ProgressStyleModel",
      "state": {
       "description_width": ""
      }
     },
     "23fdd904c87546e595386808b7440dd3": {
      "model_module": "@jupyter-widgets/controls",
      "model_module_version": "1.5.0",
      "model_name": "HTMLModel",
      "state": {
       "layout": "IPY_MODEL_c12881fe27024e90bfd422bb0e1be5b4",
       "style": "IPY_MODEL_204b07c70b3d46838a4a4d4819c06f2d",
       "value": " 2345/2345 [00:14&lt;00:00, 7364.67it/s]"
      }
     },
     "2404857a31c7435dbbaaa83d08a3f339": {
      "model_module": "@jupyter-widgets/controls",
      "model_module_version": "1.5.0",
      "model_name": "DescriptionStyleModel",
      "state": {
       "description_width": ""
      }
     },
     "241a7d837bfc4dcd9f2b1818fd995715": {
      "model_module": "@jupyter-widgets/controls",
      "model_module_version": "1.5.0",
      "model_name": "ProgressStyleModel",
      "state": {
       "description_width": ""
      }
     },
     "241b3b63b72d45cabf55893188ece3e1": {
      "model_module": "@jupyter-widgets/base",
      "model_module_version": "1.2.0",
      "model_name": "LayoutModel",
      "state": {}
     },
     "2439d544c8494ca9a6f0f2be2b2bc105": {
      "model_module": "@jupyter-widgets/controls",
      "model_module_version": "1.5.0",
      "model_name": "DescriptionStyleModel",
      "state": {
       "description_width": ""
      }
     },
     "24437e4254b54c82b0bd66ad931f7515": {
      "model_module": "@jupyter-widgets/base",
      "model_module_version": "1.2.0",
      "model_name": "LayoutModel",
      "state": {}
     },
     "244d8fefd1ee435ea2068b3f0898ca2a": {
      "model_module": "@jupyter-widgets/base",
      "model_module_version": "1.2.0",
      "model_name": "LayoutModel",
      "state": {}
     },
     "2461e523de4941a494e12b7d5c2c0785": {
      "model_module": "@jupyter-widgets/controls",
      "model_module_version": "1.5.0",
      "model_name": "ProgressStyleModel",
      "state": {
       "description_width": ""
      }
     },
     "24653a4660c14bbc965c69d2fd411125": {
      "model_module": "@jupyter-widgets/controls",
      "model_module_version": "1.5.0",
      "model_name": "HBoxModel",
      "state": {
       "children": [
        "IPY_MODEL_f1a65f103d7f4989ba0474cfe8c25300",
        "IPY_MODEL_c7008155c3d94eaa98fce329f981ba12",
        "IPY_MODEL_cd697e8f056741e4b4d5516e9342259d"
       ],
       "layout": "IPY_MODEL_8d00b472d8de4297a9ca353d0cda037c"
      }
     },
     "246bd8124e304af5a794783fc15c6ddb": {
      "model_module": "@jupyter-widgets/base",
      "model_module_version": "1.2.0",
      "model_name": "LayoutModel",
      "state": {}
     },
     "24a3fc438e8f427bb6b8e3b58b2203db": {
      "model_module": "@jupyter-widgets/base",
      "model_module_version": "1.2.0",
      "model_name": "LayoutModel",
      "state": {}
     },
     "24b923dcb4c64861904869bf5ad9638b": {
      "model_module": "@jupyter-widgets/base",
      "model_module_version": "1.2.0",
      "model_name": "LayoutModel",
      "state": {}
     },
     "24bc40f934674ef2a55b7778d8b716d4": {
      "model_module": "@jupyter-widgets/controls",
      "model_module_version": "1.5.0",
      "model_name": "HBoxModel",
      "state": {
       "children": [
        "IPY_MODEL_49c1425db8774165a713ca403ebfdecd",
        "IPY_MODEL_4a58baa7f9d247a9a699b0924d0ef287",
        "IPY_MODEL_b65ba08f05024d71bbdadff4692747c8"
       ],
       "layout": "IPY_MODEL_e390e6af70e145bbad3743eb0002b5ce"
      }
     },
     "24ef02dbb72c4119975003dab6b86369": {
      "model_module": "@jupyter-widgets/base",
      "model_module_version": "1.2.0",
      "model_name": "LayoutModel",
      "state": {}
     },
     "25233dc051e5445ba8d659e3f7de2bb3": {
      "model_module": "@jupyter-widgets/controls",
      "model_module_version": "1.5.0",
      "model_name": "DescriptionStyleModel",
      "state": {
       "description_width": ""
      }
     },
     "254a624103224c70af717620a06c32ec": {
      "model_module": "@jupyter-widgets/controls",
      "model_module_version": "1.5.0",
      "model_name": "ProgressStyleModel",
      "state": {
       "description_width": ""
      }
     },
     "2572eb2d15634c379650551bfe9eea7f": {
      "model_module": "@jupyter-widgets/controls",
      "model_module_version": "1.5.0",
      "model_name": "HTMLModel",
      "state": {
       "layout": "IPY_MODEL_3dda366416684ae8aeb39bb01e4d7eec",
       "style": "IPY_MODEL_a2f47d60435f4deeab25f3345ae634f7",
       "value": " 1266/1266 [01:06&lt;00:00, 25.24it/s]"
      }
     },
     "257363b7da6d4471a19991eedeb319e2": {
      "model_module": "@jupyter-widgets/controls",
      "model_module_version": "1.5.0",
      "model_name": "FloatProgressModel",
      "state": {
       "layout": "IPY_MODEL_f2b8750f71ba4ccbba70313ce3185f8e",
       "max": 1266,
       "style": "IPY_MODEL_c808d23c174747c8bb54005640149423",
       "value": 1266
      }
     },
     "25cc1a41e1984915af1a2c6e793984d3": {
      "model_module": "@jupyter-widgets/base",
      "model_module_version": "1.2.0",
      "model_name": "LayoutModel",
      "state": {}
     },
     "25f94e945cf9400eb82046ae7113ad05": {
      "model_module": "@jupyter-widgets/base",
      "model_module_version": "1.2.0",
      "model_name": "LayoutModel",
      "state": {}
     },
     "260ab86824284067ab7040b564415e50": {
      "model_module": "@jupyter-widgets/controls",
      "model_module_version": "1.5.0",
      "model_name": "HTMLModel",
      "state": {
       "layout": "IPY_MODEL_fa7aa4780e4c42b89f02939ce28c0c81",
       "style": "IPY_MODEL_44d65e9681c948fbb43f53bec8392ff2",
       "value": " 1266/1266 [01:04&lt;00:00, 25.12it/s]"
      }
     },
     "2641e8abb72643c99e4cc4ac63244059": {
      "model_module": "@jupyter-widgets/base",
      "model_module_version": "1.2.0",
      "model_name": "LayoutModel",
      "state": {}
     },
     "2660fcd28976494c8466bacecb5aab72": {
      "model_module": "@jupyter-widgets/base",
      "model_module_version": "1.2.0",
      "model_name": "LayoutModel",
      "state": {}
     },
     "267b1e5d3d2b476ca9cd9284cc946af2": {
      "model_module": "@jupyter-widgets/base",
      "model_module_version": "1.2.0",
      "model_name": "LayoutModel",
      "state": {}
     },
     "26967e62cd974898a71064285e51f857": {
      "model_module": "@jupyter-widgets/controls",
      "model_module_version": "1.5.0",
      "model_name": "HTMLModel",
      "state": {
       "layout": "IPY_MODEL_75765f24f53a427ba970b961aa4093d1",
       "style": "IPY_MODEL_a4cd7d6fe63347b7a169b72d51f4dae2",
       "value": " 2345/2345 [00:14&lt;00:00, 7535.05it/s]"
      }
     },
     "26abd99ee53d4a4187e79ee694b0dfad": {
      "model_module": "@jupyter-widgets/controls",
      "model_module_version": "1.5.0",
      "model_name": "HTMLModel",
      "state": {
       "layout": "IPY_MODEL_0ee6411a81c147ef9df55b5697fbed43",
       "style": "IPY_MODEL_40b5929e4c7a4a22981260a4a83983a1",
       "value": "100%"
      }
     },
     "2722fddd03cf422dbae1e2c287fd23e1": {
      "model_module": "@jupyter-widgets/controls",
      "model_module_version": "1.5.0",
      "model_name": "DescriptionStyleModel",
      "state": {
       "description_width": ""
      }
     },
     "27244ee9544b49d589d1ee37ae438187": {
      "model_module": "@jupyter-widgets/base",
      "model_module_version": "1.2.0",
      "model_name": "LayoutModel",
      "state": {}
     },
     "2725d3141e964f67b4dd7041b592f6d4": {
      "model_module": "@jupyter-widgets/base",
      "model_module_version": "1.2.0",
      "model_name": "LayoutModel",
      "state": {}
     },
     "274a4dc158fc49febd945c1fd8e2c7b4": {
      "model_module": "@jupyter-widgets/base",
      "model_module_version": "1.2.0",
      "model_name": "LayoutModel",
      "state": {}
     },
     "28458040bf8948d5be798b7e3b39558a": {
      "model_module": "@jupyter-widgets/base",
      "model_module_version": "1.2.0",
      "model_name": "LayoutModel",
      "state": {}
     },
     "288e4f24457641f39597b06920faac80": {
      "model_module": "@jupyter-widgets/controls",
      "model_module_version": "1.5.0",
      "model_name": "DescriptionStyleModel",
      "state": {
       "description_width": ""
      }
     },
     "28c2c27e55e948ef97f8210c9c9c1bfb": {
      "model_module": "@jupyter-widgets/controls",
      "model_module_version": "1.5.0",
      "model_name": "HTMLModel",
      "state": {
       "layout": "IPY_MODEL_aea591e838ea4463b96d47d69f553e10",
       "style": "IPY_MODEL_e052466a83694d54a5986f1aff0298dd",
       "value": " 2345/2345 [00:12&lt;00:00, 7593.00it/s]"
      }
     },
     "28d4a353fd794c498403e6a4c11340e7": {
      "model_module": "@jupyter-widgets/controls",
      "model_module_version": "1.5.0",
      "model_name": "HBoxModel",
      "state": {
       "children": [
        "IPY_MODEL_a4e22c5c7d954698ba71ed408b462da3",
        "IPY_MODEL_ffb25b51104741c9bc64a92c32eee548",
        "IPY_MODEL_61138cc2eecb4e7985b3ee677c1c5f92"
       ],
       "layout": "IPY_MODEL_8c05f9cdd70b469aa1e49c6fc677c961"
      }
     },
     "293d996842314611a602a9b21fc22d52": {
      "model_module": "@jupyter-widgets/controls",
      "model_module_version": "1.5.0",
      "model_name": "HBoxModel",
      "state": {
       "children": [
        "IPY_MODEL_a225578d79524521adddad3140cc234d",
        "IPY_MODEL_8268d673e98148eeafdeec3d1b183a3b",
        "IPY_MODEL_aa57f1e66e06449889c99b62d896c6e3"
       ],
       "layout": "IPY_MODEL_400b2fd7d5464f1f9cd717059c44e784"
      }
     },
     "2953548969f447b0ba4497ccbdf3b006": {
      "model_module": "@jupyter-widgets/controls",
      "model_module_version": "1.5.0",
      "model_name": "DescriptionStyleModel",
      "state": {
       "description_width": ""
      }
     },
     "2975816bfea94a22bf3732a0a66a6269": {
      "model_module": "@jupyter-widgets/controls",
      "model_module_version": "1.5.0",
      "model_name": "FloatProgressModel",
      "state": {
       "layout": "IPY_MODEL_02b9ed18362342b0af87cc2a25ea5c73",
       "max": 2345,
       "style": "IPY_MODEL_bde5762f77cf4d0695a06e4302f97f6b",
       "value": 2345
      }
     },
     "2984a8fed3014099800b3d8685fe94e0": {
      "model_module": "@jupyter-widgets/base",
      "model_module_version": "1.2.0",
      "model_name": "LayoutModel",
      "state": {}
     },
     "299b38d3cd264d83b6c34528dea3e237": {
      "model_module": "@jupyter-widgets/base",
      "model_module_version": "1.2.0",
      "model_name": "LayoutModel",
      "state": {}
     },
     "299d1ce6f2f848aa86e84d59139ced3f": {
      "model_module": "@jupyter-widgets/controls",
      "model_module_version": "1.5.0",
      "model_name": "DescriptionStyleModel",
      "state": {
       "description_width": ""
      }
     },
     "29dc25e54c5245218781bfe8f6dc8220": {
      "model_module": "@jupyter-widgets/base",
      "model_module_version": "1.2.0",
      "model_name": "LayoutModel",
      "state": {}
     },
     "29e8f44c25e84116992502ec771e098e": {
      "model_module": "@jupyter-widgets/controls",
      "model_module_version": "1.5.0",
      "model_name": "FloatProgressModel",
      "state": {
       "layout": "IPY_MODEL_ed2647eafb32471d9163d66c90601715",
       "max": 2345,
       "style": "IPY_MODEL_d1ec1f464fab472d86f7b69760a4778b",
       "value": 2345
      }
     },
     "2a070e44172c4cc188aed9482160a5c8": {
      "model_module": "@jupyter-widgets/controls",
      "model_module_version": "1.5.0",
      "model_name": "DescriptionStyleModel",
      "state": {
       "description_width": ""
      }
     },
     "2a0fa5e2a6fb4408b283465ca009a663": {
      "model_module": "@jupyter-widgets/controls",
      "model_module_version": "1.5.0",
      "model_name": "DescriptionStyleModel",
      "state": {
       "description_width": ""
      }
     },
     "2a1074c5256b4be3ac589625238205b7": {
      "model_module": "@jupyter-widgets/controls",
      "model_module_version": "1.5.0",
      "model_name": "DescriptionStyleModel",
      "state": {
       "description_width": ""
      }
     },
     "2a30863e008b4e038eb1846a97116645": {
      "model_module": "@jupyter-widgets/base",
      "model_module_version": "1.2.0",
      "model_name": "LayoutModel",
      "state": {}
     },
     "2a54ee0d18b54afb8ec2403926138d63": {
      "model_module": "@jupyter-widgets/controls",
      "model_module_version": "1.5.0",
      "model_name": "FloatProgressModel",
      "state": {
       "layout": "IPY_MODEL_3c13bf8787164372a0031c97ec4e1e48",
       "max": 2345,
       "style": "IPY_MODEL_a4a2074cb4b046c1869b4f9a9d3db856",
       "value": 2345
      }
     },
     "2a648489e7e84ec0a2fc5760e9e76243": {
      "model_module": "@jupyter-widgets/controls",
      "model_module_version": "1.5.0",
      "model_name": "HBoxModel",
      "state": {
       "children": [
        "IPY_MODEL_6a72c406e70549378f5eac2ef581fd93",
        "IPY_MODEL_129de667a3eb4838918502ad4522bc39",
        "IPY_MODEL_e5b0cf36047d480c803d415c710b4c85"
       ],
       "layout": "IPY_MODEL_27244ee9544b49d589d1ee37ae438187"
      }
     },
     "2a77effed2444f11bd4fb90e179ff807": {
      "model_module": "@jupyter-widgets/base",
      "model_module_version": "1.2.0",
      "model_name": "LayoutModel",
      "state": {}
     },
     "2aa262e6e8234a8c8725a54b1ea8f0d7": {
      "model_module": "@jupyter-widgets/base",
      "model_module_version": "1.2.0",
      "model_name": "LayoutModel",
      "state": {}
     },
     "2b56c7ca8bad4276aeff8944b5173002": {
      "model_module": "@jupyter-widgets/base",
      "model_module_version": "1.2.0",
      "model_name": "LayoutModel",
      "state": {}
     },
     "2b5bf95c9fd649ee8f8b6313c86b2de6": {
      "model_module": "@jupyter-widgets/controls",
      "model_module_version": "1.5.0",
      "model_name": "DescriptionStyleModel",
      "state": {
       "description_width": ""
      }
     },
     "2b5e6b81c0bf47ecad97e6e5ebc57c1a": {
      "model_module": "@jupyter-widgets/controls",
      "model_module_version": "1.5.0",
      "model_name": "HBoxModel",
      "state": {
       "children": [
        "IPY_MODEL_ffb97e76c23d41ffa157013d80e34f6b",
        "IPY_MODEL_777d8d7ba4654698baf4ff866eb49d4e",
        "IPY_MODEL_28c2c27e55e948ef97f8210c9c9c1bfb"
       ],
       "layout": "IPY_MODEL_d302be290b4248c9931d5fafb2324c23"
      }
     },
     "2b69a0c4e78245af9ab3e4404e319da5": {
      "model_module": "@jupyter-widgets/controls",
      "model_module_version": "1.5.0",
      "model_name": "DescriptionStyleModel",
      "state": {
       "description_width": ""
      }
     },
     "2b7a89bfe42447dc9c051d587b3fbe8b": {
      "model_module": "@jupyter-widgets/base",
      "model_module_version": "1.2.0",
      "model_name": "LayoutModel",
      "state": {}
     },
     "2bbbfc97953a4f8e829fd73c743eba15": {
      "model_module": "@jupyter-widgets/base",
      "model_module_version": "1.2.0",
      "model_name": "LayoutModel",
      "state": {}
     },
     "2bc9f6cb877f4ec087e51a74a8c876d0": {
      "model_module": "@jupyter-widgets/base",
      "model_module_version": "1.2.0",
      "model_name": "LayoutModel",
      "state": {}
     },
     "2bec6ae5883644b3a3f7ff71da2e2b5d": {
      "model_module": "@jupyter-widgets/base",
      "model_module_version": "1.2.0",
      "model_name": "LayoutModel",
      "state": {}
     },
     "2bf2f85c5e924600b417de4ba603d516": {
      "model_module": "@jupyter-widgets/base",
      "model_module_version": "1.2.0",
      "model_name": "LayoutModel",
      "state": {}
     },
     "2c59e677c1cb40859cfa35fd1c157c8e": {
      "model_module": "@jupyter-widgets/base",
      "model_module_version": "1.2.0",
      "model_name": "LayoutModel",
      "state": {}
     },
     "2c678dbe1e9c42538892b160b856f5a5": {
      "model_module": "@jupyter-widgets/controls",
      "model_module_version": "1.5.0",
      "model_name": "DescriptionStyleModel",
      "state": {
       "description_width": ""
      }
     },
     "2c7de13ae28942bbac5649ced94a0762": {
      "model_module": "@jupyter-widgets/controls",
      "model_module_version": "1.5.0",
      "model_name": "HBoxModel",
      "state": {
       "children": [
        "IPY_MODEL_8779ecf103514191bd22c3b643e826c2",
        "IPY_MODEL_16111f5018a64ee18ce955c38373c158",
        "IPY_MODEL_60c38f507c6b48a9a2bd4db8ca2de0ba"
       ],
       "layout": "IPY_MODEL_f97e42cdc3874b74a0c26af986b9fe23"
      }
     },
     "2ca7a0f128a84b7ab7bfb8cd746f81cc": {
      "model_module": "@jupyter-widgets/base",
      "model_module_version": "1.2.0",
      "model_name": "LayoutModel",
      "state": {}
     },
     "2ccf163b68c246b598090e30d4384538": {
      "model_module": "@jupyter-widgets/controls",
      "model_module_version": "1.5.0",
      "model_name": "DescriptionStyleModel",
      "state": {
       "description_width": ""
      }
     },
     "2cd2f91bcdc346af82079cdde5e26a62": {
      "model_module": "@jupyter-widgets/base",
      "model_module_version": "1.2.0",
      "model_name": "LayoutModel",
      "state": {}
     },
     "2cdb8df74fe04c5981dafb592c5284ce": {
      "model_module": "@jupyter-widgets/controls",
      "model_module_version": "1.5.0",
      "model_name": "DescriptionStyleModel",
      "state": {
       "description_width": ""
      }
     },
     "2cdfb48a7b454f76ad1af522c13aa13d": {
      "model_module": "@jupyter-widgets/controls",
      "model_module_version": "1.5.0",
      "model_name": "HTMLModel",
      "state": {
       "layout": "IPY_MODEL_65ca3cd8d7fb45b0ab22fe12824440a1",
       "style": "IPY_MODEL_322bd82dcfb74a03be5738dd22902471",
       "value": "100%"
      }
     },
     "2cf6e15e7b6941f6b30ef4b5a08af6fc": {
      "model_module": "@jupyter-widgets/base",
      "model_module_version": "1.2.0",
      "model_name": "LayoutModel",
      "state": {}
     },
     "2d0e575692164b80a83c7810a42478d9": {
      "model_module": "@jupyter-widgets/controls",
      "model_module_version": "1.5.0",
      "model_name": "HTMLModel",
      "state": {
       "layout": "IPY_MODEL_619c9d2806834b3a9ad469c6d4317d1d",
       "style": "IPY_MODEL_4ca9a9b6121a49e6b8cd938c3b45e4bb",
       "value": "100%"
      }
     },
     "2d2bc1806d0949ca86e860deef204bcc": {
      "model_module": "@jupyter-widgets/controls",
      "model_module_version": "1.5.0",
      "model_name": "ProgressStyleModel",
      "state": {
       "description_width": ""
      }
     },
     "2e235fe488b84fc39dc254694634d716": {
      "model_module": "@jupyter-widgets/base",
      "model_module_version": "1.2.0",
      "model_name": "LayoutModel",
      "state": {}
     },
     "2e49d4aee64b4a9f8e007807a680e674": {
      "model_module": "@jupyter-widgets/controls",
      "model_module_version": "1.5.0",
      "model_name": "FloatProgressModel",
      "state": {
       "layout": "IPY_MODEL_abe42ca700d44103885363ff4a42361b",
       "max": 2345,
       "style": "IPY_MODEL_8f760bdab8b04430aa74bb56e2d2e162",
       "value": 2345
      }
     },
     "2e5ec78a5d9c4b02b2cb1668504698d2": {
      "model_module": "@jupyter-widgets/controls",
      "model_module_version": "1.5.0",
      "model_name": "HTMLModel",
      "state": {
       "layout": "IPY_MODEL_07369a3dca754fb494b73b1cddadade5",
       "style": "IPY_MODEL_89da8bc414664589b1be4725c643ecbb",
       "value": " 1266/1266 [01:00&lt;00:00, 25.61it/s]"
      }
     },
     "2e6188012867491f9657a1db6634b689": {
      "model_module": "@jupyter-widgets/base",
      "model_module_version": "1.2.0",
      "model_name": "LayoutModel",
      "state": {}
     },
     "2f1c8b4407cb42b5adf2d006a86d434e": {
      "model_module": "@jupyter-widgets/controls",
      "model_module_version": "1.5.0",
      "model_name": "DescriptionStyleModel",
      "state": {
       "description_width": ""
      }
     },
     "2f327d9d7dfa49dfa5f8e52ab2087c42": {
      "model_module": "@jupyter-widgets/controls",
      "model_module_version": "1.5.0",
      "model_name": "HTMLModel",
      "state": {
       "layout": "IPY_MODEL_cc9b121413e743f38b0ebb4700b49f60",
       "style": "IPY_MODEL_2404857a31c7435dbbaaa83d08a3f339",
       "value": "100%"
      }
     },
     "2f835e31824c4083bfdbab9e87f4cfd4": {
      "model_module": "@jupyter-widgets/base",
      "model_module_version": "1.2.0",
      "model_name": "LayoutModel",
      "state": {}
     },
     "2fb31fd9141b46999f7fd716e041a677": {
      "model_module": "@jupyter-widgets/base",
      "model_module_version": "1.2.0",
      "model_name": "LayoutModel",
      "state": {}
     },
     "2fd15ea0ba70413987ea3b698a16030b": {
      "model_module": "@jupyter-widgets/controls",
      "model_module_version": "1.5.0",
      "model_name": "DescriptionStyleModel",
      "state": {
       "description_width": ""
      }
     },
     "302e2850141546a8bc73faf5e29219c8": {
      "model_module": "@jupyter-widgets/controls",
      "model_module_version": "1.5.0",
      "model_name": "ProgressStyleModel",
      "state": {
       "description_width": ""
      }
     },
     "303fdad1154f4b41a5a7b27e28ebaa38": {
      "model_module": "@jupyter-widgets/base",
      "model_module_version": "1.2.0",
      "model_name": "LayoutModel",
      "state": {}
     },
     "3058e08395b9490893043053d825b34e": {
      "model_module": "@jupyter-widgets/controls",
      "model_module_version": "1.5.0",
      "model_name": "HBoxModel",
      "state": {
       "children": [
        "IPY_MODEL_369c4df8b2614553afc053e16ffef0c7",
        "IPY_MODEL_baaabcc2535f4c6ebf97e1b435315af4",
        "IPY_MODEL_62687ab4efcc463ca2d98b76817c7e0b"
       ],
       "layout": "IPY_MODEL_56198474ff6d4d9a80cd8e3bc8fcb497"
      }
     },
     "30595c1e22a449feb6f18fd559978e75": {
      "model_module": "@jupyter-widgets/controls",
      "model_module_version": "1.5.0",
      "model_name": "HTMLModel",
      "state": {
       "layout": "IPY_MODEL_f521fd6fc3384dae87268b00f3613ad8",
       "style": "IPY_MODEL_ef5a541deb8b4c0c8299d42c1650c027",
       "value": "100%"
      }
     },
     "309dc8bf4ed1490f85b9fa64213c7440": {
      "model_module": "@jupyter-widgets/controls",
      "model_module_version": "1.5.0",
      "model_name": "HTMLModel",
      "state": {
       "layout": "IPY_MODEL_6e76c6f551a34eb3a6b71a5abb09a45f",
       "style": "IPY_MODEL_83b75f520aca4e1fb3bf314b0e71e02d",
       "value": " 2345/2345 [01:46&lt;00:00, 25.80it/s]"
      }
     },
     "30ab2d7e3e3d49f882a50bb59599eaf6": {
      "model_module": "@jupyter-widgets/base",
      "model_module_version": "1.2.0",
      "model_name": "LayoutModel",
      "state": {}
     },
     "30b753904f4049d68855781c3844373b": {
      "model_module": "@jupyter-widgets/base",
      "model_module_version": "1.2.0",
      "model_name": "LayoutModel",
      "state": {}
     },
     "3117e546f19446b5b7a81b097b9a6832": {
      "model_module": "@jupyter-widgets/controls",
      "model_module_version": "1.5.0",
      "model_name": "DescriptionStyleModel",
      "state": {
       "description_width": ""
      }
     },
     "311ad6830d1e420f956be95912dc7809": {
      "model_module": "@jupyter-widgets/controls",
      "model_module_version": "1.5.0",
      "model_name": "HTMLModel",
      "state": {
       "layout": "IPY_MODEL_1fe79ae0b4cf4131b8816c452f644b98",
       "style": "IPY_MODEL_1b43db3ae70847309c697a77705e9330",
       "value": "100%"
      }
     },
     "3148bf4b1c4a414890c01653bbe7dd7d": {
      "model_module": "@jupyter-widgets/controls",
      "model_module_version": "1.5.0",
      "model_name": "HTMLModel",
      "state": {
       "layout": "IPY_MODEL_90861600049b49c2ace73deb5c568a09",
       "style": "IPY_MODEL_299d1ce6f2f848aa86e84d59139ced3f",
       "value": "100%"
      }
     },
     "31675b0ba90b47078dcbb0bd82ab9143": {
      "model_module": "@jupyter-widgets/controls",
      "model_module_version": "1.5.0",
      "model_name": "HTMLModel",
      "state": {
       "layout": "IPY_MODEL_b3d733474af94502bb4040821f32174f",
       "style": "IPY_MODEL_6b7fae3807f6418295bd8a9505b6f101",
       "value": "100%"
      }
     },
     "319ed088af9044d7b2e79f94cb712eb5": {
      "model_module": "@jupyter-widgets/controls",
      "model_module_version": "1.5.0",
      "model_name": "HTMLModel",
      "state": {
       "layout": "IPY_MODEL_8373a15e0c274870bf301bcb3a493769",
       "style": "IPY_MODEL_afb908c11aef4b34aa4a8bf8bb1471cd",
       "value": "100%"
      }
     },
     "31cfaff43dfe43929bc681340ddc66a4": {
      "model_module": "@jupyter-widgets/controls",
      "model_module_version": "1.5.0",
      "model_name": "HBoxModel",
      "state": {
       "children": [
        "IPY_MODEL_1a6180dd20e946ae84dd12898e01902d",
        "IPY_MODEL_ff5b61d6035d4a7094033edc85c64d38",
        "IPY_MODEL_edd0c057fc6b4b649681ac5c8106b8ee"
       ],
       "layout": "IPY_MODEL_4a9730d2d0e548d38a5a6734ded27c6d"
      }
     },
     "322bd82dcfb74a03be5738dd22902471": {
      "model_module": "@jupyter-widgets/controls",
      "model_module_version": "1.5.0",
      "model_name": "DescriptionStyleModel",
      "state": {
       "description_width": ""
      }
     },
     "326436fd38604cc4b881d2fcfb43ccb2": {
      "model_module": "@jupyter-widgets/controls",
      "model_module_version": "1.5.0",
      "model_name": "DescriptionStyleModel",
      "state": {
       "description_width": ""
      }
     },
     "328092fe5a654a9d87d54ef2635461e3": {
      "model_module": "@jupyter-widgets/controls",
      "model_module_version": "1.5.0",
      "model_name": "ProgressStyleModel",
      "state": {
       "description_width": ""
      }
     },
     "3293610c2bd74520b98f7ae07e3e0d16": {
      "model_module": "@jupyter-widgets/controls",
      "model_module_version": "1.5.0",
      "model_name": "DescriptionStyleModel",
      "state": {
       "description_width": ""
      }
     },
     "32d3b0657d5b422c91b8941d46912771": {
      "model_module": "@jupyter-widgets/controls",
      "model_module_version": "1.5.0",
      "model_name": "HTMLModel",
      "state": {
       "layout": "IPY_MODEL_9dfb39c416444f3ebba3c830b3f078cc",
       "style": "IPY_MODEL_cf346f7fdb7f4058845416b05a73169b",
       "value": "100%"
      }
     },
     "32e18a310a48427fa5ed6851505c1cc1": {
      "model_module": "@jupyter-widgets/controls",
      "model_module_version": "1.5.0",
      "model_name": "HTMLModel",
      "state": {
       "layout": "IPY_MODEL_4f0ae048191e476a97422d06d1ac33c9",
       "style": "IPY_MODEL_7a1bafbc9eff4871a7137d4f106aa521",
       "value": "100%"
      }
     },
     "32e379dc0cd741cb97edc125b6ee2914": {
      "model_module": "@jupyter-widgets/base",
      "model_module_version": "1.2.0",
      "model_name": "LayoutModel",
      "state": {}
     },
     "332e27a7fba543a29053cb5d187723d9": {
      "model_module": "@jupyter-widgets/controls",
      "model_module_version": "1.5.0",
      "model_name": "HTMLModel",
      "state": {
       "layout": "IPY_MODEL_977741bef60543c9858b487cd3f532f0",
       "style": "IPY_MODEL_ffe5c9c50b304807a00e9975db2d7e0d",
       "value": " 2345/2345 [00:11&lt;00:00, 7517.73it/s]"
      }
     },
     "3345a912b7d94195baf3e6c818f000c3": {
      "model_module": "@jupyter-widgets/controls",
      "model_module_version": "1.5.0",
      "model_name": "DescriptionStyleModel",
      "state": {
       "description_width": ""
      }
     },
     "33816ce410194cb8b6d8af7bce934069": {
      "model_module": "@jupyter-widgets/base",
      "model_module_version": "1.2.0",
      "model_name": "LayoutModel",
      "state": {}
     },
     "3387b26759e849ba84b9032476e85371": {
      "model_module": "@jupyter-widgets/controls",
      "model_module_version": "1.5.0",
      "model_name": "FloatProgressModel",
      "state": {
       "layout": "IPY_MODEL_dd9ca557ecbe415c9bc67ea27ac00355",
       "max": 2345,
       "style": "IPY_MODEL_17982bc5c7b14793afb5e04adca360b4",
       "value": 2345
      }
     },
     "3394e06d455144d198ac42ae14b88a49": {
      "model_module": "@jupyter-widgets/base",
      "model_module_version": "1.2.0",
      "model_name": "LayoutModel",
      "state": {}
     },
     "33c75e8aa97d413eb584feb91485df97": {
      "model_module": "@jupyter-widgets/controls",
      "model_module_version": "1.5.0",
      "model_name": "HBoxModel",
      "state": {
       "children": [
        "IPY_MODEL_1d8ee005ad294b3e9f7ce94ee0725eff",
        "IPY_MODEL_5f745de72e7d4e558a46b5cce985763a",
        "IPY_MODEL_35247947686a44078c7a43d8ddce227b"
       ],
       "layout": "IPY_MODEL_a102797178924caba7e22b31574d501f"
      }
     },
     "340aa2a07679414e833733e7bcf936f8": {
      "model_module": "@jupyter-widgets/base",
      "model_module_version": "1.2.0",
      "model_name": "LayoutModel",
      "state": {}
     },
     "342f140e3e8a4f23b380cf8eb9f2e792": {
      "model_module": "@jupyter-widgets/controls",
      "model_module_version": "1.5.0",
      "model_name": "DescriptionStyleModel",
      "state": {
       "description_width": ""
      }
     },
     "34470ffca4e142c88640d94c34770e69": {
      "model_module": "@jupyter-widgets/controls",
      "model_module_version": "1.5.0",
      "model_name": "HBoxModel",
      "state": {
       "children": [
        "IPY_MODEL_368443372ef244d7a6263101114c253c",
        "IPY_MODEL_f1b7c0592afb4fed95a637c9bfe5f5d2",
        "IPY_MODEL_1d40482936c6423e892acc6bbaffcede"
       ],
       "layout": "IPY_MODEL_5f25a76b1c96412aaa8050dbf5f8f103"
      }
     },
     "349eec16864749f1adb3027c40282ff1": {
      "model_module": "@jupyter-widgets/controls",
      "model_module_version": "1.5.0",
      "model_name": "HBoxModel",
      "state": {
       "children": [
        "IPY_MODEL_9252fbab0e7b4ca29f1d2b13fea4f2b8",
        "IPY_MODEL_351d00b0d2a6408b8d7a53528ca20f89",
        "IPY_MODEL_23fdd904c87546e595386808b7440dd3"
       ],
       "layout": "IPY_MODEL_871eaa7189a5406b8a25b82b4d4d0b96"
      }
     },
     "34aca72b572b422eb13083dd4c19b3f8": {
      "model_module": "@jupyter-widgets/controls",
      "model_module_version": "1.5.0",
      "model_name": "ProgressStyleModel",
      "state": {
       "description_width": ""
      }
     },
     "34b4d4b3c0be46179c86694d5c491b15": {
      "model_module": "@jupyter-widgets/controls",
      "model_module_version": "1.5.0",
      "model_name": "ProgressStyleModel",
      "state": {
       "description_width": ""
      }
     },
     "34ce771756254a4ca5d7d360fb98023b": {
      "model_module": "@jupyter-widgets/base",
      "model_module_version": "1.2.0",
      "model_name": "LayoutModel",
      "state": {}
     },
     "34d1abd13cbc4fa192857447fd9390d5": {
      "model_module": "@jupyter-widgets/base",
      "model_module_version": "1.2.0",
      "model_name": "LayoutModel",
      "state": {}
     },
     "34f6aa3138b14237996b1c4369a1b50c": {
      "model_module": "@jupyter-widgets/base",
      "model_module_version": "1.2.0",
      "model_name": "LayoutModel",
      "state": {}
     },
     "351d00b0d2a6408b8d7a53528ca20f89": {
      "model_module": "@jupyter-widgets/controls",
      "model_module_version": "1.5.0",
      "model_name": "FloatProgressModel",
      "state": {
       "layout": "IPY_MODEL_b087446ecdb9494285940cdb8f663f07",
       "max": 2345,
       "style": "IPY_MODEL_002e374266c7470f86e228d5c1b67f8a",
       "value": 2345
      }
     },
     "35247947686a44078c7a43d8ddce227b": {
      "model_module": "@jupyter-widgets/controls",
      "model_module_version": "1.5.0",
      "model_name": "HTMLModel",
      "state": {
       "layout": "IPY_MODEL_fc5a08c87c8a45eb85f171c0ab3f6b89",
       "style": "IPY_MODEL_6cbd14bb93e846af973d9964a7cd1f31",
       "value": " 1266/1266 [01:07&lt;00:00, 25.51it/s]"
      }
     },
     "3528f048984d4264adec0c6c8d418537": {
      "model_module": "@jupyter-widgets/controls",
      "model_module_version": "1.5.0",
      "model_name": "HTMLModel",
      "state": {
       "layout": "IPY_MODEL_b2b83db4f70140a38c59a4cff197bff5",
       "style": "IPY_MODEL_8b674f2619ab4cd4b7a43f836ecc1253",
       "value": "100%"
      }
     },
     "3589475fb00b44319c3653f6ba566fc5": {
      "model_module": "@jupyter-widgets/base",
      "model_module_version": "1.2.0",
      "model_name": "LayoutModel",
      "state": {}
     },
     "35dcb786cfa14b83b9ab393888fc7b64": {
      "model_module": "@jupyter-widgets/controls",
      "model_module_version": "1.5.0",
      "model_name": "DescriptionStyleModel",
      "state": {
       "description_width": ""
      }
     },
     "360db66d1ca84ab0bc5af11fc2548b0c": {
      "model_module": "@jupyter-widgets/base",
      "model_module_version": "1.2.0",
      "model_name": "LayoutModel",
      "state": {}
     },
     "3669cc0906064f019924735e030555b7": {
      "model_module": "@jupyter-widgets/base",
      "model_module_version": "1.2.0",
      "model_name": "LayoutModel",
      "state": {}
     },
     "3673f75051ba4236b6c4ef2295b0929b": {
      "model_module": "@jupyter-widgets/controls",
      "model_module_version": "1.5.0",
      "model_name": "DescriptionStyleModel",
      "state": {
       "description_width": ""
      }
     },
     "368443372ef244d7a6263101114c253c": {
      "model_module": "@jupyter-widgets/controls",
      "model_module_version": "1.5.0",
      "model_name": "HTMLModel",
      "state": {
       "layout": "IPY_MODEL_5445c12cf5ae45a190b8e77c85ce3531",
       "style": "IPY_MODEL_ac6778ef1ea943098ca5cdc83a6203f3",
       "value": "100%"
      }
     },
     "369c4df8b2614553afc053e16ffef0c7": {
      "model_module": "@jupyter-widgets/controls",
      "model_module_version": "1.5.0",
      "model_name": "HTMLModel",
      "state": {
       "layout": "IPY_MODEL_c8cc5f8efcf64bbfbfd2587acd9e650c",
       "style": "IPY_MODEL_21baab8d4d984b0080f324169aa8485c",
       "value": "100%"
      }
     },
     "36b3b992e9e74bd890e4ff12fd9b4bd9": {
      "model_module": "@jupyter-widgets/controls",
      "model_module_version": "1.5.0",
      "model_name": "HTMLModel",
      "state": {
       "layout": "IPY_MODEL_7f57072b1fb34d56afe4af2a3d851e19",
       "style": "IPY_MODEL_e9c38113b1c1499eb4d66f9844a7de80",
       "value": "100%"
      }
     },
     "370db5adad3145cb97b4a80eb5e65125": {
      "model_module": "@jupyter-widgets/base",
      "model_module_version": "1.2.0",
      "model_name": "LayoutModel",
      "state": {}
     },
     "37206660735e472aab99c29c71818e6e": {
      "model_module": "@jupyter-widgets/base",
      "model_module_version": "1.2.0",
      "model_name": "LayoutModel",
      "state": {}
     },
     "373aa29a3f984843863c890b5b9afce5": {
      "model_module": "@jupyter-widgets/controls",
      "model_module_version": "1.5.0",
      "model_name": "FloatProgressModel",
      "state": {
       "layout": "IPY_MODEL_68380d174ae4448e889459cd1f2cbef6",
       "max": 2345,
       "style": "IPY_MODEL_3c102b06a7564fc186f95161e0118329",
       "value": 2345
      }
     },
     "378537afd17b42a883888c5166f3d59b": {
      "model_module": "@jupyter-widgets/controls",
      "model_module_version": "1.5.0",
      "model_name": "DescriptionStyleModel",
      "state": {
       "description_width": ""
      }
     },
     "37b227750b7e499685f61acadda9b741": {
      "model_module": "@jupyter-widgets/base",
      "model_module_version": "1.2.0",
      "model_name": "LayoutModel",
      "state": {}
     },
     "3813f41c19d444d9a6b9aa70147b3fd5": {
      "model_module": "@jupyter-widgets/controls",
      "model_module_version": "1.5.0",
      "model_name": "HTMLModel",
      "state": {
       "layout": "IPY_MODEL_bdad0d1c311c4586b19590764c84821c",
       "style": "IPY_MODEL_5057acf4899d43b0a0939f044ff5688c",
       "value": " 2345/2345 [00:12&lt;00:00, 7482.14it/s]"
      }
     },
     "38362b49c2064e55954c413708364694": {
      "model_module": "@jupyter-widgets/controls",
      "model_module_version": "1.5.0",
      "model_name": "DescriptionStyleModel",
      "state": {
       "description_width": ""
      }
     },
     "385ec1b738b8425b836793124aa5f2d5": {
      "model_module": "@jupyter-widgets/base",
      "model_module_version": "1.2.0",
      "model_name": "LayoutModel",
      "state": {}
     },
     "38875cdd908749ce91413661f5545598": {
      "model_module": "@jupyter-widgets/controls",
      "model_module_version": "1.5.0",
      "model_name": "DescriptionStyleModel",
      "state": {
       "description_width": ""
      }
     },
     "38a6a9bfb6f14156b800e56d091d01b7": {
      "model_module": "@jupyter-widgets/controls",
      "model_module_version": "1.5.0",
      "model_name": "DescriptionStyleModel",
      "state": {
       "description_width": ""
      }
     },
     "38cb96abf80049f6ab6c16da65fc0531": {
      "model_module": "@jupyter-widgets/controls",
      "model_module_version": "1.5.0",
      "model_name": "HBoxModel",
      "state": {
       "children": [
        "IPY_MODEL_b54c82216893410b84a4670d437f853c",
        "IPY_MODEL_dcd613d431c3420897f375b8624ce350",
        "IPY_MODEL_f0990cf33b084f279a34ba84a7eb8ed0"
       ],
       "layout": "IPY_MODEL_1f1c2d3b1f514cbf8a822727698e8665"
      }
     },
     "38e6dd10388a447a8302a589c76d853b": {
      "model_module": "@jupyter-widgets/controls",
      "model_module_version": "1.5.0",
      "model_name": "HTMLModel",
      "state": {
       "layout": "IPY_MODEL_9b1d06c795d64cbabc540c5d79536cf9",
       "style": "IPY_MODEL_326436fd38604cc4b881d2fcfb43ccb2",
       "value": "100%"
      }
     },
     "38f85753d786448aaeaf923e531b2060": {
      "model_module": "@jupyter-widgets/controls",
      "model_module_version": "1.5.0",
      "model_name": "HBoxModel",
      "state": {
       "children": [
        "IPY_MODEL_7d683a47b662482ca38de85276a29f48",
        "IPY_MODEL_98154947691547dfa9f530a80d960b5c",
        "IPY_MODEL_5dd49af752c44f27a886b26c5d16bf71"
       ],
       "layout": "IPY_MODEL_0e258ad563114dbea237b1baa2ea2a42"
      }
     },
     "3907eec114df461fbee00a931d1aa812": {
      "model_module": "@jupyter-widgets/base",
      "model_module_version": "1.2.0",
      "model_name": "LayoutModel",
      "state": {}
     },
     "390dfc5a3ff8493091e1b15c02ba97b1": {
      "model_module": "@jupyter-widgets/base",
      "model_module_version": "1.2.0",
      "model_name": "LayoutModel",
      "state": {}
     },
     "3952ef136b4d4d6e9244ed8cf24cf866": {
      "model_module": "@jupyter-widgets/base",
      "model_module_version": "1.2.0",
      "model_name": "LayoutModel",
      "state": {}
     },
     "39676ac72ec14e11908215bc46d6eda2": {
      "model_module": "@jupyter-widgets/controls",
      "model_module_version": "1.5.0",
      "model_name": "DescriptionStyleModel",
      "state": {
       "description_width": ""
      }
     },
     "39785b258edb442aaf485aedccb5eea9": {
      "model_module": "@jupyter-widgets/controls",
      "model_module_version": "1.5.0",
      "model_name": "HTMLModel",
      "state": {
       "layout": "IPY_MODEL_1ce18056aefe4befa2219b2874d43b7f",
       "style": "IPY_MODEL_2f1c8b4407cb42b5adf2d006a86d434e",
       "value": " 2345/2345 [01:48&lt;00:00, 25.89it/s]"
      }
     },
     "3997045aaa3146b48ea15984d6281b82": {
      "model_module": "@jupyter-widgets/controls",
      "model_module_version": "1.5.0",
      "model_name": "DescriptionStyleModel",
      "state": {
       "description_width": ""
      }
     },
     "39e24d80cf05478c81e51be00357c2d4": {
      "model_module": "@jupyter-widgets/controls",
      "model_module_version": "1.5.0",
      "model_name": "HTMLModel",
      "state": {
       "layout": "IPY_MODEL_7d7fe2d839bf432c95a2bd0e395d6b04",
       "style": "IPY_MODEL_3d902155f0bf4a398a7eaf9635018131",
       "value": " 2345/2345 [00:10&lt;00:00, 7581.18it/s]"
      }
     },
     "39f4a63503a249329d3d3d54b91496b3": {
      "model_module": "@jupyter-widgets/controls",
      "model_module_version": "1.5.0",
      "model_name": "HTMLModel",
      "state": {
       "layout": "IPY_MODEL_81182d4a069646faa574e34a1b0667ff",
       "style": "IPY_MODEL_c02b543d34d14c29a1f63e3edae85605",
       "value": "100%"
      }
     },
     "39f4a701b2b04e74add439620d7d54e1": {
      "model_module": "@jupyter-widgets/base",
      "model_module_version": "1.2.0",
      "model_name": "LayoutModel",
      "state": {}
     },
     "3a52c04ccd684de4a4983bf144a306e7": {
      "model_module": "@jupyter-widgets/controls",
      "model_module_version": "1.5.0",
      "model_name": "HTMLModel",
      "state": {
       "layout": "IPY_MODEL_8860a2ee40bc4974b377b449c47567c5",
       "style": "IPY_MODEL_63ca9aa0559b48808bb72d1c7c5987f6",
       "value": "100%"
      }
     },
     "3aea4b1fd51d4ce08ab85beea6fef756": {
      "model_module": "@jupyter-widgets/base",
      "model_module_version": "1.2.0",
      "model_name": "LayoutModel",
      "state": {}
     },
     "3b0c0791eb0e4770a7a9d9ea976341db": {
      "model_module": "@jupyter-widgets/controls",
      "model_module_version": "1.5.0",
      "model_name": "HTMLModel",
      "state": {
       "layout": "IPY_MODEL_6a24955c1b8e44ce8cfc960b960b29cb",
       "style": "IPY_MODEL_baa42b4ca3bc4f2eb5ff8ada24d64be0",
       "value": "100%"
      }
     },
     "3b3c7b8eb6a247a9bb14fd21ad5c8d3f": {
      "model_module": "@jupyter-widgets/controls",
      "model_module_version": "1.5.0",
      "model_name": "HBoxModel",
      "state": {
       "children": [
        "IPY_MODEL_aed24c1076514ac29cf8f314c5a423b8",
        "IPY_MODEL_fd110b25291a4bc38916f459c4caead4",
        "IPY_MODEL_c06c22cda4f040e1bc43c48ab6c4d2c4"
       ],
       "layout": "IPY_MODEL_436a26e0a8524835aa94f4ed33534f8b"
      }
     },
     "3b525256260c468bb51c5221845c5d40": {
      "model_module": "@jupyter-widgets/controls",
      "model_module_version": "1.5.0",
      "model_name": "HTMLModel",
      "state": {
       "layout": "IPY_MODEL_e971dd7dec4841fd99cb29d7e4a07c75",
       "style": "IPY_MODEL_88ff193467804caebced8c0c4ec5a7f6",
       "value": "100%"
      }
     },
     "3bafd66044fe44379551facca8a235da": {
      "model_module": "@jupyter-widgets/controls",
      "model_module_version": "1.5.0",
      "model_name": "FloatProgressModel",
      "state": {
       "layout": "IPY_MODEL_8be78aa71eed485190bd12cc1825d4bb",
       "max": 2345,
       "style": "IPY_MODEL_e60875a3ff5e482b91e870a59ec1ec9d",
       "value": 2345
      }
     },
     "3bf979adf91d4b35a38467e56dca2ae3": {
      "model_module": "@jupyter-widgets/controls",
      "model_module_version": "1.5.0",
      "model_name": "HTMLModel",
      "state": {
       "layout": "IPY_MODEL_370db5adad3145cb97b4a80eb5e65125",
       "style": "IPY_MODEL_75de54a3c01b40fd828bb0693ca73724",
       "value": "100%"
      }
     },
     "3c0bd138507a4d7890ddecdbc3e97600": {
      "model_module": "@jupyter-widgets/controls",
      "model_module_version": "1.5.0",
      "model_name": "HBoxModel",
      "state": {
       "children": [
        "IPY_MODEL_3c7c52410d224fd6940ee2619503384a",
        "IPY_MODEL_f90f11795cd84ec1973a37b8158b0025",
        "IPY_MODEL_1241d476bddc4469a7bd9366f9110bb7"
       ],
       "layout": "IPY_MODEL_478adb10d6694a5fb5785bf1a900ffe1"
      }
     },
     "3c102b06a7564fc186f95161e0118329": {
      "model_module": "@jupyter-widgets/controls",
      "model_module_version": "1.5.0",
      "model_name": "ProgressStyleModel",
      "state": {
       "description_width": ""
      }
     },
     "3c13bf8787164372a0031c97ec4e1e48": {
      "model_module": "@jupyter-widgets/base",
      "model_module_version": "1.2.0",
      "model_name": "LayoutModel",
      "state": {}
     },
     "3c66b3c9c09d4d2ebab86a69020d63f1": {
      "model_module": "@jupyter-widgets/base",
      "model_module_version": "1.2.0",
      "model_name": "LayoutModel",
      "state": {}
     },
     "3c7c52410d224fd6940ee2619503384a": {
      "model_module": "@jupyter-widgets/controls",
      "model_module_version": "1.5.0",
      "model_name": "HTMLModel",
      "state": {
       "layout": "IPY_MODEL_29dc25e54c5245218781bfe8f6dc8220",
       "style": "IPY_MODEL_475f8d41ef374d79a489652a8f62d7ed",
       "value": "100%"
      }
     },
     "3c96e9baea964edf83eea00bc15361c2": {
      "model_module": "@jupyter-widgets/controls",
      "model_module_version": "1.5.0",
      "model_name": "ProgressStyleModel",
      "state": {
       "description_width": ""
      }
     },
     "3cb57b8572f6427983ab5859523897b1": {
      "model_module": "@jupyter-widgets/base",
      "model_module_version": "1.2.0",
      "model_name": "LayoutModel",
      "state": {}
     },
     "3cc1a89b67f345d9b906dacfab520e69": {
      "model_module": "@jupyter-widgets/controls",
      "model_module_version": "1.5.0",
      "model_name": "ProgressStyleModel",
      "state": {
       "description_width": ""
      }
     },
     "3cd1bc925276402da10ce3d104595e4d": {
      "model_module": "@jupyter-widgets/base",
      "model_module_version": "1.2.0",
      "model_name": "LayoutModel",
      "state": {}
     },
     "3d465963aa13431890526d625193baae": {
      "model_module": "@jupyter-widgets/controls",
      "model_module_version": "1.5.0",
      "model_name": "HTMLModel",
      "state": {
       "layout": "IPY_MODEL_5906480f927a4c5dafed9e05ce9b3fd2",
       "style": "IPY_MODEL_beb948ff8bdd4f10a5e4d27d892d3f7a",
       "value": " 2345/2345 [01:50&lt;00:00, 25.78it/s]"
      }
     },
     "3d4a268424314ec6b864040d62c886ba": {
      "model_module": "@jupyter-widgets/controls",
      "model_module_version": "1.5.0",
      "model_name": "HTMLModel",
      "state": {
       "layout": "IPY_MODEL_06ead84a4e1749388acbd1c22142abe5",
       "style": "IPY_MODEL_d1f8aed1d4dd4eaabe197e5c1acf3282",
       "value": " 2345/2345 [00:19&lt;00:00, 7582.66it/s]"
      }
     },
     "3d4eb2a03bd64f9b9876df354148ab6c": {
      "model_module": "@jupyter-widgets/controls",
      "model_module_version": "1.5.0",
      "model_name": "DescriptionStyleModel",
      "state": {
       "description_width": ""
      }
     },
     "3d902155f0bf4a398a7eaf9635018131": {
      "model_module": "@jupyter-widgets/controls",
      "model_module_version": "1.5.0",
      "model_name": "DescriptionStyleModel",
      "state": {
       "description_width": ""
      }
     },
     "3db7e1e332be4a78b549928ac81e5f04": {
      "model_module": "@jupyter-widgets/controls",
      "model_module_version": "1.5.0",
      "model_name": "HTMLModel",
      "state": {
       "layout": "IPY_MODEL_2c59e677c1cb40859cfa35fd1c157c8e",
       "style": "IPY_MODEL_e8d80c416a7e47fcb278a72bfef6a89e",
       "value": " 1266/1266 [01:02&lt;00:00, 24.79it/s]"
      }
     },
     "3dda366416684ae8aeb39bb01e4d7eec": {
      "model_module": "@jupyter-widgets/base",
      "model_module_version": "1.2.0",
      "model_name": "LayoutModel",
      "state": {}
     },
     "3e2c6496786641178631204c1ccdcb55": {
      "model_module": "@jupyter-widgets/controls",
      "model_module_version": "1.5.0",
      "model_name": "DescriptionStyleModel",
      "state": {
       "description_width": ""
      }
     },
     "3e37c92cde3a46e694ebd05854d6dde6": {
      "model_module": "@jupyter-widgets/controls",
      "model_module_version": "1.5.0",
      "model_name": "DescriptionStyleModel",
      "state": {
       "description_width": ""
      }
     },
     "3e4cbe5564304051805d1b116424cb73": {
      "model_module": "@jupyter-widgets/base",
      "model_module_version": "1.2.0",
      "model_name": "LayoutModel",
      "state": {}
     },
     "3e5e623329c64973b512caec4c6d1867": {
      "model_module": "@jupyter-widgets/controls",
      "model_module_version": "1.5.0",
      "model_name": "ProgressStyleModel",
      "state": {
       "description_width": ""
      }
     },
     "3eb4a735f9cf44c39f5495f7f346ee4a": {
      "model_module": "@jupyter-widgets/controls",
      "model_module_version": "1.5.0",
      "model_name": "DescriptionStyleModel",
      "state": {
       "description_width": ""
      }
     },
     "3f0be0a49bb94a8fae8172abad1ec71a": {
      "model_module": "@jupyter-widgets/controls",
      "model_module_version": "1.5.0",
      "model_name": "DescriptionStyleModel",
      "state": {
       "description_width": ""
      }
     },
     "3f3666de71c041a78fb538b396ee1675": {
      "model_module": "@jupyter-widgets/controls",
      "model_module_version": "1.5.0",
      "model_name": "DescriptionStyleModel",
      "state": {
       "description_width": ""
      }
     },
     "3fb6ba499bf14c558eccaf274a1776ba": {
      "model_module": "@jupyter-widgets/controls",
      "model_module_version": "1.5.0",
      "model_name": "DescriptionStyleModel",
      "state": {
       "description_width": ""
      }
     },
     "3fda76fbff934b26b2932ef7bda6886b": {
      "model_module": "@jupyter-widgets/base",
      "model_module_version": "1.2.0",
      "model_name": "LayoutModel",
      "state": {}
     },
     "3fe129985b8c4cb8a2a10dfbc54eafd8": {
      "model_module": "@jupyter-widgets/controls",
      "model_module_version": "1.5.0",
      "model_name": "HBoxModel",
      "state": {
       "children": [
        "IPY_MODEL_69344c2b9c1740d6a60b9ba67fef5ef2",
        "IPY_MODEL_cbe88a53d43f4ae1b92a897917cba387",
        "IPY_MODEL_cfac1bcb28a743bf955d5d9a237cb206"
       ],
       "layout": "IPY_MODEL_d69322c3df91440183a4888dafec52e6"
      }
     },
     "3ff338cf9605460c9e632075862b3f96": {
      "model_module": "@jupyter-widgets/controls",
      "model_module_version": "1.5.0",
      "model_name": "FloatProgressModel",
      "state": {
       "layout": "IPY_MODEL_479efd6750e04ad58e3e86c4a955a7a5",
       "max": 2345,
       "style": "IPY_MODEL_6305d05a8ec64226ad001a3a481cf731",
       "value": 2345
      }
     },
     "400b2fd7d5464f1f9cd717059c44e784": {
      "model_module": "@jupyter-widgets/base",
      "model_module_version": "1.2.0",
      "model_name": "LayoutModel",
      "state": {}
     },
     "401060ae90fb4ee6b051addbda8fd9a5": {
      "model_module": "@jupyter-widgets/controls",
      "model_module_version": "1.5.0",
      "model_name": "DescriptionStyleModel",
      "state": {
       "description_width": ""
      }
     },
     "40227a29abc64305ba901ff0f6f7a0f7": {
      "model_module": "@jupyter-widgets/base",
      "model_module_version": "1.2.0",
      "model_name": "LayoutModel",
      "state": {}
     },
     "40279168098748e6bcdd2befe7509b20": {
      "model_module": "@jupyter-widgets/base",
      "model_module_version": "1.2.0",
      "model_name": "LayoutModel",
      "state": {}
     },
     "403d4181a633437f8c1e82bd7e5ad947": {
      "model_module": "@jupyter-widgets/base",
      "model_module_version": "1.2.0",
      "model_name": "LayoutModel",
      "state": {}
     },
     "404b947a6383445f8ebd9ce5c4818133": {
      "model_module": "@jupyter-widgets/controls",
      "model_module_version": "1.5.0",
      "model_name": "DescriptionStyleModel",
      "state": {
       "description_width": ""
      }
     },
     "407d82eeb54b44878ce02995a3068a77": {
      "model_module": "@jupyter-widgets/controls",
      "model_module_version": "1.5.0",
      "model_name": "HTMLModel",
      "state": {
       "layout": "IPY_MODEL_f7ea2eb8b2dd44a990e33f83b16a0eb2",
       "style": "IPY_MODEL_83ea8ddd4d00453083fab8386e6e6bf0",
       "value": "100%"
      }
     },
     "40883ecd7b7f403e910f07abdb60f502": {
      "model_module": "@jupyter-widgets/controls",
      "model_module_version": "1.5.0",
      "model_name": "HBoxModel",
      "state": {
       "children": [
        "IPY_MODEL_b8d1a4e4928e418e8d5cbbae047d5929",
        "IPY_MODEL_43673082e5574491862a05a627965034",
        "IPY_MODEL_e3d88674fd5d46ec913becd4c8f8563e"
       ],
       "layout": "IPY_MODEL_ebb089c0c9724bb2a2b448572b2a3e95"
      }
     },
     "40a767b35e1c42aa86082ebdd3d7a2b1": {
      "model_module": "@jupyter-widgets/controls",
      "model_module_version": "1.5.0",
      "model_name": "FloatProgressModel",
      "state": {
       "layout": "IPY_MODEL_a82fc929961e4ef0af014586f23ca3f9",
       "max": 2345,
       "style": "IPY_MODEL_9b880948f0914400933b0b557ccbd0f6",
       "value": 2345
      }
     },
     "40b5929e4c7a4a22981260a4a83983a1": {
      "model_module": "@jupyter-widgets/controls",
      "model_module_version": "1.5.0",
      "model_name": "DescriptionStyleModel",
      "state": {
       "description_width": ""
      }
     },
     "41379f52768a4993acff1ac5c5a8426a": {
      "model_module": "@jupyter-widgets/controls",
      "model_module_version": "1.5.0",
      "model_name": "DescriptionStyleModel",
      "state": {
       "description_width": ""
      }
     },
     "4148ebaef7f545a59a69baba51feb2a2": {
      "model_module": "@jupyter-widgets/controls",
      "model_module_version": "1.5.0",
      "model_name": "ProgressStyleModel",
      "state": {
       "description_width": ""
      }
     },
     "4155588b2839484b877f64536da96835": {
      "model_module": "@jupyter-widgets/base",
      "model_module_version": "1.2.0",
      "model_name": "LayoutModel",
      "state": {}
     },
     "4167cd93c2f44ae4a9971d54115a1320": {
      "model_module": "@jupyter-widgets/controls",
      "model_module_version": "1.5.0",
      "model_name": "HTMLModel",
      "state": {
       "layout": "IPY_MODEL_f39e5610a3bb4b81859b55a80066cce0",
       "style": "IPY_MODEL_d7010eb4f9394c4484bc6857ae27ee11",
       "value": " 1266/1266 [01:10&lt;00:00, 24.70it/s]"
      }
     },
     "41a63e5c0807468bb9600ee13287c163": {
      "model_module": "@jupyter-widgets/base",
      "model_module_version": "1.2.0",
      "model_name": "LayoutModel",
      "state": {}
     },
     "41d79d63ca11434eadbebde3367cb434": {
      "model_module": "@jupyter-widgets/controls",
      "model_module_version": "1.5.0",
      "model_name": "DescriptionStyleModel",
      "state": {
       "description_width": ""
      }
     },
     "41edfec3ce5a4c4abc944260cb3f39eb": {
      "model_module": "@jupyter-widgets/controls",
      "model_module_version": "1.5.0",
      "model_name": "ProgressStyleModel",
      "state": {
       "description_width": ""
      }
     },
     "4233e0f5f7634b75bd31385de27a89ae": {
      "model_module": "@jupyter-widgets/controls",
      "model_module_version": "1.5.0",
      "model_name": "DescriptionStyleModel",
      "state": {
       "description_width": ""
      }
     },
     "4261dc9077f849b39b6c0077b3dac954": {
      "model_module": "@jupyter-widgets/controls",
      "model_module_version": "1.5.0",
      "model_name": "ProgressStyleModel",
      "state": {
       "description_width": ""
      }
     },
     "42863bc683a34f9da156187ad8dacc07": {
      "model_module": "@jupyter-widgets/controls",
      "model_module_version": "1.5.0",
      "model_name": "ProgressStyleModel",
      "state": {
       "description_width": ""
      }
     },
     "42a2a94b02dc45f0989f81af40e86870": {
      "model_module": "@jupyter-widgets/base",
      "model_module_version": "1.2.0",
      "model_name": "LayoutModel",
      "state": {}
     },
     "42ff51eabdf84139b554b0c376f48316": {
      "model_module": "@jupyter-widgets/base",
      "model_module_version": "1.2.0",
      "model_name": "LayoutModel",
      "state": {}
     },
     "432b8128f2714637a243e7a5b4ee553d": {
      "model_module": "@jupyter-widgets/base",
      "model_module_version": "1.2.0",
      "model_name": "LayoutModel",
      "state": {}
     },
     "4354b98d8b8343c6b88b7479596f7035": {
      "model_module": "@jupyter-widgets/base",
      "model_module_version": "1.2.0",
      "model_name": "LayoutModel",
      "state": {}
     },
     "4355d95ccb884f56a840c6f4c93c431f": {
      "model_module": "@jupyter-widgets/controls",
      "model_module_version": "1.5.0",
      "model_name": "ProgressStyleModel",
      "state": {
       "description_width": ""
      }
     },
     "43673082e5574491862a05a627965034": {
      "model_module": "@jupyter-widgets/controls",
      "model_module_version": "1.5.0",
      "model_name": "FloatProgressModel",
      "state": {
       "layout": "IPY_MODEL_cecf69ea6bc74966b0cd8a1fff3b8f7f",
       "max": 2345,
       "style": "IPY_MODEL_b027a35366e648ca825ca778e69ff3f3",
       "value": 2345
      }
     },
     "436a26e0a8524835aa94f4ed33534f8b": {
      "model_module": "@jupyter-widgets/base",
      "model_module_version": "1.2.0",
      "model_name": "LayoutModel",
      "state": {}
     },
     "43982a30d81841a39f7a0bcde6124085": {
      "model_module": "@jupyter-widgets/controls",
      "model_module_version": "1.5.0",
      "model_name": "DescriptionStyleModel",
      "state": {
       "description_width": ""
      }
     },
     "43a2704cba604051a57d8f0f58038ba9": {
      "model_module": "@jupyter-widgets/controls",
      "model_module_version": "1.5.0",
      "model_name": "DescriptionStyleModel",
      "state": {
       "description_width": ""
      }
     },
     "43c2c0aa4374479d97e806a0aa26cd95": {
      "model_module": "@jupyter-widgets/base",
      "model_module_version": "1.2.0",
      "model_name": "LayoutModel",
      "state": {}
     },
     "43e7cfb910754f22b8efd26a24faf00c": {
      "model_module": "@jupyter-widgets/base",
      "model_module_version": "1.2.0",
      "model_name": "LayoutModel",
      "state": {}
     },
     "43ecbe2fd0ad4b6f88728fecef6990e1": {
      "model_module": "@jupyter-widgets/controls",
      "model_module_version": "1.5.0",
      "model_name": "DescriptionStyleModel",
      "state": {
       "description_width": ""
      }
     },
     "4446af03b1f8467990e7f1c410315a33": {
      "model_module": "@jupyter-widgets/controls",
      "model_module_version": "1.5.0",
      "model_name": "DescriptionStyleModel",
      "state": {
       "description_width": ""
      }
     },
     "44618d858c6548ef961202530965476e": {
      "model_module": "@jupyter-widgets/controls",
      "model_module_version": "1.5.0",
      "model_name": "HTMLModel",
      "state": {
       "layout": "IPY_MODEL_9b2b49f5c21b470f9f9aed90601364ee",
       "style": "IPY_MODEL_a7619a3e9c2f4eafad52e481eee660dc",
       "value": "100%"
      }
     },
     "4497dc33306144c09aac7c7bbf06bf43": {
      "model_module": "@jupyter-widgets/base",
      "model_module_version": "1.2.0",
      "model_name": "LayoutModel",
      "state": {}
     },
     "44b8877e4b424d59b5269a9f30b07c90": {
      "model_module": "@jupyter-widgets/controls",
      "model_module_version": "1.5.0",
      "model_name": "DescriptionStyleModel",
      "state": {
       "description_width": ""
      }
     },
     "44bfd6461cfc4078a9b9ac3715bf6e35": {
      "model_module": "@jupyter-widgets/controls",
      "model_module_version": "1.5.0",
      "model_name": "DescriptionStyleModel",
      "state": {
       "description_width": ""
      }
     },
     "44d65e9681c948fbb43f53bec8392ff2": {
      "model_module": "@jupyter-widgets/controls",
      "model_module_version": "1.5.0",
      "model_name": "DescriptionStyleModel",
      "state": {
       "description_width": ""
      }
     },
     "44d78e40dfc645b5a5e4c787cd93e62c": {
      "model_module": "@jupyter-widgets/controls",
      "model_module_version": "1.5.0",
      "model_name": "HTMLModel",
      "state": {
       "layout": "IPY_MODEL_c981e05e31c44124809496e96565c220",
       "style": "IPY_MODEL_a13a11a00f3044b093506164694dcd22",
       "value": "100%"
      }
     },
     "4596af4a6d9b41d6a07b66ab0e9ecfcf": {
      "model_module": "@jupyter-widgets/controls",
      "model_module_version": "1.5.0",
      "model_name": "ProgressStyleModel",
      "state": {
       "description_width": ""
      }
     },
     "45aeadb617d34dbaaf6f29bb4baed75c": {
      "model_module": "@jupyter-widgets/base",
      "model_module_version": "1.2.0",
      "model_name": "LayoutModel",
      "state": {}
     },
     "45ef422fb50a4a89b9c6b264f02ec08e": {
      "model_module": "@jupyter-widgets/base",
      "model_module_version": "1.2.0",
      "model_name": "LayoutModel",
      "state": {}
     },
     "46049a644943446a912bb7b09eaac260": {
      "model_module": "@jupyter-widgets/base",
      "model_module_version": "1.2.0",
      "model_name": "LayoutModel",
      "state": {}
     },
     "463936c74b924ba9a46efbb40ad655f6": {
      "model_module": "@jupyter-widgets/base",
      "model_module_version": "1.2.0",
      "model_name": "LayoutModel",
      "state": {}
     },
     "46448c76199541fbb6f876c7ab4bd4b0": {
      "model_module": "@jupyter-widgets/controls",
      "model_module_version": "1.5.0",
      "model_name": "HTMLModel",
      "state": {
       "layout": "IPY_MODEL_ee7ed7ca7e5b483dbb1ee0923cad3041",
       "style": "IPY_MODEL_b7c8b51f94b6479ebd5b5e838f55550f",
       "value": " 1266/1266 [01:07&lt;00:00, 25.32it/s]"
      }
     },
     "468136fc33d74688bedcfdb20eaa29cc": {
      "model_module": "@jupyter-widgets/controls",
      "model_module_version": "1.5.0",
      "model_name": "DescriptionStyleModel",
      "state": {
       "description_width": ""
      }
     },
     "46fbb91f9ae140eba4a0b130a260037b": {
      "model_module": "@jupyter-widgets/controls",
      "model_module_version": "1.5.0",
      "model_name": "HTMLModel",
      "state": {
       "layout": "IPY_MODEL_2984a8fed3014099800b3d8685fe94e0",
       "style": "IPY_MODEL_1c44938ab35844f89a28bc07a8b0ffdd",
       "value": " 2345/2345 [00:20&lt;00:00, 7526.73it/s]"
      }
     },
     "475f8d41ef374d79a489652a8f62d7ed": {
      "model_module": "@jupyter-widgets/controls",
      "model_module_version": "1.5.0",
      "model_name": "DescriptionStyleModel",
      "state": {
       "description_width": ""
      }
     },
     "478adb10d6694a5fb5785bf1a900ffe1": {
      "model_module": "@jupyter-widgets/base",
      "model_module_version": "1.2.0",
      "model_name": "LayoutModel",
      "state": {}
     },
     "479d2ab70650491abb57ea77d6c57281": {
      "model_module": "@jupyter-widgets/controls",
      "model_module_version": "1.5.0",
      "model_name": "FloatProgressModel",
      "state": {
       "layout": "IPY_MODEL_685b5cc9565c497aabcac1903b5a7b73",
       "max": 2345,
       "style": "IPY_MODEL_0edd391d673e45bcb7aed573dcf38b02",
       "value": 2345
      }
     },
     "479efd6750e04ad58e3e86c4a955a7a5": {
      "model_module": "@jupyter-widgets/base",
      "model_module_version": "1.2.0",
      "model_name": "LayoutModel",
      "state": {}
     },
     "47a4283ee75e48b5bbc65bf8d822ca65": {
      "model_module": "@jupyter-widgets/controls",
      "model_module_version": "1.5.0",
      "model_name": "FloatProgressModel",
      "state": {
       "layout": "IPY_MODEL_d63eabb59199413cac8f675f172c38ba",
       "max": 2345,
       "style": "IPY_MODEL_9f4d78c3d7594a3082182970f37bc36e",
       "value": 2345
      }
     },
     "47fc327680e04b67828794cc7210e0b1": {
      "model_module": "@jupyter-widgets/controls",
      "model_module_version": "1.5.0",
      "model_name": "ProgressStyleModel",
      "state": {
       "description_width": ""
      }
     },
     "48220d839f2c40ba89c48d9a27fc071f": {
      "model_module": "@jupyter-widgets/controls",
      "model_module_version": "1.5.0",
      "model_name": "FloatProgressModel",
      "state": {
       "layout": "IPY_MODEL_2660fcd28976494c8466bacecb5aab72",
       "max": 2345,
       "style": "IPY_MODEL_53df80b843cf44d59ad1980cf2af2a44",
       "value": 2345
      }
     },
     "4860c039ac4944fba521b77dc370f652": {
      "model_module": "@jupyter-widgets/base",
      "model_module_version": "1.2.0",
      "model_name": "LayoutModel",
      "state": {}
     },
     "486f6852d6f44da3b55440886aea9aab": {
      "model_module": "@jupyter-widgets/controls",
      "model_module_version": "1.5.0",
      "model_name": "HTMLModel",
      "state": {
       "layout": "IPY_MODEL_91ac1556e7244a3683f022bd696f5ab8",
       "style": "IPY_MODEL_a74eb509256b4a3b9ac4277c7a4b7f5f",
       "value": " 2345/2345 [00:13&lt;00:00, 7477.10it/s]"
      }
     },
     "48ab73d8ca4c43f9b50878df390b2def": {
      "model_module": "@jupyter-widgets/controls",
      "model_module_version": "1.5.0",
      "model_name": "HTMLModel",
      "state": {
       "layout": "IPY_MODEL_668cbedd3e554b72abf844a9c06d77e3",
       "style": "IPY_MODEL_6f39ce490b534b09ad97a19fb46d9c9a",
       "value": " 2345/2345 [00:11&lt;00:00, 7625.92it/s]"
      }
     },
     "48c779be282043759c093a94f5eb84b6": {
      "model_module": "@jupyter-widgets/controls",
      "model_module_version": "1.5.0",
      "model_name": "DescriptionStyleModel",
      "state": {
       "description_width": ""
      }
     },
     "48d2967aa38e4e3fad6c33a7572128f2": {
      "model_module": "@jupyter-widgets/controls",
      "model_module_version": "1.5.0",
      "model_name": "DescriptionStyleModel",
      "state": {
       "description_width": ""
      }
     },
     "48e17a9fb2b1431eb8a07be273bfc2ab": {
      "model_module": "@jupyter-widgets/base",
      "model_module_version": "1.2.0",
      "model_name": "LayoutModel",
      "state": {}
     },
     "48ec88242d554ed098f9e626356be1e4": {
      "model_module": "@jupyter-widgets/controls",
      "model_module_version": "1.5.0",
      "model_name": "HTMLModel",
      "state": {
       "layout": "IPY_MODEL_ca568515db9046f8bc205765421d26b6",
       "style": "IPY_MODEL_a2bf987224a242299cf0cb988ca0c7ce",
       "value": " 2345/2345 [01:47&lt;00:00, 25.16it/s]"
      }
     },
     "49039da1183444e183c49a7e584de288": {
      "model_module": "@jupyter-widgets/base",
      "model_module_version": "1.2.0",
      "model_name": "LayoutModel",
      "state": {}
     },
     "490663272af94a938b8dc531d6067916": {
      "model_module": "@jupyter-widgets/base",
      "model_module_version": "1.2.0",
      "model_name": "LayoutModel",
      "state": {}
     },
     "4910e704ee8e4f19aa4d63d58092bba9": {
      "model_module": "@jupyter-widgets/controls",
      "model_module_version": "1.5.0",
      "model_name": "ProgressStyleModel",
      "state": {
       "description_width": ""
      }
     },
     "495728469de04f50b293bf8fa3dda4e1": {
      "model_module": "@jupyter-widgets/controls",
      "model_module_version": "1.5.0",
      "model_name": "DescriptionStyleModel",
      "state": {
       "description_width": ""
      }
     },
     "495a51841e274046813ec6344dca85cb": {
      "model_module": "@jupyter-widgets/base",
      "model_module_version": "1.2.0",
      "model_name": "LayoutModel",
      "state": {}
     },
     "49b76327475b4675a6e73bb205f72654": {
      "model_module": "@jupyter-widgets/base",
      "model_module_version": "1.2.0",
      "model_name": "LayoutModel",
      "state": {}
     },
     "49c1425db8774165a713ca403ebfdecd": {
      "model_module": "@jupyter-widgets/controls",
      "model_module_version": "1.5.0",
      "model_name": "HTMLModel",
      "state": {
       "layout": "IPY_MODEL_20a4039a64a3473fba4ca5c1dec394cd",
       "style": "IPY_MODEL_1d61dc9d9b814164a60ec833e14e6ac4",
       "value": "100%"
      }
     },
     "49ff027908064e11864b876ffc720f90": {
      "model_module": "@jupyter-widgets/controls",
      "model_module_version": "1.5.0",
      "model_name": "ProgressStyleModel",
      "state": {
       "description_width": ""
      }
     },
     "4a58baa7f9d247a9a699b0924d0ef287": {
      "model_module": "@jupyter-widgets/controls",
      "model_module_version": "1.5.0",
      "model_name": "FloatProgressModel",
      "state": {
       "layout": "IPY_MODEL_fd820c1ef9944c59af7655cbe9aeeaf0",
       "max": 2345,
       "style": "IPY_MODEL_8eaa0ee0d5664dcfabca5c01ffd2f4f3",
       "value": 2345
      }
     },
     "4a83b7d2b6ae48389d74d00b0cb33da4": {
      "model_module": "@jupyter-widgets/controls",
      "model_module_version": "1.5.0",
      "model_name": "FloatProgressModel",
      "state": {
       "layout": "IPY_MODEL_8641daed23b64d5b9ba16d9a3e158b27",
       "max": 1266,
       "style": "IPY_MODEL_ba1d708710944f97a8470472a21195bc",
       "value": 1266
      }
     },
     "4a9730d2d0e548d38a5a6734ded27c6d": {
      "model_module": "@jupyter-widgets/base",
      "model_module_version": "1.2.0",
      "model_name": "LayoutModel",
      "state": {}
     },
     "4b1f85232fd94caf9281176987c45292": {
      "model_module": "@jupyter-widgets/controls",
      "model_module_version": "1.5.0",
      "model_name": "HTMLModel",
      "state": {
       "layout": "IPY_MODEL_e4781ad26f5245dbb62066dce2620805",
       "style": "IPY_MODEL_2ccf163b68c246b598090e30d4384538",
       "value": "100%"
      }
     },
     "4b26d0520a4a46e9a7dbcb645cbaf34a": {
      "model_module": "@jupyter-widgets/controls",
      "model_module_version": "1.5.0",
      "model_name": "HTMLModel",
      "state": {
       "layout": "IPY_MODEL_97d9f9a5a6614605b690ce3e9b9c3233",
       "style": "IPY_MODEL_99fa6e608ca24f4bbb9ea30d4a4722a5",
       "value": "100%"
      }
     },
     "4b5d83881e834bd7a9bffe943980fe72": {
      "model_module": "@jupyter-widgets/controls",
      "model_module_version": "1.5.0",
      "model_name": "HBoxModel",
      "state": {
       "children": [
        "IPY_MODEL_d02dfddccf2443c0bfd5f9383af86ec4",
        "IPY_MODEL_02f7487467684851808dd092e355ba21",
        "IPY_MODEL_e5dfd02e1f8c40a1b94d8e0d8a5d7fb3"
       ],
       "layout": "IPY_MODEL_7b4880256d1946809ca760366a74d58a"
      }
     },
     "4b7fea042c8d4083ab7e0f3c99d17fba": {
      "model_module": "@jupyter-widgets/controls",
      "model_module_version": "1.5.0",
      "model_name": "HBoxModel",
      "state": {
       "children": [
        "IPY_MODEL_44d78e40dfc645b5a5e4c787cd93e62c",
        "IPY_MODEL_d22275626fcc404d9e806785b1f09d46",
        "IPY_MODEL_949b9d8cd09c4174aefdeaa92fa671ef"
       ],
       "layout": "IPY_MODEL_43e7cfb910754f22b8efd26a24faf00c"
      }
     },
     "4bc932416fd1450e9001e276ddedcc09": {
      "model_module": "@jupyter-widgets/controls",
      "model_module_version": "1.5.0",
      "model_name": "HBoxModel",
      "state": {
       "children": [
        "IPY_MODEL_b5ceb5a9a70a41a78f5ecc2f7cd1435f",
        "IPY_MODEL_e3679b758abf417f9a7dc2196a9e66ab",
        "IPY_MODEL_309dc8bf4ed1490f85b9fa64213c7440"
       ],
       "layout": "IPY_MODEL_7947703f5ce64a3ea304e35abf030576"
      }
     },
     "4bd17a4d6a8e4f36818b85fc463d16cb": {
      "model_module": "@jupyter-widgets/base",
      "model_module_version": "1.2.0",
      "model_name": "LayoutModel",
      "state": {}
     },
     "4bd2156f48864147b2cdd142469564e4": {
      "model_module": "@jupyter-widgets/base",
      "model_module_version": "1.2.0",
      "model_name": "LayoutModel",
      "state": {}
     },
     "4bfa0203beed45ffb26e4720610c6837": {
      "model_module": "@jupyter-widgets/controls",
      "model_module_version": "1.5.0",
      "model_name": "ProgressStyleModel",
      "state": {
       "description_width": ""
      }
     },
     "4c2ba233132c4917a5f6dd7f40b2b90f": {
      "model_module": "@jupyter-widgets/controls",
      "model_module_version": "1.5.0",
      "model_name": "DescriptionStyleModel",
      "state": {
       "description_width": ""
      }
     },
     "4c5cad24879c428897c322ef520fe797": {
      "model_module": "@jupyter-widgets/base",
      "model_module_version": "1.2.0",
      "model_name": "LayoutModel",
      "state": {}
     },
     "4c7f8d649aa04fd09b7ab051c63431d3": {
      "model_module": "@jupyter-widgets/controls",
      "model_module_version": "1.5.0",
      "model_name": "HTMLModel",
      "state": {
       "layout": "IPY_MODEL_0ce7c0749ca34500b124da9e6de05c96",
       "style": "IPY_MODEL_9bda0dd03cf1441eb75388c53979e2dc",
       "value": "100%"
      }
     },
     "4ca9a9b6121a49e6b8cd938c3b45e4bb": {
      "model_module": "@jupyter-widgets/controls",
      "model_module_version": "1.5.0",
      "model_name": "DescriptionStyleModel",
      "state": {
       "description_width": ""
      }
     },
     "4caeb0a523ed439da0494440758762b6": {
      "model_module": "@jupyter-widgets/base",
      "model_module_version": "1.2.0",
      "model_name": "LayoutModel",
      "state": {}
     },
     "4d73458e02634a318d3598890c49e364": {
      "model_module": "@jupyter-widgets/controls",
      "model_module_version": "1.5.0",
      "model_name": "DescriptionStyleModel",
      "state": {
       "description_width": ""
      }
     },
     "4d837ec69857467b9ae482f59a0955d4": {
      "model_module": "@jupyter-widgets/base",
      "model_module_version": "1.2.0",
      "model_name": "LayoutModel",
      "state": {}
     },
     "4d92f13009e04551b59bef32a7203a1c": {
      "model_module": "@jupyter-widgets/controls",
      "model_module_version": "1.5.0",
      "model_name": "FloatProgressModel",
      "state": {
       "layout": "IPY_MODEL_a3d6f12089d04a429de5a59bb8dbcde0",
       "max": 1266,
       "style": "IPY_MODEL_7519c2b119024ce8a0c8d7d0a058fd3a",
       "value": 1266
      }
     },
     "4db56d45628542c391108b5c5f4cfdd0": {
      "model_module": "@jupyter-widgets/controls",
      "model_module_version": "1.5.0",
      "model_name": "DescriptionStyleModel",
      "state": {
       "description_width": ""
      }
     },
     "4ddbd2f9444246718259945cc34a6af7": {
      "model_module": "@jupyter-widgets/controls",
      "model_module_version": "1.5.0",
      "model_name": "HTMLModel",
      "state": {
       "layout": "IPY_MODEL_3952ef136b4d4d6e9244ed8cf24cf866",
       "style": "IPY_MODEL_bdd02f1ecc2446749cf8537bee4902fb",
       "value": "100%"
      }
     },
     "4de2410a00c3439a9f9cb7a5d4189de3": {
      "model_module": "@jupyter-widgets/base",
      "model_module_version": "1.2.0",
      "model_name": "LayoutModel",
      "state": {}
     },
     "4deae5c4491443c0a7f9786681475392": {
      "model_module": "@jupyter-widgets/base",
      "model_module_version": "1.2.0",
      "model_name": "LayoutModel",
      "state": {}
     },
     "4e826bdce56a47418d8d436c614aa0b9": {
      "model_module": "@jupyter-widgets/controls",
      "model_module_version": "1.5.0",
      "model_name": "DescriptionStyleModel",
      "state": {
       "description_width": ""
      }
     },
     "4e89c942b1fe4a33880d7df9523b2ebb": {
      "model_module": "@jupyter-widgets/controls",
      "model_module_version": "1.5.0",
      "model_name": "ProgressStyleModel",
      "state": {
       "description_width": ""
      }
     },
     "4e8a91228f434c0eaad46dd2a1b730ac": {
      "model_module": "@jupyter-widgets/controls",
      "model_module_version": "1.5.0",
      "model_name": "DescriptionStyleModel",
      "state": {
       "description_width": ""
      }
     },
     "4eb1879747734f5191733f1ecaf2b262": {
      "model_module": "@jupyter-widgets/controls",
      "model_module_version": "1.5.0",
      "model_name": "DescriptionStyleModel",
      "state": {
       "description_width": ""
      }
     },
     "4eccc8e670784eb3aaa47c077e81b995": {
      "model_module": "@jupyter-widgets/base",
      "model_module_version": "1.2.0",
      "model_name": "LayoutModel",
      "state": {}
     },
     "4eee02049f53465eb5b4d702b4428477": {
      "model_module": "@jupyter-widgets/controls",
      "model_module_version": "1.5.0",
      "model_name": "HTMLModel",
      "state": {
       "layout": "IPY_MODEL_40227a29abc64305ba901ff0f6f7a0f7",
       "style": "IPY_MODEL_0a92989f9a3441a8be59211a5a0db441",
       "value": " 2345/2345 [00:12&lt;00:00, 7545.70it/s]"
      }
     },
     "4ef1d898365b43d7987a6b70b2641959": {
      "model_module": "@jupyter-widgets/controls",
      "model_module_version": "1.5.0",
      "model_name": "FloatProgressModel",
      "state": {
       "layout": "IPY_MODEL_016f915d2afa42888b10918bfa758d3f",
       "max": 2345,
       "style": "IPY_MODEL_de97656ede3b4c76a6a39ede6b6a7917",
       "value": 2345
      }
     },
     "4f09d42284f44f6b8ce8e091fd236da2": {
      "model_module": "@jupyter-widgets/base",
      "model_module_version": "1.2.0",
      "model_name": "LayoutModel",
      "state": {}
     },
     "4f0ae048191e476a97422d06d1ac33c9": {
      "model_module": "@jupyter-widgets/base",
      "model_module_version": "1.2.0",
      "model_name": "LayoutModel",
      "state": {}
     },
     "4f1fc15ebb324a42abfcfddbd56d19d4": {
      "model_module": "@jupyter-widgets/controls",
      "model_module_version": "1.5.0",
      "model_name": "ProgressStyleModel",
      "state": {
       "description_width": ""
      }
     },
     "4f41096d166f4350b443d1371ebd8c86": {
      "model_module": "@jupyter-widgets/controls",
      "model_module_version": "1.5.0",
      "model_name": "HTMLModel",
      "state": {
       "layout": "IPY_MODEL_beb6d5c65f6347108cc8d63ddfca0192",
       "style": "IPY_MODEL_41d79d63ca11434eadbebde3367cb434",
       "value": "100%"
      }
     },
     "4f898e44746549df9af78dabd1cfac3b": {
      "model_module": "@jupyter-widgets/controls",
      "model_module_version": "1.5.0",
      "model_name": "DescriptionStyleModel",
      "state": {
       "description_width": ""
      }
     },
     "4fe0065298cb42f7a9d6968f04a37955": {
      "model_module": "@jupyter-widgets/base",
      "model_module_version": "1.2.0",
      "model_name": "LayoutModel",
      "state": {}
     },
     "4fe4e4db3b2f415ea86f1ed6d00ba5d1": {
      "model_module": "@jupyter-widgets/base",
      "model_module_version": "1.2.0",
      "model_name": "LayoutModel",
      "state": {}
     },
     "4ff4d73441344886a49a6557ab8cbe7e": {
      "model_module": "@jupyter-widgets/controls",
      "model_module_version": "1.5.0",
      "model_name": "HTMLModel",
      "state": {
       "layout": "IPY_MODEL_d34f012cedb44556804c3135ad35b3ee",
       "style": "IPY_MODEL_2722fddd03cf422dbae1e2c287fd23e1",
       "value": "100%"
      }
     },
     "5034b343eeef4980821ecc00dd7b8212": {
      "model_module": "@jupyter-widgets/controls",
      "model_module_version": "1.5.0",
      "model_name": "HTMLModel",
      "state": {
       "layout": "IPY_MODEL_adef4b2fcb5b4e049d607534975d0d07",
       "style": "IPY_MODEL_48c779be282043759c093a94f5eb84b6",
       "value": "100%"
      }
     },
     "5057acf4899d43b0a0939f044ff5688c": {
      "model_module": "@jupyter-widgets/controls",
      "model_module_version": "1.5.0",
      "model_name": "DescriptionStyleModel",
      "state": {
       "description_width": ""
      }
     },
     "506aa1434e0b43ca9b08c2760b844c64": {
      "model_module": "@jupyter-widgets/controls",
      "model_module_version": "1.5.0",
      "model_name": "FloatProgressModel",
      "state": {
       "layout": "IPY_MODEL_d3599d6822fe4318a572f62ef192b558",
       "max": 1266,
       "style": "IPY_MODEL_dd5fbd7257a14260807d4d16b507c84c",
       "value": 1266
      }
     },
     "50716722f5994236803c02a21c305e49": {
      "model_module": "@jupyter-widgets/controls",
      "model_module_version": "1.5.0",
      "model_name": "HBoxModel",
      "state": {
       "children": [
        "IPY_MODEL_00f8d3509697404ab9330ef46e61b3d7",
        "IPY_MODEL_0058758939874ba68411cca54ebee93e",
        "IPY_MODEL_d0b11bbd072c4a70bc24c8f91fba1fda"
       ],
       "layout": "IPY_MODEL_63e0eae1fb264e38a1da2a59fa7ca18a"
      }
     },
     "509d60ffe5d542b7afab1900be300b85": {
      "model_module": "@jupyter-widgets/base",
      "model_module_version": "1.2.0",
      "model_name": "LayoutModel",
      "state": {}
     },
     "50a14a37db6c41d3a01d6c9482a18e4a": {
      "model_module": "@jupyter-widgets/base",
      "model_module_version": "1.2.0",
      "model_name": "LayoutModel",
      "state": {}
     },
     "50eb10a2cbfd44e2a1c21e2fcc838145": {
      "model_module": "@jupyter-widgets/base",
      "model_module_version": "1.2.0",
      "model_name": "LayoutModel",
      "state": {}
     },
     "51fa6f229dd041fd86b3e3a999b5efc6": {
      "model_module": "@jupyter-widgets/base",
      "model_module_version": "1.2.0",
      "model_name": "LayoutModel",
      "state": {}
     },
     "51fc471433ca48a68038009122053fec": {
      "model_module": "@jupyter-widgets/controls",
      "model_module_version": "1.5.0",
      "model_name": "ProgressStyleModel",
      "state": {
       "description_width": ""
      }
     },
     "530880c576cb4b0780177d8e8f38bb3e": {
      "model_module": "@jupyter-widgets/base",
      "model_module_version": "1.2.0",
      "model_name": "LayoutModel",
      "state": {}
     },
     "5329494901974e9fb6a154ea1225750d": {
      "model_module": "@jupyter-widgets/base",
      "model_module_version": "1.2.0",
      "model_name": "LayoutModel",
      "state": {}
     },
     "5377e3db3c474b3fa24f1d3d1f2282fe": {
      "model_module": "@jupyter-widgets/controls",
      "model_module_version": "1.5.0",
      "model_name": "HTMLModel",
      "state": {
       "layout": "IPY_MODEL_c4c76c033e2f48939777138c4b0754c0",
       "style": "IPY_MODEL_82639f65e63f4ec3b5902d94edd141a8",
       "value": "100%"
      }
     },
     "53a132c49c9a41f78256cb9ae03ea58f": {
      "model_module": "@jupyter-widgets/controls",
      "model_module_version": "1.5.0",
      "model_name": "HTMLModel",
      "state": {
       "layout": "IPY_MODEL_d95f4311f1ab4fe081202068a868cbe7",
       "style": "IPY_MODEL_35dcb786cfa14b83b9ab393888fc7b64",
       "value": "100%"
      }
     },
     "53df80b843cf44d59ad1980cf2af2a44": {
      "model_module": "@jupyter-widgets/controls",
      "model_module_version": "1.5.0",
      "model_name": "ProgressStyleModel",
      "state": {
       "description_width": ""
      }
     },
     "54087385f132479d8615b85cbaf2a4b6": {
      "model_module": "@jupyter-widgets/base",
      "model_module_version": "1.2.0",
      "model_name": "LayoutModel",
      "state": {}
     },
     "5445c12cf5ae45a190b8e77c85ce3531": {
      "model_module": "@jupyter-widgets/base",
      "model_module_version": "1.2.0",
      "model_name": "LayoutModel",
      "state": {}
     },
     "54720db128bd434f8c45836330a7b707": {
      "model_module": "@jupyter-widgets/controls",
      "model_module_version": "1.5.0",
      "model_name": "ProgressStyleModel",
      "state": {
       "description_width": ""
      }
     },
     "54bd2eb80277405bba9c204ba2a89d7c": {
      "model_module": "@jupyter-widgets/controls",
      "model_module_version": "1.5.0",
      "model_name": "FloatProgressModel",
      "state": {
       "layout": "IPY_MODEL_1ce404cf2ada48b59df3c005ced88c17",
       "max": 2345,
       "style": "IPY_MODEL_5b956ff58aa143d99c85883147cc4796",
       "value": 2345
      }
     },
     "54c5f9e2738a4cba80550c2653344ac4": {
      "model_module": "@jupyter-widgets/controls",
      "model_module_version": "1.5.0",
      "model_name": "DescriptionStyleModel",
      "state": {
       "description_width": ""
      }
     },
     "54fe6f8319a5466bbc22acb219d5eda3": {
      "model_module": "@jupyter-widgets/base",
      "model_module_version": "1.2.0",
      "model_name": "LayoutModel",
      "state": {}
     },
     "5582f7ce9dde474abfd127ce1a7bdcf8": {
      "model_module": "@jupyter-widgets/base",
      "model_module_version": "1.2.0",
      "model_name": "LayoutModel",
      "state": {}
     },
     "558fa33fae704499b9910863dae0ba30": {
      "model_module": "@jupyter-widgets/controls",
      "model_module_version": "1.5.0",
      "model_name": "HBoxModel",
      "state": {
       "children": [
        "IPY_MODEL_a19895d567df436ca898deba0290b1df",
        "IPY_MODEL_be77f82f17054ce1af041848a7726417",
        "IPY_MODEL_f2fccbe826244558add2d69f8ee1114f"
       ],
       "layout": "IPY_MODEL_baf0dc35b3a64ab4bbb053b5098cbfeb"
      }
     },
     "55c84fa40cfe43879927194fd3655e66": {
      "model_module": "@jupyter-widgets/base",
      "model_module_version": "1.2.0",
      "model_name": "LayoutModel",
      "state": {}
     },
     "55e3389b59984764bb7e769414495ffc": {
      "model_module": "@jupyter-widgets/base",
      "model_module_version": "1.2.0",
      "model_name": "LayoutModel",
      "state": {}
     },
     "55e708f940e44f36b9af3ecf6363f5eb": {
      "model_module": "@jupyter-widgets/base",
      "model_module_version": "1.2.0",
      "model_name": "LayoutModel",
      "state": {}
     },
     "56125587c0f7415b899413494d3ab5cb": {
      "model_module": "@jupyter-widgets/base",
      "model_module_version": "1.2.0",
      "model_name": "LayoutModel",
      "state": {}
     },
     "56198474ff6d4d9a80cd8e3bc8fcb497": {
      "model_module": "@jupyter-widgets/base",
      "model_module_version": "1.2.0",
      "model_name": "LayoutModel",
      "state": {}
     },
     "5667582bee0f4bc5af0e4b330e6202e2": {
      "model_module": "@jupyter-widgets/base",
      "model_module_version": "1.2.0",
      "model_name": "LayoutModel",
      "state": {}
     },
     "56782a1dbbf845bba1ce17cdd43a73c8": {
      "model_module": "@jupyter-widgets/controls",
      "model_module_version": "1.5.0",
      "model_name": "FloatProgressModel",
      "state": {
       "layout": "IPY_MODEL_fbb45eeef0514770b3e819627560cf15",
       "max": 2345,
       "style": "IPY_MODEL_9556e9f06efb4e3292163edb842a32fa",
       "value": 2345
      }
     },
     "568169e7d7a14960851653781eb3297e": {
      "model_module": "@jupyter-widgets/base",
      "model_module_version": "1.2.0",
      "model_name": "LayoutModel",
      "state": {}
     },
     "569d85a9af3948d4851f4f5db4965892": {
      "model_module": "@jupyter-widgets/controls",
      "model_module_version": "1.5.0",
      "model_name": "DescriptionStyleModel",
      "state": {
       "description_width": ""
      }
     },
     "56fe4b8940ff4d36a51762961fdc62a3": {
      "model_module": "@jupyter-widgets/controls",
      "model_module_version": "1.5.0",
      "model_name": "HTMLModel",
      "state": {
       "layout": "IPY_MODEL_ddb4ebc3b43c43f0bd985fb79d262253",
       "style": "IPY_MODEL_17429a6606304a39868a100012550ef5",
       "value": "100%"
      }
     },
     "57006b06751249e5b8c969afd03d0ae0": {
      "model_module": "@jupyter-widgets/base",
      "model_module_version": "1.2.0",
      "model_name": "LayoutModel",
      "state": {}
     },
     "57173cd4e56f46949f037ed09f9bc158": {
      "model_module": "@jupyter-widgets/controls",
      "model_module_version": "1.5.0",
      "model_name": "HTMLModel",
      "state": {
       "layout": "IPY_MODEL_7966ce2f9bb841ea8ccda75267c9fd30",
       "style": "IPY_MODEL_59c4eedd5b4a46f197bb434d444ac37a",
       "value": "100%"
      }
     },
     "574af38d042143af969de1b2b0fb66a2": {
      "model_module": "@jupyter-widgets/controls",
      "model_module_version": "1.5.0",
      "model_name": "HTMLModel",
      "state": {
       "layout": "IPY_MODEL_15b0643e027d403389e9da799af15338",
       "style": "IPY_MODEL_71e162c428434cccba4ac016db37a055",
       "value": "100%"
      }
     },
     "575cecbbc9cb4be9bd996f7be19c62a4": {
      "model_module": "@jupyter-widgets/base",
      "model_module_version": "1.2.0",
      "model_name": "LayoutModel",
      "state": {}
     },
     "57739236c2114fa2b950afa8f8a7925d": {
      "model_module": "@jupyter-widgets/controls",
      "model_module_version": "1.5.0",
      "model_name": "DescriptionStyleModel",
      "state": {
       "description_width": ""
      }
     },
     "5782a5d81ca04dcbba0d046153381be0": {
      "model_module": "@jupyter-widgets/controls",
      "model_module_version": "1.5.0",
      "model_name": "HBoxModel",
      "state": {
       "children": [
        "IPY_MODEL_d0fb84bff4cc4be684e2bc8949333523",
        "IPY_MODEL_2e49d4aee64b4a9f8e007807a680e674",
        "IPY_MODEL_69f3b383adb8432ba9686a1e6f13e0ab"
       ],
       "layout": "IPY_MODEL_c1cdac0bbb8144498ccbff676d79716b"
      }
     },
     "579c5ca2f18c417a87de86cde95e8f28": {
      "model_module": "@jupyter-widgets/base",
      "model_module_version": "1.2.0",
      "model_name": "LayoutModel",
      "state": {}
     },
     "57a2b9ee3a0f4b21a5d97d37c0453f26": {
      "model_module": "@jupyter-widgets/controls",
      "model_module_version": "1.5.0",
      "model_name": "HBoxModel",
      "state": {
       "children": [
        "IPY_MODEL_0de582089e284877847d422a8fdac30d",
        "IPY_MODEL_063d96e9d1cb4d81b924fd210577e202",
        "IPY_MODEL_2e5ec78a5d9c4b02b2cb1668504698d2"
       ],
       "layout": "IPY_MODEL_244d8fefd1ee435ea2068b3f0898ca2a"
      }
     },
     "57b35689a1c04d33ac1cdea9fffd519f": {
      "model_module": "@jupyter-widgets/controls",
      "model_module_version": "1.5.0",
      "model_name": "HTMLModel",
      "state": {
       "layout": "IPY_MODEL_f8b2d0865b5340488fd59ebf14227452",
       "style": "IPY_MODEL_57739236c2114fa2b950afa8f8a7925d",
       "value": " 2345/2345 [00:15&lt;00:00, 7637.20it/s]"
      }
     },
     "57b866580c0d4c4b97b06b6c4f38a75a": {
      "model_module": "@jupyter-widgets/controls",
      "model_module_version": "1.5.0",
      "model_name": "HTMLModel",
      "state": {
       "layout": "IPY_MODEL_490663272af94a938b8dc531d6067916",
       "style": "IPY_MODEL_2fd15ea0ba70413987ea3b698a16030b",
       "value": "100%"
      }
     },
     "57c8ad9af68948c4b6e22f090dac2a16": {
      "model_module": "@jupyter-widgets/base",
      "model_module_version": "1.2.0",
      "model_name": "LayoutModel",
      "state": {}
     },
     "57d5a732ed29426ca3f2e71c18cebad0": {
      "model_module": "@jupyter-widgets/controls",
      "model_module_version": "1.5.0",
      "model_name": "FloatProgressModel",
      "state": {
       "layout": "IPY_MODEL_5d964d08f2384b2f935668eae07cff3f",
       "max": 1266,
       "style": "IPY_MODEL_d348e839bcee436f86c421a4df3ab711",
       "value": 1266
      }
     },
     "58169fe944bc4579a60073430163f8df": {
      "model_module": "@jupyter-widgets/controls",
      "model_module_version": "1.5.0",
      "model_name": "HBoxModel",
      "state": {
       "children": [
        "IPY_MODEL_732270d61cdc4c18958601b02c973040",
        "IPY_MODEL_9ea4c1c0ddba4338b79139cb0fcdbcd9",
        "IPY_MODEL_facc661daf77414fa2903e952129b067"
       ],
       "layout": "IPY_MODEL_9402cc4447b24b42bbdc33e316edb169"
      }
     },
     "583ad2f5bef84ac69af9f0dd6a0e70d9": {
      "model_module": "@jupyter-widgets/base",
      "model_module_version": "1.2.0",
      "model_name": "LayoutModel",
      "state": {}
     },
     "58aad7cdbdd34437bfe91dc682e9aac9": {
      "model_module": "@jupyter-widgets/base",
      "model_module_version": "1.2.0",
      "model_name": "LayoutModel",
      "state": {}
     },
     "5906480f927a4c5dafed9e05ce9b3fd2": {
      "model_module": "@jupyter-widgets/base",
      "model_module_version": "1.2.0",
      "model_name": "LayoutModel",
      "state": {}
     },
     "5912bf861f8245878a625be17719821d": {
      "model_module": "@jupyter-widgets/controls",
      "model_module_version": "1.5.0",
      "model_name": "ProgressStyleModel",
      "state": {
       "description_width": ""
      }
     },
     "591351e11b5c4afbbb18501265561614": {
      "model_module": "@jupyter-widgets/base",
      "model_module_version": "1.2.0",
      "model_name": "LayoutModel",
      "state": {}
     },
     "593b14ed8fcc4511bf2d802df4374928": {
      "model_module": "@jupyter-widgets/controls",
      "model_module_version": "1.5.0",
      "model_name": "DescriptionStyleModel",
      "state": {
       "description_width": ""
      }
     },
     "5948b80c932d401088aaa02f441c5890": {
      "model_module": "@jupyter-widgets/controls",
      "model_module_version": "1.5.0",
      "model_name": "HBoxModel",
      "state": {
       "children": [
        "IPY_MODEL_9a763959a3e149cda4aff337d86a4615",
        "IPY_MODEL_94944c2472e942c38526a643754d12e6",
        "IPY_MODEL_1d76de2debfa4198a7ce2658e4bf9301"
       ],
       "layout": "IPY_MODEL_4de2410a00c3439a9f9cb7a5d4189de3"
      }
     },
     "5969738e84a44ef1854ff2e5635057cc": {
      "model_module": "@jupyter-widgets/controls",
      "model_module_version": "1.5.0",
      "model_name": "HTMLModel",
      "state": {
       "layout": "IPY_MODEL_136651de33644a3e96f54ba36fe061ac",
       "style": "IPY_MODEL_3997045aaa3146b48ea15984d6281b82",
       "value": "  0%"
      }
     },
     "59c4eedd5b4a46f197bb434d444ac37a": {
      "model_module": "@jupyter-widgets/controls",
      "model_module_version": "1.5.0",
      "model_name": "DescriptionStyleModel",
      "state": {
       "description_width": ""
      }
     },
     "59da243b98d74bb08d4157f1e7bbc605": {
      "model_module": "@jupyter-widgets/controls",
      "model_module_version": "1.5.0",
      "model_name": "HTMLModel",
      "state": {
       "layout": "IPY_MODEL_37b227750b7e499685f61acadda9b741",
       "style": "IPY_MODEL_ae061e61d6244b528bf477e7a9739e3b",
       "value": " 0/2345 [00:00&lt;?, ?it/s]"
      }
     },
     "59dad1c895b24cf690e568d91c143c2e": {
      "model_module": "@jupyter-widgets/controls",
      "model_module_version": "1.5.0",
      "model_name": "HBoxModel",
      "state": {
       "children": [
        "IPY_MODEL_1b91d010d73b45f788a52672bc411445",
        "IPY_MODEL_506aa1434e0b43ca9b08c2760b844c64",
        "IPY_MODEL_a92133bb0da6476294e8dffbe319205e"
       ],
       "layout": "IPY_MODEL_b727a68d014443b7930233b9aeeaa7bf"
      }
     },
     "59f1d4c541a644f797207d373a64b6cb": {
      "model_module": "@jupyter-widgets/base",
      "model_module_version": "1.2.0",
      "model_name": "LayoutModel",
      "state": {}
     },
     "5a2dd5ccfd744192b9f06d2d118a5468": {
      "model_module": "@jupyter-widgets/base",
      "model_module_version": "1.2.0",
      "model_name": "LayoutModel",
      "state": {}
     },
     "5a5068b7250548af8e288832989f84d8": {
      "model_module": "@jupyter-widgets/base",
      "model_module_version": "1.2.0",
      "model_name": "LayoutModel",
      "state": {}
     },
     "5a787f6a95504ea58ed75df0672351d6": {
      "model_module": "@jupyter-widgets/controls",
      "model_module_version": "1.5.0",
      "model_name": "HTMLModel",
      "state": {
       "layout": "IPY_MODEL_873299c9377c4d149ed6f48469bf269a",
       "style": "IPY_MODEL_1a52360b250b4384b567f2b55971233b",
       "value": "100%"
      }
     },
     "5a900bbea8f044b8b01197efec94676a": {
      "model_module": "@jupyter-widgets/controls",
      "model_module_version": "1.5.0",
      "model_name": "HBoxModel",
      "state": {
       "children": [
        "IPY_MODEL_5377e3db3c474b3fa24f1d3d1f2282fe",
        "IPY_MODEL_9e97620368db4328898089d0b529ff00",
        "IPY_MODEL_e73b00920db14e10a40e97022d993ef7"
       ],
       "layout": "IPY_MODEL_f8713e517e4347f180ec3d8be5d277b2"
      }
     },
     "5abdc0f38dfb41afa0805839cac40bd8": {
      "model_module": "@jupyter-widgets/controls",
      "model_module_version": "1.5.0",
      "model_name": "HBoxModel",
      "state": {
       "children": [
        "IPY_MODEL_44618d858c6548ef961202530965476e",
        "IPY_MODEL_a88d7b8ea3bf423eb85ceb1779aadc18",
        "IPY_MODEL_d40db193e15642e9acd5eef858ff25f0"
       ],
       "layout": "IPY_MODEL_6712b0871e3444bd9eedffe410abd588"
      }
     },
     "5ac0464661f84b838512cb6b46ca0229": {
      "model_module": "@jupyter-widgets/controls",
      "model_module_version": "1.5.0",
      "model_name": "DescriptionStyleModel",
      "state": {
       "description_width": ""
      }
     },
     "5b374db2feca48e28c8a10cb7f23204b": {
      "model_module": "@jupyter-widgets/controls",
      "model_module_version": "1.5.0",
      "model_name": "HTMLModel",
      "state": {
       "layout": "IPY_MODEL_f53b40af985d429b8de7a98401756ca0",
       "style": "IPY_MODEL_adaef3e294624ea2a8867ad23235d758",
       "value": "100%"
      }
     },
     "5b725dd0321947f8a904ac6828d5629c": {
      "model_module": "@jupyter-widgets/controls",
      "model_module_version": "1.5.0",
      "model_name": "HTMLModel",
      "state": {
       "layout": "IPY_MODEL_0f1fc28137a54f429e1c0625a8b7ade7",
       "style": "IPY_MODEL_1a20d5ae9d524d6589dbc5105c6d5ed1",
       "value": "100%"
      }
     },
     "5b956ff58aa143d99c85883147cc4796": {
      "model_module": "@jupyter-widgets/controls",
      "model_module_version": "1.5.0",
      "model_name": "ProgressStyleModel",
      "state": {
       "description_width": ""
      }
     },
     "5bb30e323cd94a9db05067d13ef7c7a4": {
      "model_module": "@jupyter-widgets/base",
      "model_module_version": "1.2.0",
      "model_name": "LayoutModel",
      "state": {}
     },
     "5bdd674debe14e1a963a6b5ce56e023e": {
      "model_module": "@jupyter-widgets/controls",
      "model_module_version": "1.5.0",
      "model_name": "DescriptionStyleModel",
      "state": {
       "description_width": ""
      }
     },
     "5bddaca0189c408cbdf7196df6e665b7": {
      "model_module": "@jupyter-widgets/controls",
      "model_module_version": "1.5.0",
      "model_name": "ProgressStyleModel",
      "state": {
       "description_width": ""
      }
     },
     "5bfe802b464c4f949c625365f423ef54": {
      "model_module": "@jupyter-widgets/controls",
      "model_module_version": "1.5.0",
      "model_name": "HTMLModel",
      "state": {
       "layout": "IPY_MODEL_1b1150989cd54ab8b130efbec3ee5342",
       "style": "IPY_MODEL_cd2e26e5b13140369b858a8eb1f06570",
       "value": " 2345/2345 [00:17&lt;00:00, 7455.70it/s]"
      }
     },
     "5c0c8cc7c5384df9af64e18f7f81f06e": {
      "model_module": "@jupyter-widgets/controls",
      "model_module_version": "1.5.0",
      "model_name": "HBoxModel",
      "state": {
       "children": [
        "IPY_MODEL_5fb7df9e03fa4a8e9c6a5fe89a37ff39",
        "IPY_MODEL_4a83b7d2b6ae48389d74d00b0cb33da4",
        "IPY_MODEL_8c8fabf1391248439f121971fc3011c7"
       ],
       "layout": "IPY_MODEL_8349ea6aca3c41768efee8ab96368cf1"
      }
     },
     "5c2ba5ca2d3449cd8088ec7affa24375": {
      "model_module": "@jupyter-widgets/controls",
      "model_module_version": "1.5.0",
      "model_name": "HBoxModel",
      "state": {
       "children": [
        "IPY_MODEL_710d5334d7a74eb18ced71cc9982cd57",
        "IPY_MODEL_6ef74bb8ed2a43e78f298a63f18b271e",
        "IPY_MODEL_9390a1dc61d04f6482efd2149cba7413"
       ],
       "layout": "IPY_MODEL_cbe61d8793cc43558f5985d54b9db1ba"
      }
     },
     "5c2df15d95e94724be85ca1101d1873f": {
      "model_module": "@jupyter-widgets/controls",
      "model_module_version": "1.5.0",
      "model_name": "FloatProgressModel",
      "state": {
       "layout": "IPY_MODEL_daefeb37c3f34ed885c14fe8f9827015",
       "max": 2345,
       "style": "IPY_MODEL_f32a591fe88f4137ba1584108d0b1d06",
       "value": 2345
      }
     },
     "5c4341fba49a4b4ba2502e77cbd94c5e": {
      "model_module": "@jupyter-widgets/base",
      "model_module_version": "1.2.0",
      "model_name": "LayoutModel",
      "state": {}
     },
     "5cc711ede2494c33bbc62e4ae966e192": {
      "model_module": "@jupyter-widgets/controls",
      "model_module_version": "1.5.0",
      "model_name": "HTMLModel",
      "state": {
       "layout": "IPY_MODEL_8f82b58acc8946b6be5026a51b4050cc",
       "style": "IPY_MODEL_ec2ee4cf114643018a6d7b844d49d407",
       "value": " 2345/2345 [00:16&lt;00:00, 7628.99it/s]"
      }
     },
     "5cdc331106b144cda32bd7c2569bffca": {
      "model_module": "@jupyter-widgets/controls",
      "model_module_version": "1.5.0",
      "model_name": "HBoxModel",
      "state": {
       "children": [
        "IPY_MODEL_f32676ccc23b4cf0a38b41f6ea451268",
        "IPY_MODEL_b3d391702ded49fbab307f162c675101",
        "IPY_MODEL_77bbcb4559054201872f00f230a39317"
       ],
       "layout": "IPY_MODEL_a7acf101ac1f425e8906b8b6d62b8758"
      }
     },
     "5d4471d8fa3e47339e07f6b807d608f0": {
      "model_module": "@jupyter-widgets/controls",
      "model_module_version": "1.5.0",
      "model_name": "DescriptionStyleModel",
      "state": {
       "description_width": ""
      }
     },
     "5d964d08f2384b2f935668eae07cff3f": {
      "model_module": "@jupyter-widgets/base",
      "model_module_version": "1.2.0",
      "model_name": "LayoutModel",
      "state": {}
     },
     "5db3b47cb79c4aabb6a3ebbd1c3ae000": {
      "model_module": "@jupyter-widgets/base",
      "model_module_version": "1.2.0",
      "model_name": "LayoutModel",
      "state": {}
     },
     "5dd49af752c44f27a886b26c5d16bf71": {
      "model_module": "@jupyter-widgets/controls",
      "model_module_version": "1.5.0",
      "model_name": "HTMLModel",
      "state": {
       "layout": "IPY_MODEL_1fd12912b9f54e6a94e8628eb7ccc408",
       "style": "IPY_MODEL_44bfd6461cfc4078a9b9ac3715bf6e35",
       "value": " 2345/2345 [00:17&lt;00:00, 7609.92it/s]"
      }
     },
     "5e026fa7f62045e58739b4cf43ffb790": {
      "model_module": "@jupyter-widgets/base",
      "model_module_version": "1.2.0",
      "model_name": "LayoutModel",
      "state": {}
     },
     "5e73210861004122a058d24f4c9476d3": {
      "model_module": "@jupyter-widgets/controls",
      "model_module_version": "1.5.0",
      "model_name": "HBoxModel",
      "state": {
       "children": [
        "IPY_MODEL_6188f42bae2e48b792f40d3da58b3d8e",
        "IPY_MODEL_4d92f13009e04551b59bef32a7203a1c",
        "IPY_MODEL_91b5a15fe2a84cf79251c65c1843f843"
       ],
       "layout": "IPY_MODEL_db0edac286a64526be7b62340d067aa1"
      }
     },
     "5e91d8c1d8364c8e9c591144560aa4b6": {
      "model_module": "@jupyter-widgets/controls",
      "model_module_version": "1.5.0",
      "model_name": "HTMLModel",
      "state": {
       "layout": "IPY_MODEL_20016edb68d74a048e9beeb059a69ff0",
       "style": "IPY_MODEL_133eda2f279f4e0ab1868d26ba912ef8",
       "value": "100%"
      }
     },
     "5e993db0d724447295dc5781ffccd585": {
      "model_module": "@jupyter-widgets/base",
      "model_module_version": "1.2.0",
      "model_name": "LayoutModel",
      "state": {}
     },
     "5ee654b21c194a3fa6d45419960a1191": {
      "model_module": "@jupyter-widgets/controls",
      "model_module_version": "1.5.0",
      "model_name": "ProgressStyleModel",
      "state": {
       "description_width": ""
      }
     },
     "5ef0a2c687634c0fbf94a4ab9037b2d5": {
      "model_module": "@jupyter-widgets/base",
      "model_module_version": "1.2.0",
      "model_name": "LayoutModel",
      "state": {}
     },
     "5ef48b6612224852b001360d1bed8fc5": {
      "model_module": "@jupyter-widgets/base",
      "model_module_version": "1.2.0",
      "model_name": "LayoutModel",
      "state": {}
     },
     "5f25a76b1c96412aaa8050dbf5f8f103": {
      "model_module": "@jupyter-widgets/base",
      "model_module_version": "1.2.0",
      "model_name": "LayoutModel",
      "state": {}
     },
     "5f32482e240d4ce5b5784b9c4c48e2c6": {
      "model_module": "@jupyter-widgets/base",
      "model_module_version": "1.2.0",
      "model_name": "LayoutModel",
      "state": {}
     },
     "5f4fe98addac4694b29943448d17c0e2": {
      "model_module": "@jupyter-widgets/controls",
      "model_module_version": "1.5.0",
      "model_name": "ProgressStyleModel",
      "state": {
       "description_width": ""
      }
     },
     "5f5a8ab708384a63804aff24e84a8849": {
      "model_module": "@jupyter-widgets/base",
      "model_module_version": "1.2.0",
      "model_name": "LayoutModel",
      "state": {}
     },
     "5f5a8bd7d1f244f79101458a6bc3df72": {
      "model_module": "@jupyter-widgets/controls",
      "model_module_version": "1.5.0",
      "model_name": "ProgressStyleModel",
      "state": {
       "description_width": ""
      }
     },
     "5f745de72e7d4e558a46b5cce985763a": {
      "model_module": "@jupyter-widgets/controls",
      "model_module_version": "1.5.0",
      "model_name": "FloatProgressModel",
      "state": {
       "layout": "IPY_MODEL_4bd2156f48864147b2cdd142469564e4",
       "max": 1266,
       "style": "IPY_MODEL_47fc327680e04b67828794cc7210e0b1",
       "value": 1266
      }
     },
     "5f759bbf27c04400915da664647d7f53": {
      "model_module": "@jupyter-widgets/controls",
      "model_module_version": "1.5.0",
      "model_name": "ProgressStyleModel",
      "state": {
       "description_width": ""
      }
     },
     "5fa78fafe3654181857fb3c5845877ed": {
      "model_module": "@jupyter-widgets/controls",
      "model_module_version": "1.5.0",
      "model_name": "HTMLModel",
      "state": {
       "layout": "IPY_MODEL_24a3fc438e8f427bb6b8e3b58b2203db",
       "style": "IPY_MODEL_ffbb71891ea5404ea779581e6e45abc4",
       "value": " 2345/2345 [00:16&lt;00:00, 7609.08it/s]"
      }
     },
     "5fb7df9e03fa4a8e9c6a5fe89a37ff39": {
      "model_module": "@jupyter-widgets/controls",
      "model_module_version": "1.5.0",
      "model_name": "HTMLModel",
      "state": {
       "layout": "IPY_MODEL_9f332ce6c3d0432a818ff4981e75a4a3",
       "style": "IPY_MODEL_929856348a5f41ab837035c3441e37fd",
       "value": "100%"
      }
     },
     "60b9d6ba38d34b3e9411c13f10531979": {
      "model_module": "@jupyter-widgets/controls",
      "model_module_version": "1.5.0",
      "model_name": "DescriptionStyleModel",
      "state": {
       "description_width": ""
      }
     },
     "60c38f507c6b48a9a2bd4db8ca2de0ba": {
      "model_module": "@jupyter-widgets/controls",
      "model_module_version": "1.5.0",
      "model_name": "HTMLModel",
      "state": {
       "layout": "IPY_MODEL_ded5f04a1122495a835a064efd19fa18",
       "style": "IPY_MODEL_468136fc33d74688bedcfdb20eaa29cc",
       "value": " 2345/2345 [01:47&lt;00:00, 25.61it/s]"
      }
     },
     "60dab3bd73e247b8a2b58d2e1e6cecac": {
      "model_module": "@jupyter-widgets/controls",
      "model_module_version": "1.5.0",
      "model_name": "DescriptionStyleModel",
      "state": {
       "description_width": ""
      }
     },
     "60f7ead119cc4718a01480264cf8a39f": {
      "model_module": "@jupyter-widgets/base",
      "model_module_version": "1.2.0",
      "model_name": "LayoutModel",
      "state": {}
     },
     "61138cc2eecb4e7985b3ee677c1c5f92": {
      "model_module": "@jupyter-widgets/controls",
      "model_module_version": "1.5.0",
      "model_name": "HTMLModel",
      "state": {
       "layout": "IPY_MODEL_2a77effed2444f11bd4fb90e179ff807",
       "style": "IPY_MODEL_4db56d45628542c391108b5c5f4cfdd0",
       "value": " 2345/2345 [00:15&lt;00:00, 7619.22it/s]"
      }
     },
     "6156735851114e9cbc93b4b247034064": {
      "model_module": "@jupyter-widgets/controls",
      "model_module_version": "1.5.0",
      "model_name": "HTMLModel",
      "state": {
       "layout": "IPY_MODEL_ddc75650f4494a6f8ce09b44081f8d02",
       "style": "IPY_MODEL_2439d544c8494ca9a6f0f2be2b2bc105",
       "value": " 2345/2345 [00:10&lt;00:00, 7689.22it/s]"
      }
     },
     "616c84df2db5445a86ef873d2813a457": {
      "model_module": "@jupyter-widgets/controls",
      "model_module_version": "1.5.0",
      "model_name": "HTMLModel",
      "state": {
       "layout": "IPY_MODEL_e9f0ce05d58e45608ef0dd50b523bfc2",
       "style": "IPY_MODEL_f8fd99590e484fafb202c32857bd19be",
       "value": " 2345/2345 [00:19&lt;00:00, 7449.79it/s]"
      }
     },
     "6188f42bae2e48b792f40d3da58b3d8e": {
      "model_module": "@jupyter-widgets/controls",
      "model_module_version": "1.5.0",
      "model_name": "HTMLModel",
      "state": {
       "layout": "IPY_MODEL_7e26897fbeae4d1e84edc8aa1b70d077",
       "style": "IPY_MODEL_4f898e44746549df9af78dabd1cfac3b",
       "value": "100%"
      }
     },
     "619c9d2806834b3a9ad469c6d4317d1d": {
      "model_module": "@jupyter-widgets/base",
      "model_module_version": "1.2.0",
      "model_name": "LayoutModel",
      "state": {}
     },
     "621935d02e4649e29005c01cb22744dc": {
      "model_module": "@jupyter-widgets/base",
      "model_module_version": "1.2.0",
      "model_name": "LayoutModel",
      "state": {}
     },
     "624a7c3e61b3422ba96750ae7f9da1b6": {
      "model_module": "@jupyter-widgets/base",
      "model_module_version": "1.2.0",
      "model_name": "LayoutModel",
      "state": {}
     },
     "624cbcfc6852426e9e3778bdef66aea3": {
      "model_module": "@jupyter-widgets/controls",
      "model_module_version": "1.5.0",
      "model_name": "HBoxModel",
      "state": {
       "children": [
        "IPY_MODEL_3b0c0791eb0e4770a7a9d9ea976341db",
        "IPY_MODEL_16024d689d7342f4acf2200ce8a3a2d2",
        "IPY_MODEL_39785b258edb442aaf485aedccb5eea9"
       ],
       "layout": "IPY_MODEL_1392f4fe70274ce28a22f3d0abf53406"
      }
     },
     "625ccd6e839c4aa7ab20ee6b125f9c8a": {
      "model_module": "@jupyter-widgets/base",
      "model_module_version": "1.2.0",
      "model_name": "LayoutModel",
      "state": {}
     },
     "62687ab4efcc463ca2d98b76817c7e0b": {
      "model_module": "@jupyter-widgets/controls",
      "model_module_version": "1.5.0",
      "model_name": "HTMLModel",
      "state": {
       "layout": "IPY_MODEL_583ad2f5bef84ac69af9f0dd6a0e70d9",
       "style": "IPY_MODEL_a4d55d365d1a450dba37896b3f21e084",
       "value": " 2345/2345 [01:50&lt;00:00, 25.68it/s]"
      }
     },
     "62bd69e8035040ce9ed5caa3665407d8": {
      "model_module": "@jupyter-widgets/base",
      "model_module_version": "1.2.0",
      "model_name": "LayoutModel",
      "state": {}
     },
     "62e42fb8edc449cb8b035c9edd85741c": {
      "model_module": "@jupyter-widgets/base",
      "model_module_version": "1.2.0",
      "model_name": "LayoutModel",
      "state": {}
     },
     "6305d05a8ec64226ad001a3a481cf731": {
      "model_module": "@jupyter-widgets/controls",
      "model_module_version": "1.5.0",
      "model_name": "ProgressStyleModel",
      "state": {
       "description_width": ""
      }
     },
     "630664337c4a41de826e04f4ba15209c": {
      "model_module": "@jupyter-widgets/controls",
      "model_module_version": "1.5.0",
      "model_name": "DescriptionStyleModel",
      "state": {
       "description_width": ""
      }
     },
     "631e682c9ed546b0a0c0658998d4d3da": {
      "model_module": "@jupyter-widgets/controls",
      "model_module_version": "1.5.0",
      "model_name": "FloatProgressModel",
      "state": {
       "layout": "IPY_MODEL_f5f58d41431f4231a019335aef6b408a",
       "max": 2345,
       "style": "IPY_MODEL_d8e1e87b736d4ebda3b4de6c81ad1649",
       "value": 2345
      }
     },
     "634062b210ab4e8db0ac10fe405e1ac0": {
      "model_module": "@jupyter-widgets/base",
      "model_module_version": "1.2.0",
      "model_name": "LayoutModel",
      "state": {}
     },
     "634c825c26a349eb8083304eadfc840d": {
      "model_module": "@jupyter-widgets/controls",
      "model_module_version": "1.5.0",
      "model_name": "ProgressStyleModel",
      "state": {
       "description_width": ""
      }
     },
     "636b70222ad54ba2b7706da76d7f23e6": {
      "model_module": "@jupyter-widgets/controls",
      "model_module_version": "1.5.0",
      "model_name": "ProgressStyleModel",
      "state": {
       "description_width": ""
      }
     },
     "6384392e721c4a48857eb39b9c474ea6": {
      "model_module": "@jupyter-widgets/base",
      "model_module_version": "1.2.0",
      "model_name": "LayoutModel",
      "state": {}
     },
     "63853afe476647b48eefb79a3936f91c": {
      "model_module": "@jupyter-widgets/controls",
      "model_module_version": "1.5.0",
      "model_name": "ProgressStyleModel",
      "state": {
       "description_width": ""
      }
     },
     "63bba76c5f1d4a72934683c7b4386c51": {
      "model_module": "@jupyter-widgets/controls",
      "model_module_version": "1.5.0",
      "model_name": "FloatProgressModel",
      "state": {
       "layout": "IPY_MODEL_6c39217435484aac8dc7f81c16aac187",
       "max": 1266,
       "style": "IPY_MODEL_9cff293ca7fb46ba9aacaf7903684d07",
       "value": 1266
      }
     },
     "63ca9aa0559b48808bb72d1c7c5987f6": {
      "model_module": "@jupyter-widgets/controls",
      "model_module_version": "1.5.0",
      "model_name": "DescriptionStyleModel",
      "state": {
       "description_width": ""
      }
     },
     "63e0eae1fb264e38a1da2a59fa7ca18a": {
      "model_module": "@jupyter-widgets/base",
      "model_module_version": "1.2.0",
      "model_name": "LayoutModel",
      "state": {}
     },
     "63e35adde9a34d0999d273d2b7d893ad": {
      "model_module": "@jupyter-widgets/base",
      "model_module_version": "1.2.0",
      "model_name": "LayoutModel",
      "state": {}
     },
     "64022ca839b8420aa086b0073add9840": {
      "model_module": "@jupyter-widgets/controls",
      "model_module_version": "1.5.0",
      "model_name": "HTMLModel",
      "state": {
       "layout": "IPY_MODEL_79d1a75763084a8ba5b2b0e2dc7e3fa3",
       "style": "IPY_MODEL_6bf02e6ff4754254bad0add81fd47712",
       "value": "100%"
      }
     },
     "643b380b586d44a782c9ed9c05471c86": {
      "model_module": "@jupyter-widgets/base",
      "model_module_version": "1.2.0",
      "model_name": "LayoutModel",
      "state": {}
     },
     "64743a299813437fa979a6098c8f6766": {
      "model_module": "@jupyter-widgets/controls",
      "model_module_version": "1.5.0",
      "model_name": "HTMLModel",
      "state": {
       "layout": "IPY_MODEL_206a2510a73e494aa30e9d112c714202",
       "style": "IPY_MODEL_c023c9e791b54c809d8344159e75373e",
       "value": " 2345/2345 [01:46&lt;00:00, 25.67it/s]"
      }
     },
     "648395f5bdd5415b900e5c98dc57c1cb": {
      "model_module": "@jupyter-widgets/controls",
      "model_module_version": "1.5.0",
      "model_name": "DescriptionStyleModel",
      "state": {
       "description_width": ""
      }
     },
     "649e3bf23c7b4e9da0aa58f20c35a0c3": {
      "model_module": "@jupyter-widgets/controls",
      "model_module_version": "1.5.0",
      "model_name": "HBoxModel",
      "state": {
       "children": [
        "IPY_MODEL_a2be4521e286486f83e62a344e939968",
        "IPY_MODEL_fd0235b31eab4fff870b336b74ac8dfa",
        "IPY_MODEL_c1e9eb7e126b41cab081b0f12c8396c8"
       ],
       "layout": "IPY_MODEL_24437e4254b54c82b0bd66ad931f7515"
      }
     },
     "65515c0ecc0e44a7b3812aa51b0c7493": {
      "model_module": "@jupyter-widgets/controls",
      "model_module_version": "1.5.0",
      "model_name": "ProgressStyleModel",
      "state": {
       "description_width": ""
      }
     },
     "6562afee72ad40bcbfb833d48121bca2": {
      "model_module": "@jupyter-widgets/base",
      "model_module_version": "1.2.0",
      "model_name": "LayoutModel",
      "state": {}
     },
     "6581fbae749c449b81f30841aaa0e79b": {
      "model_module": "@jupyter-widgets/controls",
      "model_module_version": "1.5.0",
      "model_name": "FloatProgressModel",
      "state": {
       "layout": "IPY_MODEL_340aa2a07679414e833733e7bcf936f8",
       "max": 2345,
       "style": "IPY_MODEL_8ea1b6262d7342989194429b12f95747",
       "value": 2345
      }
     },
     "6587d9e78aef4daba3b4c6559b379186": {
      "model_module": "@jupyter-widgets/controls",
      "model_module_version": "1.5.0",
      "model_name": "HBoxModel",
      "state": {
       "children": [
        "IPY_MODEL_5e91d8c1d8364c8e9c591144560aa4b6",
        "IPY_MODEL_d434a5164b8f49dd81e776d3d475b495",
        "IPY_MODEL_cefbb1c30e14445c9017bb6553194738"
       ],
       "layout": "IPY_MODEL_1a24f7c1ca964795b68904bccb3a1f63"
      }
     },
     "65a0725b7d10493ca0947b7eaa9ac083": {
      "model_module": "@jupyter-widgets/controls",
      "model_module_version": "1.5.0",
      "model_name": "HTMLModel",
      "state": {
       "layout": "IPY_MODEL_4497dc33306144c09aac7c7bbf06bf43",
       "style": "IPY_MODEL_f078658aac9a45a8995437ccda356f82",
       "value": " 1266/1266 [01:02&lt;00:00, 25.72it/s]"
      }
     },
     "65ca3cd8d7fb45b0ab22fe12824440a1": {
      "model_module": "@jupyter-widgets/base",
      "model_module_version": "1.2.0",
      "model_name": "LayoutModel",
      "state": {}
     },
     "65d057e924fb45e9a3d7d9743deac665": {
      "model_module": "@jupyter-widgets/controls",
      "model_module_version": "1.5.0",
      "model_name": "ProgressStyleModel",
      "state": {
       "description_width": ""
      }
     },
     "65e629165b5043609e9238e8c0b8387f": {
      "model_module": "@jupyter-widgets/base",
      "model_module_version": "1.2.0",
      "model_name": "LayoutModel",
      "state": {}
     },
     "66048b1fcc80493698dbefa9c1663906": {
      "model_module": "@jupyter-widgets/base",
      "model_module_version": "1.2.0",
      "model_name": "LayoutModel",
      "state": {}
     },
     "661b6c51b4294e9aae74d1b5cc206cdc": {
      "model_module": "@jupyter-widgets/controls",
      "model_module_version": "1.5.0",
      "model_name": "HTMLModel",
      "state": {
       "layout": "IPY_MODEL_fa645a1f71c74bbcba91625347e8bbf2",
       "style": "IPY_MODEL_0519bc5c084e4daeb166fdbcdae4feaa",
       "value": " 2345/2345 [00:18&lt;00:00, 7564.04it/s]"
      }
     },
     "662ba46ebd5741529586c3f74f71d857": {
      "model_module": "@jupyter-widgets/base",
      "model_module_version": "1.2.0",
      "model_name": "LayoutModel",
      "state": {}
     },
     "663aecead9be48229225bfafd858ba0f": {
      "model_module": "@jupyter-widgets/base",
      "model_module_version": "1.2.0",
      "model_name": "LayoutModel",
      "state": {}
     },
     "668cbedd3e554b72abf844a9c06d77e3": {
      "model_module": "@jupyter-widgets/base",
      "model_module_version": "1.2.0",
      "model_name": "LayoutModel",
      "state": {}
     },
     "669cfcc4fba84a0598780e226c3a40de": {
      "model_module": "@jupyter-widgets/controls",
      "model_module_version": "1.5.0",
      "model_name": "HBoxModel",
      "state": {
       "children": [
        "IPY_MODEL_2d0e575692164b80a83c7810a42478d9",
        "IPY_MODEL_57d5a732ed29426ca3f2e71c18cebad0",
        "IPY_MODEL_0ad98bdcf8a84eef964980d3c2793672"
       ],
       "layout": "IPY_MODEL_74fe0d55eb484231ad8001a100343139"
      }
     },
     "66d927fe086048e096bb40d633670e75": {
      "model_module": "@jupyter-widgets/base",
      "model_module_version": "1.2.0",
      "model_name": "LayoutModel",
      "state": {}
     },
     "66db92af34524cb1ae2f07237e18bdce": {
      "model_module": "@jupyter-widgets/controls",
      "model_module_version": "1.5.0",
      "model_name": "DescriptionStyleModel",
      "state": {
       "description_width": ""
      }
     },
     "6712b0871e3444bd9eedffe410abd588": {
      "model_module": "@jupyter-widgets/base",
      "model_module_version": "1.2.0",
      "model_name": "LayoutModel",
      "state": {}
     },
     "6752666e33e243d2be801b84060c84f9": {
      "model_module": "@jupyter-widgets/controls",
      "model_module_version": "1.5.0",
      "model_name": "HBoxModel",
      "state": {
       "children": [
        "IPY_MODEL_d13c037338bc4ca8b5387add34f0e304",
        "IPY_MODEL_3bafd66044fe44379551facca8a235da",
        "IPY_MODEL_e4ea94cd19a04404aeb5e1fd86789b48"
       ],
       "layout": "IPY_MODEL_b9794661666243279c2d30ac4f9ccbd3"
      }
     },
     "678df84ff32748bca9fba1b7ae20922f": {
      "model_module": "@jupyter-widgets/base",
      "model_module_version": "1.2.0",
      "model_name": "LayoutModel",
      "state": {}
     },
     "67b80ba9d3ba452f9b5e5478e6d21888": {
      "model_module": "@jupyter-widgets/controls",
      "model_module_version": "1.5.0",
      "model_name": "HTMLModel",
      "state": {
       "layout": "IPY_MODEL_2cd2f91bcdc346af82079cdde5e26a62",
       "style": "IPY_MODEL_122c7f6bb3a240aa87559c4937275521",
       "value": " 2345/2345 [00:15&lt;00:00, 3863.61it/s]"
      }
     },
     "67ddcbc053bb486b92953589ff32f902": {
      "model_module": "@jupyter-widgets/controls",
      "model_module_version": "1.5.0",
      "model_name": "HBoxModel",
      "state": {
       "children": [
        "IPY_MODEL_39f4a63503a249329d3d3d54b91496b3",
        "IPY_MODEL_f8b09bbd813e4f6caade80e36566e3b2",
        "IPY_MODEL_15f1364b7b4045a9a2ceab8c306bd106"
       ],
       "layout": "IPY_MODEL_a1d268561de8426ab77f0f28a0993694"
      }
     },
     "67e807d5accf4d949e0cc31ee418ba6c": {
      "model_module": "@jupyter-widgets/controls",
      "model_module_version": "1.5.0",
      "model_name": "ProgressStyleModel",
      "state": {
       "description_width": ""
      }
     },
     "67ef11c5a4c54171aa9987a4f5046b28": {
      "model_module": "@jupyter-widgets/controls",
      "model_module_version": "1.5.0",
      "model_name": "DescriptionStyleModel",
      "state": {
       "description_width": ""
      }
     },
     "681875c2053f484fa286de48337a256a": {
      "model_module": "@jupyter-widgets/base",
      "model_module_version": "1.2.0",
      "model_name": "LayoutModel",
      "state": {}
     },
     "68380d174ae4448e889459cd1f2cbef6": {
      "model_module": "@jupyter-widgets/base",
      "model_module_version": "1.2.0",
      "model_name": "LayoutModel",
      "state": {}
     },
     "684367632ff84f3f905639c72c494ec2": {
      "model_module": "@jupyter-widgets/controls",
      "model_module_version": "1.5.0",
      "model_name": "DescriptionStyleModel",
      "state": {
       "description_width": ""
      }
     },
     "685b5cc9565c497aabcac1903b5a7b73": {
      "model_module": "@jupyter-widgets/base",
      "model_module_version": "1.2.0",
      "model_name": "LayoutModel",
      "state": {}
     },
     "686b479bbe174b9186aea49cf6a05557": {
      "model_module": "@jupyter-widgets/base",
      "model_module_version": "1.2.0",
      "model_name": "LayoutModel",
      "state": {}
     },
     "68c57e9139b8429bb2c240679a0312bb": {
      "model_module": "@jupyter-widgets/base",
      "model_module_version": "1.2.0",
      "model_name": "LayoutModel",
      "state": {}
     },
     "68cd99e994524b3083bb8dbae1b607a1": {
      "model_module": "@jupyter-widgets/controls",
      "model_module_version": "1.5.0",
      "model_name": "DescriptionStyleModel",
      "state": {
       "description_width": ""
      }
     },
     "68ce4155d44f4c8998de95090724c66a": {
      "model_module": "@jupyter-widgets/controls",
      "model_module_version": "1.5.0",
      "model_name": "ProgressStyleModel",
      "state": {
       "description_width": ""
      }
     },
     "68d0529153504bdb85e192eaa2ba46f2": {
      "model_module": "@jupyter-widgets/base",
      "model_module_version": "1.2.0",
      "model_name": "LayoutModel",
      "state": {}
     },
     "68e3664f721c424e849ddaa4a97137bf": {
      "model_module": "@jupyter-widgets/controls",
      "model_module_version": "1.5.0",
      "model_name": "DescriptionStyleModel",
      "state": {
       "description_width": ""
      }
     },
     "690cf17173a341f09accd44adbd9ff6b": {
      "model_module": "@jupyter-widgets/controls",
      "model_module_version": "1.5.0",
      "model_name": "HBoxModel",
      "state": {
       "children": [
        "IPY_MODEL_c34175086dff4dc980e58f97b602cab1",
        "IPY_MODEL_6f2dedaf460843158beb09b93acb1cf8",
        "IPY_MODEL_6156735851114e9cbc93b4b247034064"
       ],
       "layout": "IPY_MODEL_8defebda0a984d81b4fed1114ee0a27e"
      }
     },
     "690f491882694235ad3bcdddad116941": {
      "model_module": "@jupyter-widgets/controls",
      "model_module_version": "1.5.0",
      "model_name": "DescriptionStyleModel",
      "state": {
       "description_width": ""
      }
     },
     "69344c2b9c1740d6a60b9ba67fef5ef2": {
      "model_module": "@jupyter-widgets/controls",
      "model_module_version": "1.5.0",
      "model_name": "HTMLModel",
      "state": {
       "layout": "IPY_MODEL_4caeb0a523ed439da0494440758762b6",
       "style": "IPY_MODEL_8a1f5b83fca54f11957f07ec7fc43d37",
       "value": "100%"
      }
     },
     "6944b60c72cf4e8cbfba4a7baf098c2a": {
      "model_module": "@jupyter-widgets/controls",
      "model_module_version": "1.5.0",
      "model_name": "HTMLModel",
      "state": {
       "layout": "IPY_MODEL_1a8fc967d416476089a53f8766e3b36e",
       "style": "IPY_MODEL_a5f2981a48664623abf7ec41b71d92d7",
       "value": "100%"
      }
     },
     "6984f0c9f1c045649d0c50ba4fe7c6e3": {
      "model_module": "@jupyter-widgets/controls",
      "model_module_version": "1.5.0",
      "model_name": "FloatProgressModel",
      "state": {
       "layout": "IPY_MODEL_a0590f278cd64590929a7924ca590e55",
       "max": 2345,
       "style": "IPY_MODEL_88c67b1eb50a4299a215d7265becad7c",
       "value": 2345
      }
     },
     "69f3b383adb8432ba9686a1e6f13e0ab": {
      "model_module": "@jupyter-widgets/controls",
      "model_module_version": "1.5.0",
      "model_name": "HTMLModel",
      "state": {
       "layout": "IPY_MODEL_97b987928bef43cea34fa8f1c4dc65fb",
       "style": "IPY_MODEL_66db92af34524cb1ae2f07237e18bdce",
       "value": " 2345/2345 [00:14&lt;00:00, 7549.58it/s]"
      }
     },
     "69f94043d76d416cbef2312b6159fe2c": {
      "model_module": "@jupyter-widgets/controls",
      "model_module_version": "1.5.0",
      "model_name": "FloatProgressModel",
      "state": {
       "layout": "IPY_MODEL_4fe4e4db3b2f415ea86f1ed6d00ba5d1",
       "max": 2345,
       "style": "IPY_MODEL_c8453d10bad94c2a85dffbaea47a0c62",
       "value": 2345
      }
     },
     "6a24955c1b8e44ce8cfc960b960b29cb": {
      "model_module": "@jupyter-widgets/base",
      "model_module_version": "1.2.0",
      "model_name": "LayoutModel",
      "state": {}
     },
     "6a65c3d22f024b3291428933945e91f8": {
      "model_module": "@jupyter-widgets/controls",
      "model_module_version": "1.5.0",
      "model_name": "DescriptionStyleModel",
      "state": {
       "description_width": ""
      }
     },
     "6a6d7f3b4d0e4af0a9b8d4e122f32c0b": {
      "model_module": "@jupyter-widgets/controls",
      "model_module_version": "1.5.0",
      "model_name": "HBoxModel",
      "state": {
       "children": [
        "IPY_MODEL_57173cd4e56f46949f037ed09f9bc158",
        "IPY_MODEL_eb1403861c064a248153c773830dad26",
        "IPY_MODEL_3db7e1e332be4a78b549928ac81e5f04"
       ],
       "layout": "IPY_MODEL_ea2d71ffcb494697adf9ab1b68a3b051"
      }
     },
     "6a72c406e70549378f5eac2ef581fd93": {
      "model_module": "@jupyter-widgets/controls",
      "model_module_version": "1.5.0",
      "model_name": "HTMLModel",
      "state": {
       "layout": "IPY_MODEL_85208fac2bbb4e6a8b346464a63e2b37",
       "style": "IPY_MODEL_569d85a9af3948d4851f4f5db4965892",
       "value": "100%"
      }
     },
     "6a7380f7e8bf485293d1cc2453262e4d": {
      "model_module": "@jupyter-widgets/base",
      "model_module_version": "1.2.0",
      "model_name": "LayoutModel",
      "state": {}
     },
     "6a837edcf6db425fb1b4728f06f77625": {
      "model_module": "@jupyter-widgets/controls",
      "model_module_version": "1.5.0",
      "model_name": "FloatProgressModel",
      "state": {
       "layout": "IPY_MODEL_5582f7ce9dde474abfd127ce1a7bdcf8",
       "max": 2345,
       "style": "IPY_MODEL_5912bf861f8245878a625be17719821d",
       "value": 2345
      }
     },
     "6ab8fb85b15942ce85b96ddf277b368e": {
      "model_module": "@jupyter-widgets/controls",
      "model_module_version": "1.5.0",
      "model_name": "DescriptionStyleModel",
      "state": {
       "description_width": ""
      }
     },
     "6ae58ffcf6d5408b82576e8a0b7b9a2f": {
      "model_module": "@jupyter-widgets/controls",
      "model_module_version": "1.5.0",
      "model_name": "FloatProgressModel",
      "state": {
       "layout": "IPY_MODEL_4fe0065298cb42f7a9d6968f04a37955",
       "max": 1266,
       "style": "IPY_MODEL_a65ab11b800e48a8a5c9d55e79ae8134",
       "value": 1266
      }
     },
     "6aea7f9f199645ce92eea9feef39d7a2": {
      "model_module": "@jupyter-widgets/controls",
      "model_module_version": "1.5.0",
      "model_name": "HTMLModel",
      "state": {
       "layout": "IPY_MODEL_151b99f2fc0546909736b123244b5221",
       "style": "IPY_MODEL_48d2967aa38e4e3fad6c33a7572128f2",
       "value": "100%"
      }
     },
     "6aecfb0c73a24d25ade69cabbf760ca5": {
      "model_module": "@jupyter-widgets/controls",
      "model_module_version": "1.5.0",
      "model_name": "HTMLModel",
      "state": {
       "layout": "IPY_MODEL_7b980b8ef2464f8fa36beabb77c45f6f",
       "style": "IPY_MODEL_b93f30662c0c4b8ebfdc4c8ce3cc899f",
       "value": "100%"
      }
     },
     "6af0680645644d95b8054e3f73bb9ecf": {
      "model_module": "@jupyter-widgets/controls",
      "model_module_version": "1.5.0",
      "model_name": "ProgressStyleModel",
      "state": {
       "description_width": ""
      }
     },
     "6b3d5311382048628bc0039a68168f68": {
      "model_module": "@jupyter-widgets/controls",
      "model_module_version": "1.5.0",
      "model_name": "FloatProgressModel",
      "state": {
       "layout": "IPY_MODEL_f8c8cda08db54b40819f98a115415352",
       "max": 1266,
       "style": "IPY_MODEL_e74c2a7961534676b76f1f52841f7573",
       "value": 1266
      }
     },
     "6b49e091a89d4116bdd1ae4f16641532": {
      "model_module": "@jupyter-widgets/controls",
      "model_module_version": "1.5.0",
      "model_name": "HBoxModel",
      "state": {
       "children": [
        "IPY_MODEL_3148bf4b1c4a414890c01653bbe7dd7d",
        "IPY_MODEL_a32ee7fe8c4e4cb185d31266b2a8a0e6",
        "IPY_MODEL_64743a299813437fa979a6098c8f6766"
       ],
       "layout": "IPY_MODEL_7d22a44c03444dd0bb2cf8ec8d5b938c"
      }
     },
     "6b5eda27c0d7493ea092c283f7feff10": {
      "model_module": "@jupyter-widgets/controls",
      "model_module_version": "1.5.0",
      "model_name": "HTMLModel",
      "state": {
       "layout": "IPY_MODEL_b9966e4c5704493098f5f332e7f0bd8a",
       "style": "IPY_MODEL_4eb1879747734f5191733f1ecaf2b262",
       "value": "100%"
      }
     },
     "6b7fae3807f6418295bd8a9505b6f101": {
      "model_module": "@jupyter-widgets/controls",
      "model_module_version": "1.5.0",
      "model_name": "DescriptionStyleModel",
      "state": {
       "description_width": ""
      }
     },
     "6bc6273c0210453f9fc111586474bad2": {
      "model_module": "@jupyter-widgets/controls",
      "model_module_version": "1.5.0",
      "model_name": "FloatProgressModel",
      "state": {
       "layout": "IPY_MODEL_57006b06751249e5b8c969afd03d0ae0",
       "max": 2345,
       "style": "IPY_MODEL_6af0680645644d95b8054e3f73bb9ecf",
       "value": 2345
      }
     },
     "6be3316eb0e54c0b9c595f75f8395186": {
      "model_module": "@jupyter-widgets/controls",
      "model_module_version": "1.5.0",
      "model_name": "HBoxModel",
      "state": {
       "children": [
        "IPY_MODEL_1cdd982de52443cbaee3c059d2b429b0",
        "IPY_MODEL_631e682c9ed546b0a0c0658998d4d3da",
        "IPY_MODEL_6d76877d62654477a08f5e96ab6e06b5"
       ],
       "layout": "IPY_MODEL_68c57e9139b8429bb2c240679a0312bb"
      }
     },
     "6bef4d43556f49a4b4cecc3179d32c3e": {
      "model_module": "@jupyter-widgets/base",
      "model_module_version": "1.2.0",
      "model_name": "LayoutModel",
      "state": {}
     },
     "6bf02e6ff4754254bad0add81fd47712": {
      "model_module": "@jupyter-widgets/controls",
      "model_module_version": "1.5.0",
      "model_name": "DescriptionStyleModel",
      "state": {
       "description_width": ""
      }
     },
     "6c39217435484aac8dc7f81c16aac187": {
      "model_module": "@jupyter-widgets/base",
      "model_module_version": "1.2.0",
      "model_name": "LayoutModel",
      "state": {}
     },
     "6c414e3256d3400e8283a0eb921e0dfa": {
      "model_module": "@jupyter-widgets/base",
      "model_module_version": "1.2.0",
      "model_name": "LayoutModel",
      "state": {}
     },
     "6c5045b4b4ae4d669668e6acf965de4e": {
      "model_module": "@jupyter-widgets/controls",
      "model_module_version": "1.5.0",
      "model_name": "ProgressStyleModel",
      "state": {
       "description_width": ""
      }
     },
     "6c51778056fd413fb47bea3adf9517f8": {
      "model_module": "@jupyter-widgets/base",
      "model_module_version": "1.2.0",
      "model_name": "LayoutModel",
      "state": {}
     },
     "6cbd14bb93e846af973d9964a7cd1f31": {
      "model_module": "@jupyter-widgets/controls",
      "model_module_version": "1.5.0",
      "model_name": "DescriptionStyleModel",
      "state": {
       "description_width": ""
      }
     },
     "6ce1ff06e6884e9b9374ecadabb4428a": {
      "model_module": "@jupyter-widgets/controls",
      "model_module_version": "1.5.0",
      "model_name": "HBoxModel",
      "state": {
       "children": [
        "IPY_MODEL_4c7f8d649aa04fd09b7ab051c63431d3",
        "IPY_MODEL_1ac26777ad434a13baab1464ba28735d",
        "IPY_MODEL_00d27059aee94b7698d1321d17658b7e"
       ],
       "layout": "IPY_MODEL_c9b8f882036a463c82e57386152526ab"
      }
     },
     "6d27bb29fd3b46af89334d69bc6b5f85": {
      "model_module": "@jupyter-widgets/controls",
      "model_module_version": "1.5.0",
      "model_name": "ProgressStyleModel",
      "state": {
       "description_width": ""
      }
     },
     "6d40e1227d6c4f0c8372417f8eec1629": {
      "model_module": "@jupyter-widgets/base",
      "model_module_version": "1.2.0",
      "model_name": "LayoutModel",
      "state": {}
     },
     "6d76877d62654477a08f5e96ab6e06b5": {
      "model_module": "@jupyter-widgets/controls",
      "model_module_version": "1.5.0",
      "model_name": "HTMLModel",
      "state": {
       "layout": "IPY_MODEL_9b162ad4ee6a499e997a109f602b082d",
       "style": "IPY_MODEL_c2e749cdb8c7419698df282149f14fc0",
       "value": " 2345/2345 [01:43&lt;00:00, 25.31it/s]"
      }
     },
     "6d7c90407b9c4d2bac753be4946825bc": {
      "model_module": "@jupyter-widgets/controls",
      "model_module_version": "1.5.0",
      "model_name": "HBoxModel",
      "state": {
       "children": [
        "IPY_MODEL_e46839e3dd064aa89e3d53d81acbe528",
        "IPY_MODEL_a7a5d72e9c224ab7aad6c6c2e3d2ab01",
        "IPY_MODEL_39e24d80cf05478c81e51be00357c2d4"
       ],
       "layout": "IPY_MODEL_5ef48b6612224852b001360d1bed8fc5"
      }
     },
     "6e05616401114e61a1ba9b58a1c4094b": {
      "model_module": "@jupyter-widgets/controls",
      "model_module_version": "1.5.0",
      "model_name": "DescriptionStyleModel",
      "state": {
       "description_width": ""
      }
     },
     "6e1511a1847d45c18b32fe0509d6553c": {
      "model_module": "@jupyter-widgets/controls",
      "model_module_version": "1.5.0",
      "model_name": "HBoxModel",
      "state": {
       "children": [
        "IPY_MODEL_1e69948c00684fe7913f1fa94f5b621c",
        "IPY_MODEL_2975816bfea94a22bf3732a0a66a6269",
        "IPY_MODEL_9c78cf486e164942bc5606b49ab64e55"
       ],
       "layout": "IPY_MODEL_b92202aced7c4ef69ad72b39fdf12094"
      }
     },
     "6e39c4d2ffdb420ea9033f55efcb4aa6": {
      "model_module": "@jupyter-widgets/controls",
      "model_module_version": "1.5.0",
      "model_name": "ProgressStyleModel",
      "state": {
       "description_width": ""
      }
     },
     "6e71aadd231949bea471be00535db6ee": {
      "model_module": "@jupyter-widgets/controls",
      "model_module_version": "1.5.0",
      "model_name": "ProgressStyleModel",
      "state": {
       "description_width": ""
      }
     },
     "6e76c6f551a34eb3a6b71a5abb09a45f": {
      "model_module": "@jupyter-widgets/base",
      "model_module_version": "1.2.0",
      "model_name": "LayoutModel",
      "state": {}
     },
     "6e7849036783461284f7fd577957fa17": {
      "model_module": "@jupyter-widgets/controls",
      "model_module_version": "1.5.0",
      "model_name": "ProgressStyleModel",
      "state": {
       "description_width": ""
      }
     },
     "6e8a4ba5b15a422abb7e7cd9e2e9d82a": {
      "model_module": "@jupyter-widgets/controls",
      "model_module_version": "1.5.0",
      "model_name": "HBoxModel",
      "state": {
       "children": [
        "IPY_MODEL_002153f2434549aea53aff32b848c3a0",
        "IPY_MODEL_6984f0c9f1c045649d0c50ba4fe7c6e3",
        "IPY_MODEL_486f6852d6f44da3b55440886aea9aab"
       ],
       "layout": "IPY_MODEL_80ebdccf3b3243ee8ae063782a2653e1"
      }
     },
     "6ea28f10b9544cbc84ec0e54adbfc03b": {
      "model_module": "@jupyter-widgets/controls",
      "model_module_version": "1.5.0",
      "model_name": "HBoxModel",
      "state": {
       "children": [
        "IPY_MODEL_5a787f6a95504ea58ed75df0672351d6",
        "IPY_MODEL_2a54ee0d18b54afb8ec2403926138d63",
        "IPY_MODEL_e38389b715844700a8444cf6ec4256fe"
       ],
       "layout": "IPY_MODEL_f9829c6aabf145afb895900bb14172b3"
      }
     },
     "6ebb367e72474f45a70ef3f84803e7ad": {
      "model_module": "@jupyter-widgets/controls",
      "model_module_version": "1.5.0",
      "model_name": "DescriptionStyleModel",
      "state": {
       "description_width": ""
      }
     },
     "6ec7e73308da48a0840c4b0f79b404be": {
      "model_module": "@jupyter-widgets/base",
      "model_module_version": "1.2.0",
      "model_name": "LayoutModel",
      "state": {}
     },
     "6ee5f3f9a60249e6915b3a379086207b": {
      "model_module": "@jupyter-widgets/base",
      "model_module_version": "1.2.0",
      "model_name": "LayoutModel",
      "state": {}
     },
     "6ef74bb8ed2a43e78f298a63f18b271e": {
      "model_module": "@jupyter-widgets/controls",
      "model_module_version": "1.5.0",
      "model_name": "FloatProgressModel",
      "state": {
       "layout": "IPY_MODEL_a0c78139d75a48e884b8de09d0d6aca7",
       "max": 1266,
       "style": "IPY_MODEL_6e71aadd231949bea471be00535db6ee",
       "value": 1266
      }
     },
     "6f066102ed0b47f393d5f74bd26b2e4b": {
      "model_module": "@jupyter-widgets/controls",
      "model_module_version": "1.5.0",
      "model_name": "ProgressStyleModel",
      "state": {
       "description_width": ""
      }
     },
     "6f2dedaf460843158beb09b93acb1cf8": {
      "model_module": "@jupyter-widgets/controls",
      "model_module_version": "1.5.0",
      "model_name": "FloatProgressModel",
      "state": {
       "layout": "IPY_MODEL_da5ef216d55445fc95a431851bbec340",
       "max": 2345,
       "style": "IPY_MODEL_c47fbe68f6db4e0baeddb16e82503321",
       "value": 2345
      }
     },
     "6f39ce490b534b09ad97a19fb46d9c9a": {
      "model_module": "@jupyter-widgets/controls",
      "model_module_version": "1.5.0",
      "model_name": "DescriptionStyleModel",
      "state": {
       "description_width": ""
      }
     },
     "6f54e078fc8b472e8878d73af969bd65": {
      "model_module": "@jupyter-widgets/base",
      "model_module_version": "1.2.0",
      "model_name": "LayoutModel",
      "state": {}
     },
     "6f6c9badcd0a4d06bdcfab030cbfb1f0": {
      "model_module": "@jupyter-widgets/controls",
      "model_module_version": "1.5.0",
      "model_name": "HBoxModel",
      "state": {
       "children": [
        "IPY_MODEL_3a52c04ccd684de4a4983bf144a306e7",
        "IPY_MODEL_3387b26759e849ba84b9032476e85371",
        "IPY_MODEL_72c59ef0695e4983aef8d4fc55baa4bf"
       ],
       "layout": "IPY_MODEL_50a14a37db6c41d3a01d6c9482a18e4a"
      }
     },
     "6f894999cb8c4f628333797ec5f27605": {
      "model_module": "@jupyter-widgets/base",
      "model_module_version": "1.2.0",
      "model_name": "LayoutModel",
      "state": {}
     },
     "6f8ea64d816141e1af22b1cc49ee9032": {
      "model_module": "@jupyter-widgets/base",
      "model_module_version": "1.2.0",
      "model_name": "LayoutModel",
      "state": {}
     },
     "6fa501f76e4b41128b344eeac7346701": {
      "model_module": "@jupyter-widgets/controls",
      "model_module_version": "1.5.0",
      "model_name": "HBoxModel",
      "state": {
       "children": [
        "IPY_MODEL_ab60ddae2f604fb886d62a3c83338bbd",
        "IPY_MODEL_8d1680e0fa2e4194bc873ca8cd4cacf7",
        "IPY_MODEL_c17c43182518431e8914662e97565cae"
       ],
       "layout": "IPY_MODEL_625ccd6e839c4aa7ab20ee6b125f9c8a"
      }
     },
     "6fb26c7341024597bf778a4998057c5d": {
      "model_module": "@jupyter-widgets/controls",
      "model_module_version": "1.5.0",
      "model_name": "ProgressStyleModel",
      "state": {
       "description_width": ""
      }
     },
     "6fbcbc2cc6654b7cb1edaf154ac8f735": {
      "model_module": "@jupyter-widgets/controls",
      "model_module_version": "1.5.0",
      "model_name": "HTMLModel",
      "state": {
       "layout": "IPY_MODEL_5ef0a2c687634c0fbf94a4ab9037b2d5",
       "style": "IPY_MODEL_0f305363011041489aa80afd7946b6c3",
       "value": "100%"
      }
     },
     "6fde8f143fe549129c5577df14fb6560": {
      "model_module": "@jupyter-widgets/controls",
      "model_module_version": "1.5.0",
      "model_name": "ProgressStyleModel",
      "state": {
       "description_width": ""
      }
     },
     "700a262f8f4b4c07bbf662eaf19d9217": {
      "model_module": "@jupyter-widgets/base",
      "model_module_version": "1.2.0",
      "model_name": "LayoutModel",
      "state": {}
     },
     "70341654865d49c1b653b8067fea77b9": {
      "model_module": "@jupyter-widgets/controls",
      "model_module_version": "1.5.0",
      "model_name": "HBoxModel",
      "state": {
       "children": [
        "IPY_MODEL_5b725dd0321947f8a904ac6828d5629c",
        "IPY_MODEL_c5370934426b4dc8a1311825e15ab640",
        "IPY_MODEL_5bfe802b464c4f949c625365f423ef54"
       ],
       "layout": "IPY_MODEL_e891558655f9466ab9862187ab4b5295"
      }
     },
     "704028c125e14bdb9938bda1c9f7442d": {
      "model_module": "@jupyter-widgets/controls",
      "model_module_version": "1.5.0",
      "model_name": "HBoxModel",
      "state": {
       "children": [
        "IPY_MODEL_4f41096d166f4350b443d1371ebd8c86",
        "IPY_MODEL_b0b839e055c14b088f874e8713c2adf9",
        "IPY_MODEL_c6a25883d3ed4fefb8f7333f2c4288f1"
       ],
       "layout": "IPY_MODEL_6ee5f3f9a60249e6915b3a379086207b"
      }
     },
     "707f146bcffd4b718022de1b56ef1142": {
      "model_module": "@jupyter-widgets/controls",
      "model_module_version": "1.5.0",
      "model_name": "HTMLModel",
      "state": {
       "layout": "IPY_MODEL_885c1b725d47410ba31587e0df23e675",
       "style": "IPY_MODEL_9eb005c620504509babcc91228f2681a",
       "value": "100%"
      }
     },
     "70bf37cf971d4b82a845f98119b69ca6": {
      "model_module": "@jupyter-widgets/controls",
      "model_module_version": "1.5.0",
      "model_name": "DescriptionStyleModel",
      "state": {
       "description_width": ""
      }
     },
     "710d5334d7a74eb18ced71cc9982cd57": {
      "model_module": "@jupyter-widgets/controls",
      "model_module_version": "1.5.0",
      "model_name": "HTMLModel",
      "state": {
       "layout": "IPY_MODEL_5a5068b7250548af8e288832989f84d8",
       "style": "IPY_MODEL_cd22aba5ab0c460a830dd14edfd267b9",
       "value": "100%"
      }
     },
     "717227c711c647e3ab80940d6b707d4d": {
      "model_module": "@jupyter-widgets/controls",
      "model_module_version": "1.5.0",
      "model_name": "FloatProgressModel",
      "state": {
       "layout": "IPY_MODEL_82e22a238b04415e809d1d292c4e4f7b",
       "max": 2345,
       "style": "IPY_MODEL_d7b968365e384dbe9d667303844d5ef1",
       "value": 2345
      }
     },
     "719dcd5c91044dc684ab6eff35f17d9f": {
      "model_module": "@jupyter-widgets/base",
      "model_module_version": "1.2.0",
      "model_name": "LayoutModel",
      "state": {}
     },
     "71e162c428434cccba4ac016db37a055": {
      "model_module": "@jupyter-widgets/controls",
      "model_module_version": "1.5.0",
      "model_name": "DescriptionStyleModel",
      "state": {
       "description_width": ""
      }
     },
     "7219b75b0e0d4d228436b9b488432c68": {
      "model_module": "@jupyter-widgets/base",
      "model_module_version": "1.2.0",
      "model_name": "LayoutModel",
      "state": {}
     },
     "721c6143c136481890ab4a9940532547": {
      "model_module": "@jupyter-widgets/controls",
      "model_module_version": "1.5.0",
      "model_name": "DescriptionStyleModel",
      "state": {
       "description_width": ""
      }
     },
     "7272b9c2312e4823bc0e8543000c5a22": {
      "model_module": "@jupyter-widgets/base",
      "model_module_version": "1.2.0",
      "model_name": "LayoutModel",
      "state": {}
     },
     "727ba67e97374d7094b0535d581de0e4": {
      "model_module": "@jupyter-widgets/controls",
      "model_module_version": "1.5.0",
      "model_name": "DescriptionStyleModel",
      "state": {
       "description_width": ""
      }
     },
     "72a84c2da94f4217b3b6a3d8985ef231": {
      "model_module": "@jupyter-widgets/controls",
      "model_module_version": "1.5.0",
      "model_name": "DescriptionStyleModel",
      "state": {
       "description_width": ""
      }
     },
     "72aaedadfbf4451cb5f46d875e35de38": {
      "model_module": "@jupyter-widgets/base",
      "model_module_version": "1.2.0",
      "model_name": "LayoutModel",
      "state": {}
     },
     "72ad557c62ff4a45a5c3c2be16e5208f": {
      "model_module": "@jupyter-widgets/controls",
      "model_module_version": "1.5.0",
      "model_name": "DescriptionStyleModel",
      "state": {
       "description_width": ""
      }
     },
     "72c59ef0695e4983aef8d4fc55baa4bf": {
      "model_module": "@jupyter-widgets/controls",
      "model_module_version": "1.5.0",
      "model_name": "HTMLModel",
      "state": {
       "layout": "IPY_MODEL_a54e790cbad546a7bdb0b0a277ea4f2b",
       "style": "IPY_MODEL_3f0be0a49bb94a8fae8172abad1ec71a",
       "value": " 2345/2345 [00:19&lt;00:00, 7569.14it/s]"
      }
     },
     "72dffcb6932542218e4f9bf134eb1eb1": {
      "model_module": "@jupyter-widgets/base",
      "model_module_version": "1.2.0",
      "model_name": "LayoutModel",
      "state": {}
     },
     "73052541f612441f93e5f99a214fb11d": {
      "model_module": "@jupyter-widgets/base",
      "model_module_version": "1.2.0",
      "model_name": "LayoutModel",
      "state": {}
     },
     "732270d61cdc4c18958601b02c973040": {
      "model_module": "@jupyter-widgets/controls",
      "model_module_version": "1.5.0",
      "model_name": "HTMLModel",
      "state": {
       "layout": "IPY_MODEL_be527493263143f2a9489f32fc98376a",
       "style": "IPY_MODEL_744967d9f8da494394af5e4214fdea17",
       "value": "100%"
      }
     },
     "733cdb64abf24218b6850338c4dba0d9": {
      "model_module": "@jupyter-widgets/controls",
      "model_module_version": "1.5.0",
      "model_name": "FloatProgressModel",
      "state": {
       "layout": "IPY_MODEL_79f0bfc20a3b4157b7724c8e5cc76235",
       "max": 2345,
       "style": "IPY_MODEL_2d2bc1806d0949ca86e860deef204bcc"
      }
     },
     "734bd273778a4ec081e4471c028727a4": {
      "model_module": "@jupyter-widgets/controls",
      "model_module_version": "1.5.0",
      "model_name": "ProgressStyleModel",
      "state": {
       "description_width": ""
      }
     },
     "7401e1124c9c4696ac7c851e79d6f3d2": {
      "model_module": "@jupyter-widgets/controls",
      "model_module_version": "1.5.0",
      "model_name": "HBoxModel",
      "state": {
       "children": [
        "IPY_MODEL_4ff4d73441344886a49a6557ab8cbe7e",
        "IPY_MODEL_872ba9aa9b4c4df39021c9a52cca389f",
        "IPY_MODEL_e551b47af1f0497fa91fc3bd8027f2fa"
       ],
       "layout": "IPY_MODEL_5f5a8ab708384a63804aff24e84a8849"
      }
     },
     "744967d9f8da494394af5e4214fdea17": {
      "model_module": "@jupyter-widgets/controls",
      "model_module_version": "1.5.0",
      "model_name": "DescriptionStyleModel",
      "state": {
       "description_width": ""
      }
     },
     "7495761388b04b57a71ac2efb6b2a26f": {
      "model_module": "@jupyter-widgets/controls",
      "model_module_version": "1.5.0",
      "model_name": "HBoxModel",
      "state": {
       "children": [
        "IPY_MODEL_96ff49b2282c448f93159dab8adb9ffb",
        "IPY_MODEL_6bc6273c0210453f9fc111586474bad2",
        "IPY_MODEL_809b4013091d4594af3f023f2878cb57"
       ],
       "layout": "IPY_MODEL_a6e7ecb6955e407b9e28989892c7b6b2"
      }
     },
     "74c3e724ee7f4b92a1b6c1179106d3eb": {
      "model_module": "@jupyter-widgets/controls",
      "model_module_version": "1.5.0",
      "model_name": "FloatProgressModel",
      "state": {
       "layout": "IPY_MODEL_ea5f661d674642d291196dc9a3689a6b",
       "max": 2345,
       "style": "IPY_MODEL_5f759bbf27c04400915da664647d7f53",
       "value": 2345
      }
     },
     "74fe0d55eb484231ad8001a100343139": {
      "model_module": "@jupyter-widgets/base",
      "model_module_version": "1.2.0",
      "model_name": "LayoutModel",
      "state": {}
     },
     "7519c2b119024ce8a0c8d7d0a058fd3a": {
      "model_module": "@jupyter-widgets/controls",
      "model_module_version": "1.5.0",
      "model_name": "ProgressStyleModel",
      "state": {
       "description_width": ""
      }
     },
     "7526474dc1df4551a40284205f52e1b2": {
      "model_module": "@jupyter-widgets/controls",
      "model_module_version": "1.5.0",
      "model_name": "HBoxModel",
      "state": {
       "children": [
        "IPY_MODEL_ec4a3fc4d30d4f059093728e5dfb4a53",
        "IPY_MODEL_f76aa342d79b4eafb8302f9ac5d17933",
        "IPY_MODEL_0dfb8d78572245df98b5850c012dd71b"
       ],
       "layout": "IPY_MODEL_4f09d42284f44f6b8ce8e091fd236da2"
      }
     },
     "7526ebd9301d483b898edb25495724cb": {
      "model_module": "@jupyter-widgets/controls",
      "model_module_version": "1.5.0",
      "model_name": "DescriptionStyleModel",
      "state": {
       "description_width": ""
      }
     },
     "7527f5101baf46c391ec082cb7e6ca3e": {
      "model_module": "@jupyter-widgets/controls",
      "model_module_version": "1.5.0",
      "model_name": "DescriptionStyleModel",
      "state": {
       "description_width": ""
      }
     },
     "75765f24f53a427ba970b961aa4093d1": {
      "model_module": "@jupyter-widgets/base",
      "model_module_version": "1.2.0",
      "model_name": "LayoutModel",
      "state": {}
     },
     "7588454a0a1b4ebc87225c644642a5f2": {
      "model_module": "@jupyter-widgets/base",
      "model_module_version": "1.2.0",
      "model_name": "LayoutModel",
      "state": {}
     },
     "75b8e7a4dea94f2da798deb02fe1ab01": {
      "model_module": "@jupyter-widgets/controls",
      "model_module_version": "1.5.0",
      "model_name": "HTMLModel",
      "state": {
       "layout": "IPY_MODEL_7588454a0a1b4ebc87225c644642a5f2",
       "style": "IPY_MODEL_90bc1471c431431d86007b0cb50637e0",
       "value": "100%"
      }
     },
     "75de54a3c01b40fd828bb0693ca73724": {
      "model_module": "@jupyter-widgets/controls",
      "model_module_version": "1.5.0",
      "model_name": "DescriptionStyleModel",
      "state": {
       "description_width": ""
      }
     },
     "75fad400691a4070bac16d15d8818aca": {
      "model_module": "@jupyter-widgets/controls",
      "model_module_version": "1.5.0",
      "model_name": "FloatProgressModel",
      "state": {
       "layout": "IPY_MODEL_274a4dc158fc49febd945c1fd8e2c7b4",
       "max": 2345,
       "style": "IPY_MODEL_4e89c942b1fe4a33880d7df9523b2ebb",
       "value": 2345
      }
     },
     "764d73b06fd94decaf265ab3ee43c8db": {
      "model_module": "@jupyter-widgets/base",
      "model_module_version": "1.2.0",
      "model_name": "LayoutModel",
      "state": {}
     },
     "767c0e2bbb89466eae6dfef82c9159e2": {
      "model_module": "@jupyter-widgets/controls",
      "model_module_version": "1.5.0",
      "model_name": "FloatProgressModel",
      "state": {
       "layout": "IPY_MODEL_efdce077a0e04bcab0f0f79234ecc7d4",
       "max": 2345,
       "style": "IPY_MODEL_3c96e9baea964edf83eea00bc15361c2",
       "value": 2345
      }
     },
     "7691392c6221414cb908cb6a5fd3be74": {
      "model_module": "@jupyter-widgets/base",
      "model_module_version": "1.2.0",
      "model_name": "LayoutModel",
      "state": {}
     },
     "769174faabd14c7183eb4815e5fb4f17": {
      "model_module": "@jupyter-widgets/controls",
      "model_module_version": "1.5.0",
      "model_name": "HTMLModel",
      "state": {
       "layout": "IPY_MODEL_1521ed4517c44825817429c63d5e8b20",
       "style": "IPY_MODEL_43a2704cba604051a57d8f0f58038ba9",
       "value": " 2345/2345 [01:42&lt;00:00, 25.41it/s]"
      }
     },
     "773ce2e1692e4618972025375709d55f": {
      "model_module": "@jupyter-widgets/controls",
      "model_module_version": "1.5.0",
      "model_name": "HTMLModel",
      "state": {
       "layout": "IPY_MODEL_ca5f57d93e79425e8b61f3033cfc41c2",
       "style": "IPY_MODEL_7527f5101baf46c391ec082cb7e6ca3e",
       "value": "100%"
      }
     },
     "77645e7e85a24a3dac674f863673b03f": {
      "model_module": "@jupyter-widgets/controls",
      "model_module_version": "1.5.0",
      "model_name": "HBoxModel",
      "state": {
       "children": [
        "IPY_MODEL_2355a923195f4328849080ab9890c07d",
        "IPY_MODEL_c58412817c6d46f29df31591c5f93812",
        "IPY_MODEL_bf48234ec1344f90ad9ea13997f69106"
       ],
       "layout": "IPY_MODEL_7b4e364b220e4a938c34d1de365bdd0a"
      }
     },
     "7779e085cea14b38b3b37afc36635682": {
      "model_module": "@jupyter-widgets/base",
      "model_module_version": "1.2.0",
      "model_name": "LayoutModel",
      "state": {}
     },
     "777d8d7ba4654698baf4ff866eb49d4e": {
      "model_module": "@jupyter-widgets/controls",
      "model_module_version": "1.5.0",
      "model_name": "FloatProgressModel",
      "state": {
       "layout": "IPY_MODEL_6a7380f7e8bf485293d1cc2453262e4d",
       "max": 2345,
       "style": "IPY_MODEL_51fc471433ca48a68038009122053fec",
       "value": 2345
      }
     },
     "77bbcb4559054201872f00f230a39317": {
      "model_module": "@jupyter-widgets/controls",
      "model_module_version": "1.5.0",
      "model_name": "HTMLModel",
      "state": {
       "layout": "IPY_MODEL_796d904975964cbda2eb0633eb970f27",
       "style": "IPY_MODEL_a87a73cf7fe64e0d9193a2a90d387b57",
       "value": " 2345/2345 [00:12&lt;00:00, 7539.28it/s]"
      }
     },
     "77c639e8cf3e42868cb72dec6063f01f": {
      "model_module": "@jupyter-widgets/base",
      "model_module_version": "1.2.0",
      "model_name": "LayoutModel",
      "state": {}
     },
     "77ca95817d7a400a95d5fbd876382b19": {
      "model_module": "@jupyter-widgets/controls",
      "model_module_version": "1.5.0",
      "model_name": "ProgressStyleModel",
      "state": {
       "description_width": ""
      }
     },
     "77d586062b1c41edb225e9af650fd1f8": {
      "model_module": "@jupyter-widgets/controls",
      "model_module_version": "1.5.0",
      "model_name": "HBoxModel",
      "state": {
       "children": [
        "IPY_MODEL_cf4c5245dbf94127b36a2f79a08c309e",
        "IPY_MODEL_b3303efc98fc44dca680806e4f014490",
        "IPY_MODEL_de5098bca60146e7ae88ef7f766ab0e8"
       ],
       "layout": "IPY_MODEL_e0db4c00603c44bfac85711d4d3446fc"
      }
     },
     "77f23b77cee64cc5921883aed3b9e10e": {
      "model_module": "@jupyter-widgets/base",
      "model_module_version": "1.2.0",
      "model_name": "LayoutModel",
      "state": {}
     },
     "77f80aaa2aff46d0bfd39453fbdd24df": {
      "model_module": "@jupyter-widgets/base",
      "model_module_version": "1.2.0",
      "model_name": "LayoutModel",
      "state": {}
     },
     "781e7110eff4485591ea94aee2ea58f3": {
      "model_module": "@jupyter-widgets/controls",
      "model_module_version": "1.5.0",
      "model_name": "ProgressStyleModel",
      "state": {
       "description_width": ""
      }
     },
     "7827846963b34bdc8844c512e530d410": {
      "model_module": "@jupyter-widgets/base",
      "model_module_version": "1.2.0",
      "model_name": "LayoutModel",
      "state": {}
     },
     "786bd658a0694da6b3b7436ef4f9eef6": {
      "model_module": "@jupyter-widgets/controls",
      "model_module_version": "1.5.0",
      "model_name": "HTMLModel",
      "state": {
       "layout": "IPY_MODEL_028453f04a674d1f834353b6e3543c9c",
       "style": "IPY_MODEL_7c9f2422c2b24cc788c7a4e0dc5d0411",
       "value": " 2345/2345 [01:46&lt;00:00, 25.28it/s]"
      }
     },
     "786dfd1aad3c4b84aac9f18f8374a8c0": {
      "model_module": "@jupyter-widgets/base",
      "model_module_version": "1.2.0",
      "model_name": "LayoutModel",
      "state": {}
     },
     "787b086020e6481bba9b57d621e773e0": {
      "model_module": "@jupyter-widgets/base",
      "model_module_version": "1.2.0",
      "model_name": "LayoutModel",
      "state": {}
     },
     "78b2403328bd47f1be67f77f05df745e": {
      "model_module": "@jupyter-widgets/controls",
      "model_module_version": "1.5.0",
      "model_name": "DescriptionStyleModel",
      "state": {
       "description_width": ""
      }
     },
     "78d31fe8d9324d4a98eca0baa2913037": {
      "model_module": "@jupyter-widgets/controls",
      "model_module_version": "1.5.0",
      "model_name": "DescriptionStyleModel",
      "state": {
       "description_width": ""
      }
     },
     "78dfb0b78ca449f1b487371081c6c9e7": {
      "model_module": "@jupyter-widgets/controls",
      "model_module_version": "1.5.0",
      "model_name": "HTMLModel",
      "state": {
       "layout": "IPY_MODEL_edc7000450d54de1b7eacbb5439bb1e7",
       "style": "IPY_MODEL_0395882e4355413b85e18987f169b81e",
       "value": " 1266/1266 [01:10&lt;00:00, 23.64it/s]"
      }
     },
     "7905a8d53a994d8191b6a3ab3c523d1c": {
      "model_module": "@jupyter-widgets/base",
      "model_module_version": "1.2.0",
      "model_name": "LayoutModel",
      "state": {}
     },
     "7947703f5ce64a3ea304e35abf030576": {
      "model_module": "@jupyter-widgets/base",
      "model_module_version": "1.2.0",
      "model_name": "LayoutModel",
      "state": {}
     },
     "7961eaf9399e475598fdbee133a91edf": {
      "model_module": "@jupyter-widgets/controls",
      "model_module_version": "1.5.0",
      "model_name": "HTMLModel",
      "state": {
       "layout": "IPY_MODEL_a061f2f6f9f34761853532d9e042cbf9",
       "style": "IPY_MODEL_2953548969f447b0ba4497ccbdf3b006",
       "value": " 2345/2345 [01:49&lt;00:00, 25.36it/s]"
      }
     },
     "7966ce2f9bb841ea8ccda75267c9fd30": {
      "model_module": "@jupyter-widgets/base",
      "model_module_version": "1.2.0",
      "model_name": "LayoutModel",
      "state": {}
     },
     "796d904975964cbda2eb0633eb970f27": {
      "model_module": "@jupyter-widgets/base",
      "model_module_version": "1.2.0",
      "model_name": "LayoutModel",
      "state": {}
     },
     "79979563af7f4ae193347002760451ec": {
      "model_module": "@jupyter-widgets/controls",
      "model_module_version": "1.5.0",
      "model_name": "HTMLModel",
      "state": {
       "layout": "IPY_MODEL_bd6e5f82690145f1b7847cf0c0d8620a",
       "style": "IPY_MODEL_c4b2437094644ef6bc61779513e499bf",
       "value": "100%"
      }
     },
     "79c00e2b09c141bbac5fbb986206f89e": {
      "model_module": "@jupyter-widgets/controls",
      "model_module_version": "1.5.0",
      "model_name": "HBoxModel",
      "state": {
       "children": [
        "IPY_MODEL_d6d52840ab4542a29ee7fab56b55b9a0",
        "IPY_MODEL_e9805dd811a64373bf7f78ecc206d5cf",
        "IPY_MODEL_bbbdd03fce694d8f84c7a1f78b9a6e14"
       ],
       "layout": "IPY_MODEL_9d2cb281c96443a7883f38609161ff78"
      }
     },
     "79d1a75763084a8ba5b2b0e2dc7e3fa3": {
      "model_module": "@jupyter-widgets/base",
      "model_module_version": "1.2.0",
      "model_name": "LayoutModel",
      "state": {}
     },
     "79e5880a14c8463a922fad4d46415011": {
      "model_module": "@jupyter-widgets/controls",
      "model_module_version": "1.5.0",
      "model_name": "FloatProgressModel",
      "state": {
       "layout": "IPY_MODEL_2bbbfc97953a4f8e829fd73c743eba15",
       "max": 1266,
       "style": "IPY_MODEL_b05a53c01d944f92942f1ddaea3f7e85",
       "value": 1266
      }
     },
     "79f0bfc20a3b4157b7724c8e5cc76235": {
      "model_module": "@jupyter-widgets/base",
      "model_module_version": "1.2.0",
      "model_name": "LayoutModel",
      "state": {}
     },
     "79f5c879b1ea41c983dffb4a772e83ed": {
      "model_module": "@jupyter-widgets/base",
      "model_module_version": "1.2.0",
      "model_name": "LayoutModel",
      "state": {}
     },
     "7a1bafbc9eff4871a7137d4f106aa521": {
      "model_module": "@jupyter-widgets/controls",
      "model_module_version": "1.5.0",
      "model_name": "DescriptionStyleModel",
      "state": {
       "description_width": ""
      }
     },
     "7a1dc0111ef743dcb1258ff5f70310c0": {
      "model_module": "@jupyter-widgets/controls",
      "model_module_version": "1.5.0",
      "model_name": "HBoxModel",
      "state": {
       "children": [
        "IPY_MODEL_6aecfb0c73a24d25ade69cabbf760ca5",
        "IPY_MODEL_983fd0715c11408b8fd4816d184e55c4",
        "IPY_MODEL_d17f9741c602438c8278186bc7aa546d"
       ],
       "layout": "IPY_MODEL_a8e3700e82fb4587b1fe2ea619acc1df"
      }
     },
     "7aa2a8f7d4b2456e88f63ae56e881129": {
      "model_module": "@jupyter-widgets/base",
      "model_module_version": "1.2.0",
      "model_name": "LayoutModel",
      "state": {}
     },
     "7ab9b143562d43b994e8eb6323c25a09": {
      "model_module": "@jupyter-widgets/base",
      "model_module_version": "1.2.0",
      "model_name": "LayoutModel",
      "state": {}
     },
     "7b1b0c520c3943ac8bd8fe8edb86b06f": {
      "model_module": "@jupyter-widgets/base",
      "model_module_version": "1.2.0",
      "model_name": "LayoutModel",
      "state": {}
     },
     "7b4880256d1946809ca760366a74d58a": {
      "model_module": "@jupyter-widgets/base",
      "model_module_version": "1.2.0",
      "model_name": "LayoutModel",
      "state": {}
     },
     "7b4e364b220e4a938c34d1de365bdd0a": {
      "model_module": "@jupyter-widgets/base",
      "model_module_version": "1.2.0",
      "model_name": "LayoutModel",
      "state": {}
     },
     "7b50beb40c344a77bd25cce7e57a6ede": {
      "model_module": "@jupyter-widgets/controls",
      "model_module_version": "1.5.0",
      "model_name": "HTMLModel",
      "state": {
       "layout": "IPY_MODEL_f713694075fb43219a6dcf4981bf4fa0",
       "style": "IPY_MODEL_3d4eb2a03bd64f9b9876df354148ab6c",
       "value": " 2345/2345 [02:00&lt;00:00, 23.68it/s]"
      }
     },
     "7b53a0c66e4c41999d77e3b4e8085c52": {
      "model_module": "@jupyter-widgets/controls",
      "model_module_version": "1.5.0",
      "model_name": "DescriptionStyleModel",
      "state": {
       "description_width": ""
      }
     },
     "7b7f2fba3cd049f59a3d034c63dda0d7": {
      "model_module": "@jupyter-widgets/controls",
      "model_module_version": "1.5.0",
      "model_name": "HTMLModel",
      "state": {
       "layout": "IPY_MODEL_19fff35b57734174ab9d261fc6e47dcf",
       "style": "IPY_MODEL_3f3666de71c041a78fb538b396ee1675",
       "value": " 1266/1266 [01:08&lt;00:00, 25.85it/s]"
      }
     },
     "7b980b8ef2464f8fa36beabb77c45f6f": {
      "model_module": "@jupyter-widgets/base",
      "model_module_version": "1.2.0",
      "model_name": "LayoutModel",
      "state": {}
     },
     "7bd096b3447a4617ae0fdf2dec87d24a": {
      "model_module": "@jupyter-widgets/base",
      "model_module_version": "1.2.0",
      "model_name": "LayoutModel",
      "state": {}
     },
     "7be91bb7347447fa95bf63e5e78f1af0": {
      "model_module": "@jupyter-widgets/controls",
      "model_module_version": "1.5.0",
      "model_name": "DescriptionStyleModel",
      "state": {
       "description_width": ""
      }
     },
     "7c048e31092c4a0689a010cc3ed4b7b9": {
      "model_module": "@jupyter-widgets/base",
      "model_module_version": "1.2.0",
      "model_name": "LayoutModel",
      "state": {}
     },
     "7c117e9db270427e8ca56e0e16d066e3": {
      "model_module": "@jupyter-widgets/base",
      "model_module_version": "1.2.0",
      "model_name": "LayoutModel",
      "state": {}
     },
     "7c3a77f8de3845eb966399b3e0fca175": {
      "model_module": "@jupyter-widgets/base",
      "model_module_version": "1.2.0",
      "model_name": "LayoutModel",
      "state": {}
     },
     "7c5fb71d9b004051bee87f0fe0f1aa5b": {
      "model_module": "@jupyter-widgets/controls",
      "model_module_version": "1.5.0",
      "model_name": "DescriptionStyleModel",
      "state": {
       "description_width": ""
      }
     },
     "7c6be51bf53e4697a7fdb583d0510229": {
      "model_module": "@jupyter-widgets/controls",
      "model_module_version": "1.5.0",
      "model_name": "ProgressStyleModel",
      "state": {
       "description_width": ""
      }
     },
     "7c9e2b8e0c5a4680b210a2f272423378": {
      "model_module": "@jupyter-widgets/controls",
      "model_module_version": "1.5.0",
      "model_name": "DescriptionStyleModel",
      "state": {
       "description_width": ""
      }
     },
     "7c9f2422c2b24cc788c7a4e0dc5d0411": {
      "model_module": "@jupyter-widgets/controls",
      "model_module_version": "1.5.0",
      "model_name": "DescriptionStyleModel",
      "state": {
       "description_width": ""
      }
     },
     "7cb9ea05295d4eaeabdd40631e81b710": {
      "model_module": "@jupyter-widgets/base",
      "model_module_version": "1.2.0",
      "model_name": "LayoutModel",
      "state": {}
     },
     "7d22a44c03444dd0bb2cf8ec8d5b938c": {
      "model_module": "@jupyter-widgets/base",
      "model_module_version": "1.2.0",
      "model_name": "LayoutModel",
      "state": {}
     },
     "7d2327272de44a47b8e681d31b4ef3ff": {
      "model_module": "@jupyter-widgets/controls",
      "model_module_version": "1.5.0",
      "model_name": "HBoxModel",
      "state": {
       "children": [
        "IPY_MODEL_5969738e84a44ef1854ff2e5635057cc",
        "IPY_MODEL_f218935211ba438385a0830fa02c1541",
        "IPY_MODEL_59da243b98d74bb08d4157f1e7bbc605"
       ],
       "layout": "IPY_MODEL_4860c039ac4944fba521b77dc370f652"
      }
     },
     "7d406a6dbd114ee7ae4c7192f9a04acf": {
      "model_module": "@jupyter-widgets/controls",
      "model_module_version": "1.5.0",
      "model_name": "HTMLModel",
      "state": {
       "layout": "IPY_MODEL_adb82de2d5de4eeb801965833b1b94df",
       "style": "IPY_MODEL_2c678dbe1e9c42538892b160b856f5a5",
       "value": "100%"
      }
     },
     "7d683a47b662482ca38de85276a29f48": {
      "model_module": "@jupyter-widgets/controls",
      "model_module_version": "1.5.0",
      "model_name": "HTMLModel",
      "state": {
       "layout": "IPY_MODEL_7aa2a8f7d4b2456e88f63ae56e881129",
       "style": "IPY_MODEL_4446af03b1f8467990e7f1c410315a33",
       "value": "100%"
      }
     },
     "7d7fe2d839bf432c95a2bd0e395d6b04": {
      "model_module": "@jupyter-widgets/base",
      "model_module_version": "1.2.0",
      "model_name": "LayoutModel",
      "state": {}
     },
     "7dbe63a0ce9f46eea0fab0aeaf45a1da": {
      "model_module": "@jupyter-widgets/controls",
      "model_module_version": "1.5.0",
      "model_name": "FloatProgressModel",
      "state": {
       "layout": "IPY_MODEL_fea2bda08fb44fd6be56359cc37f748d",
       "max": 2345,
       "style": "IPY_MODEL_c4ccda000c0642fcbd98bc3782212c2d",
       "value": 2345
      }
     },
     "7dceba7eeba74ef5ae1397843cc07722": {
      "model_module": "@jupyter-widgets/controls",
      "model_module_version": "1.5.0",
      "model_name": "ProgressStyleModel",
      "state": {
       "description_width": ""
      }
     },
     "7dd1bb734b14445398c432da37a35198": {
      "model_module": "@jupyter-widgets/controls",
      "model_module_version": "1.5.0",
      "model_name": "DescriptionStyleModel",
      "state": {
       "description_width": ""
      }
     },
     "7e26897fbeae4d1e84edc8aa1b70d077": {
      "model_module": "@jupyter-widgets/base",
      "model_module_version": "1.2.0",
      "model_name": "LayoutModel",
      "state": {}
     },
     "7eed25154b0146f197843f5cb9af6748": {
      "model_module": "@jupyter-widgets/base",
      "model_module_version": "1.2.0",
      "model_name": "LayoutModel",
      "state": {}
     },
     "7f0b076f73844a948ad4ace4303d0dbf": {
      "model_module": "@jupyter-widgets/base",
      "model_module_version": "1.2.0",
      "model_name": "LayoutModel",
      "state": {}
     },
     "7f1e108953ed44118b6d478d38a0149a": {
      "model_module": "@jupyter-widgets/base",
      "model_module_version": "1.2.0",
      "model_name": "LayoutModel",
      "state": {}
     },
     "7f57072b1fb34d56afe4af2a3d851e19": {
      "model_module": "@jupyter-widgets/base",
      "model_module_version": "1.2.0",
      "model_name": "LayoutModel",
      "state": {}
     },
     "7f7386e169fb49d892d4c4c07aa692e6": {
      "model_module": "@jupyter-widgets/base",
      "model_module_version": "1.2.0",
      "model_name": "LayoutModel",
      "state": {}
     },
     "7f7c67ecda7243b38f1606b1d682c9a1": {
      "model_module": "@jupyter-widgets/base",
      "model_module_version": "1.2.0",
      "model_name": "LayoutModel",
      "state": {}
     },
     "8078049beb8c4ea1b7e178fdd26f0ee1": {
      "model_module": "@jupyter-widgets/controls",
      "model_module_version": "1.5.0",
      "model_name": "DescriptionStyleModel",
      "state": {
       "description_width": ""
      }
     },
     "807f9d4913d048a0990def280fd2a40d": {
      "model_module": "@jupyter-widgets/base",
      "model_module_version": "1.2.0",
      "model_name": "LayoutModel",
      "state": {}
     },
     "809b4013091d4594af3f023f2878cb57": {
      "model_module": "@jupyter-widgets/controls",
      "model_module_version": "1.5.0",
      "model_name": "HTMLModel",
      "state": {
       "layout": "IPY_MODEL_575cecbbc9cb4be9bd996f7be19c62a4",
       "style": "IPY_MODEL_7be91bb7347447fa95bf63e5e78f1af0",
       "value": " 2345/2345 [00:11&lt;00:00, 7482.53it/s]"
      }
     },
     "80ebdccf3b3243ee8ae063782a2653e1": {
      "model_module": "@jupyter-widgets/base",
      "model_module_version": "1.2.0",
      "model_name": "LayoutModel",
      "state": {}
     },
     "81182d4a069646faa574e34a1b0667ff": {
      "model_module": "@jupyter-widgets/base",
      "model_module_version": "1.2.0",
      "model_name": "LayoutModel",
      "state": {}
     },
     "8132ca9abdc2439983574205f3123da7": {
      "model_module": "@jupyter-widgets/controls",
      "model_module_version": "1.5.0",
      "model_name": "DescriptionStyleModel",
      "state": {
       "description_width": ""
      }
     },
     "814d29d60a4142d88ae8e55415aab27b": {
      "model_module": "@jupyter-widgets/controls",
      "model_module_version": "1.5.0",
      "model_name": "HBoxModel",
      "state": {
       "children": [
        "IPY_MODEL_3528f048984d4264adec0c6c8d418537",
        "IPY_MODEL_845118251ffe4991afdfbb9cb4e0cb91",
        "IPY_MODEL_9052da4196fe4d889f93f1ecc82611e9"
       ],
       "layout": "IPY_MODEL_144e55745e294bbf90d49b2cd16e07df"
      }
     },
     "816b55e3dd294e638cab4c84c628ddb8": {
      "model_module": "@jupyter-widgets/base",
      "model_module_version": "1.2.0",
      "model_name": "LayoutModel",
      "state": {}
     },
     "81be036e684b400ea7fb46aa3fdf1e9e": {
      "model_module": "@jupyter-widgets/base",
      "model_module_version": "1.2.0",
      "model_name": "LayoutModel",
      "state": {}
     },
     "81d1012f2d934a859d232b325ebeb24f": {
      "model_module": "@jupyter-widgets/base",
      "model_module_version": "1.2.0",
      "model_name": "LayoutModel",
      "state": {}
     },
     "8208987ff76f4376a4e80be3a81fce5a": {
      "model_module": "@jupyter-widgets/controls",
      "model_module_version": "1.5.0",
      "model_name": "DescriptionStyleModel",
      "state": {
       "description_width": ""
      }
     },
     "8212936519354f528683bd03e33d0ea3": {
      "model_module": "@jupyter-widgets/controls",
      "model_module_version": "1.5.0",
      "model_name": "HBoxModel",
      "state": {
       "children": [
        "IPY_MODEL_99cdd47a82af4614a26e8e363e4f4afe",
        "IPY_MODEL_b30bc9bfc6d34b2cb014df56ea7ca023",
        "IPY_MODEL_48ab73d8ca4c43f9b50878df390b2def"
       ],
       "layout": "IPY_MODEL_54fe6f8319a5466bbc22acb219d5eda3"
      }
     },
     "824a47a86a55484aa2e385455ac5c9e9": {
      "model_module": "@jupyter-widgets/controls",
      "model_module_version": "1.5.0",
      "model_name": "HTMLModel",
      "state": {
       "layout": "IPY_MODEL_07f95bfc58f44011b043af984dea1800",
       "style": "IPY_MODEL_a33c617026cd404ea420e5ed18a208e6",
       "value": "100%"
      }
     },
     "82639f65e63f4ec3b5902d94edd141a8": {
      "model_module": "@jupyter-widgets/controls",
      "model_module_version": "1.5.0",
      "model_name": "DescriptionStyleModel",
      "state": {
       "description_width": ""
      }
     },
     "8268d673e98148eeafdeec3d1b183a3b": {
      "model_module": "@jupyter-widgets/controls",
      "model_module_version": "1.5.0",
      "model_name": "FloatProgressModel",
      "state": {
       "layout": "IPY_MODEL_77f23b77cee64cc5921883aed3b9e10e",
       "max": 2345,
       "style": "IPY_MODEL_6e39c4d2ffdb420ea9033f55efcb4aa6",
       "value": 2345
      }
     },
     "8273f0868ccb4d74884edaa8b42f35ed": {
      "model_module": "@jupyter-widgets/controls",
      "model_module_version": "1.5.0",
      "model_name": "FloatProgressModel",
      "state": {
       "layout": "IPY_MODEL_94c8e003b01e4ef5a81ed3cb89bf6cab",
       "max": 2345,
       "style": "IPY_MODEL_e41b98003e554232b04155f057231791",
       "value": 2345
      }
     },
     "827503142f4a4f01b77535d30a1b63c7": {
      "model_module": "@jupyter-widgets/controls",
      "model_module_version": "1.5.0",
      "model_name": "HBoxModel",
      "state": {
       "children": [
        "IPY_MODEL_38e6dd10388a447a8302a589c76d853b",
        "IPY_MODEL_8342a2af84e947dd994307fb8d973095",
        "IPY_MODEL_ac93aa1ec76e4f58bb8a2e8163546a2f"
       ],
       "layout": "IPY_MODEL_acbf449342d14382ae51034abdf5e3d6"
      }
     },
     "82e22a238b04415e809d1d292c4e4f7b": {
      "model_module": "@jupyter-widgets/base",
      "model_module_version": "1.2.0",
      "model_name": "LayoutModel",
      "state": {}
     },
     "8342a2af84e947dd994307fb8d973095": {
      "model_module": "@jupyter-widgets/controls",
      "model_module_version": "1.5.0",
      "model_name": "FloatProgressModel",
      "state": {
       "layout": "IPY_MODEL_7779e085cea14b38b3b37afc36635682",
       "max": 1266,
       "style": "IPY_MODEL_6fde8f143fe549129c5577df14fb6560",
       "value": 1266
      }
     },
     "8349ea6aca3c41768efee8ab96368cf1": {
      "model_module": "@jupyter-widgets/base",
      "model_module_version": "1.2.0",
      "model_name": "LayoutModel",
      "state": {}
     },
     "8373a15e0c274870bf301bcb3a493769": {
      "model_module": "@jupyter-widgets/base",
      "model_module_version": "1.2.0",
      "model_name": "LayoutModel",
      "state": {}
     },
     "83b75f520aca4e1fb3bf314b0e71e02d": {
      "model_module": "@jupyter-widgets/controls",
      "model_module_version": "1.5.0",
      "model_name": "DescriptionStyleModel",
      "state": {
       "description_width": ""
      }
     },
     "83d5fe78388749848b49dbd3e9077a2a": {
      "model_module": "@jupyter-widgets/base",
      "model_module_version": "1.2.0",
      "model_name": "LayoutModel",
      "state": {}
     },
     "83ea8ddd4d00453083fab8386e6e6bf0": {
      "model_module": "@jupyter-widgets/controls",
      "model_module_version": "1.5.0",
      "model_name": "DescriptionStyleModel",
      "state": {
       "description_width": ""
      }
     },
     "83eeeb54f57e45bd8fdc409049b66182": {
      "model_module": "@jupyter-widgets/base",
      "model_module_version": "1.2.0",
      "model_name": "LayoutModel",
      "state": {}
     },
     "83f63007dd884b25963e32e73d82c4aa": {
      "model_module": "@jupyter-widgets/controls",
      "model_module_version": "1.5.0",
      "model_name": "FloatProgressModel",
      "state": {
       "layout": "IPY_MODEL_ffe9ac24a6c34c34b7ebb03bade453b6",
       "max": 1266,
       "style": "IPY_MODEL_037741fc27a64322b0f1b95af19e83e4",
       "value": 1266
      }
     },
     "840081abfb594d6aaea769d957883208": {
      "model_module": "@jupyter-widgets/base",
      "model_module_version": "1.2.0",
      "model_name": "LayoutModel",
      "state": {}
     },
     "8410235878fc41a3a60f1386fbcc56eb": {
      "model_module": "@jupyter-widgets/controls",
      "model_module_version": "1.5.0",
      "model_name": "DescriptionStyleModel",
      "state": {
       "description_width": ""
      }
     },
     "8440236f6d384da8a81b0631f1d8e414": {
      "model_module": "@jupyter-widgets/base",
      "model_module_version": "1.2.0",
      "model_name": "LayoutModel",
      "state": {}
     },
     "845118251ffe4991afdfbb9cb4e0cb91": {
      "model_module": "@jupyter-widgets/controls",
      "model_module_version": "1.5.0",
      "model_name": "FloatProgressModel",
      "state": {
       "layout": "IPY_MODEL_0ffb5d2c98b54089bceff39690f117b2",
       "max": 2345,
       "style": "IPY_MODEL_d1f1b885ae2b4c4aa0aafc533f369a52",
       "value": 2345
      }
     },
     "85208fac2bbb4e6a8b346464a63e2b37": {
      "model_module": "@jupyter-widgets/base",
      "model_module_version": "1.2.0",
      "model_name": "LayoutModel",
      "state": {}
     },
     "858787369801491baf90d556e94793c2": {
      "model_module": "@jupyter-widgets/controls",
      "model_module_version": "1.5.0",
      "model_name": "HTMLModel",
      "state": {
       "layout": "IPY_MODEL_1f2debca7bb340e0a9ef5152f8f8dbf1",
       "style": "IPY_MODEL_342f140e3e8a4f23b380cf8eb9f2e792",
       "value": " 2345/2345 [00:16&lt;00:00, 7492.63it/s]"
      }
     },
     "85abba1766ea45b9928aa39f45acee3c": {
      "model_module": "@jupyter-widgets/base",
      "model_module_version": "1.2.0",
      "model_name": "LayoutModel",
      "state": {}
     },
     "85c5e89504134d8fa3d2cbf2ae82be56": {
      "model_module": "@jupyter-widgets/controls",
      "model_module_version": "1.5.0",
      "model_name": "HTMLModel",
      "state": {
       "layout": "IPY_MODEL_e7f4f24f1dd24119b573a2465803638c",
       "style": "IPY_MODEL_4e8a91228f434c0eaad46dd2a1b730ac",
       "value": " 2345/2345 [01:51&lt;00:00, 25.28it/s]"
      }
     },
     "86358fec24864d3b8d63275541d0e2ea": {
      "model_module": "@jupyter-widgets/base",
      "model_module_version": "1.2.0",
      "model_name": "LayoutModel",
      "state": {}
     },
     "8641daed23b64d5b9ba16d9a3e158b27": {
      "model_module": "@jupyter-widgets/base",
      "model_module_version": "1.2.0",
      "model_name": "LayoutModel",
      "state": {}
     },
     "864e368f53a04c00998c539a65b33505": {
      "model_module": "@jupyter-widgets/controls",
      "model_module_version": "1.5.0",
      "model_name": "FloatProgressModel",
      "state": {
       "layout": "IPY_MODEL_f3513e26211a4dc398351c6113960817",
       "max": 2345,
       "style": "IPY_MODEL_c5ecc8b1b37442eb96bada78edc893d0",
       "value": 2345
      }
     },
     "86a1cf2f1d3b4cf1920d9c5417b150cf": {
      "model_module": "@jupyter-widgets/controls",
      "model_module_version": "1.5.0",
      "model_name": "HBoxModel",
      "state": {
       "children": [
        "IPY_MODEL_cf1d135c830042a0be4060344aa063e9",
        "IPY_MODEL_10fd897e7d5941fe86e1dac5535b834e",
        "IPY_MODEL_46448c76199541fbb6f876c7ab4bd4b0"
       ],
       "layout": "IPY_MODEL_a53a9d833c4543aa9fe206ccea30aba8"
      }
     },
     "86dec958017a4c00bd3a91923b9b5eeb": {
      "model_module": "@jupyter-widgets/controls",
      "model_module_version": "1.5.0",
      "model_name": "FloatProgressModel",
      "state": {
       "layout": "IPY_MODEL_8440236f6d384da8a81b0631f1d8e414",
       "max": 2345,
       "style": "IPY_MODEL_4596af4a6d9b41d6a07b66ab0e9ecfcf",
       "value": 2345
      }
     },
     "86f8fba6f33f4096a1533c3c83ac696f": {
      "model_module": "@jupyter-widgets/controls",
      "model_module_version": "1.5.0",
      "model_name": "HTMLModel",
      "state": {
       "layout": "IPY_MODEL_2bc9f6cb877f4ec087e51a74a8c876d0",
       "style": "IPY_MODEL_7b53a0c66e4c41999d77e3b4e8085c52",
       "value": " 2345/2345 [00:14&lt;00:00, 7454.37it/s]"
      }
     },
     "871eaa7189a5406b8a25b82b4d4d0b96": {
      "model_module": "@jupyter-widgets/base",
      "model_module_version": "1.2.0",
      "model_name": "LayoutModel",
      "state": {}
     },
     "872ba9aa9b4c4df39021c9a52cca389f": {
      "model_module": "@jupyter-widgets/controls",
      "model_module_version": "1.5.0",
      "model_name": "FloatProgressModel",
      "state": {
       "layout": "IPY_MODEL_a446f8db25254f1b8e1fcd9cb1e0e4b3",
       "max": 2345,
       "style": "IPY_MODEL_9f996fba3cc846bab2420c56bc02e589",
       "value": 2345
      }
     },
     "873299c9377c4d149ed6f48469bf269a": {
      "model_module": "@jupyter-widgets/base",
      "model_module_version": "1.2.0",
      "model_name": "LayoutModel",
      "state": {}
     },
     "8779ecf103514191bd22c3b643e826c2": {
      "model_module": "@jupyter-widgets/controls",
      "model_module_version": "1.5.0",
      "model_name": "HTMLModel",
      "state": {
       "layout": "IPY_MODEL_d23904407aa64e7cb94df60be995ab2a",
       "style": "IPY_MODEL_00af25b6b139498cbb643619f20db863",
       "value": "100%"
      }
     },
     "885549a93afe47be913dd398493a55a2": {
      "model_module": "@jupyter-widgets/controls",
      "model_module_version": "1.5.0",
      "model_name": "HBoxModel",
      "state": {
       "children": [
        "IPY_MODEL_6fbcbc2cc6654b7cb1edaf154ac8f735",
        "IPY_MODEL_0eb2c33ed3d7487cb492233a1d146f70",
        "IPY_MODEL_a0460c7e68084013a727d7d95f9f30c4"
       ],
       "layout": "IPY_MODEL_fd02114914e9498cab7e247279da8814"
      }
     },
     "885c1b725d47410ba31587e0df23e675": {
      "model_module": "@jupyter-widgets/base",
      "model_module_version": "1.2.0",
      "model_name": "LayoutModel",
      "state": {}
     },
     "8860a2ee40bc4974b377b449c47567c5": {
      "model_module": "@jupyter-widgets/base",
      "model_module_version": "1.2.0",
      "model_name": "LayoutModel",
      "state": {}
     },
     "88c67b1eb50a4299a215d7265becad7c": {
      "model_module": "@jupyter-widgets/controls",
      "model_module_version": "1.5.0",
      "model_name": "ProgressStyleModel",
      "state": {
       "description_width": ""
      }
     },
     "88ff193467804caebced8c0c4ec5a7f6": {
      "model_module": "@jupyter-widgets/controls",
      "model_module_version": "1.5.0",
      "model_name": "DescriptionStyleModel",
      "state": {
       "description_width": ""
      }
     },
     "893f8b2a964e44e3a8eaca81f1caa9ce": {
      "model_module": "@jupyter-widgets/controls",
      "model_module_version": "1.5.0",
      "model_name": "HBoxModel",
      "state": {
       "children": [
        "IPY_MODEL_dcfcadad05d24c179f3f3973631a79e8",
        "IPY_MODEL_0c1c8c088406419eabfcad919e786b29",
        "IPY_MODEL_b5f9b6a5c68b4343af02638e8aabdfad"
       ],
       "layout": "IPY_MODEL_bd76278bd64e43c7865664a9e107ee37"
      }
     },
     "8940d98711cd4096a59ba330122d2cdf": {
      "model_module": "@jupyter-widgets/controls",
      "model_module_version": "1.5.0",
      "model_name": "FloatProgressModel",
      "state": {
       "layout": "IPY_MODEL_f8c735dcd89d42faaccff082d6885fa9",
       "max": 1266,
       "style": "IPY_MODEL_54720db128bd434f8c45836330a7b707",
       "value": 1266
      }
     },
     "8955a93ecafd4dafaab064c664f7d747": {
      "model_module": "@jupyter-widgets/controls",
      "model_module_version": "1.5.0",
      "model_name": "ProgressStyleModel",
      "state": {
       "description_width": ""
      }
     },
     "896887b3a110421ca1d3def78a4c1b2e": {
      "model_module": "@jupyter-widgets/base",
      "model_module_version": "1.2.0",
      "model_name": "LayoutModel",
      "state": {}
     },
     "89da8bc414664589b1be4725c643ecbb": {
      "model_module": "@jupyter-widgets/controls",
      "model_module_version": "1.5.0",
      "model_name": "DescriptionStyleModel",
      "state": {
       "description_width": ""
      }
     },
     "8a1c855fe1134a8cb07b3af4cbbc5066": {
      "model_module": "@jupyter-widgets/controls",
      "model_module_version": "1.5.0",
      "model_name": "DescriptionStyleModel",
      "state": {
       "description_width": ""
      }
     },
     "8a1f5b83fca54f11957f07ec7fc43d37": {
      "model_module": "@jupyter-widgets/controls",
      "model_module_version": "1.5.0",
      "model_name": "DescriptionStyleModel",
      "state": {
       "description_width": ""
      }
     },
     "8a36d09ad26e4ae6b02785e6d6a9cb11": {
      "model_module": "@jupyter-widgets/base",
      "model_module_version": "1.2.0",
      "model_name": "LayoutModel",
      "state": {}
     },
     "8a743f62f30b4b2a808c1cf705e41a90": {
      "model_module": "@jupyter-widgets/base",
      "model_module_version": "1.2.0",
      "model_name": "LayoutModel",
      "state": {}
     },
     "8a7518f8a50e47c484ffaf262e0f7adf": {
      "model_module": "@jupyter-widgets/base",
      "model_module_version": "1.2.0",
      "model_name": "LayoutModel",
      "state": {}
     },
     "8a9bfda1a42c4812905f49a738c84a61": {
      "model_module": "@jupyter-widgets/controls",
      "model_module_version": "1.5.0",
      "model_name": "HBoxModel",
      "state": {
       "children": [
        "IPY_MODEL_36b3b992e9e74bd890e4ff12fd9b4bd9",
        "IPY_MODEL_48220d839f2c40ba89c48d9a27fc071f",
        "IPY_MODEL_e8fa99b389a5408fa043e5cf924c7ecf"
       ],
       "layout": "IPY_MODEL_ad7bfac084f6473c88645eb9e6fce176"
      }
     },
     "8a9d841b831b43c39df4c541adb832b7": {
      "model_module": "@jupyter-widgets/controls",
      "model_module_version": "1.5.0",
      "model_name": "HBoxModel",
      "state": {
       "children": [
        "IPY_MODEL_574af38d042143af969de1b2b0fb66a2",
        "IPY_MODEL_d123cca9078742af9c4a3feb0a254206",
        "IPY_MODEL_d32019d295e1463f8dec9a0b13b3948b"
       ],
       "layout": "IPY_MODEL_2aa262e6e8234a8c8725a54b1ea8f0d7"
      }
     },
     "8b674f2619ab4cd4b7a43f836ecc1253": {
      "model_module": "@jupyter-widgets/controls",
      "model_module_version": "1.5.0",
      "model_name": "DescriptionStyleModel",
      "state": {
       "description_width": ""
      }
     },
     "8b6e91f694114fac85ee5aaa6924a8e2": {
      "model_module": "@jupyter-widgets/controls",
      "model_module_version": "1.5.0",
      "model_name": "ProgressStyleModel",
      "state": {
       "description_width": ""
      }
     },
     "8b7346409e9041f982ceac41d3bdcc1d": {
      "model_module": "@jupyter-widgets/controls",
      "model_module_version": "1.5.0",
      "model_name": "HTMLModel",
      "state": {
       "layout": "IPY_MODEL_913c392d3ccd40419d8dee3181c9c00b",
       "style": "IPY_MODEL_f68e82b683aa45cf8eb3bbd9fc16baa4",
       "value": " 1266/1266 [01:04&lt;00:00, 25.43it/s]"
      }
     },
     "8be78aa71eed485190bd12cc1825d4bb": {
      "model_module": "@jupyter-widgets/base",
      "model_module_version": "1.2.0",
      "model_name": "LayoutModel",
      "state": {}
     },
     "8bf48fb7312f4aa893027cd58cd3a9ed": {
      "model_module": "@jupyter-widgets/controls",
      "model_module_version": "1.5.0",
      "model_name": "DescriptionStyleModel",
      "state": {
       "description_width": ""
      }
     },
     "8bfca318bcf24d7fb90830318c6d45f0": {
      "model_module": "@jupyter-widgets/controls",
      "model_module_version": "1.5.0",
      "model_name": "HTMLModel",
      "state": {
       "layout": "IPY_MODEL_6f8ea64d816141e1af22b1cc49ee9032",
       "style": "IPY_MODEL_3eb4a735f9cf44c39f5495f7f346ee4a",
       "value": " 1266/1266 [01:05&lt;00:00, 24.96it/s]"
      }
     },
     "8bfec45c9cfc413480b151189997f6e4": {
      "model_module": "@jupyter-widgets/controls",
      "model_module_version": "1.5.0",
      "model_name": "ProgressStyleModel",
      "state": {
       "description_width": ""
      }
     },
     "8c05f9cdd70b469aa1e49c6fc677c961": {
      "model_module": "@jupyter-widgets/base",
      "model_module_version": "1.2.0",
      "model_name": "LayoutModel",
      "state": {}
     },
     "8c120832730b426083b28fbccd280ab4": {
      "model_module": "@jupyter-widgets/controls",
      "model_module_version": "1.5.0",
      "model_name": "HTMLModel",
      "state": {
       "layout": "IPY_MODEL_07cc6a50b6664460b9f782ec4e15df9f",
       "style": "IPY_MODEL_25233dc051e5445ba8d659e3f7de2bb3",
       "value": " 2345/2345 [00:18&lt;00:00, 7586.72it/s]"
      }
     },
     "8c8db780fb6440a795de4782b701bd37": {
      "model_module": "@jupyter-widgets/controls",
      "model_module_version": "1.5.0",
      "model_name": "HTMLModel",
      "state": {
       "layout": "IPY_MODEL_85abba1766ea45b9928aa39f45acee3c",
       "style": "IPY_MODEL_8a1c855fe1134a8cb07b3af4cbbc5066",
       "value": "100%"
      }
     },
     "8c8fabf1391248439f121971fc3011c7": {
      "model_module": "@jupyter-widgets/controls",
      "model_module_version": "1.5.0",
      "model_name": "HTMLModel",
      "state": {
       "layout": "IPY_MODEL_a924873b31194105b909d0b743eccd74",
       "style": "IPY_MODEL_ce9c5e5614894c63b8eecf3865658c2e",
       "value": " 1266/1266 [01:02&lt;00:00, 25.41it/s]"
      }
     },
     "8ca47c360f7947cc89b1c20cc3ac4c73": {
      "model_module": "@jupyter-widgets/base",
      "model_module_version": "1.2.0",
      "model_name": "LayoutModel",
      "state": {}
     },
     "8cbac007d3614837aa3b84b197b14962": {
      "model_module": "@jupyter-widgets/controls",
      "model_module_version": "1.5.0",
      "model_name": "HBoxModel",
      "state": {
       "children": [
        "IPY_MODEL_d008ded9b69b415eb594d2772ba6ae8b",
        "IPY_MODEL_0d3b25e6f45845c184efe4abf0cf3f09",
        "IPY_MODEL_aee9bb1e20d04f48ab8cacfe9ec33e7b"
       ],
       "layout": "IPY_MODEL_a41e5f99490545ca820e0d5a544079ee"
      }
     },
     "8d00b472d8de4297a9ca353d0cda037c": {
      "model_module": "@jupyter-widgets/base",
      "model_module_version": "1.2.0",
      "model_name": "LayoutModel",
      "state": {}
     },
     "8d1680e0fa2e4194bc873ca8cd4cacf7": {
      "model_module": "@jupyter-widgets/controls",
      "model_module_version": "1.5.0",
      "model_name": "FloatProgressModel",
      "state": {
       "layout": "IPY_MODEL_cecd7edb49f5474d88271e313c4b25b5",
       "max": 2345,
       "style": "IPY_MODEL_49ff027908064e11864b876ffc720f90",
       "value": 2345
      }
     },
     "8d416728882d4602827b935a7e35e0f1": {
      "model_module": "@jupyter-widgets/controls",
      "model_module_version": "1.5.0",
      "model_name": "HBoxModel",
      "state": {
       "children": [
        "IPY_MODEL_0def9a898a5e40f2afe011fd33891eed",
        "IPY_MODEL_20442fefcc0c4b0d909435990394c48e",
        "IPY_MODEL_daf81c6ae29b40cd907260cd32747008"
       ],
       "layout": "IPY_MODEL_17fe5ec96a4f437683133d1889ed477a"
      }
     },
     "8d8c347f32b348d1974f0409a6472b76": {
      "model_module": "@jupyter-widgets/base",
      "model_module_version": "1.2.0",
      "model_name": "LayoutModel",
      "state": {}
     },
     "8db08c141f2649e1a022f534ef99be8a": {
      "model_module": "@jupyter-widgets/base",
      "model_module_version": "1.2.0",
      "model_name": "LayoutModel",
      "state": {}
     },
     "8defebda0a984d81b4fed1114ee0a27e": {
      "model_module": "@jupyter-widgets/base",
      "model_module_version": "1.2.0",
      "model_name": "LayoutModel",
      "state": {}
     },
     "8e1586a5d151435fbb6fb600ffc72973": {
      "model_module": "@jupyter-widgets/controls",
      "model_module_version": "1.5.0",
      "model_name": "HBoxModel",
      "state": {
       "children": [
        "IPY_MODEL_6aea7f9f199645ce92eea9feef39d7a2",
        "IPY_MODEL_75fad400691a4070bac16d15d8818aca",
        "IPY_MODEL_ab7ed13cbe75472eab01e6873a95990a"
       ],
       "layout": "IPY_MODEL_c295064b63be407fb33225c92fb6db24"
      }
     },
     "8e3c458519f74215b68fc97920da634a": {
      "model_module": "@jupyter-widgets/controls",
      "model_module_version": "1.5.0",
      "model_name": "ProgressStyleModel",
      "state": {
       "description_width": ""
      }
     },
     "8e6abcf558f04081b0242c704791df8c": {
      "model_module": "@jupyter-widgets/controls",
      "model_module_version": "1.5.0",
      "model_name": "HTMLModel",
      "state": {
       "layout": "IPY_MODEL_6c51778056fd413fb47bea3adf9517f8",
       "style": "IPY_MODEL_aae138b0bebb4259ae2fb00984a37cd8",
       "value": " 2345/2345 [00:19&lt;00:00, 7637.58it/s]"
      }
     },
     "8e73b3c225d94e1c9f3c921b27a0736a": {
      "model_module": "@jupyter-widgets/controls",
      "model_module_version": "1.5.0",
      "model_name": "FloatProgressModel",
      "state": {
       "layout": "IPY_MODEL_5e993db0d724447295dc5781ffccd585",
       "max": 2345,
       "style": "IPY_MODEL_0e3c26c7d92346cba4f00d20eb9e0f61",
       "value": 2345
      }
     },
     "8ea1b6262d7342989194429b12f95747": {
      "model_module": "@jupyter-widgets/controls",
      "model_module_version": "1.5.0",
      "model_name": "ProgressStyleModel",
      "state": {
       "description_width": ""
      }
     },
     "8eaa0ee0d5664dcfabca5c01ffd2f4f3": {
      "model_module": "@jupyter-widgets/controls",
      "model_module_version": "1.5.0",
      "model_name": "ProgressStyleModel",
      "state": {
       "description_width": ""
      }
     },
     "8ecd81c4c878463580ab6d9698ea9fc1": {
      "model_module": "@jupyter-widgets/base",
      "model_module_version": "1.2.0",
      "model_name": "LayoutModel",
      "state": {}
     },
     "8ed940614900430886a612977802c66c": {
      "model_module": "@jupyter-widgets/controls",
      "model_module_version": "1.5.0",
      "model_name": "HBoxModel",
      "state": {
       "children": [
        "IPY_MODEL_6944b60c72cf4e8cbfba4a7baf098c2a",
        "IPY_MODEL_a6cdb08b395441668efbfe567b58bc30",
        "IPY_MODEL_a904414f2b5d498eb7486aa7842dff3f"
       ],
       "layout": "IPY_MODEL_37206660735e472aab99c29c71818e6e"
      }
     },
     "8eda8c946e3a4ecea19ef68bef1b7c92": {
      "model_module": "@jupyter-widgets/base",
      "model_module_version": "1.2.0",
      "model_name": "LayoutModel",
      "state": {}
     },
     "8f020883fa094f2e9e0e3176a15eeb84": {
      "model_module": "@jupyter-widgets/base",
      "model_module_version": "1.2.0",
      "model_name": "LayoutModel",
      "state": {}
     },
     "8f18971fc54845e7bd0465c54eae7bb4": {
      "model_module": "@jupyter-widgets/controls",
      "model_module_version": "1.5.0",
      "model_name": "DescriptionStyleModel",
      "state": {
       "description_width": ""
      }
     },
     "8f760bdab8b04430aa74bb56e2d2e162": {
      "model_module": "@jupyter-widgets/controls",
      "model_module_version": "1.5.0",
      "model_name": "ProgressStyleModel",
      "state": {
       "description_width": ""
      }
     },
     "8f82b58acc8946b6be5026a51b4050cc": {
      "model_module": "@jupyter-widgets/base",
      "model_module_version": "1.2.0",
      "model_name": "LayoutModel",
      "state": {}
     },
     "8fcb04e90a6345d6b04458c205c7cbb2": {
      "model_module": "@jupyter-widgets/controls",
      "model_module_version": "1.5.0",
      "model_name": "ProgressStyleModel",
      "state": {
       "description_width": ""
      }
     },
     "90280dcf8bac4e1fad14919861ff777f": {
      "model_module": "@jupyter-widgets/controls",
      "model_module_version": "1.5.0",
      "model_name": "DescriptionStyleModel",
      "state": {
       "description_width": ""
      }
     },
     "9047a5e31af54b7494027e67e0171bd4": {
      "model_module": "@jupyter-widgets/controls",
      "model_module_version": "1.5.0",
      "model_name": "DescriptionStyleModel",
      "state": {
       "description_width": ""
      }
     },
     "9047d3e7cf9b4aa3a291990d30617639": {
      "model_module": "@jupyter-widgets/base",
      "model_module_version": "1.2.0",
      "model_name": "LayoutModel",
      "state": {}
     },
     "904f6e7eb4aa46ee89d62b4db6b608c7": {
      "model_module": "@jupyter-widgets/controls",
      "model_module_version": "1.5.0",
      "model_name": "ProgressStyleModel",
      "state": {
       "description_width": ""
      }
     },
     "9052da4196fe4d889f93f1ecc82611e9": {
      "model_module": "@jupyter-widgets/controls",
      "model_module_version": "1.5.0",
      "model_name": "HTMLModel",
      "state": {
       "layout": "IPY_MODEL_eaecefa5e8cd4aab9b0356b433e9b5e3",
       "style": "IPY_MODEL_e60821c170b544c4909e509d92e4ad50",
       "value": " 2345/2345 [00:13&lt;00:00, 7589.41it/s]"
      }
     },
     "90861600049b49c2ace73deb5c568a09": {
      "model_module": "@jupyter-widgets/base",
      "model_module_version": "1.2.0",
      "model_name": "LayoutModel",
      "state": {}
     },
     "90bc1471c431431d86007b0cb50637e0": {
      "model_module": "@jupyter-widgets/controls",
      "model_module_version": "1.5.0",
      "model_name": "DescriptionStyleModel",
      "state": {
       "description_width": ""
      }
     },
     "9118bf6123a64b4aade7150f27ebbb58": {
      "model_module": "@jupyter-widgets/controls",
      "model_module_version": "1.5.0",
      "model_name": "DescriptionStyleModel",
      "state": {
       "description_width": ""
      }
     },
     "913c392d3ccd40419d8dee3181c9c00b": {
      "model_module": "@jupyter-widgets/base",
      "model_module_version": "1.2.0",
      "model_name": "LayoutModel",
      "state": {}
     },
     "91ac1556e7244a3683f022bd696f5ab8": {
      "model_module": "@jupyter-widgets/base",
      "model_module_version": "1.2.0",
      "model_name": "LayoutModel",
      "state": {}
     },
     "91b5a15fe2a84cf79251c65c1843f843": {
      "model_module": "@jupyter-widgets/controls",
      "model_module_version": "1.5.0",
      "model_name": "HTMLModel",
      "state": {
       "layout": "IPY_MODEL_786dfd1aad3c4b84aac9f18f8374a8c0",
       "style": "IPY_MODEL_8410235878fc41a3a60f1386fbcc56eb",
       "value": " 1266/1266 [01:06&lt;00:00, 24.96it/s]"
      }
     },
     "91c249a130d34f54977ad6aa17bc6765": {
      "model_module": "@jupyter-widgets/controls",
      "model_module_version": "1.5.0",
      "model_name": "DescriptionStyleModel",
      "state": {
       "description_width": ""
      }
     },
     "91cfb4dbd3dd456498060271f9ed177e": {
      "model_module": "@jupyter-widgets/base",
      "model_module_version": "1.2.0",
      "model_name": "LayoutModel",
      "state": {}
     },
     "9203ac01583f49b7a722100d10458812": {
      "model_module": "@jupyter-widgets/controls",
      "model_module_version": "1.5.0",
      "model_name": "DescriptionStyleModel",
      "state": {
       "description_width": ""
      }
     },
     "9252fbab0e7b4ca29f1d2b13fea4f2b8": {
      "model_module": "@jupyter-widgets/controls",
      "model_module_version": "1.5.0",
      "model_name": "HTMLModel",
      "state": {
       "layout": "IPY_MODEL_f530434001f34c5e95a0d4269ace7cad",
       "style": "IPY_MODEL_9047a5e31af54b7494027e67e0171bd4",
       "value": "100%"
      }
     },
     "927ae21aed664ff18025108e308b77bd": {
      "model_module": "@jupyter-widgets/controls",
      "model_module_version": "1.5.0",
      "model_name": "HTMLModel",
      "state": {
       "layout": "IPY_MODEL_00f93761afb845b1851942b234f92295",
       "style": "IPY_MODEL_c6b8c9e44714433aa81b93cdbfd62100",
       "value": "  0%"
      }
     },
     "929734e2e36f44f2948c07460398e60e": {
      "model_module": "@jupyter-widgets/base",
      "model_module_version": "1.2.0",
      "model_name": "LayoutModel",
      "state": {}
     },
     "929856348a5f41ab837035c3441e37fd": {
      "model_module": "@jupyter-widgets/controls",
      "model_module_version": "1.5.0",
      "model_name": "DescriptionStyleModel",
      "state": {
       "description_width": ""
      }
     },
     "9312651f21f94c2da1ae5fed3283dffb": {
      "model_module": "@jupyter-widgets/base",
      "model_module_version": "1.2.0",
      "model_name": "LayoutModel",
      "state": {}
     },
     "9390a1dc61d04f6482efd2149cba7413": {
      "model_module": "@jupyter-widgets/controls",
      "model_module_version": "1.5.0",
      "model_name": "HTMLModel",
      "state": {
       "layout": "IPY_MODEL_b453f790a8a74b4790f25910d4551e31",
       "style": "IPY_MODEL_2b69a0c4e78245af9ab3e4404e319da5",
       "value": " 1266/1266 [01:11&lt;00:00, 21.68it/s]"
      }
     },
     "93a00237efbc4dc19cefc06fe93acd25": {
      "model_module": "@jupyter-widgets/base",
      "model_module_version": "1.2.0",
      "model_name": "LayoutModel",
      "state": {}
     },
     "93adfb019ac64450b9a71207ec5adc29": {
      "model_module": "@jupyter-widgets/controls",
      "model_module_version": "1.5.0",
      "model_name": "FloatProgressModel",
      "state": {
       "layout": "IPY_MODEL_1d3c62547e514fe19a6096e6adf77bdd",
       "max": 2345,
       "style": "IPY_MODEL_f5154b1aa2dd4ebd9d6dc068927f175f",
       "value": 2345
      }
     },
     "93c67a41c1764be89cfc737881f0f7f6": {
      "model_module": "@jupyter-widgets/base",
      "model_module_version": "1.2.0",
      "model_name": "LayoutModel",
      "state": {}
     },
     "93d8af6eae0f4b4f9f0a31a135a45c23": {
      "model_module": "@jupyter-widgets/controls",
      "model_module_version": "1.5.0",
      "model_name": "HTMLModel",
      "state": {
       "layout": "IPY_MODEL_8f020883fa094f2e9e0e3176a15eeb84",
       "style": "IPY_MODEL_fa80a40b958e4aa0a30882268fa175bb",
       "value": " 2345/2345 [00:17&lt;00:00, 7504.25it/s]"
      }
     },
     "9402cc4447b24b42bbdc33e316edb169": {
      "model_module": "@jupyter-widgets/base",
      "model_module_version": "1.2.0",
      "model_name": "LayoutModel",
      "state": {}
     },
     "943cecbd32d34ff08bef0fe7424107c4": {
      "model_module": "@jupyter-widgets/controls",
      "model_module_version": "1.5.0",
      "model_name": "DescriptionStyleModel",
      "state": {
       "description_width": ""
      }
     },
     "943dbfca9f754a9b8b7d7f03894e9c41": {
      "model_module": "@jupyter-widgets/controls",
      "model_module_version": "1.5.0",
      "model_name": "DescriptionStyleModel",
      "state": {
       "description_width": ""
      }
     },
     "94409f83c5f440ed9c69851ee454c6da": {
      "model_module": "@jupyter-widgets/controls",
      "model_module_version": "1.5.0",
      "model_name": "HTMLModel",
      "state": {
       "layout": "IPY_MODEL_3fda76fbff934b26b2932ef7bda6886b",
       "style": "IPY_MODEL_a7463a3b35024817a2e14155e153bf8c",
       "value": "100%"
      }
     },
     "94915fdb87f9469eb89d14ad00fabfea": {
      "model_module": "@jupyter-widgets/controls",
      "model_module_version": "1.5.0",
      "model_name": "DescriptionStyleModel",
      "state": {
       "description_width": ""
      }
     },
     "94944c2472e942c38526a643754d12e6": {
      "model_module": "@jupyter-widgets/controls",
      "model_module_version": "1.5.0",
      "model_name": "FloatProgressModel",
      "state": {
       "layout": "IPY_MODEL_1f4063651c294753bdb16f7b0bc59a7c",
       "max": 2345,
       "style": "IPY_MODEL_ec423eae7a74453788569b1c472de932",
       "value": 2345
      }
     },
     "949b9d8cd09c4174aefdeaa92fa671ef": {
      "model_module": "@jupyter-widgets/controls",
      "model_module_version": "1.5.0",
      "model_name": "HTMLModel",
      "state": {
       "layout": "IPY_MODEL_d3f99d8c5e1d42b9933e01e95ce03353",
       "style": "IPY_MODEL_7526ebd9301d483b898edb25495724cb",
       "value": " 2345/2345 [00:11&lt;00:00, 7495.55it/s]"
      }
     },
     "94c8e003b01e4ef5a81ed3cb89bf6cab": {
      "model_module": "@jupyter-widgets/base",
      "model_module_version": "1.2.0",
      "model_name": "LayoutModel",
      "state": {}
     },
     "94fe5041fa934f93ad5440a6e01be29d": {
      "model_module": "@jupyter-widgets/controls",
      "model_module_version": "1.5.0",
      "model_name": "HBoxModel",
      "state": {
       "children": [
        "IPY_MODEL_f40767b6c46d4958bb6fe49e11d30224",
        "IPY_MODEL_0d23ca70faaa4605a8055852120add55",
        "IPY_MODEL_85c5e89504134d8fa3d2cbf2ae82be56"
       ],
       "layout": "IPY_MODEL_d51bd95e3ed0471a9b5726145ad76b39"
      }
     },
     "9508fec75381492a956b6febc23fed05": {
      "model_module": "@jupyter-widgets/base",
      "model_module_version": "1.2.0",
      "model_name": "LayoutModel",
      "state": {}
     },
     "95468d7d49324add8e1f282bb72bffc6": {
      "model_module": "@jupyter-widgets/controls",
      "model_module_version": "1.5.0",
      "model_name": "HTMLModel",
      "state": {
       "layout": "IPY_MODEL_c1bc8c8db3bf4d818f8557fde4aa685b",
       "style": "IPY_MODEL_bf3402c2cd354cf7bdb5de8a69d02af1",
       "value": " 2345/2345 [00:19&lt;00:00, 7553.84it/s]"
      }
     },
     "9556e9f06efb4e3292163edb842a32fa": {
      "model_module": "@jupyter-widgets/controls",
      "model_module_version": "1.5.0",
      "model_name": "ProgressStyleModel",
      "state": {
       "description_width": ""
      }
     },
     "9567f6edaf88485581846c0cad0621ff": {
      "model_module": "@jupyter-widgets/controls",
      "model_module_version": "1.5.0",
      "model_name": "ProgressStyleModel",
      "state": {
       "description_width": ""
      }
     },
     "956ff3c06e514117aebe7cab009b68d6": {
      "model_module": "@jupyter-widgets/base",
      "model_module_version": "1.2.0",
      "model_name": "LayoutModel",
      "state": {}
     },
     "958e1a02e12244e0ab35996164cab427": {
      "model_module": "@jupyter-widgets/controls",
      "model_module_version": "1.5.0",
      "model_name": "HBoxModel",
      "state": {
       "children": [
        "IPY_MODEL_eed3d860b2f1472da0018404c0c4dafa",
        "IPY_MODEL_ea6d6128eb124684b6a2659b6cd24278",
        "IPY_MODEL_616c84df2db5445a86ef873d2813a457"
       ],
       "layout": "IPY_MODEL_deef513b73ef4613a126783eee615712"
      }
     },
     "95a4463199604770a9ed7ab863aed1d9": {
      "model_module": "@jupyter-widgets/base",
      "model_module_version": "1.2.0",
      "model_name": "LayoutModel",
      "state": {}
     },
     "95bf22ba74cd4e278b46fafb97b3609c": {
      "model_module": "@jupyter-widgets/controls",
      "model_module_version": "1.5.0",
      "model_name": "HBoxModel",
      "state": {
       "children": [
        "IPY_MODEL_bf9dfb33951d41fc926f552747c755c3",
        "IPY_MODEL_a5fdba31843b433a9c5211fa0bb24042",
        "IPY_MODEL_a0997242251d4330a25f77528520144f"
       ],
       "layout": "IPY_MODEL_0970b1b80dcb4e41a6e18f7d3cc9c8d5"
      }
     },
     "968a8debf83848929b07b018b42787fb": {
      "model_module": "@jupyter-widgets/base",
      "model_module_version": "1.2.0",
      "model_name": "LayoutModel",
      "state": {}
     },
     "96f17f813a7741b9a903685b0178abf3": {
      "model_module": "@jupyter-widgets/base",
      "model_module_version": "1.2.0",
      "model_name": "LayoutModel",
      "state": {}
     },
     "96ff49b2282c448f93159dab8adb9ffb": {
      "model_module": "@jupyter-widgets/controls",
      "model_module_version": "1.5.0",
      "model_name": "HTMLModel",
      "state": {
       "layout": "IPY_MODEL_139bbf34656e42eabe593782fca566fd",
       "style": "IPY_MODEL_d7f05162b3bc413099367a2e89e3e68e",
       "value": "100%"
      }
     },
     "97061769d1ab4f8b91071e6bf0798efb": {
      "model_module": "@jupyter-widgets/controls",
      "model_module_version": "1.5.0",
      "model_name": "DescriptionStyleModel",
      "state": {
       "description_width": ""
      }
     },
     "97399618bfad4a5fb5bf1c7cffc8e5fb": {
      "model_module": "@jupyter-widgets/base",
      "model_module_version": "1.2.0",
      "model_name": "LayoutModel",
      "state": {}
     },
     "977741bef60543c9858b487cd3f532f0": {
      "model_module": "@jupyter-widgets/base",
      "model_module_version": "1.2.0",
      "model_name": "LayoutModel",
      "state": {}
     },
     "978eca73ff6b417489719f86fc70cf05": {
      "model_module": "@jupyter-widgets/base",
      "model_module_version": "1.2.0",
      "model_name": "LayoutModel",
      "state": {}
     },
     "97b987928bef43cea34fa8f1c4dc65fb": {
      "model_module": "@jupyter-widgets/base",
      "model_module_version": "1.2.0",
      "model_name": "LayoutModel",
      "state": {}
     },
     "97c9c83c42594a848d0fbe19c89aeaa9": {
      "model_module": "@jupyter-widgets/base",
      "model_module_version": "1.2.0",
      "model_name": "LayoutModel",
      "state": {}
     },
     "97d9f9a5a6614605b690ce3e9b9c3233": {
      "model_module": "@jupyter-widgets/base",
      "model_module_version": "1.2.0",
      "model_name": "LayoutModel",
      "state": {}
     },
     "97f8c49839634488877f398827c0dc1f": {
      "model_module": "@jupyter-widgets/base",
      "model_module_version": "1.2.0",
      "model_name": "LayoutModel",
      "state": {}
     },
     "98154947691547dfa9f530a80d960b5c": {
      "model_module": "@jupyter-widgets/controls",
      "model_module_version": "1.5.0",
      "model_name": "FloatProgressModel",
      "state": {
       "layout": "IPY_MODEL_34ce771756254a4ca5d7d360fb98023b",
       "max": 2345,
       "style": "IPY_MODEL_5f5a8bd7d1f244f79101458a6bc3df72",
       "value": 2345
      }
     },
     "981bc39f810d4bc8814f5fa16d095c85": {
      "model_module": "@jupyter-widgets/controls",
      "model_module_version": "1.5.0",
      "model_name": "HTMLModel",
      "state": {
       "layout": "IPY_MODEL_58aad7cdbdd34437bfe91dc682e9aac9",
       "style": "IPY_MODEL_943dbfca9f754a9b8b7d7f03894e9c41",
       "value": "100%"
      }
     },
     "983fd0715c11408b8fd4816d184e55c4": {
      "model_module": "@jupyter-widgets/controls",
      "model_module_version": "1.5.0",
      "model_name": "FloatProgressModel",
      "state": {
       "layout": "IPY_MODEL_cb820dc474194de685ccbf4979f44cc4",
       "max": 2345,
       "style": "IPY_MODEL_65d057e924fb45e9a3d7d9743deac665",
       "value": 2345
      }
     },
     "984042c584d947c3a37b039ca1b9112a": {
      "model_module": "@jupyter-widgets/controls",
      "model_module_version": "1.5.0",
      "model_name": "FloatProgressModel",
      "state": {
       "layout": "IPY_MODEL_fa169ffaa0f843df82e86c2b73a71124",
       "max": 2345,
       "style": "IPY_MODEL_5f4fe98addac4694b29943448d17c0e2",
       "value": 2345
      }
     },
     "9850a272c5b543ccab67878f97874f6b": {
      "model_module": "@jupyter-widgets/base",
      "model_module_version": "1.2.0",
      "model_name": "LayoutModel",
      "state": {}
     },
     "9853dffd689e4b7ab705cf07fbe3963b": {
      "model_module": "@jupyter-widgets/controls",
      "model_module_version": "1.5.0",
      "model_name": "HTMLModel",
      "state": {
       "layout": "IPY_MODEL_4c5cad24879c428897c322ef520fe797",
       "style": "IPY_MODEL_91c249a130d34f54977ad6aa17bc6765",
       "value": "100%"
      }
     },
     "98ba63e401a74aa29d1bbec47cb34711": {
      "model_module": "@jupyter-widgets/controls",
      "model_module_version": "1.5.0",
      "model_name": "DescriptionStyleModel",
      "state": {
       "description_width": ""
      }
     },
     "98d24590c6bd4303bb0deb3e8b728b7b": {
      "model_module": "@jupyter-widgets/controls",
      "model_module_version": "1.5.0",
      "model_name": "DescriptionStyleModel",
      "state": {
       "description_width": ""
      }
     },
     "9901b2f127a5447fbf44e80d4cb1e7ae": {
      "model_module": "@jupyter-widgets/controls",
      "model_module_version": "1.5.0",
      "model_name": "HBoxModel",
      "state": {
       "children": [
        "IPY_MODEL_31675b0ba90b47078dcbb0bd82ab9143",
        "IPY_MODEL_93adfb019ac64450b9a71207ec5adc29",
        "IPY_MODEL_661b6c51b4294e9aae74d1b5cc206cdc"
       ],
       "layout": "IPY_MODEL_24ef02dbb72c4119975003dab6b86369"
      }
     },
     "992480d616654d3bbaa3d4e915e5f1fb": {
      "model_module": "@jupyter-widgets/controls",
      "model_module_version": "1.5.0",
      "model_name": "FloatProgressModel",
      "state": {
       "layout": "IPY_MODEL_ed5e3f5f67754a928db61f24393928d6",
       "max": 2345,
       "style": "IPY_MODEL_14d8c9054c3146a4ad7f4be940bb7211",
       "value": 2345
      }
     },
     "992992ea2e12437c9b76eb9e628721e6": {
      "model_module": "@jupyter-widgets/controls",
      "model_module_version": "1.5.0",
      "model_name": "DescriptionStyleModel",
      "state": {
       "description_width": ""
      }
     },
     "9939320f3046456592a3dfff6c21a6e9": {
      "model_module": "@jupyter-widgets/controls",
      "model_module_version": "1.5.0",
      "model_name": "HBoxModel",
      "state": {
       "children": [
        "IPY_MODEL_f398383775384eb0b7f846ed9a281344",
        "IPY_MODEL_c230eb3ae9064793964847d04f88e397",
        "IPY_MODEL_dd14d08e48a64a4ab5892b9737efe5b9"
       ],
       "layout": "IPY_MODEL_af20107d9c91470e9a7b4ce6eb426891"
      }
     },
     "99549b1d1c25419687fa18c015388fe9": {
      "model_module": "@jupyter-widgets/controls",
      "model_module_version": "1.5.0",
      "model_name": "FloatProgressModel",
      "state": {
       "layout": "IPY_MODEL_e5f2fa7018774f9a8993f4578f3618cb",
       "max": 2345,
       "style": "IPY_MODEL_e1cff66d7f5c4c468391cc500f5282c8"
      }
     },
     "9967f9129acb45fa9e1d40cf79993a55": {
      "model_module": "@jupyter-widgets/base",
      "model_module_version": "1.2.0",
      "model_name": "LayoutModel",
      "state": {}
     },
     "99a5d789615d432cb49b2f8930159c5b": {
      "model_module": "@jupyter-widgets/base",
      "model_module_version": "1.2.0",
      "model_name": "LayoutModel",
      "state": {}
     },
     "99c53487a9ac47d9a7a2c42637633894": {
      "model_module": "@jupyter-widgets/controls",
      "model_module_version": "1.5.0",
      "model_name": "HTMLModel",
      "state": {
       "layout": "IPY_MODEL_30ab2d7e3e3d49f882a50bb59599eaf6",
       "style": "IPY_MODEL_9eb74c950b28425fb272a401885a72d8",
       "value": " 1266/1266 [01:18&lt;00:00, 22.24it/s]"
      }
     },
     "99cc1fb00d8242489d18abdf0e95b870": {
      "model_module": "@jupyter-widgets/controls",
      "model_module_version": "1.5.0",
      "model_name": "ProgressStyleModel",
      "state": {
       "description_width": ""
      }
     },
     "99cdd47a82af4614a26e8e363e4f4afe": {
      "model_module": "@jupyter-widgets/controls",
      "model_module_version": "1.5.0",
      "model_name": "HTMLModel",
      "state": {
       "layout": "IPY_MODEL_495a51841e274046813ec6344dca85cb",
       "style": "IPY_MODEL_f38de22cebe84321bad34c54579ba538",
       "value": "100%"
      }
     },
     "99f4ddfe9b7b4ece8ab95eb1365ed30c": {
      "model_module": "@jupyter-widgets/controls",
      "model_module_version": "1.5.0",
      "model_name": "ProgressStyleModel",
      "state": {
       "description_width": ""
      }
     },
     "99fa6e608ca24f4bbb9ea30d4a4722a5": {
      "model_module": "@jupyter-widgets/controls",
      "model_module_version": "1.5.0",
      "model_name": "DescriptionStyleModel",
      "state": {
       "description_width": ""
      }
     },
     "9a14dfe151704c30af750401c221bc7e": {
      "model_module": "@jupyter-widgets/controls",
      "model_module_version": "1.5.0",
      "model_name": "ProgressStyleModel",
      "state": {
       "description_width": ""
      }
     },
     "9a268486a5304a7396ccc16e933367b9": {
      "model_module": "@jupyter-widgets/controls",
      "model_module_version": "1.5.0",
      "model_name": "HTMLModel",
      "state": {
       "layout": "IPY_MODEL_3cb57b8572f6427983ab5859523897b1",
       "style": "IPY_MODEL_a45dacd425af454e8c173a46fd1cb9a9",
       "value": "100%"
      }
     },
     "9a763959a3e149cda4aff337d86a4615": {
      "model_module": "@jupyter-widgets/controls",
      "model_module_version": "1.5.0",
      "model_name": "HTMLModel",
      "state": {
       "layout": "IPY_MODEL_55c84fa40cfe43879927194fd3655e66",
       "style": "IPY_MODEL_6ab8fb85b15942ce85b96ddf277b368e",
       "value": "100%"
      }
     },
     "9a9bdd7bbd1f449c85e28ebdd616fad0": {
      "model_module": "@jupyter-widgets/controls",
      "model_module_version": "1.5.0",
      "model_name": "HTMLModel",
      "state": {
       "layout": "IPY_MODEL_da5f7f30dd45405199d7c0ebf2521c70",
       "style": "IPY_MODEL_fa5291fa3de14f9b943958e3fc8fdfe0",
       "value": " 2345/2345 [01:48&lt;00:00, 25.92it/s]"
      }
     },
     "9ab219d71ac44b11aaecb391855ff47e": {
      "model_module": "@jupyter-widgets/controls",
      "model_module_version": "1.5.0",
      "model_name": "DescriptionStyleModel",
      "state": {
       "description_width": ""
      }
     },
     "9add0f7f9a3e4fdf9bc2c4e86b9b3c1b": {
      "model_module": "@jupyter-widgets/controls",
      "model_module_version": "1.5.0",
      "model_name": "HBoxModel",
      "state": {
       "children": [
        "IPY_MODEL_cd744989b73c48a6864d56da74e5069a",
        "IPY_MODEL_bf721fdbae254d4aadbbd28b52e05316",
        "IPY_MODEL_8bfca318bcf24d7fb90830318c6d45f0"
       ],
       "layout": "IPY_MODEL_d7afee51435e4470acbd6e96dd82f9ec"
      }
     },
     "9b162ad4ee6a499e997a109f602b082d": {
      "model_module": "@jupyter-widgets/base",
      "model_module_version": "1.2.0",
      "model_name": "LayoutModel",
      "state": {}
     },
     "9b1d06c795d64cbabc540c5d79536cf9": {
      "model_module": "@jupyter-widgets/base",
      "model_module_version": "1.2.0",
      "model_name": "LayoutModel",
      "state": {}
     },
     "9b2b49f5c21b470f9f9aed90601364ee": {
      "model_module": "@jupyter-widgets/base",
      "model_module_version": "1.2.0",
      "model_name": "LayoutModel",
      "state": {}
     },
     "9b713df76de24dfdb26ff1e6243d2bbe": {
      "model_module": "@jupyter-widgets/controls",
      "model_module_version": "1.5.0",
      "model_name": "ProgressStyleModel",
      "state": {
       "description_width": ""
      }
     },
     "9b880948f0914400933b0b557ccbd0f6": {
      "model_module": "@jupyter-widgets/controls",
      "model_module_version": "1.5.0",
      "model_name": "ProgressStyleModel",
      "state": {
       "description_width": ""
      }
     },
     "9bda0dd03cf1441eb75388c53979e2dc": {
      "model_module": "@jupyter-widgets/controls",
      "model_module_version": "1.5.0",
      "model_name": "DescriptionStyleModel",
      "state": {
       "description_width": ""
      }
     },
     "9c380d18d43447b5ade0c1a7a113f287": {
      "model_module": "@jupyter-widgets/controls",
      "model_module_version": "1.5.0",
      "model_name": "DescriptionStyleModel",
      "state": {
       "description_width": ""
      }
     },
     "9c78cf486e164942bc5606b49ab64e55": {
      "model_module": "@jupyter-widgets/controls",
      "model_module_version": "1.5.0",
      "model_name": "HTMLModel",
      "state": {
       "layout": "IPY_MODEL_2cf6e15e7b6941f6b30ef4b5a08af6fc",
       "style": "IPY_MODEL_cb27eb9c14fb4ab58152188a5a13292c",
       "value": " 2345/2345 [00:20&lt;00:00, 7485.09it/s]"
      }
     },
     "9c850bc52f6743319069054a9b0bfa23": {
      "model_module": "@jupyter-widgets/controls",
      "model_module_version": "1.5.0",
      "model_name": "DescriptionStyleModel",
      "state": {
       "description_width": ""
      }
     },
     "9c9c1f7a3bae41e9ac57bf9d085884d2": {
      "model_module": "@jupyter-widgets/controls",
      "model_module_version": "1.5.0",
      "model_name": "HBoxModel",
      "state": {
       "children": [
        "IPY_MODEL_a5641574b2914f0e812d05466a2b8d9f",
        "IPY_MODEL_febe4d5062e548f9bcf165e2e6202538",
        "IPY_MODEL_0b77b1aad9774acdadd0be27f5bc9b84"
       ],
       "layout": "IPY_MODEL_a426def964994b0aadc7f510fc449fbb"
      }
     },
     "9cccb9a083914ff0901e4f777be77cbd": {
      "model_module": "@jupyter-widgets/controls",
      "model_module_version": "1.5.0",
      "model_name": "DescriptionStyleModel",
      "state": {
       "description_width": ""
      }
     },
     "9cf52c828eef4ff5b5f1d50fbbbfdc58": {
      "model_module": "@jupyter-widgets/controls",
      "model_module_version": "1.5.0",
      "model_name": "HTMLModel",
      "state": {
       "layout": "IPY_MODEL_df71599b69c540989ed09606a9b83107",
       "style": "IPY_MODEL_d2dd121fef854f5c8e749f67ecc64773",
       "value": " 2345/2345 [00:15&lt;00:00, 7520.03it/s]"
      }
     },
     "9cfcc74a26864a6da0990c3ac1844097": {
      "model_module": "@jupyter-widgets/controls",
      "model_module_version": "1.5.0",
      "model_name": "DescriptionStyleModel",
      "state": {
       "description_width": ""
      }
     },
     "9cff293ca7fb46ba9aacaf7903684d07": {
      "model_module": "@jupyter-widgets/controls",
      "model_module_version": "1.5.0",
      "model_name": "ProgressStyleModel",
      "state": {
       "description_width": ""
      }
     },
     "9d11faa1827b45f39982367316761bbc": {
      "model_module": "@jupyter-widgets/controls",
      "model_module_version": "1.5.0",
      "model_name": "HBoxModel",
      "state": {
       "children": [
        "IPY_MODEL_e4b9fb033c0a428caf91c777a9ad00c8",
        "IPY_MODEL_992480d616654d3bbaa3d4e915e5f1fb",
        "IPY_MODEL_858787369801491baf90d556e94793c2"
       ],
       "layout": "IPY_MODEL_59f1d4c541a644f797207d373a64b6cb"
      }
     },
     "9d2cb281c96443a7883f38609161ff78": {
      "model_module": "@jupyter-widgets/base",
      "model_module_version": "1.2.0",
      "model_name": "LayoutModel",
      "state": {}
     },
     "9d619b6ef3314099922291057236205c": {
      "model_module": "@jupyter-widgets/controls",
      "model_module_version": "1.5.0",
      "model_name": "HBoxModel",
      "state": {
       "children": [
        "IPY_MODEL_ee3cd99776664e92bba556336c2f315b",
        "IPY_MODEL_e1ed68e51cff4bd09e6afef76bb143d7",
        "IPY_MODEL_8e6abcf558f04081b0242c704791df8c"
       ],
       "layout": "IPY_MODEL_18252921191540dc9c4dc995c1f46be8"
      }
     },
     "9d95e247931241719b01088210e9ed85": {
      "model_module": "@jupyter-widgets/controls",
      "model_module_version": "1.5.0",
      "model_name": "HBoxModel",
      "state": {
       "children": [
        "IPY_MODEL_56fe4b8940ff4d36a51762961fdc62a3",
        "IPY_MODEL_5c2df15d95e94724be85ca1101d1873f",
        "IPY_MODEL_06e07c335b394e32ba664dc130b71639"
       ],
       "layout": "IPY_MODEL_b402c3b15e6d4709805db5e24183c127"
      }
     },
     "9dabadd57fd84994932957c31f2b377e": {
      "model_module": "@jupyter-widgets/controls",
      "model_module_version": "1.5.0",
      "model_name": "DescriptionStyleModel",
      "state": {
       "description_width": ""
      }
     },
     "9dd8b972af1b455ea5fdb62e0ccd1c50": {
      "model_module": "@jupyter-widgets/controls",
      "model_module_version": "1.5.0",
      "model_name": "ProgressStyleModel",
      "state": {
       "description_width": ""
      }
     },
     "9ded03986e55425093cd9fded466a958": {
      "model_module": "@jupyter-widgets/controls",
      "model_module_version": "1.5.0",
      "model_name": "DescriptionStyleModel",
      "state": {
       "description_width": ""
      }
     },
     "9dfb39c416444f3ebba3c830b3f078cc": {
      "model_module": "@jupyter-widgets/base",
      "model_module_version": "1.2.0",
      "model_name": "LayoutModel",
      "state": {}
     },
     "9e164313afb849f5a2901103166d6a3e": {
      "model_module": "@jupyter-widgets/base",
      "model_module_version": "1.2.0",
      "model_name": "LayoutModel",
      "state": {}
     },
     "9e2be87fad2c48c6a30ff48aa1bcf631": {
      "model_module": "@jupyter-widgets/controls",
      "model_module_version": "1.5.0",
      "model_name": "DescriptionStyleModel",
      "state": {
       "description_width": ""
      }
     },
     "9e33ec02f74e4d1a849820a789722faa": {
      "model_module": "@jupyter-widgets/controls",
      "model_module_version": "1.5.0",
      "model_name": "ProgressStyleModel",
      "state": {
       "description_width": ""
      }
     },
     "9e4a49f0f44b4130a3d739a801dcbb02": {
      "model_module": "@jupyter-widgets/controls",
      "model_module_version": "1.5.0",
      "model_name": "HBoxModel",
      "state": {
       "children": [
        "IPY_MODEL_4b26d0520a4a46e9a7dbcb645cbaf34a",
        "IPY_MODEL_83f63007dd884b25963e32e73d82c4aa",
        "IPY_MODEL_a6ed1a2d47ee4173b52326cab1fc9df0"
       ],
       "layout": "IPY_MODEL_acea913388d84fe08979cc367a093218"
      }
     },
     "9e4f076c861041b3882da73cb6c5347f": {
      "model_module": "@jupyter-widgets/controls",
      "model_module_version": "1.5.0",
      "model_name": "HBoxModel",
      "state": {
       "children": [
        "IPY_MODEL_bf21e7349ff248028f956adee939c3ed",
        "IPY_MODEL_d44b0c669e1b4207939fac2e96b47211",
        "IPY_MODEL_65a0725b7d10493ca0947b7eaa9ac083"
       ],
       "layout": "IPY_MODEL_0ce4881e5c1f4270a5756a389398a503"
      }
     },
     "9e92ac6dd2e5470483ecd548f9f30919": {
      "model_module": "@jupyter-widgets/base",
      "model_module_version": "1.2.0",
      "model_name": "LayoutModel",
      "state": {}
     },
     "9e97620368db4328898089d0b529ff00": {
      "model_module": "@jupyter-widgets/controls",
      "model_module_version": "1.5.0",
      "model_name": "FloatProgressModel",
      "state": {
       "layout": "IPY_MODEL_568169e7d7a14960851653781eb3297e",
       "max": 2345,
       "style": "IPY_MODEL_cae324ee0e7f487eae2a543293cdd734",
       "value": 2345
      }
     },
     "9ea4c1c0ddba4338b79139cb0fcdbcd9": {
      "model_module": "@jupyter-widgets/controls",
      "model_module_version": "1.5.0",
      "model_name": "FloatProgressModel",
      "state": {
       "layout": "IPY_MODEL_56125587c0f7415b899413494d3ab5cb",
       "max": 1266,
       "style": "IPY_MODEL_04e34d8f5e8642a4b8279227cf135221",
       "value": 1266
      }
     },
     "9eadefddb1494dadbaeae86df2f4b771": {
      "model_module": "@jupyter-widgets/controls",
      "model_module_version": "1.5.0",
      "model_name": "HBoxModel",
      "state": {
       "children": [
        "IPY_MODEL_c17a96a49ff94814886d47c6898f4519",
        "IPY_MODEL_8273f0868ccb4d74884edaa8b42f35ed",
        "IPY_MODEL_20b92f6ac62740cf98dcfb1de7aba784"
       ],
       "layout": "IPY_MODEL_c7fb4f84cd7247d88a788334f5576a64"
      }
     },
     "9eb005c620504509babcc91228f2681a": {
      "model_module": "@jupyter-widgets/controls",
      "model_module_version": "1.5.0",
      "model_name": "DescriptionStyleModel",
      "state": {
       "description_width": ""
      }
     },
     "9eb74c950b28425fb272a401885a72d8": {
      "model_module": "@jupyter-widgets/controls",
      "model_module_version": "1.5.0",
      "model_name": "DescriptionStyleModel",
      "state": {
       "description_width": ""
      }
     },
     "9ec411e955cb436785048832bf4a6180": {
      "model_module": "@jupyter-widgets/base",
      "model_module_version": "1.2.0",
      "model_name": "LayoutModel",
      "state": {}
     },
     "9f0c65e502ad4d82a5504bb66efc567e": {
      "model_module": "@jupyter-widgets/controls",
      "model_module_version": "1.5.0",
      "model_name": "HBoxModel",
      "state": {
       "children": [
        "IPY_MODEL_32e18a310a48427fa5ed6851505c1cc1",
        "IPY_MODEL_ebc3fcbf19d2480b8884e309749e2462",
        "IPY_MODEL_48ec88242d554ed098f9e626356be1e4"
       ],
       "layout": "IPY_MODEL_d13064662a1641e79b553187acbcac51"
      }
     },
     "9f332ce6c3d0432a818ff4981e75a4a3": {
      "model_module": "@jupyter-widgets/base",
      "model_module_version": "1.2.0",
      "model_name": "LayoutModel",
      "state": {}
     },
     "9f4d78c3d7594a3082182970f37bc36e": {
      "model_module": "@jupyter-widgets/controls",
      "model_module_version": "1.5.0",
      "model_name": "ProgressStyleModel",
      "state": {
       "description_width": ""
      }
     },
     "9f5fe1898b6d4feab08ba49aeb50f236": {
      "model_module": "@jupyter-widgets/controls",
      "model_module_version": "1.5.0",
      "model_name": "HBoxModel",
      "state": {
       "children": [
        "IPY_MODEL_0faba1a10ad5455c90e85c95ced47344",
        "IPY_MODEL_e63750d4c2c04ab4aed7c06a40378a9a",
        "IPY_MODEL_cca08b41da07470896c689cae270b033"
       ],
       "layout": "IPY_MODEL_7691392c6221414cb908cb6a5fd3be74"
      }
     },
     "9f60c22721ba4a399acaf189b7586e0f": {
      "model_module": "@jupyter-widgets/controls",
      "model_module_version": "1.5.0",
      "model_name": "ProgressStyleModel",
      "state": {
       "description_width": ""
      }
     },
     "9f7f111efebd439e868b88ff2804d3fb": {
      "model_module": "@jupyter-widgets/controls",
      "model_module_version": "1.5.0",
      "model_name": "FloatProgressModel",
      "state": {
       "layout": "IPY_MODEL_f08668e9e306440e83ebfd6e11a2a6ce",
       "max": 2345,
       "style": "IPY_MODEL_2461e523de4941a494e12b7d5c2c0785",
       "value": 2345
      }
     },
     "9f996fba3cc846bab2420c56bc02e589": {
      "model_module": "@jupyter-widgets/controls",
      "model_module_version": "1.5.0",
      "model_name": "ProgressStyleModel",
      "state": {
       "description_width": ""
      }
     },
     "9fc36939a7ae4931b5b23cc43101d899": {
      "model_module": "@jupyter-widgets/base",
      "model_module_version": "1.2.0",
      "model_name": "LayoutModel",
      "state": {}
     },
     "a0015a515ac446ab917ad5d8c7f9152d": {
      "model_module": "@jupyter-widgets/base",
      "model_module_version": "1.2.0",
      "model_name": "LayoutModel",
      "state": {}
     },
     "a0313711aa78493c905b9040eb9ad144": {
      "model_module": "@jupyter-widgets/controls",
      "model_module_version": "1.5.0",
      "model_name": "HBoxModel",
      "state": {
       "children": [
        "IPY_MODEL_311ad6830d1e420f956be95912dc7809",
        "IPY_MODEL_79e5880a14c8463a922fad4d46415011",
        "IPY_MODEL_da9e5a962cfd4af180085cbfd5ba064c"
       ],
       "layout": "IPY_MODEL_432b8128f2714637a243e7a5b4ee553d"
      }
     },
     "a0460c7e68084013a727d7d95f9f30c4": {
      "model_module": "@jupyter-widgets/controls",
      "model_module_version": "1.5.0",
      "model_name": "HTMLModel",
      "state": {
       "layout": "IPY_MODEL_8a36d09ad26e4ae6b02785e6d6a9cb11",
       "style": "IPY_MODEL_3e37c92cde3a46e694ebd05854d6dde6",
       "value": " 2345/2345 [01:51&lt;00:00, 25.79it/s]"
      }
     },
     "a0590f278cd64590929a7924ca590e55": {
      "model_module": "@jupyter-widgets/base",
      "model_module_version": "1.2.0",
      "model_name": "LayoutModel",
      "state": {}
     },
     "a061f2f6f9f34761853532d9e042cbf9": {
      "model_module": "@jupyter-widgets/base",
      "model_module_version": "1.2.0",
      "model_name": "LayoutModel",
      "state": {}
     },
     "a0997242251d4330a25f77528520144f": {
      "model_module": "@jupyter-widgets/controls",
      "model_module_version": "1.5.0",
      "model_name": "HTMLModel",
      "state": {
       "layout": "IPY_MODEL_686b479bbe174b9186aea49cf6a05557",
       "style": "IPY_MODEL_1827cffb375647329099ed298b2be3e3",
       "value": " 2345/2345 [00:19&lt;00:00, 3799.03it/s]"
      }
     },
     "a0a2579cbefd485cb2cd105c4cb8faec": {
      "model_module": "@jupyter-widgets/controls",
      "model_module_version": "1.5.0",
      "model_name": "HTMLModel",
      "state": {
       "layout": "IPY_MODEL_25cc1a41e1984915af1a2c6e793984d3",
       "style": "IPY_MODEL_72ad557c62ff4a45a5c3c2be16e5208f",
       "value": " 0/2345 [00:00&lt;?, ?it/s]"
      }
     },
     "a0c78139d75a48e884b8de09d0d6aca7": {
      "model_module": "@jupyter-widgets/base",
      "model_module_version": "1.2.0",
      "model_name": "LayoutModel",
      "state": {}
     },
     "a102797178924caba7e22b31574d501f": {
      "model_module": "@jupyter-widgets/base",
      "model_module_version": "1.2.0",
      "model_name": "LayoutModel",
      "state": {}
     },
     "a114550bb6d94d1690fcec1bfd23b43d": {
      "model_module": "@jupyter-widgets/controls",
      "model_module_version": "1.5.0",
      "model_name": "DescriptionStyleModel",
      "state": {
       "description_width": ""
      }
     },
     "a13a11a00f3044b093506164694dcd22": {
      "model_module": "@jupyter-widgets/controls",
      "model_module_version": "1.5.0",
      "model_name": "DescriptionStyleModel",
      "state": {
       "description_width": ""
      }
     },
     "a167f33b7ed4491da8c77d629b519b0c": {
      "model_module": "@jupyter-widgets/controls",
      "model_module_version": "1.5.0",
      "model_name": "FloatProgressModel",
      "state": {
       "layout": "IPY_MODEL_5db3b47cb79c4aabb6a3ebbd1c3ae000",
       "max": 2345,
       "style": "IPY_MODEL_ffc62026069e49709394ee9584647c77",
       "value": 2345
      }
     },
     "a19895d567df436ca898deba0290b1df": {
      "model_module": "@jupyter-widgets/controls",
      "model_module_version": "1.5.0",
      "model_name": "HTMLModel",
      "state": {
       "layout": "IPY_MODEL_5f32482e240d4ce5b5784b9c4c48e2c6",
       "style": "IPY_MODEL_1e5d91b55db64098b195a5b3b499e159",
       "value": "100%"
      }
     },
     "a1d268561de8426ab77f0f28a0993694": {
      "model_module": "@jupyter-widgets/base",
      "model_module_version": "1.2.0",
      "model_name": "LayoutModel",
      "state": {}
     },
     "a1e10ee57adf446cbfe2dfda409d3392": {
      "model_module": "@jupyter-widgets/controls",
      "model_module_version": "1.5.0",
      "model_name": "DescriptionStyleModel",
      "state": {
       "description_width": ""
      }
     },
     "a1e33b0c93d34790ac53efe24b1fa9fe": {
      "model_module": "@jupyter-widgets/base",
      "model_module_version": "1.2.0",
      "model_name": "LayoutModel",
      "state": {}
     },
     "a225578d79524521adddad3140cc234d": {
      "model_module": "@jupyter-widgets/controls",
      "model_module_version": "1.5.0",
      "model_name": "HTMLModel",
      "state": {
       "layout": "IPY_MODEL_7219b75b0e0d4d228436b9b488432c68",
       "style": "IPY_MODEL_b630a8055854486ba8181a5a4b3a5569",
       "value": "100%"
      }
     },
     "a26163a8f61b4eb8ba29a0d5d8bb7a87": {
      "model_module": "@jupyter-widgets/base",
      "model_module_version": "1.2.0",
      "model_name": "LayoutModel",
      "state": {}
     },
     "a266b43153eb4dd8855d4fbe036700a7": {
      "model_module": "@jupyter-widgets/controls",
      "model_module_version": "1.5.0",
      "model_name": "DescriptionStyleModel",
      "state": {
       "description_width": ""
      }
     },
     "a28302aa222547faa154a8ec52551934": {
      "model_module": "@jupyter-widgets/controls",
      "model_module_version": "1.5.0",
      "model_name": "DescriptionStyleModel",
      "state": {
       "description_width": ""
      }
     },
     "a2be4521e286486f83e62a344e939968": {
      "model_module": "@jupyter-widgets/controls",
      "model_module_version": "1.5.0",
      "model_name": "HTMLModel",
      "state": {
       "layout": "IPY_MODEL_ade0722b45b440759354c28c7cf18916",
       "style": "IPY_MODEL_67ef11c5a4c54171aa9987a4f5046b28",
       "value": "100%"
      }
     },
     "a2bf987224a242299cf0cb988ca0c7ce": {
      "model_module": "@jupyter-widgets/controls",
      "model_module_version": "1.5.0",
      "model_name": "DescriptionStyleModel",
      "state": {
       "description_width": ""
      }
     },
     "a2f47d60435f4deeab25f3345ae634f7": {
      "model_module": "@jupyter-widgets/controls",
      "model_module_version": "1.5.0",
      "model_name": "DescriptionStyleModel",
      "state": {
       "description_width": ""
      }
     },
     "a32ee7fe8c4e4cb185d31266b2a8a0e6": {
      "model_module": "@jupyter-widgets/controls",
      "model_module_version": "1.5.0",
      "model_name": "FloatProgressModel",
      "state": {
       "layout": "IPY_MODEL_ae541e1b83554fd4b48f78096d21b749",
       "max": 2345,
       "style": "IPY_MODEL_c484faf23dfc4bfa9d6182ee6f7ccb0b",
       "value": 2345
      }
     },
     "a33c617026cd404ea420e5ed18a208e6": {
      "model_module": "@jupyter-widgets/controls",
      "model_module_version": "1.5.0",
      "model_name": "DescriptionStyleModel",
      "state": {
       "description_width": ""
      }
     },
     "a34698080adc4a0f9a8c340a4422e8bf": {
      "model_module": "@jupyter-widgets/controls",
      "model_module_version": "1.5.0",
      "model_name": "HBoxModel",
      "state": {
       "children": [
        "IPY_MODEL_f503acbeb0484560a5fbff816b22f286",
        "IPY_MODEL_8940d98711cd4096a59ba330122d2cdf",
        "IPY_MODEL_a60c84a246e843819e13b0c4dc47ce6f"
       ],
       "layout": "IPY_MODEL_114af63e7ddc442ca451cbd6dc74a41c"
      }
     },
     "a3542f80118f4a61bcdd2e69d060eab2": {
      "model_module": "@jupyter-widgets/controls",
      "model_module_version": "1.5.0",
      "model_name": "DescriptionStyleModel",
      "state": {
       "description_width": ""
      }
     },
     "a3675aabda194a2d8951f477f0c3ada7": {
      "model_module": "@jupyter-widgets/controls",
      "model_module_version": "1.5.0",
      "model_name": "DescriptionStyleModel",
      "state": {
       "description_width": ""
      }
     },
     "a396c1a476f942cd94f85e4952c135f0": {
      "model_module": "@jupyter-widgets/base",
      "model_module_version": "1.2.0",
      "model_name": "LayoutModel",
      "state": {}
     },
     "a397b07dc31c4412905d8ed8c80930c2": {
      "model_module": "@jupyter-widgets/base",
      "model_module_version": "1.2.0",
      "model_name": "LayoutModel",
      "state": {}
     },
     "a3d6f12089d04a429de5a59bb8dbcde0": {
      "model_module": "@jupyter-widgets/base",
      "model_module_version": "1.2.0",
      "model_name": "LayoutModel",
      "state": {}
     },
     "a4028848e6854fdcb50908146508d01c": {
      "model_module": "@jupyter-widgets/controls",
      "model_module_version": "1.5.0",
      "model_name": "HBoxModel",
      "state": {
       "children": [
        "IPY_MODEL_fa8ec472a6804823b58b2b0242aba176",
        "IPY_MODEL_a9a2092568a04d51a35af4ba3dc77c37",
        "IPY_MODEL_f711d31c11fa4d8fab448aeb81425588"
       ],
       "layout": "IPY_MODEL_b81de3a269a746ca9378119f850cf07f"
      }
     },
     "a41e5f99490545ca820e0d5a544079ee": {
      "model_module": "@jupyter-widgets/base",
      "model_module_version": "1.2.0",
      "model_name": "LayoutModel",
      "state": {}
     },
     "a426def964994b0aadc7f510fc449fbb": {
      "model_module": "@jupyter-widgets/base",
      "model_module_version": "1.2.0",
      "model_name": "LayoutModel",
      "state": {}
     },
     "a446f8db25254f1b8e1fcd9cb1e0e4b3": {
      "model_module": "@jupyter-widgets/base",
      "model_module_version": "1.2.0",
      "model_name": "LayoutModel",
      "state": {}
     },
     "a45dacd425af454e8c173a46fd1cb9a9": {
      "model_module": "@jupyter-widgets/controls",
      "model_module_version": "1.5.0",
      "model_name": "DescriptionStyleModel",
      "state": {
       "description_width": ""
      }
     },
     "a4a2074cb4b046c1869b4f9a9d3db856": {
      "model_module": "@jupyter-widgets/controls",
      "model_module_version": "1.5.0",
      "model_name": "ProgressStyleModel",
      "state": {
       "description_width": ""
      }
     },
     "a4b7cc7d672f4e79891e62c38cdde4c1": {
      "model_module": "@jupyter-widgets/controls",
      "model_module_version": "1.5.0",
      "model_name": "FloatProgressModel",
      "state": {
       "layout": "IPY_MODEL_6ec7e73308da48a0840c4b0f79b404be",
       "max": 1266,
       "style": "IPY_MODEL_2193ebd91290439a9ee00d9531c95814",
       "value": 1266
      }
     },
     "a4cd7d6fe63347b7a169b72d51f4dae2": {
      "model_module": "@jupyter-widgets/controls",
      "model_module_version": "1.5.0",
      "model_name": "DescriptionStyleModel",
      "state": {
       "description_width": ""
      }
     },
     "a4d55d365d1a450dba37896b3f21e084": {
      "model_module": "@jupyter-widgets/controls",
      "model_module_version": "1.5.0",
      "model_name": "DescriptionStyleModel",
      "state": {
       "description_width": ""
      }
     },
     "a4e22c5c7d954698ba71ed408b462da3": {
      "model_module": "@jupyter-widgets/controls",
      "model_module_version": "1.5.0",
      "model_name": "HTMLModel",
      "state": {
       "layout": "IPY_MODEL_c0d4cc69e29c45d1baa148ca9b3a3c8c",
       "style": "IPY_MODEL_16fcad58b86f402296b808b182f7a06d",
       "value": "100%"
      }
     },
     "a531394ff4814412a576f1fec58023a5": {
      "model_module": "@jupyter-widgets/controls",
      "model_module_version": "1.5.0",
      "model_name": "DescriptionStyleModel",
      "state": {
       "description_width": ""
      }
     },
     "a534f1220e8f4061bd6e1ea45f3baab3": {
      "model_module": "@jupyter-widgets/base",
      "model_module_version": "1.2.0",
      "model_name": "LayoutModel",
      "state": {}
     },
     "a53a9d833c4543aa9fe206ccea30aba8": {
      "model_module": "@jupyter-widgets/base",
      "model_module_version": "1.2.0",
      "model_name": "LayoutModel",
      "state": {}
     },
     "a54e790cbad546a7bdb0b0a277ea4f2b": {
      "model_module": "@jupyter-widgets/base",
      "model_module_version": "1.2.0",
      "model_name": "LayoutModel",
      "state": {}
     },
     "a553917a6bf44d04a9fee3129cf3628f": {
      "model_module": "@jupyter-widgets/controls",
      "model_module_version": "1.5.0",
      "model_name": "ProgressStyleModel",
      "state": {
       "description_width": ""
      }
     },
     "a5641574b2914f0e812d05466a2b8d9f": {
      "model_module": "@jupyter-widgets/controls",
      "model_module_version": "1.5.0",
      "model_name": "HTMLModel",
      "state": {
       "layout": "IPY_MODEL_662ba46ebd5741529586c3f74f71d857",
       "style": "IPY_MODEL_943cecbd32d34ff08bef0fe7424107c4",
       "value": "100%"
      }
     },
     "a5904a0b3a9b4129afcd845e12ce9c65": {
      "model_module": "@jupyter-widgets/controls",
      "model_module_version": "1.5.0",
      "model_name": "HTMLModel",
      "state": {
       "layout": "IPY_MODEL_719dcd5c91044dc684ab6eff35f17d9f",
       "style": "IPY_MODEL_11209c4bdc7c4ce391de70d3f3c5bef5",
       "value": "100%"
      }
     },
     "a5f2981a48664623abf7ec41b71d92d7": {
      "model_module": "@jupyter-widgets/controls",
      "model_module_version": "1.5.0",
      "model_name": "DescriptionStyleModel",
      "state": {
       "description_width": ""
      }
     },
     "a5fdba31843b433a9c5211fa0bb24042": {
      "model_module": "@jupyter-widgets/controls",
      "model_module_version": "1.5.0",
      "model_name": "FloatProgressModel",
      "state": {
       "layout": "IPY_MODEL_fb67b2c2a3124a55925e1f1ba121433f",
       "max": 2345,
       "style": "IPY_MODEL_fc43e4a6195047529ca4a6d742e86590",
       "value": 2345
      }
     },
     "a60c84a246e843819e13b0c4dc47ce6f": {
      "model_module": "@jupyter-widgets/controls",
      "model_module_version": "1.5.0",
      "model_name": "HTMLModel",
      "state": {
       "layout": "IPY_MODEL_2ca7a0f128a84b7ab7bfb8cd746f81cc",
       "style": "IPY_MODEL_401060ae90fb4ee6b051addbda8fd9a5",
       "value": " 1266/1266 [01:09&lt;00:00, 25.76it/s]"
      }
     },
     "a6389d65041d49319f9dc9d236bc79c1": {
      "model_module": "@jupyter-widgets/controls",
      "model_module_version": "1.5.0",
      "model_name": "HBoxModel",
      "state": {
       "children": [
        "IPY_MODEL_1ac6f1e0c755442b9f3d6cdbd79b1069",
        "IPY_MODEL_4ef1d898365b43d7987a6b70b2641959",
        "IPY_MODEL_e42fc1bc0e3d4c9898f86a7d2bb27c07"
       ],
       "layout": "IPY_MODEL_ac9e9dd592bc4c3c8c77b517929dc009"
      }
     },
     "a65ab11b800e48a8a5c9d55e79ae8134": {
      "model_module": "@jupyter-widgets/controls",
      "model_module_version": "1.5.0",
      "model_name": "ProgressStyleModel",
      "state": {
       "description_width": ""
      }
     },
     "a6cdb08b395441668efbfe567b58bc30": {
      "model_module": "@jupyter-widgets/controls",
      "model_module_version": "1.5.0",
      "model_name": "FloatProgressModel",
      "state": {
       "layout": "IPY_MODEL_93a00237efbc4dc19cefc06fe93acd25",
       "max": 1266,
       "style": "IPY_MODEL_34aca72b572b422eb13083dd4c19b3f8",
       "value": 1266
      }
     },
     "a6e7ecb6955e407b9e28989892c7b6b2": {
      "model_module": "@jupyter-widgets/base",
      "model_module_version": "1.2.0",
      "model_name": "LayoutModel",
      "state": {}
     },
     "a6ed1a2d47ee4173b52326cab1fc9df0": {
      "model_module": "@jupyter-widgets/controls",
      "model_module_version": "1.5.0",
      "model_name": "HTMLModel",
      "state": {
       "layout": "IPY_MODEL_2e235fe488b84fc39dc254694634d716",
       "style": "IPY_MODEL_cdeed772e9e74df5b626fba2be7daf7c",
       "value": " 1266/1266 [01:09&lt;00:00, 25.47it/s]"
      }
     },
     "a7244cb8db7a41958b520077a86590bc": {
      "model_module": "@jupyter-widgets/base",
      "model_module_version": "1.2.0",
      "model_name": "LayoutModel",
      "state": {}
     },
     "a7463a3b35024817a2e14155e153bf8c": {
      "model_module": "@jupyter-widgets/controls",
      "model_module_version": "1.5.0",
      "model_name": "DescriptionStyleModel",
      "state": {
       "description_width": ""
      }
     },
     "a74eb509256b4a3b9ac4277c7a4b7f5f": {
      "model_module": "@jupyter-widgets/controls",
      "model_module_version": "1.5.0",
      "model_name": "DescriptionStyleModel",
      "state": {
       "description_width": ""
      }
     },
     "a7619a3e9c2f4eafad52e481eee660dc": {
      "model_module": "@jupyter-widgets/controls",
      "model_module_version": "1.5.0",
      "model_name": "DescriptionStyleModel",
      "state": {
       "description_width": ""
      }
     },
     "a7a5d72e9c224ab7aad6c6c2e3d2ab01": {
      "model_module": "@jupyter-widgets/controls",
      "model_module_version": "1.5.0",
      "model_name": "FloatProgressModel",
      "state": {
       "layout": "IPY_MODEL_6384392e721c4a48857eb39b9c474ea6",
       "max": 2345,
       "style": "IPY_MODEL_6e7849036783461284f7fd577957fa17",
       "value": 2345
      }
     },
     "a7acf101ac1f425e8906b8b6d62b8758": {
      "model_module": "@jupyter-widgets/base",
      "model_module_version": "1.2.0",
      "model_name": "LayoutModel",
      "state": {}
     },
     "a7e579601b6f4788bd3ae1af3d215b8b": {
      "model_module": "@jupyter-widgets/base",
      "model_module_version": "1.2.0",
      "model_name": "LayoutModel",
      "state": {}
     },
     "a82fc929961e4ef0af014586f23ca3f9": {
      "model_module": "@jupyter-widgets/base",
      "model_module_version": "1.2.0",
      "model_name": "LayoutModel",
      "state": {}
     },
     "a84c764808594a45bb76808fb4497fa8": {
      "model_module": "@jupyter-widgets/controls",
      "model_module_version": "1.5.0",
      "model_name": "DescriptionStyleModel",
      "state": {
       "description_width": ""
      }
     },
     "a84e1b6637274e4398ac80969b4fdd1f": {
      "model_module": "@jupyter-widgets/controls",
      "model_module_version": "1.5.0",
      "model_name": "ProgressStyleModel",
      "state": {
       "description_width": ""
      }
     },
     "a8564ef4958d46928c330d8fe43b3dd0": {
      "model_module": "@jupyter-widgets/base",
      "model_module_version": "1.2.0",
      "model_name": "LayoutModel",
      "state": {}
     },
     "a87a73cf7fe64e0d9193a2a90d387b57": {
      "model_module": "@jupyter-widgets/controls",
      "model_module_version": "1.5.0",
      "model_name": "DescriptionStyleModel",
      "state": {
       "description_width": ""
      }
     },
     "a88b0624747b4ccf9d3ef6f536036024": {
      "model_module": "@jupyter-widgets/controls",
      "model_module_version": "1.5.0",
      "model_name": "HTMLModel",
      "state": {
       "layout": "IPY_MODEL_7827846963b34bdc8844c512e530d410",
       "style": "IPY_MODEL_b9b1a51fb8bf4893b01e889b1815a016",
       "value": "100%"
      }
     },
     "a88d7b8ea3bf423eb85ceb1779aadc18": {
      "model_module": "@jupyter-widgets/controls",
      "model_module_version": "1.5.0",
      "model_name": "FloatProgressModel",
      "state": {
       "layout": "IPY_MODEL_d0e7cbfd068b4d339c1484f6b1f49085",
       "max": 2345,
       "style": "IPY_MODEL_156f545ba7374f0d808e071d31dac1a1",
       "value": 2345
      }
     },
     "a8919a757c554e2a9ee09d20cd473624": {
      "model_module": "@jupyter-widgets/base",
      "model_module_version": "1.2.0",
      "model_name": "LayoutModel",
      "state": {}
     },
     "a8e3700e82fb4587b1fe2ea619acc1df": {
      "model_module": "@jupyter-widgets/base",
      "model_module_version": "1.2.0",
      "model_name": "LayoutModel",
      "state": {}
     },
     "a904414f2b5d498eb7486aa7842dff3f": {
      "model_module": "@jupyter-widgets/controls",
      "model_module_version": "1.5.0",
      "model_name": "HTMLModel",
      "state": {
       "layout": "IPY_MODEL_42ff51eabdf84139b554b0c376f48316",
       "style": "IPY_MODEL_ae37b6d60dc244559291c7cd949bf5ef",
       "value": " 1266/1266 [01:02&lt;00:00, 25.09it/s]"
      }
     },
     "a90c0549733f4687b743d5d0ff402b95": {
      "model_module": "@jupyter-widgets/controls",
      "model_module_version": "1.5.0",
      "model_name": "ProgressStyleModel",
      "state": {
       "description_width": ""
      }
     },
     "a92133bb0da6476294e8dffbe319205e": {
      "model_module": "@jupyter-widgets/controls",
      "model_module_version": "1.5.0",
      "model_name": "HTMLModel",
      "state": {
       "layout": "IPY_MODEL_9e92ac6dd2e5470483ecd548f9f30919",
       "style": "IPY_MODEL_9dabadd57fd84994932957c31f2b377e",
       "value": " 1266/1266 [01:08&lt;00:00, 24.72it/s]"
      }
     },
     "a924873b31194105b909d0b743eccd74": {
      "model_module": "@jupyter-widgets/base",
      "model_module_version": "1.2.0",
      "model_name": "LayoutModel",
      "state": {}
     },
     "a96a4224ddd24ff6853c2d7a2acf898f": {
      "model_module": "@jupyter-widgets/controls",
      "model_module_version": "1.5.0",
      "model_name": "ProgressStyleModel",
      "state": {
       "description_width": ""
      }
     },
     "a9a2092568a04d51a35af4ba3dc77c37": {
      "model_module": "@jupyter-widgets/controls",
      "model_module_version": "1.5.0",
      "model_name": "FloatProgressModel",
      "state": {
       "layout": "IPY_MODEL_04fbc5351f0d4c8c86cf3ffac537426e",
       "max": 2345,
       "style": "IPY_MODEL_03febd4be6c64b298916f033951a6d6c",
       "value": 2345
      }
     },
     "a9c9ffc18f85448092dc450bd6bdf401": {
      "model_module": "@jupyter-widgets/controls",
      "model_module_version": "1.5.0",
      "model_name": "HTMLModel",
      "state": {
       "layout": "IPY_MODEL_91cfb4dbd3dd456498060271f9ed177e",
       "style": "IPY_MODEL_e18b828545364d87ac1d24f225aec48d",
       "value": "100%"
      }
     },
     "aa0f79da2e5b41c09bcc67af5f0310ec": {
      "model_module": "@jupyter-widgets/base",
      "model_module_version": "1.2.0",
      "model_name": "LayoutModel",
      "state": {}
     },
     "aa3d4efe740f4e2991a46acf53515c9e": {
      "model_module": "@jupyter-widgets/controls",
      "model_module_version": "1.5.0",
      "model_name": "HBoxModel",
      "state": {
       "children": [
        "IPY_MODEL_94409f83c5f440ed9c69851ee454c6da",
        "IPY_MODEL_07a5a7a1304b46ddae9d6c07cc0f4aca",
        "IPY_MODEL_d8ae3cbdc1f641099ac63b31b2536646"
       ],
       "layout": "IPY_MODEL_807f9d4913d048a0990def280fd2a40d"
      }
     },
     "aa57f1e66e06449889c99b62d896c6e3": {
      "model_module": "@jupyter-widgets/controls",
      "model_module_version": "1.5.0",
      "model_name": "HTMLModel",
      "state": {
       "layout": "IPY_MODEL_cc1a5307dc654f349c0a6cfd0d49ab29",
       "style": "IPY_MODEL_3e2c6496786641178631204c1ccdcb55",
       "value": " 2345/2345 [01:43&lt;00:00, 25.64it/s]"
      }
     },
     "aa88d51a1b7345cb97ef83035ac52833": {
      "model_module": "@jupyter-widgets/controls",
      "model_module_version": "1.5.0",
      "model_name": "HTMLModel",
      "state": {
       "layout": "IPY_MODEL_d460ab71c8d44359bf49038c1ef2b829",
       "style": "IPY_MODEL_8208987ff76f4376a4e80be3a81fce5a",
       "value": "100%"
      }
     },
     "aae138b0bebb4259ae2fb00984a37cd8": {
      "model_module": "@jupyter-widgets/controls",
      "model_module_version": "1.5.0",
      "model_name": "DescriptionStyleModel",
      "state": {
       "description_width": ""
      }
     },
     "ab0ef58011bd445f9e5f47b3ea9240cf": {
      "model_module": "@jupyter-widgets/base",
      "model_module_version": "1.2.0",
      "model_name": "LayoutModel",
      "state": {}
     },
     "ab60ddae2f604fb886d62a3c83338bbd": {
      "model_module": "@jupyter-widgets/controls",
      "model_module_version": "1.5.0",
      "model_name": "HTMLModel",
      "state": {
       "layout": "IPY_MODEL_1ba04361abb04b2d87aee273e6ed3a34",
       "style": "IPY_MODEL_39676ac72ec14e11908215bc46d6eda2",
       "value": "100%"
      }
     },
     "ab73bfc374b341aa8f93930ac0cfba18": {
      "model_module": "@jupyter-widgets/controls",
      "model_module_version": "1.5.0",
      "model_name": "HBoxModel",
      "state": {
       "children": [
        "IPY_MODEL_7d406a6dbd114ee7ae4c7192f9a04acf",
        "IPY_MODEL_257363b7da6d4471a19991eedeb319e2",
        "IPY_MODEL_fd66042d6b4c4e0eafa1a2bd02c9dd63"
       ],
       "layout": "IPY_MODEL_28458040bf8948d5be798b7e3b39558a"
      }
     },
     "ab7ed13cbe75472eab01e6873a95990a": {
      "model_module": "@jupyter-widgets/controls",
      "model_module_version": "1.5.0",
      "model_name": "HTMLModel",
      "state": {
       "layout": "IPY_MODEL_2a30863e008b4e038eb1846a97116645",
       "style": "IPY_MODEL_d19770c4bbfc4b3fa3a07c60d8b3b0c7",
       "value": " 2345/2345 [00:10&lt;00:00, 7400.00it/s]"
      }
     },
     "abb3912a3df2432ab9813fc0f1528680": {
      "model_module": "@jupyter-widgets/base",
      "model_module_version": "1.2.0",
      "model_name": "LayoutModel",
      "state": {}
     },
     "abe42ca700d44103885363ff4a42361b": {
      "model_module": "@jupyter-widgets/base",
      "model_module_version": "1.2.0",
      "model_name": "LayoutModel",
      "state": {}
     },
     "ac4de9b191804727b001138a65c97c45": {
      "model_module": "@jupyter-widgets/controls",
      "model_module_version": "1.5.0",
      "model_name": "FloatProgressModel",
      "state": {
       "layout": "IPY_MODEL_32e379dc0cd741cb97edc125b6ee2914",
       "max": 2345,
       "style": "IPY_MODEL_9f60c22721ba4a399acaf189b7586e0f",
       "value": 2345
      }
     },
     "ac6778ef1ea943098ca5cdc83a6203f3": {
      "model_module": "@jupyter-widgets/controls",
      "model_module_version": "1.5.0",
      "model_name": "DescriptionStyleModel",
      "state": {
       "description_width": ""
      }
     },
     "ac93aa1ec76e4f58bb8a2e8163546a2f": {
      "model_module": "@jupyter-widgets/controls",
      "model_module_version": "1.5.0",
      "model_name": "HTMLModel",
      "state": {
       "layout": "IPY_MODEL_5329494901974e9fb6a154ea1225750d",
       "style": "IPY_MODEL_3673f75051ba4236b6c4ef2295b0929b",
       "value": " 1266/1266 [01:05&lt;00:00, 25.74it/s]"
      }
     },
     "ac9e9dd592bc4c3c8c77b517929dc009": {
      "model_module": "@jupyter-widgets/base",
      "model_module_version": "1.2.0",
      "model_name": "LayoutModel",
      "state": {}
     },
     "aca41a120b9342eba7b0e31f5420cd06": {
      "model_module": "@jupyter-widgets/base",
      "model_module_version": "1.2.0",
      "model_name": "LayoutModel",
      "state": {}
     },
     "acbf449342d14382ae51034abdf5e3d6": {
      "model_module": "@jupyter-widgets/base",
      "model_module_version": "1.2.0",
      "model_name": "LayoutModel",
      "state": {}
     },
     "acdfedc61f31478e9d39c6b4408a6d6b": {
      "model_module": "@jupyter-widgets/controls",
      "model_module_version": "1.5.0",
      "model_name": "HTMLModel",
      "state": {
       "layout": "IPY_MODEL_579c5ca2f18c417a87de86cde95e8f28",
       "style": "IPY_MODEL_1b1496bed12d4076b9c4443fe3d66cbd",
       "value": "100%"
      }
     },
     "acea913388d84fe08979cc367a093218": {
      "model_module": "@jupyter-widgets/base",
      "model_module_version": "1.2.0",
      "model_name": "LayoutModel",
      "state": {}
     },
     "acf7dbc54460444db682d91d5b3de187": {
      "model_module": "@jupyter-widgets/base",
      "model_module_version": "1.2.0",
      "model_name": "LayoutModel",
      "state": {}
     },
     "ad18be00791841f1bdb7b73d2c7f62b8": {
      "model_module": "@jupyter-widgets/base",
      "model_module_version": "1.2.0",
      "model_name": "LayoutModel",
      "state": {}
     },
     "ad7bfac084f6473c88645eb9e6fce176": {
      "model_module": "@jupyter-widgets/base",
      "model_module_version": "1.2.0",
      "model_name": "LayoutModel",
      "state": {}
     },
     "ad8bc3521ec74508bba54c44b50d7c1b": {
      "model_module": "@jupyter-widgets/base",
      "model_module_version": "1.2.0",
      "model_name": "LayoutModel",
      "state": {}
     },
     "adaef3e294624ea2a8867ad23235d758": {
      "model_module": "@jupyter-widgets/controls",
      "model_module_version": "1.5.0",
      "model_name": "DescriptionStyleModel",
      "state": {
       "description_width": ""
      }
     },
     "adb82de2d5de4eeb801965833b1b94df": {
      "model_module": "@jupyter-widgets/base",
      "model_module_version": "1.2.0",
      "model_name": "LayoutModel",
      "state": {}
     },
     "ade0722b45b440759354c28c7cf18916": {
      "model_module": "@jupyter-widgets/base",
      "model_module_version": "1.2.0",
      "model_name": "LayoutModel",
      "state": {}
     },
     "adef4b2fcb5b4e049d607534975d0d07": {
      "model_module": "@jupyter-widgets/base",
      "model_module_version": "1.2.0",
      "model_name": "LayoutModel",
      "state": {}
     },
     "ae061e61d6244b528bf477e7a9739e3b": {
      "model_module": "@jupyter-widgets/controls",
      "model_module_version": "1.5.0",
      "model_name": "DescriptionStyleModel",
      "state": {
       "description_width": ""
      }
     },
     "ae22a78d2b544b2b9cc43c2bcd4f946f": {
      "model_module": "@jupyter-widgets/controls",
      "model_module_version": "1.5.0",
      "model_name": "HTMLModel",
      "state": {
       "layout": "IPY_MODEL_c94ee75dd3904889ba36c25f7c93c742",
       "style": "IPY_MODEL_1a7c7d4f91e14cfd958377c4d1944fc3",
       "value": " 2345/2345 [00:17&lt;00:00, 7604.06it/s]"
      }
     },
     "ae37b6d60dc244559291c7cd949bf5ef": {
      "model_module": "@jupyter-widgets/controls",
      "model_module_version": "1.5.0",
      "model_name": "DescriptionStyleModel",
      "state": {
       "description_width": ""
      }
     },
     "ae541e1b83554fd4b48f78096d21b749": {
      "model_module": "@jupyter-widgets/base",
      "model_module_version": "1.2.0",
      "model_name": "LayoutModel",
      "state": {}
     },
     "aea591e838ea4463b96d47d69f553e10": {
      "model_module": "@jupyter-widgets/base",
      "model_module_version": "1.2.0",
      "model_name": "LayoutModel",
      "state": {}
     },
     "aeb2819a66a241a9826bf4a1fd2e48e1": {
      "model_module": "@jupyter-widgets/controls",
      "model_module_version": "1.5.0",
      "model_name": "HBoxModel",
      "state": {
       "children": [
        "IPY_MODEL_773ce2e1692e4618972025375709d55f",
        "IPY_MODEL_6ae58ffcf6d5408b82576e8a0b7b9a2f",
        "IPY_MODEL_013b0fac1bc94ed9a4fef51552ab5043"
       ],
       "layout": "IPY_MODEL_aecec7b840984fe3a81df5e4ce009dc8"
      }
     },
     "aecec7b840984fe3a81df5e4ce009dc8": {
      "model_module": "@jupyter-widgets/base",
      "model_module_version": "1.2.0",
      "model_name": "LayoutModel",
      "state": {}
     },
     "aed24c1076514ac29cf8f314c5a423b8": {
      "model_module": "@jupyter-widgets/controls",
      "model_module_version": "1.5.0",
      "model_name": "HTMLModel",
      "state": {
       "layout": "IPY_MODEL_c7fb9af61cba4491909e7ff47e9334fd",
       "style": "IPY_MODEL_ca54b34a6c904c83bfe3079f0924ca5d",
       "value": "100%"
      }
     },
     "aedfd04c94d040e1af7d5ef4952ce73d": {
      "model_module": "@jupyter-widgets/controls",
      "model_module_version": "1.5.0",
      "model_name": "HBoxModel",
      "state": {
       "children": [
        "IPY_MODEL_c365c55b6ff44d2987f32f5ca7c0061a",
        "IPY_MODEL_e7bf71200d1641de8a930e62a7155bc5",
        "IPY_MODEL_93d8af6eae0f4b4f9f0a31a135a45c23"
       ],
       "layout": "IPY_MODEL_60f7ead119cc4718a01480264cf8a39f"
      }
     },
     "aee9bb1e20d04f48ab8cacfe9ec33e7b": {
      "model_module": "@jupyter-widgets/controls",
      "model_module_version": "1.5.0",
      "model_name": "HTMLModel",
      "state": {
       "layout": "IPY_MODEL_d45bb44c15114b9390c37f56f9f35244",
       "style": "IPY_MODEL_d07c6535d5934870a5551864f0ebf7b3",
       "value": " 2345/2345 [00:10&lt;00:00, 7568.80it/s]"
      }
     },
     "af20107d9c91470e9a7b4ce6eb426891": {
      "model_module": "@jupyter-widgets/base",
      "model_module_version": "1.2.0",
      "model_name": "LayoutModel",
      "state": {}
     },
     "af24b42da2dc47858e7ea1365fc27554": {
      "model_module": "@jupyter-widgets/controls",
      "model_module_version": "1.5.0",
      "model_name": "ProgressStyleModel",
      "state": {
       "description_width": ""
      }
     },
     "af37c5598ffd4bf4aa847c69c11dd3c8": {
      "model_module": "@jupyter-widgets/controls",
      "model_module_version": "1.5.0",
      "model_name": "HBoxModel",
      "state": {
       "children": [
        "IPY_MODEL_e21e41fd04224da09ae9c2a856460fc1",
        "IPY_MODEL_54bd2eb80277405bba9c204ba2a89d7c",
        "IPY_MODEL_f1acd70167cb45db8feb88368f543302"
       ],
       "layout": "IPY_MODEL_45ef422fb50a4a89b9c6b264f02ec08e"
      }
     },
     "af9ad76a1cda4d50911befb7d6fcfb37": {
      "model_module": "@jupyter-widgets/controls",
      "model_module_version": "1.5.0",
      "model_name": "HTMLModel",
      "state": {
       "layout": "IPY_MODEL_e0f3fe1426ae4ba19573a38f5cd9e328",
       "style": "IPY_MODEL_d6eeb53c48274baebb1a4dbb509dc322",
       "value": " 2345/2345 [00:11&lt;00:00, 7543.12it/s]"
      }
     },
     "afb8c4600d024fca8d23cc29a49372a2": {
      "model_module": "@jupyter-widgets/controls",
      "model_module_version": "1.5.0",
      "model_name": "HBoxModel",
      "state": {
       "children": [
        "IPY_MODEL_000156cc6e2e45afa6dbe6733a1dc46f",
        "IPY_MODEL_126297c97918452d973b9ffb7928df54",
        "IPY_MODEL_260ab86824284067ab7040b564415e50"
       ],
       "layout": "IPY_MODEL_0520b072caea4fd8834b88c0add80e8e"
      }
     },
     "afb908c11aef4b34aa4a8bf8bb1471cd": {
      "model_module": "@jupyter-widgets/controls",
      "model_module_version": "1.5.0",
      "model_name": "DescriptionStyleModel",
      "state": {
       "description_width": ""
      }
     },
     "afbbe565df994784ad388c3470289b62": {
      "model_module": "@jupyter-widgets/controls",
      "model_module_version": "1.5.0",
      "model_name": "ProgressStyleModel",
      "state": {
       "description_width": ""
      }
     },
     "aff79341cf504ad8b18b2f2d3cf6acf6": {
      "model_module": "@jupyter-widgets/controls",
      "model_module_version": "1.5.0",
      "model_name": "DescriptionStyleModel",
      "state": {
       "description_width": ""
      }
     },
     "b0066063abc14f59a47d83d343c83d0a": {
      "model_module": "@jupyter-widgets/base",
      "model_module_version": "1.2.0",
      "model_name": "LayoutModel",
      "state": {}
     },
     "b0178289348c4e7abbe3a5e0917ecc6d": {
      "model_module": "@jupyter-widgets/controls",
      "model_module_version": "1.5.0",
      "model_name": "FloatProgressModel",
      "state": {
       "layout": "IPY_MODEL_ef6f92d6aa6e46d885939266c61d2386",
       "max": 2345,
       "style": "IPY_MODEL_afbbe565df994784ad388c3470289b62",
       "value": 2345
      }
     },
     "b027a35366e648ca825ca778e69ff3f3": {
      "model_module": "@jupyter-widgets/controls",
      "model_module_version": "1.5.0",
      "model_name": "ProgressStyleModel",
      "state": {
       "description_width": ""
      }
     },
     "b029c55ad56d4cbca02defb18456605c": {
      "model_module": "@jupyter-widgets/base",
      "model_module_version": "1.2.0",
      "model_name": "LayoutModel",
      "state": {}
     },
     "b03998714bdd447d8deb5b1a51863779": {
      "model_module": "@jupyter-widgets/controls",
      "model_module_version": "1.5.0",
      "model_name": "ProgressStyleModel",
      "state": {
       "description_width": ""
      }
     },
     "b04387f7f7c14bf1804b9e19d4a71cf5": {
      "model_module": "@jupyter-widgets/controls",
      "model_module_version": "1.5.0",
      "model_name": "DescriptionStyleModel",
      "state": {
       "description_width": ""
      }
     },
     "b05a53c01d944f92942f1ddaea3f7e85": {
      "model_module": "@jupyter-widgets/controls",
      "model_module_version": "1.5.0",
      "model_name": "ProgressStyleModel",
      "state": {
       "description_width": ""
      }
     },
     "b06f74e5f4e7474da4cda55874c4336a": {
      "model_module": "@jupyter-widgets/controls",
      "model_module_version": "1.5.0",
      "model_name": "HBoxModel",
      "state": {
       "children": [
        "IPY_MODEL_3b525256260c468bb51c5221845c5d40",
        "IPY_MODEL_c31e81cd81404b20a878c35fb3b78062",
        "IPY_MODEL_22a258fefa9d48f193ed793a466fd5bc"
       ],
       "layout": "IPY_MODEL_01bc81f1aecb49fcb83e1cb605e242b0"
      }
     },
     "b087446ecdb9494285940cdb8f663f07": {
      "model_module": "@jupyter-widgets/base",
      "model_module_version": "1.2.0",
      "model_name": "LayoutModel",
      "state": {}
     },
     "b088d722b2554093a37b5baf3a96a80b": {
      "model_module": "@jupyter-widgets/base",
      "model_module_version": "1.2.0",
      "model_name": "LayoutModel",
      "state": {}
     },
     "b08fc666880a4756ad7cab2eb61e441c": {
      "model_module": "@jupyter-widgets/base",
      "model_module_version": "1.2.0",
      "model_name": "LayoutModel",
      "state": {}
     },
     "b0b839e055c14b088f874e8713c2adf9": {
      "model_module": "@jupyter-widgets/controls",
      "model_module_version": "1.5.0",
      "model_name": "FloatProgressModel",
      "state": {
       "layout": "IPY_MODEL_4eccc8e670784eb3aaa47c077e81b995",
       "max": 2345,
       "style": "IPY_MODEL_9dd8b972af1b455ea5fdb62e0ccd1c50",
       "value": 2345
      }
     },
     "b1db501b19ff423189f76abbe7247044": {
      "model_module": "@jupyter-widgets/controls",
      "model_module_version": "1.5.0",
      "model_name": "HBoxModel",
      "state": {
       "children": [
        "IPY_MODEL_0875d63622ef48b9a98086862022ba7e",
        "IPY_MODEL_f6a57a0b2b3546b688019c9d0b093d2d",
        "IPY_MODEL_8c120832730b426083b28fbccd280ab4"
       ],
       "layout": "IPY_MODEL_e094e5ffe35c4b4b8fbe721130cdc2c1"
      }
     },
     "b243eebd1b9a490db0b9bf99a6924cb8": {
      "model_module": "@jupyter-widgets/base",
      "model_module_version": "1.2.0",
      "model_name": "LayoutModel",
      "state": {}
     },
     "b25d32ff06d64ee4ad34ca3bd7300e13": {
      "model_module": "@jupyter-widgets/controls",
      "model_module_version": "1.5.0",
      "model_name": "HTMLModel",
      "state": {
       "layout": "IPY_MODEL_2725d3141e964f67b4dd7041b592f6d4",
       "style": "IPY_MODEL_992992ea2e12437c9b76eb9e628721e6",
       "value": "100%"
      }
     },
     "b2997bcc96884d278dae57cff4e98526": {
      "model_module": "@jupyter-widgets/base",
      "model_module_version": "1.2.0",
      "model_name": "LayoutModel",
      "state": {}
     },
     "b2b83db4f70140a38c59a4cff197bff5": {
      "model_module": "@jupyter-widgets/base",
      "model_module_version": "1.2.0",
      "model_name": "LayoutModel",
      "state": {}
     },
     "b2cd7d106d0b4821bcbe5ec15201c085": {
      "model_module": "@jupyter-widgets/base",
      "model_module_version": "1.2.0",
      "model_name": "LayoutModel",
      "state": {}
     },
     "b30bc9bfc6d34b2cb014df56ea7ca023": {
      "model_module": "@jupyter-widgets/controls",
      "model_module_version": "1.5.0",
      "model_name": "FloatProgressModel",
      "state": {
       "layout": "IPY_MODEL_1fda23a877674b6891fe2ed6fa8d5897",
       "max": 2345,
       "style": "IPY_MODEL_6c5045b4b4ae4d669668e6acf965de4e",
       "value": 2345
      }
     },
     "b30ee8d4ee2649e7b80c1b7af786d405": {
      "model_module": "@jupyter-widgets/controls",
      "model_module_version": "1.5.0",
      "model_name": "ProgressStyleModel",
      "state": {
       "description_width": ""
      }
     },
     "b3303efc98fc44dca680806e4f014490": {
      "model_module": "@jupyter-widgets/controls",
      "model_module_version": "1.5.0",
      "model_name": "FloatProgressModel",
      "state": {
       "layout": "IPY_MODEL_8ca47c360f7947cc89b1c20cc3ac4c73",
       "max": 2345,
       "style": "IPY_MODEL_c03c023c6eb34c3b9adee5e98a4c76b0",
       "value": 2345
      }
     },
     "b388e57543d54eaa96dbb0781a013b72": {
      "model_module": "@jupyter-widgets/base",
      "model_module_version": "1.2.0",
      "model_name": "LayoutModel",
      "state": {}
     },
     "b393333ca5814a2eae5133100ae9a002": {
      "model_module": "@jupyter-widgets/controls",
      "model_module_version": "1.5.0",
      "model_name": "DescriptionStyleModel",
      "state": {
       "description_width": ""
      }
     },
     "b3d391702ded49fbab307f162c675101": {
      "model_module": "@jupyter-widgets/controls",
      "model_module_version": "1.5.0",
      "model_name": "FloatProgressModel",
      "state": {
       "layout": "IPY_MODEL_b088d722b2554093a37b5baf3a96a80b",
       "max": 2345,
       "style": "IPY_MODEL_1e8faccd43264dfd9b15bd4b0a876b83",
       "value": 2345
      }
     },
     "b3d733474af94502bb4040821f32174f": {
      "model_module": "@jupyter-widgets/base",
      "model_module_version": "1.2.0",
      "model_name": "LayoutModel",
      "state": {}
     },
     "b3eb9631066f4704bb27577c3046d7cc": {
      "model_module": "@jupyter-widgets/controls",
      "model_module_version": "1.5.0",
      "model_name": "HTMLModel",
      "state": {
       "layout": "IPY_MODEL_b029c55ad56d4cbca02defb18456605c",
       "style": "IPY_MODEL_e825074e6fa248c79aee7a6c893e0e90",
       "value": " 0/2345 [00:00&lt;?, ?it/s]"
      }
     },
     "b402c3b15e6d4709805db5e24183c127": {
      "model_module": "@jupyter-widgets/base",
      "model_module_version": "1.2.0",
      "model_name": "LayoutModel",
      "state": {}
     },
     "b453f790a8a74b4790f25910d4551e31": {
      "model_module": "@jupyter-widgets/base",
      "model_module_version": "1.2.0",
      "model_name": "LayoutModel",
      "state": {}
     },
     "b50697e88b9d497084c3a13c90a94ae2": {
      "model_module": "@jupyter-widgets/base",
      "model_module_version": "1.2.0",
      "model_name": "LayoutModel",
      "state": {}
     },
     "b54c82216893410b84a4670d437f853c": {
      "model_module": "@jupyter-widgets/controls",
      "model_module_version": "1.5.0",
      "model_name": "HTMLModel",
      "state": {
       "layout": "IPY_MODEL_ec9cafe317bf4a429285a918e5a98bce",
       "style": "IPY_MODEL_16f384876dd24de3841c935ff50188e2",
       "value": "  0%"
      }
     },
     "b5ceb5a9a70a41a78f5ecc2f7cd1435f": {
      "model_module": "@jupyter-widgets/controls",
      "model_module_version": "1.5.0",
      "model_name": "HTMLModel",
      "state": {
       "layout": "IPY_MODEL_1c7b23d1ba67480e8a65cdbcd6be2820",
       "style": "IPY_MODEL_7dd1bb734b14445398c432da37a35198",
       "value": "100%"
      }
     },
     "b5f9b6a5c68b4343af02638e8aabdfad": {
      "model_module": "@jupyter-widgets/controls",
      "model_module_version": "1.5.0",
      "model_name": "HTMLModel",
      "state": {
       "layout": "IPY_MODEL_c831be8c89a04a84a513b7efcc24810f",
       "style": "IPY_MODEL_0f90cbe9bc4045fb85887b536c1d1fb7",
       "value": " 2345/2345 [01:48&lt;00:00, 25.94it/s]"
      }
     },
     "b630a8055854486ba8181a5a4b3a5569": {
      "model_module": "@jupyter-widgets/controls",
      "model_module_version": "1.5.0",
      "model_name": "DescriptionStyleModel",
      "state": {
       "description_width": ""
      }
     },
     "b6549382e35a43b99568e5a5f63429f9": {
      "model_module": "@jupyter-widgets/controls",
      "model_module_version": "1.5.0",
      "model_name": "DescriptionStyleModel",
      "state": {
       "description_width": ""
      }
     },
     "b65ba08f05024d71bbdadff4692747c8": {
      "model_module": "@jupyter-widgets/controls",
      "model_module_version": "1.5.0",
      "model_name": "HTMLModel",
      "state": {
       "layout": "IPY_MODEL_246bd8124e304af5a794783fc15c6ddb",
       "style": "IPY_MODEL_fee9d420a5af4568aa1f5f55f8621bbf",
       "value": " 2345/2345 [00:18&lt;00:00, 3396.40it/s]"
      }
     },
     "b68486659b0a46289b3971c71803664a": {
      "model_module": "@jupyter-widgets/controls",
      "model_module_version": "1.5.0",
      "model_name": "HTMLModel",
      "state": {
       "layout": "IPY_MODEL_cc83a7ae74e54e3e98f15f6421047c9a",
       "style": "IPY_MODEL_9c850bc52f6743319069054a9b0bfa23",
       "value": "100%"
      }
     },
     "b6f8df8f26c64008918ac1e44fb69751": {
      "model_module": "@jupyter-widgets/base",
      "model_module_version": "1.2.0",
      "model_name": "LayoutModel",
      "state": {}
     },
     "b71e0e688af9489ba2bdcdd9e584261d": {
      "model_module": "@jupyter-widgets/base",
      "model_module_version": "1.2.0",
      "model_name": "LayoutModel",
      "state": {}
     },
     "b727a68d014443b7930233b9aeeaa7bf": {
      "model_module": "@jupyter-widgets/base",
      "model_module_version": "1.2.0",
      "model_name": "LayoutModel",
      "state": {}
     },
     "b731dcec219b466ea922016a494971a5": {
      "model_module": "@jupyter-widgets/controls",
      "model_module_version": "1.5.0",
      "model_name": "HTMLModel",
      "state": {
       "layout": "IPY_MODEL_fb2f9dfe70834f0e8739eb72bb2d1ee2",
       "style": "IPY_MODEL_90280dcf8bac4e1fad14919861ff777f",
       "value": "100%"
      }
     },
     "b758bd3df2e44881b5be1c58b0339aed": {
      "model_module": "@jupyter-widgets/controls",
      "model_module_version": "1.5.0",
      "model_name": "DescriptionStyleModel",
      "state": {
       "description_width": ""
      }
     },
     "b760feee8e9649e5a5a8a8b8303239c9": {
      "model_module": "@jupyter-widgets/base",
      "model_module_version": "1.2.0",
      "model_name": "LayoutModel",
      "state": {}
     },
     "b7a0bac319844f10bac1f316de819808": {
      "model_module": "@jupyter-widgets/base",
      "model_module_version": "1.2.0",
      "model_name": "LayoutModel",
      "state": {}
     },
     "b7c894ec0c1d4d40b85632f285659e7d": {
      "model_module": "@jupyter-widgets/controls",
      "model_module_version": "1.5.0",
      "model_name": "ProgressStyleModel",
      "state": {
       "description_width": ""
      }
     },
     "b7c8b51f94b6479ebd5b5e838f55550f": {
      "model_module": "@jupyter-widgets/controls",
      "model_module_version": "1.5.0",
      "model_name": "DescriptionStyleModel",
      "state": {
       "description_width": ""
      }
     },
     "b81de3a269a746ca9378119f850cf07f": {
      "model_module": "@jupyter-widgets/base",
      "model_module_version": "1.2.0",
      "model_name": "LayoutModel",
      "state": {}
     },
     "b8d1a4e4928e418e8d5cbbae047d5929": {
      "model_module": "@jupyter-widgets/controls",
      "model_module_version": "1.5.0",
      "model_name": "HTMLModel",
      "state": {
       "layout": "IPY_MODEL_1c85f99f338a4360ae106d8521af973c",
       "style": "IPY_MODEL_a114550bb6d94d1690fcec1bfd23b43d",
       "value": "100%"
      }
     },
     "b8f619c79cc24842bd496e047bf2c6aa": {
      "model_module": "@jupyter-widgets/controls",
      "model_module_version": "1.5.0",
      "model_name": "DescriptionStyleModel",
      "state": {
       "description_width": ""
      }
     },
     "b92202aced7c4ef69ad72b39fdf12094": {
      "model_module": "@jupyter-widgets/base",
      "model_module_version": "1.2.0",
      "model_name": "LayoutModel",
      "state": {}
     },
     "b93f30662c0c4b8ebfdc4c8ce3cc899f": {
      "model_module": "@jupyter-widgets/controls",
      "model_module_version": "1.5.0",
      "model_name": "DescriptionStyleModel",
      "state": {
       "description_width": ""
      }
     },
     "b9794661666243279c2d30ac4f9ccbd3": {
      "model_module": "@jupyter-widgets/base",
      "model_module_version": "1.2.0",
      "model_name": "LayoutModel",
      "state": {}
     },
     "b9966e4c5704493098f5f332e7f0bd8a": {
      "model_module": "@jupyter-widgets/base",
      "model_module_version": "1.2.0",
      "model_name": "LayoutModel",
      "state": {}
     },
     "b99f94695e6547d0b5b80dd14ca318a7": {
      "model_module": "@jupyter-widgets/controls",
      "model_module_version": "1.5.0",
      "model_name": "HTMLModel",
      "state": {
       "layout": "IPY_MODEL_ad18be00791841f1bdb7b73d2c7f62b8",
       "style": "IPY_MODEL_094cc3882d664b05a2966d99fb199614",
       "value": " 2345/2345 [00:18&lt;00:00, 7177.28it/s]"
      }
     },
     "b9a39e91670d46f79f5b4b21a3fd072b": {
      "model_module": "@jupyter-widgets/base",
      "model_module_version": "1.2.0",
      "model_name": "LayoutModel",
      "state": {}
     },
     "b9b1a51fb8bf4893b01e889b1815a016": {
      "model_module": "@jupyter-widgets/controls",
      "model_module_version": "1.5.0",
      "model_name": "DescriptionStyleModel",
      "state": {
       "description_width": ""
      }
     },
     "b9dbcab47c794dc59dc79ccfbea073f9": {
      "model_module": "@jupyter-widgets/controls",
      "model_module_version": "1.5.0",
      "model_name": "HTMLModel",
      "state": {
       "layout": "IPY_MODEL_896887b3a110421ca1d3def78a4c1b2e",
       "style": "IPY_MODEL_db33cbf855784e66b5f15eeb2c05d920",
       "value": " 2345/2345 [00:15&lt;00:00, 7526.40it/s]"
      }
     },
     "ba1d708710944f97a8470472a21195bc": {
      "model_module": "@jupyter-widgets/controls",
      "model_module_version": "1.5.0",
      "model_name": "ProgressStyleModel",
      "state": {
       "description_width": ""
      }
     },
     "baa42b4ca3bc4f2eb5ff8ada24d64be0": {
      "model_module": "@jupyter-widgets/controls",
      "model_module_version": "1.5.0",
      "model_name": "DescriptionStyleModel",
      "state": {
       "description_width": ""
      }
     },
     "baa6b7a079ec4e64b610cd774bdde170": {
      "model_module": "@jupyter-widgets/base",
      "model_module_version": "1.2.0",
      "model_name": "LayoutModel",
      "state": {}
     },
     "baaabcc2535f4c6ebf97e1b435315af4": {
      "model_module": "@jupyter-widgets/controls",
      "model_module_version": "1.5.0",
      "model_name": "FloatProgressModel",
      "state": {
       "layout": "IPY_MODEL_99a5d789615d432cb49b2f8930159c5b",
       "max": 2345,
       "style": "IPY_MODEL_23f375fca3234cc1a97aa1446774b2aa",
       "value": 2345
      }
     },
     "bac06653a2c74892ab8b97e84c0519b9": {
      "model_module": "@jupyter-widgets/controls",
      "model_module_version": "1.5.0",
      "model_name": "FloatProgressModel",
      "state": {
       "layout": "IPY_MODEL_20f3200dcf324a43b587d59a98a896c9",
       "max": 2345,
       "style": "IPY_MODEL_ffd16114b5154510bdd75ebe48459e96",
       "value": 2345
      }
     },
     "bad37c964268497b8f2f2988ae0b6716": {
      "model_module": "@jupyter-widgets/controls",
      "model_module_version": "1.5.0",
      "model_name": "DescriptionStyleModel",
      "state": {
       "description_width": ""
      }
     },
     "baf0dc35b3a64ab4bbb053b5098cbfeb": {
      "model_module": "@jupyter-widgets/base",
      "model_module_version": "1.2.0",
      "model_name": "LayoutModel",
      "state": {}
     },
     "baf5923b47e04820a020f2084bf0c75a": {
      "model_module": "@jupyter-widgets/base",
      "model_module_version": "1.2.0",
      "model_name": "LayoutModel",
      "state": {}
     },
     "bb312f726a754491942ab02951464910": {
      "model_module": "@jupyter-widgets/controls",
      "model_module_version": "1.5.0",
      "model_name": "HTMLModel",
      "state": {
       "layout": "IPY_MODEL_d50814ec79254e5884d8273919403652",
       "style": "IPY_MODEL_404b947a6383445f8ebd9ce5c4818133",
       "value": "100%"
      }
     },
     "bbbdd03fce694d8f84c7a1f78b9a6e14": {
      "model_module": "@jupyter-widgets/controls",
      "model_module_version": "1.5.0",
      "model_name": "HTMLModel",
      "state": {
       "layout": "IPY_MODEL_be0cd54f245d4b7a8d158f349b3155fe",
       "style": "IPY_MODEL_de4f615319bc41be87c18c2bc0927e10",
       "value": " 1266/1266 [01:12&lt;00:00, 24.09it/s]"
      }
     },
     "bbc757a37f8140658eb8d18a10e8072d": {
      "model_module": "@jupyter-widgets/base",
      "model_module_version": "1.2.0",
      "model_name": "LayoutModel",
      "state": {}
     },
     "bbd026248fda4adc87e0d7c3066f3178": {
      "model_module": "@jupyter-widgets/controls",
      "model_module_version": "1.5.0",
      "model_name": "DescriptionStyleModel",
      "state": {
       "description_width": ""
      }
     },
     "bd117d486c074292b8a2b7cf328b08de": {
      "model_module": "@jupyter-widgets/controls",
      "model_module_version": "1.5.0",
      "model_name": "HTMLModel",
      "state": {
       "layout": "IPY_MODEL_c6b35ff6d024478d9e873ac3bb1c502c",
       "style": "IPY_MODEL_288e4f24457641f39597b06920faac80",
       "value": "100%"
      }
     },
     "bd6333a2d1cb49ac883cdffd2ae3cd3e": {
      "model_module": "@jupyter-widgets/base",
      "model_module_version": "1.2.0",
      "model_name": "LayoutModel",
      "state": {}
     },
     "bd6e5f82690145f1b7847cf0c0d8620a": {
      "model_module": "@jupyter-widgets/base",
      "model_module_version": "1.2.0",
      "model_name": "LayoutModel",
      "state": {}
     },
     "bd76278bd64e43c7865664a9e107ee37": {
      "model_module": "@jupyter-widgets/base",
      "model_module_version": "1.2.0",
      "model_name": "LayoutModel",
      "state": {}
     },
     "bdad0d1c311c4586b19590764c84821c": {
      "model_module": "@jupyter-widgets/base",
      "model_module_version": "1.2.0",
      "model_name": "LayoutModel",
      "state": {}
     },
     "bdc8b8c277fa434eb55fe074c661a8b2": {
      "model_module": "@jupyter-widgets/base",
      "model_module_version": "1.2.0",
      "model_name": "LayoutModel",
      "state": {}
     },
     "bdd02f1ecc2446749cf8537bee4902fb": {
      "model_module": "@jupyter-widgets/controls",
      "model_module_version": "1.5.0",
      "model_name": "DescriptionStyleModel",
      "state": {
       "description_width": ""
      }
     },
     "bde5762f77cf4d0695a06e4302f97f6b": {
      "model_module": "@jupyter-widgets/controls",
      "model_module_version": "1.5.0",
      "model_name": "ProgressStyleModel",
      "state": {
       "description_width": ""
      }
     },
     "be05383a773444199761f0f536659cc9": {
      "model_module": "@jupyter-widgets/base",
      "model_module_version": "1.2.0",
      "model_name": "LayoutModel",
      "state": {}
     },
     "be0cd54f245d4b7a8d158f349b3155fe": {
      "model_module": "@jupyter-widgets/base",
      "model_module_version": "1.2.0",
      "model_name": "LayoutModel",
      "state": {}
     },
     "be527493263143f2a9489f32fc98376a": {
      "model_module": "@jupyter-widgets/base",
      "model_module_version": "1.2.0",
      "model_name": "LayoutModel",
      "state": {}
     },
     "be77f82f17054ce1af041848a7726417": {
      "model_module": "@jupyter-widgets/controls",
      "model_module_version": "1.5.0",
      "model_name": "FloatProgressModel",
      "state": {
       "layout": "IPY_MODEL_aca41a120b9342eba7b0e31f5420cd06",
       "max": 1266,
       "style": "IPY_MODEL_d156021299e74e7a9c0c1ac01894ce7b",
       "value": 1266
      }
     },
     "beb6d5c65f6347108cc8d63ddfca0192": {
      "model_module": "@jupyter-widgets/base",
      "model_module_version": "1.2.0",
      "model_name": "LayoutModel",
      "state": {}
     },
     "beb948ff8bdd4f10a5e4d27d892d3f7a": {
      "model_module": "@jupyter-widgets/controls",
      "model_module_version": "1.5.0",
      "model_name": "DescriptionStyleModel",
      "state": {
       "description_width": ""
      }
     },
     "bee72d4a5e80409b9302c37faadfbc83": {
      "model_module": "@jupyter-widgets/base",
      "model_module_version": "1.2.0",
      "model_name": "LayoutModel",
      "state": {}
     },
     "bf1c4f5786bf47beb7821746fd7d9575": {
      "model_module": "@jupyter-widgets/base",
      "model_module_version": "1.2.0",
      "model_name": "LayoutModel",
      "state": {}
     },
     "bf21e7349ff248028f956adee939c3ed": {
      "model_module": "@jupyter-widgets/controls",
      "model_module_version": "1.5.0",
      "model_name": "HTMLModel",
      "state": {
       "layout": "IPY_MODEL_a534f1220e8f4061bd6e1ea45f3baab3",
       "style": "IPY_MODEL_bad37c964268497b8f2f2988ae0b6716",
       "value": "100%"
      }
     },
     "bf3402c2cd354cf7bdb5de8a69d02af1": {
      "model_module": "@jupyter-widgets/controls",
      "model_module_version": "1.5.0",
      "model_name": "DescriptionStyleModel",
      "state": {
       "description_width": ""
      }
     },
     "bf48234ec1344f90ad9ea13997f69106": {
      "model_module": "@jupyter-widgets/controls",
      "model_module_version": "1.5.0",
      "model_name": "HTMLModel",
      "state": {
       "layout": "IPY_MODEL_7eed25154b0146f197843f5cb9af6748",
       "style": "IPY_MODEL_db8558d22e204014b7ad697894fa635d",
       "value": " 0/2345 [00:00&lt;?, ?it/s]"
      }
     },
     "bf509f53d90e414596192d127cf4a434": {
      "model_module": "@jupyter-widgets/controls",
      "model_module_version": "1.5.0",
      "model_name": "DescriptionStyleModel",
      "state": {
       "description_width": ""
      }
     },
     "bf721fdbae254d4aadbbd28b52e05316": {
      "model_module": "@jupyter-widgets/controls",
      "model_module_version": "1.5.0",
      "model_name": "FloatProgressModel",
      "state": {
       "layout": "IPY_MODEL_5e026fa7f62045e58739b4cf43ffb790",
       "max": 1266,
       "style": "IPY_MODEL_9567f6edaf88485581846c0cad0621ff",
       "value": 1266
      }
     },
     "bf9dfb33951d41fc926f552747c755c3": {
      "model_module": "@jupyter-widgets/controls",
      "model_module_version": "1.5.0",
      "model_name": "HTMLModel",
      "state": {
       "layout": "IPY_MODEL_d4acd2010dfb4d4c870fea062f37a5c0",
       "style": "IPY_MODEL_684367632ff84f3f905639c72c494ec2",
       "value": "100%"
      }
     },
     "c00607bd13c448cebf8aa6b02437cf28": {
      "model_module": "@jupyter-widgets/controls",
      "model_module_version": "1.5.0",
      "model_name": "HTMLModel",
      "state": {
       "layout": "IPY_MODEL_e7c5cf5296df4ef28b0428c81274da19",
       "style": "IPY_MODEL_9ab219d71ac44b11aaecb391855ff47e",
       "value": " 2345/2345 [00:11&lt;00:00, 7585.05it/s]"
      }
     },
     "c0218681437d486896adaa538840e014": {
      "model_module": "@jupyter-widgets/controls",
      "model_module_version": "1.5.0",
      "model_name": "HBoxModel",
      "state": {
       "children": [
        "IPY_MODEL_75b8e7a4dea94f2da798deb02fe1ab01",
        "IPY_MODEL_d18edd3eef04414dba0a38d0432c42ab",
        "IPY_MODEL_e8f36548f037485fb55629a1b109d2fc"
       ],
       "layout": "IPY_MODEL_087a7bb2f6f448f5be1bec8c4b2bc00c"
      }
     },
     "c023c9e791b54c809d8344159e75373e": {
      "model_module": "@jupyter-widgets/controls",
      "model_module_version": "1.5.0",
      "model_name": "DescriptionStyleModel",
      "state": {
       "description_width": ""
      }
     },
     "c02658e6dcf943b28b4a8f033072ca60": {
      "model_module": "@jupyter-widgets/controls",
      "model_module_version": "1.5.0",
      "model_name": "HTMLModel",
      "state": {
       "layout": "IPY_MODEL_509d60ffe5d542b7afab1900be300b85",
       "style": "IPY_MODEL_2340c789858046e2abdc9d1cb862a4a6",
       "value": " 2345/2345 [00:17&lt;00:00, 7572.46it/s]"
      }
     },
     "c02b543d34d14c29a1f63e3edae85605": {
      "model_module": "@jupyter-widgets/controls",
      "model_module_version": "1.5.0",
      "model_name": "DescriptionStyleModel",
      "state": {
       "description_width": ""
      }
     },
     "c03c023c6eb34c3b9adee5e98a4c76b0": {
      "model_module": "@jupyter-widgets/controls",
      "model_module_version": "1.5.0",
      "model_name": "ProgressStyleModel",
      "state": {
       "description_width": ""
      }
     },
     "c05a8681ff4f48a092c0d2a683116cca": {
      "model_module": "@jupyter-widgets/controls",
      "model_module_version": "1.5.0",
      "model_name": "FloatProgressModel",
      "state": {
       "layout": "IPY_MODEL_119705c086f84c3fb621dbf77ba08921",
       "max": 2345,
       "style": "IPY_MODEL_a96a4224ddd24ff6853c2d7a2acf898f",
       "value": 2345
      }
     },
     "c06b428006c947edbef478fafc04d95d": {
      "model_module": "@jupyter-widgets/controls",
      "model_module_version": "1.5.0",
      "model_name": "HTMLModel",
      "state": {
       "layout": "IPY_MODEL_02a40084e2b64add887dc8b44c831af5",
       "style": "IPY_MODEL_97061769d1ab4f8b91071e6bf0798efb",
       "value": "  0%"
      }
     },
     "c06c22cda4f040e1bc43c48ab6c4d2c4": {
      "model_module": "@jupyter-widgets/controls",
      "model_module_version": "1.5.0",
      "model_name": "HTMLModel",
      "state": {
       "layout": "IPY_MODEL_acf7dbc54460444db682d91d5b3de187",
       "style": "IPY_MODEL_8132ca9abdc2439983574205f3123da7",
       "value": " 2345/2345 [01:45&lt;00:00, 26.24it/s]"
      }
     },
     "c0d4cc69e29c45d1baa148ca9b3a3c8c": {
      "model_module": "@jupyter-widgets/base",
      "model_module_version": "1.2.0",
      "model_name": "LayoutModel",
      "state": {}
     },
     "c0f871e183934280b8ddb9cae2dcccb4": {
      "model_module": "@jupyter-widgets/controls",
      "model_module_version": "1.5.0",
      "model_name": "ProgressStyleModel",
      "state": {
       "description_width": ""
      }
     },
     "c12881fe27024e90bfd422bb0e1be5b4": {
      "model_module": "@jupyter-widgets/base",
      "model_module_version": "1.2.0",
      "model_name": "LayoutModel",
      "state": {}
     },
     "c17a96a49ff94814886d47c6898f4519": {
      "model_module": "@jupyter-widgets/controls",
      "model_module_version": "1.5.0",
      "model_name": "HTMLModel",
      "state": {
       "layout": "IPY_MODEL_3394e06d455144d198ac42ae14b88a49",
       "style": "IPY_MODEL_54c5f9e2738a4cba80550c2653344ac4",
       "value": "100%"
      }
     },
     "c17bd6722f7e48d797dd7dfefc13cd4d": {
      "model_module": "@jupyter-widgets/controls",
      "model_module_version": "1.5.0",
      "model_name": "HTMLModel",
      "state": {
       "layout": "IPY_MODEL_68d0529153504bdb85e192eaa2ba46f2",
       "style": "IPY_MODEL_9ded03986e55425093cd9fded466a958",
       "value": "100%"
      }
     },
     "c17c43182518431e8914662e97565cae": {
      "model_module": "@jupyter-widgets/controls",
      "model_module_version": "1.5.0",
      "model_name": "HTMLModel",
      "state": {
       "layout": "IPY_MODEL_663aecead9be48229225bfafd858ba0f",
       "style": "IPY_MODEL_38875cdd908749ce91413661f5545598",
       "value": " 2345/2345 [01:45&lt;00:00, 25.20it/s]"
      }
     },
     "c1bc8c8db3bf4d818f8557fde4aa685b": {
      "model_module": "@jupyter-widgets/base",
      "model_module_version": "1.2.0",
      "model_name": "LayoutModel",
      "state": {}
     },
     "c1c27da4532f44df80a4814e41bd1037": {
      "model_module": "@jupyter-widgets/controls",
      "model_module_version": "1.5.0",
      "model_name": "HBoxModel",
      "state": {
       "children": [
        "IPY_MODEL_32d3b0657d5b422c91b8941d46912771",
        "IPY_MODEL_9f7f111efebd439e868b88ff2804d3fb",
        "IPY_MODEL_e979a8ef2a4d4509a318a64a672b9b33"
       ],
       "layout": "IPY_MODEL_c91dba9ca8d549c5aad6b9d07bca95fc"
      }
     },
     "c1cdac0bbb8144498ccbff676d79716b": {
      "model_module": "@jupyter-widgets/base",
      "model_module_version": "1.2.0",
      "model_name": "LayoutModel",
      "state": {}
     },
     "c1e9eb7e126b41cab081b0f12c8396c8": {
      "model_module": "@jupyter-widgets/controls",
      "model_module_version": "1.5.0",
      "model_name": "HTMLModel",
      "state": {
       "layout": "IPY_MODEL_b760feee8e9649e5a5a8a8b8303239c9",
       "style": "IPY_MODEL_d6c5f31636264e85a3c9311a40d21182",
       "value": " 1266/1266 [01:08&lt;00:00, 22.54it/s]"
      }
     },
     "c1ec56b5e75344078bf68a1384f7f343": {
      "model_module": "@jupyter-widgets/base",
      "model_module_version": "1.2.0",
      "model_name": "LayoutModel",
      "state": {}
     },
     "c1fc65e53e2b4ac390a80b57a8353eff": {
      "model_module": "@jupyter-widgets/base",
      "model_module_version": "1.2.0",
      "model_name": "LayoutModel",
      "state": {}
     },
     "c230eb3ae9064793964847d04f88e397": {
      "model_module": "@jupyter-widgets/controls",
      "model_module_version": "1.5.0",
      "model_name": "FloatProgressModel",
      "state": {
       "layout": "IPY_MODEL_b243eebd1b9a490db0b9bf99a6924cb8",
       "max": 2345,
       "style": "IPY_MODEL_c0f871e183934280b8ddb9cae2dcccb4",
       "value": 2345
      }
     },
     "c24e77b376ad4f73a33a232f64c5a557": {
      "model_module": "@jupyter-widgets/controls",
      "model_module_version": "1.5.0",
      "model_name": "DescriptionStyleModel",
      "state": {
       "description_width": ""
      }
     },
     "c287d67a37f649b6b39be5bbdaef7b0f": {
      "model_module": "@jupyter-widgets/controls",
      "model_module_version": "1.5.0",
      "model_name": "HBoxModel",
      "state": {
       "children": [
        "IPY_MODEL_9a268486a5304a7396ccc16e933367b9",
        "IPY_MODEL_f0e4bd9c989c4eabb157362950668f8a",
        "IPY_MODEL_332e27a7fba543a29053cb5d187723d9"
       ],
       "layout": "IPY_MODEL_ee52765f148a4b3cb5482506b8f59204"
      }
     },
     "c28accb1925e465c87986731c5f16412": {
      "model_module": "@jupyter-widgets/controls",
      "model_module_version": "1.5.0",
      "model_name": "FloatProgressModel",
      "state": {
       "layout": "IPY_MODEL_d9e04415928c490281b624cf783bbdea",
       "max": 2345,
       "style": "IPY_MODEL_a553917a6bf44d04a9fee3129cf3628f",
       "value": 2345
      }
     },
     "c295064b63be407fb33225c92fb6db24": {
      "model_module": "@jupyter-widgets/base",
      "model_module_version": "1.2.0",
      "model_name": "LayoutModel",
      "state": {}
     },
     "c2e749cdb8c7419698df282149f14fc0": {
      "model_module": "@jupyter-widgets/controls",
      "model_module_version": "1.5.0",
      "model_name": "DescriptionStyleModel",
      "state": {
       "description_width": ""
      }
     },
     "c31e81cd81404b20a878c35fb3b78062": {
      "model_module": "@jupyter-widgets/controls",
      "model_module_version": "1.5.0",
      "model_name": "FloatProgressModel",
      "state": {
       "layout": "IPY_MODEL_81be036e684b400ea7fb46aa3fdf1e9e",
       "max": 2345,
       "style": "IPY_MODEL_1e6b7da465264700989feb8880b8301e",
       "value": 2345
      }
     },
     "c34175086dff4dc980e58f97b602cab1": {
      "model_module": "@jupyter-widgets/controls",
      "model_module_version": "1.5.0",
      "model_name": "HTMLModel",
      "state": {
       "layout": "IPY_MODEL_6d40e1227d6c4f0c8372417f8eec1629",
       "style": "IPY_MODEL_cc59f0dcd11c43bda575034613f525b8",
       "value": "100%"
      }
     },
     "c365c55b6ff44d2987f32f5ca7c0061a": {
      "model_module": "@jupyter-widgets/controls",
      "model_module_version": "1.5.0",
      "model_name": "HTMLModel",
      "state": {
       "layout": "IPY_MODEL_14bf008b61ad4bc692503089c396e2ea",
       "style": "IPY_MODEL_0e9941675f6b4961922096aba94ba16d",
       "value": "100%"
      }
     },
     "c3dbd7b43a954f59a5478b9adc2fd907": {
      "model_module": "@jupyter-widgets/base",
      "model_module_version": "1.2.0",
      "model_name": "LayoutModel",
      "state": {}
     },
     "c47fbe68f6db4e0baeddb16e82503321": {
      "model_module": "@jupyter-widgets/controls",
      "model_module_version": "1.5.0",
      "model_name": "ProgressStyleModel",
      "state": {
       "description_width": ""
      }
     },
     "c484faf23dfc4bfa9d6182ee6f7ccb0b": {
      "model_module": "@jupyter-widgets/controls",
      "model_module_version": "1.5.0",
      "model_name": "ProgressStyleModel",
      "state": {
       "description_width": ""
      }
     },
     "c4abafafa567463fa1135344f8c638e3": {
      "model_module": "@jupyter-widgets/controls",
      "model_module_version": "1.5.0",
      "model_name": "HBoxModel",
      "state": {
       "children": [
        "IPY_MODEL_14d7bdf928ad489d9c4cf6463f813f1e",
        "IPY_MODEL_06a6e1889a724f8eb52e137c3eaa5f3c",
        "IPY_MODEL_ee8bbf3cadc94e8486ce44f2e5770871"
       ],
       "layout": "IPY_MODEL_0a366dd869ec4288b063b996a38544ee"
      }
     },
     "c4b1f2d239484d609aed2058534f2896": {
      "model_module": "@jupyter-widgets/base",
      "model_module_version": "1.2.0",
      "model_name": "LayoutModel",
      "state": {}
     },
     "c4b2437094644ef6bc61779513e499bf": {
      "model_module": "@jupyter-widgets/controls",
      "model_module_version": "1.5.0",
      "model_name": "DescriptionStyleModel",
      "state": {
       "description_width": ""
      }
     },
     "c4c76c033e2f48939777138c4b0754c0": {
      "model_module": "@jupyter-widgets/base",
      "model_module_version": "1.2.0",
      "model_name": "LayoutModel",
      "state": {}
     },
     "c4ccda000c0642fcbd98bc3782212c2d": {
      "model_module": "@jupyter-widgets/controls",
      "model_module_version": "1.5.0",
      "model_name": "ProgressStyleModel",
      "state": {
       "description_width": ""
      }
     },
     "c4ee7d8f37f84a059fc369f2e13620bb": {
      "model_module": "@jupyter-widgets/controls",
      "model_module_version": "1.5.0",
      "model_name": "HBoxModel",
      "state": {
       "children": [
        "IPY_MODEL_a88b0624747b4ccf9d3ef6f536036024",
        "IPY_MODEL_d25728aa85b840f6aa9276358e87e170",
        "IPY_MODEL_5fa78fafe3654181857fb3c5845877ed"
       ],
       "layout": "IPY_MODEL_40279168098748e6bcdd2befe7509b20"
      }
     },
     "c4fbd989cb1b47b6a35baf44331e95e7": {
      "model_module": "@jupyter-widgets/controls",
      "model_module_version": "1.5.0",
      "model_name": "DescriptionStyleModel",
      "state": {
       "description_width": ""
      }
     },
     "c5370934426b4dc8a1311825e15ab640": {
      "model_module": "@jupyter-widgets/controls",
      "model_module_version": "1.5.0",
      "model_name": "FloatProgressModel",
      "state": {
       "layout": "IPY_MODEL_7cb9ea05295d4eaeabdd40631e81b710",
       "max": 2345,
       "style": "IPY_MODEL_241a7d837bfc4dcd9f2b1818fd995715",
       "value": 2345
      }
     },
     "c57d9e666a0b4b2fa7e4c1ea2de16840": {
      "model_module": "@jupyter-widgets/base",
      "model_module_version": "1.2.0",
      "model_name": "LayoutModel",
      "state": {}
     },
     "c58412817c6d46f29df31591c5f93812": {
      "model_module": "@jupyter-widgets/controls",
      "model_module_version": "1.5.0",
      "model_name": "FloatProgressModel",
      "state": {
       "layout": "IPY_MODEL_63e35adde9a34d0999d273d2b7d893ad",
       "max": 2345,
       "style": "IPY_MODEL_e7907185d38e4ae69c8d5fbd61fb3d5f"
      }
     },
     "c5b5f5f82e1f4fda9d67ece668c3f3dc": {
      "model_module": "@jupyter-widgets/controls",
      "model_module_version": "1.5.0",
      "model_name": "DescriptionStyleModel",
      "state": {
       "description_width": ""
      }
     },
     "c5d5df295b3742449f71f6808437618d": {
      "model_module": "@jupyter-widgets/controls",
      "model_module_version": "1.5.0",
      "model_name": "DescriptionStyleModel",
      "state": {
       "description_width": ""
      }
     },
     "c5ecc8b1b37442eb96bada78edc893d0": {
      "model_module": "@jupyter-widgets/controls",
      "model_module_version": "1.5.0",
      "model_name": "ProgressStyleModel",
      "state": {
       "description_width": ""
      }
     },
     "c613f23edce343458e6201148c6073ec": {
      "model_module": "@jupyter-widgets/controls",
      "model_module_version": "1.5.0",
      "model_name": "FloatProgressModel",
      "state": {
       "layout": "IPY_MODEL_fee3303ea2b64cffb68f1b9f0032c477",
       "max": 2345,
       "style": "IPY_MODEL_4f1fc15ebb324a42abfcfddbd56d19d4",
       "value": 2345
      }
     },
     "c6769f2aec154776ac043c652920e9a2": {
      "model_module": "@jupyter-widgets/base",
      "model_module_version": "1.2.0",
      "model_name": "LayoutModel",
      "state": {}
     },
     "c6a25883d3ed4fefb8f7333f2c4288f1": {
      "model_module": "@jupyter-widgets/controls",
      "model_module_version": "1.5.0",
      "model_name": "HTMLModel",
      "state": {
       "layout": "IPY_MODEL_2fb31fd9141b46999f7fd716e041a677",
       "style": "IPY_MODEL_02ab989337d44b958dfe89720b6f5e60",
       "value": " 2345/2345 [00:12&lt;00:00, 3905.39it/s]"
      }
     },
     "c6b35ff6d024478d9e873ac3bb1c502c": {
      "model_module": "@jupyter-widgets/base",
      "model_module_version": "1.2.0",
      "model_name": "LayoutModel",
      "state": {}
     },
     "c6b8c9e44714433aa81b93cdbfd62100": {
      "model_module": "@jupyter-widgets/controls",
      "model_module_version": "1.5.0",
      "model_name": "DescriptionStyleModel",
      "state": {
       "description_width": ""
      }
     },
     "c6fac6cfedf94cf98c0b1e1459ff91e7": {
      "model_module": "@jupyter-widgets/controls",
      "model_module_version": "1.5.0",
      "model_name": "HBoxModel",
      "state": {
       "children": [
        "IPY_MODEL_d050133883054db6966757a01a4b6fd6",
        "IPY_MODEL_74c3e724ee7f4b92a1b6c1179106d3eb",
        "IPY_MODEL_b9dbcab47c794dc59dc79ccfbea073f9"
       ],
       "layout": "IPY_MODEL_a8919a757c554e2a9ee09d20cd473624"
      }
     },
     "c7008155c3d94eaa98fce329f981ba12": {
      "model_module": "@jupyter-widgets/controls",
      "model_module_version": "1.5.0",
      "model_name": "FloatProgressModel",
      "state": {
       "layout": "IPY_MODEL_1e0331a824bf410e93c3ace6ccfcfd71",
       "max": 2345,
       "style": "IPY_MODEL_99f4ddfe9b7b4ece8ab95eb1365ed30c",
       "value": 2345
      }
     },
     "c73e529558bc4b228c25007383792d5b": {
      "model_module": "@jupyter-widgets/controls",
      "model_module_version": "1.5.0",
      "model_name": "HTMLModel",
      "state": {
       "layout": "IPY_MODEL_07b45a1343d647d895668408f80d3b31",
       "style": "IPY_MODEL_f3c727e4366a4b7a932adef9ecf31006",
       "value": " 2345/2345 [00:16&lt;00:00, 3492.03it/s]"
      }
     },
     "c7cfa1d935ee4cbaa5f3050519f1efde": {
      "model_module": "@jupyter-widgets/controls",
      "model_module_version": "1.5.0",
      "model_name": "HBoxModel",
      "state": {
       "children": [
        "IPY_MODEL_aa88d51a1b7345cb97ef83035ac52833",
        "IPY_MODEL_c05a8681ff4f48a092c0d2a683116cca",
        "IPY_MODEL_1ade1f2e26e7480ba115f69fadc805ba"
       ],
       "layout": "IPY_MODEL_390dfc5a3ff8493091e1b15c02ba97b1"
      }
     },
     "c7fb4f84cd7247d88a788334f5576a64": {
      "model_module": "@jupyter-widgets/base",
      "model_module_version": "1.2.0",
      "model_name": "LayoutModel",
      "state": {}
     },
     "c7fb9af61cba4491909e7ff47e9334fd": {
      "model_module": "@jupyter-widgets/base",
      "model_module_version": "1.2.0",
      "model_name": "LayoutModel",
      "state": {}
     },
     "c808d23c174747c8bb54005640149423": {
      "model_module": "@jupyter-widgets/controls",
      "model_module_version": "1.5.0",
      "model_name": "ProgressStyleModel",
      "state": {
       "description_width": ""
      }
     },
     "c821a43e412a4a0297813864337b5a6d": {
      "model_module": "@jupyter-widgets/controls",
      "model_module_version": "1.5.0",
      "model_name": "HBoxModel",
      "state": {
       "children": [
        "IPY_MODEL_57b866580c0d4c4b97b06b6c4f38a75a",
        "IPY_MODEL_2371ada23c464678b0bba6a463aed4f5",
        "IPY_MODEL_c73e529558bc4b228c25007383792d5b"
       ],
       "layout": "IPY_MODEL_d8d3f188ed7344fd9194d10ed72f0a7f"
      }
     },
     "c831be8c89a04a84a513b7efcc24810f": {
      "model_module": "@jupyter-widgets/base",
      "model_module_version": "1.2.0",
      "model_name": "LayoutModel",
      "state": {}
     },
     "c8453d10bad94c2a85dffbaea47a0c62": {
      "model_module": "@jupyter-widgets/controls",
      "model_module_version": "1.5.0",
      "model_name": "ProgressStyleModel",
      "state": {
       "description_width": ""
      }
     },
     "c8744978198c428e818c207d11244bee": {
      "model_module": "@jupyter-widgets/controls",
      "model_module_version": "1.5.0",
      "model_name": "HBoxModel",
      "state": {
       "children": [
        "IPY_MODEL_e54f9e9bd9d54cd2a313fb9e525dfce8",
        "IPY_MODEL_717227c711c647e3ab80940d6b707d4d",
        "IPY_MODEL_ef8d871504de461886f56db9b3265e48"
       ],
       "layout": "IPY_MODEL_7ab9b143562d43b994e8eb6323c25a09"
      }
     },
     "c88f9afee46b4ebeb6876b08533731f2": {
      "model_module": "@jupyter-widgets/controls",
      "model_module_version": "1.5.0",
      "model_name": "DescriptionStyleModel",
      "state": {
       "description_width": ""
      }
     },
     "c8c8e20dc9f643ef97226d40948c6e64": {
      "model_module": "@jupyter-widgets/controls",
      "model_module_version": "1.5.0",
      "model_name": "DescriptionStyleModel",
      "state": {
       "description_width": ""
      }
     },
     "c8cc5f8efcf64bbfbfd2587acd9e650c": {
      "model_module": "@jupyter-widgets/base",
      "model_module_version": "1.2.0",
      "model_name": "LayoutModel",
      "state": {}
     },
     "c91ac766ae22408896cdb31c7e9f8da9": {
      "model_module": "@jupyter-widgets/controls",
      "model_module_version": "1.5.0",
      "model_name": "HBoxModel",
      "state": {
       "children": [
        "IPY_MODEL_cf1d7bba62d44b868cd4ce9ef6be8f08",
        "IPY_MODEL_c28accb1925e465c87986731c5f16412",
        "IPY_MODEL_3813f41c19d444d9a6b9aa70147b3fd5"
       ],
       "layout": "IPY_MODEL_d9d382c4f9514febb690777cf9f7e377"
      }
     },
     "c91dba9ca8d549c5aad6b9d07bca95fc": {
      "model_module": "@jupyter-widgets/base",
      "model_module_version": "1.2.0",
      "model_name": "LayoutModel",
      "state": {}
     },
     "c94ee75dd3904889ba36c25f7c93c742": {
      "model_module": "@jupyter-widgets/base",
      "model_module_version": "1.2.0",
      "model_name": "LayoutModel",
      "state": {}
     },
     "c981e05e31c44124809496e96565c220": {
      "model_module": "@jupyter-widgets/base",
      "model_module_version": "1.2.0",
      "model_name": "LayoutModel",
      "state": {}
     },
     "c99a567f943047428bdf5663f7ed6eb5": {
      "model_module": "@jupyter-widgets/controls",
      "model_module_version": "1.5.0",
      "model_name": "DescriptionStyleModel",
      "state": {
       "description_width": ""
      }
     },
     "c9a0404fcb394f88bd29abdb35e38103": {
      "model_module": "@jupyter-widgets/controls",
      "model_module_version": "1.5.0",
      "model_name": "ProgressStyleModel",
      "state": {
       "description_width": ""
      }
     },
     "c9b8f882036a463c82e57386152526ab": {
      "model_module": "@jupyter-widgets/base",
      "model_module_version": "1.2.0",
      "model_name": "LayoutModel",
      "state": {}
     },
     "ca08415117354607b83741aa073b38ed": {
      "model_module": "@jupyter-widgets/controls",
      "model_module_version": "1.5.0",
      "model_name": "FloatProgressModel",
      "state": {
       "layout": "IPY_MODEL_83d5fe78388749848b49dbd3e9077a2a",
       "max": 2345,
       "style": "IPY_MODEL_9e33ec02f74e4d1a849820a789722faa",
       "value": 2345
      }
     },
     "ca54b34a6c904c83bfe3079f0924ca5d": {
      "model_module": "@jupyter-widgets/controls",
      "model_module_version": "1.5.0",
      "model_name": "DescriptionStyleModel",
      "state": {
       "description_width": ""
      }
     },
     "ca568515db9046f8bc205765421d26b6": {
      "model_module": "@jupyter-widgets/base",
      "model_module_version": "1.2.0",
      "model_name": "LayoutModel",
      "state": {}
     },
     "ca5f57d93e79425e8b61f3033cfc41c2": {
      "model_module": "@jupyter-widgets/base",
      "model_module_version": "1.2.0",
      "model_name": "LayoutModel",
      "state": {}
     },
     "ca6c63547ded48cfbb5d6cf9cd90d8f4": {
      "model_module": "@jupyter-widgets/controls",
      "model_module_version": "1.5.0",
      "model_name": "ProgressStyleModel",
      "state": {
       "description_width": ""
      }
     },
     "ca84fa9cb74142d190909e574c097cae": {
      "model_module": "@jupyter-widgets/base",
      "model_module_version": "1.2.0",
      "model_name": "LayoutModel",
      "state": {}
     },
     "cae324ee0e7f487eae2a543293cdd734": {
      "model_module": "@jupyter-widgets/controls",
      "model_module_version": "1.5.0",
      "model_name": "ProgressStyleModel",
      "state": {
       "description_width": ""
      }
     },
     "cb0a6b0613b24b13a5e6bd240084b82b": {
      "model_module": "@jupyter-widgets/controls",
      "model_module_version": "1.5.0",
      "model_name": "FloatProgressModel",
      "state": {
       "layout": "IPY_MODEL_54087385f132479d8615b85cbaf2a4b6",
       "max": 2345,
       "style": "IPY_MODEL_328092fe5a654a9d87d54ef2635461e3",
       "value": 2345
      }
     },
     "cb27eb9c14fb4ab58152188a5a13292c": {
      "model_module": "@jupyter-widgets/controls",
      "model_module_version": "1.5.0",
      "model_name": "DescriptionStyleModel",
      "state": {
       "description_width": ""
      }
     },
     "cb820dc474194de685ccbf4979f44cc4": {
      "model_module": "@jupyter-widgets/base",
      "model_module_version": "1.2.0",
      "model_name": "LayoutModel",
      "state": {}
     },
     "cb923955009b40c8be5830eaf26c9947": {
      "model_module": "@jupyter-widgets/controls",
      "model_module_version": "1.5.0",
      "model_name": "HTMLModel",
      "state": {
       "layout": "IPY_MODEL_3589475fb00b44319c3653f6ba566fc5",
       "style": "IPY_MODEL_44b8877e4b424d59b5269a9f30b07c90",
       "value": " 2345/2345 [01:50&lt;00:00, 25.88it/s]"
      }
     },
     "cbe61d8793cc43558f5985d54b9db1ba": {
      "model_module": "@jupyter-widgets/base",
      "model_module_version": "1.2.0",
      "model_name": "LayoutModel",
      "state": {}
     },
     "cbe88a53d43f4ae1b92a897917cba387": {
      "model_module": "@jupyter-widgets/controls",
      "model_module_version": "1.5.0",
      "model_name": "FloatProgressModel",
      "state": {
       "layout": "IPY_MODEL_8eda8c946e3a4ecea19ef68bef1b7c92",
       "max": 2345,
       "style": "IPY_MODEL_e97b9f357f244a3db6f7f31e34336fe9",
       "value": 2345
      }
     },
     "cbef6410fa41416682a630966b357b18": {
      "model_module": "@jupyter-widgets/base",
      "model_module_version": "1.2.0",
      "model_name": "LayoutModel",
      "state": {}
     },
     "cc0b60e047f349abad6e422bd3ec11b6": {
      "model_module": "@jupyter-widgets/controls",
      "model_module_version": "1.5.0",
      "model_name": "HTMLModel",
      "state": {
       "layout": "IPY_MODEL_968a8debf83848929b07b018b42787fb",
       "style": "IPY_MODEL_aff79341cf504ad8b18b2f2d3cf6acf6",
       "value": "100%"
      }
     },
     "cc1a5307dc654f349c0a6cfd0d49ab29": {
      "model_module": "@jupyter-widgets/base",
      "model_module_version": "1.2.0",
      "model_name": "LayoutModel",
      "state": {}
     },
     "cc450a02a1684f4d8e0294b51f997631": {
      "model_module": "@jupyter-widgets/controls",
      "model_module_version": "1.5.0",
      "model_name": "ProgressStyleModel",
      "state": {
       "description_width": ""
      }
     },
     "cc59f0dcd11c43bda575034613f525b8": {
      "model_module": "@jupyter-widgets/controls",
      "model_module_version": "1.5.0",
      "model_name": "DescriptionStyleModel",
      "state": {
       "description_width": ""
      }
     },
     "cc83a7ae74e54e3e98f15f6421047c9a": {
      "model_module": "@jupyter-widgets/base",
      "model_module_version": "1.2.0",
      "model_name": "LayoutModel",
      "state": {}
     },
     "cc8b84466dfc45169f9bee7e7337329c": {
      "model_module": "@jupyter-widgets/base",
      "model_module_version": "1.2.0",
      "model_name": "LayoutModel",
      "state": {}
     },
     "cc9b121413e743f38b0ebb4700b49f60": {
      "model_module": "@jupyter-widgets/base",
      "model_module_version": "1.2.0",
      "model_name": "LayoutModel",
      "state": {}
     },
     "cca08b41da07470896c689cae270b033": {
      "model_module": "@jupyter-widgets/controls",
      "model_module_version": "1.5.0",
      "model_name": "HTMLModel",
      "state": {
       "layout": "IPY_MODEL_8ecd81c4c878463580ab6d9698ea9fc1",
       "style": "IPY_MODEL_690f491882694235ad3bcdddad116941",
       "value": " 2345/2345 [01:43&lt;00:00, 24.44it/s]"
      }
     },
     "ccd061244abf4c3f85a6af0a766c9de3": {
      "model_module": "@jupyter-widgets/controls",
      "model_module_version": "1.5.0",
      "model_name": "ProgressStyleModel",
      "state": {
       "description_width": ""
      }
     },
     "ccf62f0347eb448fb52ae1f5967f0d12": {
      "model_module": "@jupyter-widgets/controls",
      "model_module_version": "1.5.0",
      "model_name": "DescriptionStyleModel",
      "state": {
       "description_width": ""
      }
     },
     "cd22aba5ab0c460a830dd14edfd267b9": {
      "model_module": "@jupyter-widgets/controls",
      "model_module_version": "1.5.0",
      "model_name": "DescriptionStyleModel",
      "state": {
       "description_width": ""
      }
     },
     "cd2e26e5b13140369b858a8eb1f06570": {
      "model_module": "@jupyter-widgets/controls",
      "model_module_version": "1.5.0",
      "model_name": "DescriptionStyleModel",
      "state": {
       "description_width": ""
      }
     },
     "cd697e8f056741e4b4d5516e9342259d": {
      "model_module": "@jupyter-widgets/controls",
      "model_module_version": "1.5.0",
      "model_name": "HTMLModel",
      "state": {
       "layout": "IPY_MODEL_a7e579601b6f4788bd3ae1af3d215b8b",
       "style": "IPY_MODEL_ccf62f0347eb448fb52ae1f5967f0d12",
       "value": " 2345/2345 [00:19&lt;00:00, 7539.54it/s]"
      }
     },
     "cd744989b73c48a6864d56da74e5069a": {
      "model_module": "@jupyter-widgets/controls",
      "model_module_version": "1.5.0",
      "model_name": "HTMLModel",
      "state": {
       "layout": "IPY_MODEL_fb5161fc5ad24981bb1d658a98d1bcd0",
       "style": "IPY_MODEL_0c910573df204b638eb8aa8a3f1ed779",
       "value": "100%"
      }
     },
     "cdeed772e9e74df5b626fba2be7daf7c": {
      "model_module": "@jupyter-widgets/controls",
      "model_module_version": "1.5.0",
      "model_name": "DescriptionStyleModel",
      "state": {
       "description_width": ""
      }
     },
     "ce9c5e5614894c63b8eecf3865658c2e": {
      "model_module": "@jupyter-widgets/controls",
      "model_module_version": "1.5.0",
      "model_name": "DescriptionStyleModel",
      "state": {
       "description_width": ""
      }
     },
     "cecd7edb49f5474d88271e313c4b25b5": {
      "model_module": "@jupyter-widgets/base",
      "model_module_version": "1.2.0",
      "model_name": "LayoutModel",
      "state": {}
     },
     "cecf69ea6bc74966b0cd8a1fff3b8f7f": {
      "model_module": "@jupyter-widgets/base",
      "model_module_version": "1.2.0",
      "model_name": "LayoutModel",
      "state": {}
     },
     "cefa478eced145c789a8e5e90a975766": {
      "model_module": "@jupyter-widgets/controls",
      "model_module_version": "1.5.0",
      "model_name": "DescriptionStyleModel",
      "state": {
       "description_width": ""
      }
     },
     "cefbb1c30e14445c9017bb6553194738": {
      "model_module": "@jupyter-widgets/controls",
      "model_module_version": "1.5.0",
      "model_name": "HTMLModel",
      "state": {
       "layout": "IPY_MODEL_fcadee3f834241f2a82b993a3ad7fb3a",
       "style": "IPY_MODEL_4d73458e02634a318d3598890c49e364",
       "value": " 2345/2345 [00:15&lt;00:00, 7571.10it/s]"
      }
     },
     "cf1d135c830042a0be4060344aa063e9": {
      "model_module": "@jupyter-widgets/controls",
      "model_module_version": "1.5.0",
      "model_name": "HTMLModel",
      "state": {
       "layout": "IPY_MODEL_aa0f79da2e5b41c09bcc67af5f0310ec",
       "style": "IPY_MODEL_df5c010131ab4bf4a2d9364c21dd86a8",
       "value": "100%"
      }
     },
     "cf1d7bba62d44b868cd4ce9ef6be8f08": {
      "model_module": "@jupyter-widgets/controls",
      "model_module_version": "1.5.0",
      "model_name": "HTMLModel",
      "state": {
       "layout": "IPY_MODEL_50eb10a2cbfd44e2a1c21e2fcc838145",
       "style": "IPY_MODEL_a84c764808594a45bb76808fb4497fa8",
       "value": "100%"
      }
     },
     "cf346f7fdb7f4058845416b05a73169b": {
      "model_module": "@jupyter-widgets/controls",
      "model_module_version": "1.5.0",
      "model_name": "DescriptionStyleModel",
      "state": {
       "description_width": ""
      }
     },
     "cf4c5245dbf94127b36a2f79a08c309e": {
      "model_module": "@jupyter-widgets/controls",
      "model_module_version": "1.5.0",
      "model_name": "HTMLModel",
      "state": {
       "layout": "IPY_MODEL_e75d6b1371ac49d8b95f3bfea9d83d7e",
       "style": "IPY_MODEL_68cd99e994524b3083bb8dbae1b607a1",
       "value": "100%"
      }
     },
     "cf8102d4a6bc49ba8b67d9718602c85a": {
      "model_module": "@jupyter-widgets/controls",
      "model_module_version": "1.5.0",
      "model_name": "HBoxModel",
      "state": {
       "children": [
        "IPY_MODEL_bd117d486c074292b8a2b7cf328b08de",
        "IPY_MODEL_7dbe63a0ce9f46eea0fab0aeaf45a1da",
        "IPY_MODEL_769174faabd14c7183eb4815e5fb4f17"
       ],
       "layout": "IPY_MODEL_abb3912a3df2432ab9813fc0f1528680"
      }
     },
     "cf8bb303f1e94bdfab2dbd77b41cb2da": {
      "model_module": "@jupyter-widgets/base",
      "model_module_version": "1.2.0",
      "model_name": "LayoutModel",
      "state": {}
     },
     "cfac1bcb28a743bf955d5d9a237cb206": {
      "model_module": "@jupyter-widgets/controls",
      "model_module_version": "1.5.0",
      "model_name": "HTMLModel",
      "state": {
       "layout": "IPY_MODEL_b388e57543d54eaa96dbb0781a013b72",
       "style": "IPY_MODEL_8078049beb8c4ea1b7e178fdd26f0ee1",
       "value": " 2345/2345 [00:15&lt;00:00, 7467.79it/s]"
      }
     },
     "cfaf6bdd7a034249a41c221ce534c6ad": {
      "model_module": "@jupyter-widgets/controls",
      "model_module_version": "1.5.0",
      "model_name": "HBoxModel",
      "state": {
       "children": [
        "IPY_MODEL_d64e84301ba24ae38271b1aa7f09f1dd",
        "IPY_MODEL_864e368f53a04c00998c539a65b33505",
        "IPY_MODEL_af9ad76a1cda4d50911befb7d6fcfb37"
       ],
       "layout": "IPY_MODEL_840081abfb594d6aaea769d957883208"
      }
     },
     "cfd462d9ba0e401a8b7e3fa38cda59f4": {
      "model_module": "@jupyter-widgets/controls",
      "model_module_version": "1.5.0",
      "model_name": "HBoxModel",
      "state": {
       "children": [
        "IPY_MODEL_707f146bcffd4b718022de1b56ef1142",
        "IPY_MODEL_cb0a6b0613b24b13a5e6bd240084b82b",
        "IPY_MODEL_e3feddf430244cc892c4ed0ea7fb5b37"
       ],
       "layout": "IPY_MODEL_e5c7a4c6ab384e65a93276de86b68d3d"
      }
     },
     "d008ded9b69b415eb594d2772ba6ae8b": {
      "model_module": "@jupyter-widgets/controls",
      "model_module_version": "1.5.0",
      "model_name": "HTMLModel",
      "state": {
       "layout": "IPY_MODEL_b71e0e688af9489ba2bdcdd9e584261d",
       "style": "IPY_MODEL_b6549382e35a43b99568e5a5f63429f9",
       "value": "100%"
      }
     },
     "d02dfddccf2443c0bfd5f9383af86ec4": {
      "model_module": "@jupyter-widgets/controls",
      "model_module_version": "1.5.0",
      "model_name": "HTMLModel",
      "state": {
       "layout": "IPY_MODEL_9ec411e955cb436785048832bf4a6180",
       "style": "IPY_MODEL_f7069dd43e804ac1b2617e44037b550a",
       "value": "100%"
      }
     },
     "d0391a558a2b45498834cb1eb514e59e": {
      "model_module": "@jupyter-widgets/base",
      "model_module_version": "1.2.0",
      "model_name": "LayoutModel",
      "state": {}
     },
     "d050133883054db6966757a01a4b6fd6": {
      "model_module": "@jupyter-widgets/controls",
      "model_module_version": "1.5.0",
      "model_name": "HTMLModel",
      "state": {
       "layout": "IPY_MODEL_e855e085757545a69a83cc629d9c71f7",
       "style": "IPY_MODEL_648395f5bdd5415b900e5c98dc57c1cb",
       "value": "100%"
      }
     },
     "d07c6535d5934870a5551864f0ebf7b3": {
      "model_module": "@jupyter-widgets/controls",
      "model_module_version": "1.5.0",
      "model_name": "DescriptionStyleModel",
      "state": {
       "description_width": ""
      }
     },
     "d0801eca57a6451b8665918d53d0d13b": {
      "model_module": "@jupyter-widgets/controls",
      "model_module_version": "1.5.0",
      "model_name": "ProgressStyleModel",
      "state": {
       "description_width": ""
      }
     },
     "d0b11bbd072c4a70bc24c8f91fba1fda": {
      "model_module": "@jupyter-widgets/controls",
      "model_module_version": "1.5.0",
      "model_name": "HTMLModel",
      "state": {
       "layout": "IPY_MODEL_bd6333a2d1cb49ac883cdffd2ae3cd3e",
       "style": "IPY_MODEL_8bf48fb7312f4aa893027cd58cd3a9ed",
       "value": " 0/10 [00:00&lt;?, ?it/s]"
      }
     },
     "d0cef15ee2864426ae760f89fc53481e": {
      "model_module": "@jupyter-widgets/base",
      "model_module_version": "1.2.0",
      "model_name": "LayoutModel",
      "state": {}
     },
     "d0e7cbfd068b4d339c1484f6b1f49085": {
      "model_module": "@jupyter-widgets/base",
      "model_module_version": "1.2.0",
      "model_name": "LayoutModel",
      "state": {}
     },
     "d0fb84bff4cc4be684e2bc8949333523": {
      "model_module": "@jupyter-widgets/controls",
      "model_module_version": "1.5.0",
      "model_name": "HTMLModel",
      "state": {
       "layout": "IPY_MODEL_ecd68a2af9ed449c97779a4ba1fba2b5",
       "style": "IPY_MODEL_60dab3bd73e247b8a2b58d2e1e6cecac",
       "value": "100%"
      }
     },
     "d123cca9078742af9c4a3feb0a254206": {
      "model_module": "@jupyter-widgets/controls",
      "model_module_version": "1.5.0",
      "model_name": "FloatProgressModel",
      "state": {
       "layout": "IPY_MODEL_303fdad1154f4b41a5a7b27e28ebaa38",
       "max": 1266,
       "style": "IPY_MODEL_af24b42da2dc47858e7ea1365fc27554",
       "value": 1266
      }
     },
     "d13064662a1641e79b553187acbcac51": {
      "model_module": "@jupyter-widgets/base",
      "model_module_version": "1.2.0",
      "model_name": "LayoutModel",
      "state": {}
     },
     "d13c037338bc4ca8b5387add34f0e304": {
      "model_module": "@jupyter-widgets/controls",
      "model_module_version": "1.5.0",
      "model_name": "HTMLModel",
      "state": {
       "layout": "IPY_MODEL_7c3a77f8de3845eb966399b3e0fca175",
       "style": "IPY_MODEL_9c380d18d43447b5ade0c1a7a113f287",
       "value": "100%"
      }
     },
     "d156021299e74e7a9c0c1ac01894ce7b": {
      "model_module": "@jupyter-widgets/controls",
      "model_module_version": "1.5.0",
      "model_name": "ProgressStyleModel",
      "state": {
       "description_width": ""
      }
     },
     "d165898431d840d3a951a841e8013f89": {
      "model_module": "@jupyter-widgets/base",
      "model_module_version": "1.2.0",
      "model_name": "LayoutModel",
      "state": {}
     },
     "d17f9741c602438c8278186bc7aa546d": {
      "model_module": "@jupyter-widgets/controls",
      "model_module_version": "1.5.0",
      "model_name": "HTMLModel",
      "state": {
       "layout": "IPY_MODEL_efe46a2c055546f79c4f9b7c752ed61d",
       "style": "IPY_MODEL_d5f501c3f2094e6d9dd0d174e69c6bf9",
       "value": " 2345/2345 [00:17&lt;00:00, 7244.64it/s]"
      }
     },
     "d18dcafaa96a452dab803a5f7e73debd": {
      "model_module": "@jupyter-widgets/controls",
      "model_module_version": "1.5.0",
      "model_name": "HBoxModel",
      "state": {
       "children": [
        "IPY_MODEL_5034b343eeef4980821ecc00dd7b8212",
        "IPY_MODEL_e03f880574df473084cfbf9f56b93a5b",
        "IPY_MODEL_67b80ba9d3ba452f9b5e5478e6d21888"
       ],
       "layout": "IPY_MODEL_403d4181a633437f8c1e82bd7e5ad947"
      }
     },
     "d18edd3eef04414dba0a38d0432c42ab": {
      "model_module": "@jupyter-widgets/controls",
      "model_module_version": "1.5.0",
      "model_name": "FloatProgressModel",
      "state": {
       "layout": "IPY_MODEL_51fa6f229dd041fd86b3e3a999b5efc6",
       "max": 2345,
       "style": "IPY_MODEL_b30ee8d4ee2649e7b80c1b7af786d405",
       "value": 2345
      }
     },
     "d19770c4bbfc4b3fa3a07c60d8b3b0c7": {
      "model_module": "@jupyter-widgets/controls",
      "model_module_version": "1.5.0",
      "model_name": "DescriptionStyleModel",
      "state": {
       "description_width": ""
      }
     },
     "d1d57d1e54fb44829b9a6514a9dff660": {
      "model_module": "@jupyter-widgets/controls",
      "model_module_version": "1.5.0",
      "model_name": "FloatProgressModel",
      "state": {
       "layout": "IPY_MODEL_6bef4d43556f49a4b4cecc3179d32c3e",
       "max": 2345,
       "style": "IPY_MODEL_1fa5f651acd8491da69b5383e2d84a87",
       "value": 2345
      }
     },
     "d1e4d36afb494f87b6e8958d355a09f5": {
      "model_module": "@jupyter-widgets/base",
      "model_module_version": "1.2.0",
      "model_name": "LayoutModel",
      "state": {}
     },
     "d1ec1f464fab472d86f7b69760a4778b": {
      "model_module": "@jupyter-widgets/controls",
      "model_module_version": "1.5.0",
      "model_name": "ProgressStyleModel",
      "state": {
       "description_width": ""
      }
     },
     "d1f1b885ae2b4c4aa0aafc533f369a52": {
      "model_module": "@jupyter-widgets/controls",
      "model_module_version": "1.5.0",
      "model_name": "ProgressStyleModel",
      "state": {
       "description_width": ""
      }
     },
     "d1f60faeab4b4b1d848de20c86140501": {
      "model_module": "@jupyter-widgets/base",
      "model_module_version": "1.2.0",
      "model_name": "LayoutModel",
      "state": {}
     },
     "d1f8aed1d4dd4eaabe197e5c1acf3282": {
      "model_module": "@jupyter-widgets/controls",
      "model_module_version": "1.5.0",
      "model_name": "DescriptionStyleModel",
      "state": {
       "description_width": ""
      }
     },
     "d208c0f0455c407baecaae0a6c723a21": {
      "model_module": "@jupyter-widgets/controls",
      "model_module_version": "1.5.0",
      "model_name": "DescriptionStyleModel",
      "state": {
       "description_width": ""
      }
     },
     "d22275626fcc404d9e806785b1f09d46": {
      "model_module": "@jupyter-widgets/controls",
      "model_module_version": "1.5.0",
      "model_name": "FloatProgressModel",
      "state": {
       "layout": "IPY_MODEL_34d1abd13cbc4fa192857447fd9390d5",
       "max": 2345,
       "style": "IPY_MODEL_8bfec45c9cfc413480b151189997f6e4",
       "value": 2345
      }
     },
     "d23904407aa64e7cb94df60be995ab2a": {
      "model_module": "@jupyter-widgets/base",
      "model_module_version": "1.2.0",
      "model_name": "LayoutModel",
      "state": {}
     },
     "d25728aa85b840f6aa9276358e87e170": {
      "model_module": "@jupyter-widgets/controls",
      "model_module_version": "1.5.0",
      "model_name": "FloatProgressModel",
      "state": {
       "layout": "IPY_MODEL_45aeadb617d34dbaaf6f29bb4baed75c",
       "max": 2345,
       "style": "IPY_MODEL_5ee654b21c194a3fa6d45419960a1191",
       "value": 2345
      }
     },
     "d2ca9811698e48708d1e63d70e1bc269": {
      "model_module": "@jupyter-widgets/controls",
      "model_module_version": "1.5.0",
      "model_name": "HBoxModel",
      "state": {
       "children": [
        "IPY_MODEL_53a132c49c9a41f78256cb9ae03ea58f",
        "IPY_MODEL_1897da7528e64931962632d3665e81ca",
        "IPY_MODEL_0220c53981a14b35acceb4dd4644cdb7"
       ],
       "layout": "IPY_MODEL_8db08c141f2649e1a022f534ef99be8a"
      }
     },
     "d2dd121fef854f5c8e749f67ecc64773": {
      "model_module": "@jupyter-widgets/controls",
      "model_module_version": "1.5.0",
      "model_name": "DescriptionStyleModel",
      "state": {
       "description_width": ""
      }
     },
     "d302be290b4248c9931d5fafb2324c23": {
      "model_module": "@jupyter-widgets/base",
      "model_module_version": "1.2.0",
      "model_name": "LayoutModel",
      "state": {}
     },
     "d32019d295e1463f8dec9a0b13b3948b": {
      "model_module": "@jupyter-widgets/controls",
      "model_module_version": "1.5.0",
      "model_name": "HTMLModel",
      "state": {
       "layout": "IPY_MODEL_43c2c0aa4374479d97e806a0aa26cd95",
       "style": "IPY_MODEL_c5b5f5f82e1f4fda9d67ece668c3f3dc",
       "value": " 1266/1266 [01:02&lt;00:00, 25.36it/s]"
      }
     },
     "d348e839bcee436f86c421a4df3ab711": {
      "model_module": "@jupyter-widgets/controls",
      "model_module_version": "1.5.0",
      "model_name": "ProgressStyleModel",
      "state": {
       "description_width": ""
      }
     },
     "d34f012cedb44556804c3135ad35b3ee": {
      "model_module": "@jupyter-widgets/base",
      "model_module_version": "1.2.0",
      "model_name": "LayoutModel",
      "state": {}
     },
     "d3599d6822fe4318a572f62ef192b558": {
      "model_module": "@jupyter-widgets/base",
      "model_module_version": "1.2.0",
      "model_name": "LayoutModel",
      "state": {}
     },
     "d3bcc919e7b24005af749fc9a085188d": {
      "model_module": "@jupyter-widgets/controls",
      "model_module_version": "1.5.0",
      "model_name": "HTMLModel",
      "state": {
       "layout": "IPY_MODEL_d59af0258e9b4d57a0ad322e5a70941c",
       "style": "IPY_MODEL_4e826bdce56a47418d8d436c614aa0b9",
       "value": " 1266/1266 [01:04&lt;00:00, 26.31it/s]"
      }
     },
     "d3f99d8c5e1d42b9933e01e95ce03353": {
      "model_module": "@jupyter-widgets/base",
      "model_module_version": "1.2.0",
      "model_name": "LayoutModel",
      "state": {}
     },
     "d40db193e15642e9acd5eef858ff25f0": {
      "model_module": "@jupyter-widgets/controls",
      "model_module_version": "1.5.0",
      "model_name": "HTMLModel",
      "state": {
       "layout": "IPY_MODEL_c3dbd7b43a954f59a5478b9adc2fd907",
       "style": "IPY_MODEL_fbfbf9e1fdb04631b173b382394a0b4e",
       "value": " 2345/2345 [00:15&lt;00:00, 7566.97it/s]"
      }
     },
     "d434a5164b8f49dd81e776d3d475b495": {
      "model_module": "@jupyter-widgets/controls",
      "model_module_version": "1.5.0",
      "model_name": "FloatProgressModel",
      "state": {
       "layout": "IPY_MODEL_1bd0d57d9c4e4271a592dc0976f07018",
       "max": 2345,
       "style": "IPY_MODEL_6d27bb29fd3b46af89334d69bc6b5f85",
       "value": 2345
      }
     },
     "d44b0c669e1b4207939fac2e96b47211": {
      "model_module": "@jupyter-widgets/controls",
      "model_module_version": "1.5.0",
      "model_name": "FloatProgressModel",
      "state": {
       "layout": "IPY_MODEL_55e3389b59984764bb7e769414495ffc",
       "max": 1266,
       "style": "IPY_MODEL_6fb26c7341024597bf778a4998057c5d",
       "value": 1266
      }
     },
     "d45bb44c15114b9390c37f56f9f35244": {
      "model_module": "@jupyter-widgets/base",
      "model_module_version": "1.2.0",
      "model_name": "LayoutModel",
      "state": {}
     },
     "d460ab71c8d44359bf49038c1ef2b829": {
      "model_module": "@jupyter-widgets/base",
      "model_module_version": "1.2.0",
      "model_name": "LayoutModel",
      "state": {}
     },
     "d465124045034be7a7737d963d002db0": {
      "model_module": "@jupyter-widgets/controls",
      "model_module_version": "1.5.0",
      "model_name": "HTMLModel",
      "state": {
       "layout": "IPY_MODEL_1e8f59fb08db4a65bce8a0825f325d4a",
       "style": "IPY_MODEL_2a0fa5e2a6fb4408b283465ca009a663",
       "value": " 2345/2345 [01:51&lt;00:00, 25.01it/s]"
      }
     },
     "d4a58f93565f498c8a3be1ddb96ea364": {
      "model_module": "@jupyter-widgets/controls",
      "model_module_version": "1.5.0",
      "model_name": "HBoxModel",
      "state": {
       "children": [
        "IPY_MODEL_981bc39f810d4bc8814f5fa16d095c85",
        "IPY_MODEL_a4b7cc7d672f4e79891e62c38cdde4c1",
        "IPY_MODEL_d3bcc919e7b24005af749fc9a085188d"
       ],
       "layout": "IPY_MODEL_2641e8abb72643c99e4cc4ac63244059"
      }
     },
     "d4acd2010dfb4d4c870fea062f37a5c0": {
      "model_module": "@jupyter-widgets/base",
      "model_module_version": "1.2.0",
      "model_name": "LayoutModel",
      "state": {}
     },
     "d50814ec79254e5884d8273919403652": {
      "model_module": "@jupyter-widgets/base",
      "model_module_version": "1.2.0",
      "model_name": "LayoutModel",
      "state": {}
     },
     "d51bd95e3ed0471a9b5726145ad76b39": {
      "model_module": "@jupyter-widgets/base",
      "model_module_version": "1.2.0",
      "model_name": "LayoutModel",
      "state": {}
     },
     "d53403722be54aae81e2f082962ca598": {
      "model_module": "@jupyter-widgets/controls",
      "model_module_version": "1.5.0",
      "model_name": "ProgressStyleModel",
      "state": {
       "description_width": ""
      }
     },
     "d59af0258e9b4d57a0ad322e5a70941c": {
      "model_module": "@jupyter-widgets/base",
      "model_module_version": "1.2.0",
      "model_name": "LayoutModel",
      "state": {}
     },
     "d5be4140bb5c4586aa8ba71a4f7d0bbd": {
      "model_module": "@jupyter-widgets/controls",
      "model_module_version": "1.5.0",
      "model_name": "HTMLModel",
      "state": {
       "layout": "IPY_MODEL_86358fec24864d3b8d63275541d0e2ea",
       "style": "IPY_MODEL_c88f9afee46b4ebeb6876b08533731f2",
       "value": "100%"
      }
     },
     "d5f501c3f2094e6d9dd0d174e69c6bf9": {
      "model_module": "@jupyter-widgets/controls",
      "model_module_version": "1.5.0",
      "model_name": "DescriptionStyleModel",
      "state": {
       "description_width": ""
      }
     },
     "d60a6fbf70484621a4be53bf8ffbda66": {
      "model_module": "@jupyter-widgets/base",
      "model_module_version": "1.2.0",
      "model_name": "LayoutModel",
      "state": {}
     },
     "d62e65c7011b4e0a93ad5dc432bebcd2": {
      "model_module": "@jupyter-widgets/base",
      "model_module_version": "1.2.0",
      "model_name": "LayoutModel",
      "state": {}
     },
     "d63eabb59199413cac8f675f172c38ba": {
      "model_module": "@jupyter-widgets/base",
      "model_module_version": "1.2.0",
      "model_name": "LayoutModel",
      "state": {}
     },
     "d64e84301ba24ae38271b1aa7f09f1dd": {
      "model_module": "@jupyter-widgets/controls",
      "model_module_version": "1.5.0",
      "model_name": "HTMLModel",
      "state": {
       "layout": "IPY_MODEL_621935d02e4649e29005c01cb22744dc",
       "style": "IPY_MODEL_e72238e47ee241a6ae46b9fc2d425094",
       "value": "100%"
      }
     },
     "d69322c3df91440183a4888dafec52e6": {
      "model_module": "@jupyter-widgets/base",
      "model_module_version": "1.2.0",
      "model_name": "LayoutModel",
      "state": {}
     },
     "d6abd6ab49bf452ab982234897be519e": {
      "model_module": "@jupyter-widgets/controls",
      "model_module_version": "1.5.0",
      "model_name": "FloatProgressModel",
      "state": {
       "layout": "IPY_MODEL_7c048e31092c4a0689a010cc3ed4b7b9",
       "max": 2345,
       "style": "IPY_MODEL_734bd273778a4ec081e4471c028727a4",
       "value": 2345
      }
     },
     "d6c5f31636264e85a3c9311a40d21182": {
      "model_module": "@jupyter-widgets/controls",
      "model_module_version": "1.5.0",
      "model_name": "DescriptionStyleModel",
      "state": {
       "description_width": ""
      }
     },
     "d6d52840ab4542a29ee7fab56b55b9a0": {
      "model_module": "@jupyter-widgets/controls",
      "model_module_version": "1.5.0",
      "model_name": "HTMLModel",
      "state": {
       "layout": "IPY_MODEL_004bee855bfa4c019c9e916ece09ad3d",
       "style": "IPY_MODEL_727ba67e97374d7094b0535d581de0e4",
       "value": "100%"
      }
     },
     "d6eeb53c48274baebb1a4dbb509dc322": {
      "model_module": "@jupyter-widgets/controls",
      "model_module_version": "1.5.0",
      "model_name": "DescriptionStyleModel",
      "state": {
       "description_width": ""
      }
     },
     "d7010eb4f9394c4484bc6857ae27ee11": {
      "model_module": "@jupyter-widgets/controls",
      "model_module_version": "1.5.0",
      "model_name": "DescriptionStyleModel",
      "state": {
       "description_width": ""
      }
     },
     "d7942f6b3fc74f7f9aebfa03fc9555a2": {
      "model_module": "@jupyter-widgets/base",
      "model_module_version": "1.2.0",
      "model_name": "LayoutModel",
      "state": {}
     },
     "d7a9e0ca29fe4c43b62dec869d97c1f3": {
      "model_module": "@jupyter-widgets/base",
      "model_module_version": "1.2.0",
      "model_name": "LayoutModel",
      "state": {}
     },
     "d7afee51435e4470acbd6e96dd82f9ec": {
      "model_module": "@jupyter-widgets/base",
      "model_module_version": "1.2.0",
      "model_name": "LayoutModel",
      "state": {}
     },
     "d7b2102a79c24be3ba00e2bb4671d345": {
      "model_module": "@jupyter-widgets/controls",
      "model_module_version": "1.5.0",
      "model_name": "DescriptionStyleModel",
      "state": {
       "description_width": ""
      }
     },
     "d7b968365e384dbe9d667303844d5ef1": {
      "model_module": "@jupyter-widgets/controls",
      "model_module_version": "1.5.0",
      "model_name": "ProgressStyleModel",
      "state": {
       "description_width": ""
      }
     },
     "d7f05162b3bc413099367a2e89e3e68e": {
      "model_module": "@jupyter-widgets/controls",
      "model_module_version": "1.5.0",
      "model_name": "DescriptionStyleModel",
      "state": {
       "description_width": ""
      }
     },
     "d825153579f844acacbeeeebd57a06b7": {
      "model_module": "@jupyter-widgets/base",
      "model_module_version": "1.2.0",
      "model_name": "LayoutModel",
      "state": {}
     },
     "d8383a80a0a54931a2c992d0981a397c": {
      "model_module": "@jupyter-widgets/controls",
      "model_module_version": "1.5.0",
      "model_name": "HBoxModel",
      "state": {
       "children": [
        "IPY_MODEL_b731dcec219b466ea922016a494971a5",
        "IPY_MODEL_984042c584d947c3a37b039ca1b9112a",
        "IPY_MODEL_9cf52c828eef4ff5b5f1d50fbbbfdc58"
       ],
       "layout": "IPY_MODEL_f073aeca487e4a1f8ce50b0582fa8d0e"
      }
     },
     "d8ae3cbdc1f641099ac63b31b2536646": {
      "model_module": "@jupyter-widgets/controls",
      "model_module_version": "1.5.0",
      "model_name": "HTMLModel",
      "state": {
       "layout": "IPY_MODEL_1000763c19864e619c10c8ac5ab525ed",
       "style": "IPY_MODEL_3345a912b7d94195baf3e6c818f000c3",
       "value": " 2345/2345 [00:12&lt;00:00, 7532.41it/s]"
      }
     },
     "d8d3f188ed7344fd9194d10ed72f0a7f": {
      "model_module": "@jupyter-widgets/base",
      "model_module_version": "1.2.0",
      "model_name": "LayoutModel",
      "state": {}
     },
     "d8e1e87b736d4ebda3b4de6c81ad1649": {
      "model_module": "@jupyter-widgets/controls",
      "model_module_version": "1.5.0",
      "model_name": "ProgressStyleModel",
      "state": {
       "description_width": ""
      }
     },
     "d95f4311f1ab4fe081202068a868cbe7": {
      "model_module": "@jupyter-widgets/base",
      "model_module_version": "1.2.0",
      "model_name": "LayoutModel",
      "state": {}
     },
     "d9ad2da6082c408ab77c36f5c3f28a4b": {
      "model_module": "@jupyter-widgets/base",
      "model_module_version": "1.2.0",
      "model_name": "LayoutModel",
      "state": {}
     },
     "d9d382c4f9514febb690777cf9f7e377": {
      "model_module": "@jupyter-widgets/base",
      "model_module_version": "1.2.0",
      "model_name": "LayoutModel",
      "state": {}
     },
     "d9e04415928c490281b624cf783bbdea": {
      "model_module": "@jupyter-widgets/base",
      "model_module_version": "1.2.0",
      "model_name": "LayoutModel",
      "state": {}
     },
     "da5ef216d55445fc95a431851bbec340": {
      "model_module": "@jupyter-widgets/base",
      "model_module_version": "1.2.0",
      "model_name": "LayoutModel",
      "state": {}
     },
     "da5f7f30dd45405199d7c0ebf2521c70": {
      "model_module": "@jupyter-widgets/base",
      "model_module_version": "1.2.0",
      "model_name": "LayoutModel",
      "state": {}
     },
     "da9e5a962cfd4af180085cbfd5ba064c": {
      "model_module": "@jupyter-widgets/controls",
      "model_module_version": "1.5.0",
      "model_name": "HTMLModel",
      "state": {
       "layout": "IPY_MODEL_634062b210ab4e8db0ac10fe405e1ac0",
       "style": "IPY_MODEL_2b5bf95c9fd649ee8f8b6313c86b2de6",
       "value": " 1266/1266 [01:09&lt;00:00, 24.88it/s]"
      }
     },
     "dab9b71a820a46839213157dd39e6aa7": {
      "model_module": "@jupyter-widgets/controls",
      "model_module_version": "1.5.0",
      "model_name": "HTMLModel",
      "state": {
       "layout": "IPY_MODEL_96f17f813a7741b9a903685b0178abf3",
       "style": "IPY_MODEL_4c2ba233132c4917a5f6dd7f40b2b90f",
       "value": " 2345/2345 [01:47&lt;00:00, 26.14it/s]"
      }
     },
     "daefeb37c3f34ed885c14fe8f9827015": {
      "model_module": "@jupyter-widgets/base",
      "model_module_version": "1.2.0",
      "model_name": "LayoutModel",
      "state": {}
     },
     "daf81c6ae29b40cd907260cd32747008": {
      "model_module": "@jupyter-widgets/controls",
      "model_module_version": "1.5.0",
      "model_name": "HTMLModel",
      "state": {
       "layout": "IPY_MODEL_cbef6410fa41416682a630966b357b18",
       "style": "IPY_MODEL_4233e0f5f7634b75bd31385de27a89ae",
       "value": " 1266/1266 [01:07&lt;00:00, 25.33it/s]"
      }
     },
     "db0edac286a64526be7b62340d067aa1": {
      "model_module": "@jupyter-widgets/base",
      "model_module_version": "1.2.0",
      "model_name": "LayoutModel",
      "state": {}
     },
     "db33cbf855784e66b5f15eeb2c05d920": {
      "model_module": "@jupyter-widgets/controls",
      "model_module_version": "1.5.0",
      "model_name": "DescriptionStyleModel",
      "state": {
       "description_width": ""
      }
     },
     "db4eb4fe18164492b4a5acb7949ad7b6": {
      "model_module": "@jupyter-widgets/controls",
      "model_module_version": "1.5.0",
      "model_name": "HTMLModel",
      "state": {
       "layout": "IPY_MODEL_b08fc666880a4756ad7cab2eb61e441c",
       "style": "IPY_MODEL_d7b2102a79c24be3ba00e2bb4671d345",
       "value": "100%"
      }
     },
     "db64018c09944d7f8596a7db2b759e3d": {
      "model_module": "@jupyter-widgets/controls",
      "model_module_version": "1.5.0",
      "model_name": "HBoxModel",
      "state": {
       "children": [
        "IPY_MODEL_5b374db2feca48e28c8a10cb7f23204b",
        "IPY_MODEL_18e5c31187754a2c9f780c5c87bca85a",
        "IPY_MODEL_e7e0c996c6e64915961b0c8f6da9ad28"
       ],
       "layout": "IPY_MODEL_764d73b06fd94decaf265ab3ee43c8db"
      }
     },
     "db8558d22e204014b7ad697894fa635d": {
      "model_module": "@jupyter-widgets/controls",
      "model_module_version": "1.5.0",
      "model_name": "DescriptionStyleModel",
      "state": {
       "description_width": ""
      }
     },
     "db94b052350e4b6597d92155e78915d8": {
      "model_module": "@jupyter-widgets/controls",
      "model_module_version": "1.5.0",
      "model_name": "HBoxModel",
      "state": {
       "children": [
        "IPY_MODEL_22a8909682f446279170dfb3048f22ac",
        "IPY_MODEL_d6abd6ab49bf452ab982234897be519e",
        "IPY_MODEL_d465124045034be7a7737d963d002db0"
       ],
       "layout": "IPY_MODEL_b2cd7d106d0b4821bcbe5ec15201c085"
      }
     },
     "dbc9c652bfed42cda56b25f979656653": {
      "model_module": "@jupyter-widgets/controls",
      "model_module_version": "1.5.0",
      "model_name": "HBoxModel",
      "state": {
       "children": [
        "IPY_MODEL_a5904a0b3a9b4129afcd845e12ce9c65",
        "IPY_MODEL_767c0e2bbb89466eae6dfef82c9159e2",
        "IPY_MODEL_0f7dbf96336944b1b0e68d6ea026b083"
       ],
       "layout": "IPY_MODEL_07ed092b50c2424f870e9831c8e44d6d"
      }
     },
     "dc519a8eb9a8447cbdf9c104c119e259": {
      "model_module": "@jupyter-widgets/controls",
      "model_module_version": "1.5.0",
      "model_name": "HBoxModel",
      "state": {
       "children": [
        "IPY_MODEL_bb312f726a754491942ab02951464910",
        "IPY_MODEL_03c7f39df98d4ca3b64eb2eb1a0e58cf",
        "IPY_MODEL_8b7346409e9041f982ceac41d3bdcc1d"
       ],
       "layout": "IPY_MODEL_050f2ec3b4784a7cbb3f8fc362374ff1"
      }
     },
     "dc6a7786441648a6b996602f2bea2ede": {
      "model_module": "@jupyter-widgets/base",
      "model_module_version": "1.2.0",
      "model_name": "LayoutModel",
      "state": {}
     },
     "dca55cf8a02640efa08bbbf7fb6dc998": {
      "model_module": "@jupyter-widgets/base",
      "model_module_version": "1.2.0",
      "model_name": "LayoutModel",
      "state": {}
     },
     "dcd613d431c3420897f375b8624ce350": {
      "model_module": "@jupyter-widgets/controls",
      "model_module_version": "1.5.0",
      "model_name": "FloatProgressModel",
      "state": {
       "layout": "IPY_MODEL_b0066063abc14f59a47d83d343c83d0a",
       "max": 2345,
       "style": "IPY_MODEL_99cc1fb00d8242489d18abdf0e95b870"
      }
     },
     "dcfcadad05d24c179f3f3973631a79e8": {
      "model_module": "@jupyter-widgets/controls",
      "model_module_version": "1.5.0",
      "model_name": "HTMLModel",
      "state": {
       "layout": "IPY_MODEL_4bd17a4d6a8e4f36818b85fc463d16cb",
       "style": "IPY_MODEL_3117e546f19446b5b7a81b097b9a6832",
       "value": "100%"
      }
     },
     "dd14d08e48a64a4ab5892b9737efe5b9": {
      "model_module": "@jupyter-widgets/controls",
      "model_module_version": "1.5.0",
      "model_name": "HTMLModel",
      "state": {
       "layout": "IPY_MODEL_ef1f1206db224b0a9bc7ac55b28529d9",
       "style": "IPY_MODEL_a1e10ee57adf446cbfe2dfda409d3392",
       "value": " 2345/2345 [00:18&lt;00:00, 7364.21it/s]"
      }
     },
     "dd5fbd7257a14260807d4d16b507c84c": {
      "model_module": "@jupyter-widgets/controls",
      "model_module_version": "1.5.0",
      "model_name": "ProgressStyleModel",
      "state": {
       "description_width": ""
      }
     },
     "dd8d6f52a3f247cca4df575b13a8e0a9": {
      "model_module": "@jupyter-widgets/base",
      "model_module_version": "1.2.0",
      "model_name": "LayoutModel",
      "state": {}
     },
     "dd9ca557ecbe415c9bc67ea27ac00355": {
      "model_module": "@jupyter-widgets/base",
      "model_module_version": "1.2.0",
      "model_name": "LayoutModel",
      "state": {}
     },
     "ddb4ebc3b43c43f0bd985fb79d262253": {
      "model_module": "@jupyter-widgets/base",
      "model_module_version": "1.2.0",
      "model_name": "LayoutModel",
      "state": {}
     },
     "ddc75650f4494a6f8ce09b44081f8d02": {
      "model_module": "@jupyter-widgets/base",
      "model_module_version": "1.2.0",
      "model_name": "LayoutModel",
      "state": {}
     },
     "de2b94e777ca45a7ae568203984b360e": {
      "model_module": "@jupyter-widgets/controls",
      "model_module_version": "1.5.0",
      "model_name": "FloatProgressModel",
      "state": {
       "layout": "IPY_MODEL_d165898431d840d3a951a841e8013f89",
       "max": 1266,
       "style": "IPY_MODEL_a84e1b6637274e4398ac80969b4fdd1f",
       "value": 1266
      }
     },
     "de4f615319bc41be87c18c2bc0927e10": {
      "model_module": "@jupyter-widgets/controls",
      "model_module_version": "1.5.0",
      "model_name": "DescriptionStyleModel",
      "state": {
       "description_width": ""
      }
     },
     "de5098bca60146e7ae88ef7f766ab0e8": {
      "model_module": "@jupyter-widgets/controls",
      "model_module_version": "1.5.0",
      "model_name": "HTMLModel",
      "state": {
       "layout": "IPY_MODEL_81d1012f2d934a859d232b325ebeb24f",
       "style": "IPY_MODEL_d208c0f0455c407baecaae0a6c723a21",
       "value": " 2345/2345 [00:19&lt;00:00, 7496.80it/s]"
      }
     },
     "de97656ede3b4c76a6a39ede6b6a7917": {
      "model_module": "@jupyter-widgets/controls",
      "model_module_version": "1.5.0",
      "model_name": "ProgressStyleModel",
      "state": {
       "description_width": ""
      }
     },
     "deb5159ebd564843bdc6902b10439010": {
      "model_module": "@jupyter-widgets/controls",
      "model_module_version": "1.5.0",
      "model_name": "FloatProgressModel",
      "state": {
       "layout": "IPY_MODEL_787b086020e6481bba9b57d621e773e0",
       "max": 2345,
       "style": "IPY_MODEL_4bfa0203beed45ffb26e4720610c6837",
       "value": 2345
      }
     },
     "ded5f04a1122495a835a064efd19fa18": {
      "model_module": "@jupyter-widgets/base",
      "model_module_version": "1.2.0",
      "model_name": "LayoutModel",
      "state": {}
     },
     "deef513b73ef4613a126783eee615712": {
      "model_module": "@jupyter-widgets/base",
      "model_module_version": "1.2.0",
      "model_name": "LayoutModel",
      "state": {}
     },
     "def7afc926954e0dbf362cdd0f25a639": {
      "model_module": "@jupyter-widgets/controls",
      "model_module_version": "1.5.0",
      "model_name": "DescriptionStyleModel",
      "state": {
       "description_width": ""
      }
     },
     "df5c010131ab4bf4a2d9364c21dd86a8": {
      "model_module": "@jupyter-widgets/controls",
      "model_module_version": "1.5.0",
      "model_name": "DescriptionStyleModel",
      "state": {
       "description_width": ""
      }
     },
     "df71599b69c540989ed09606a9b83107": {
      "model_module": "@jupyter-widgets/base",
      "model_module_version": "1.2.0",
      "model_name": "LayoutModel",
      "state": {}
     },
     "df71d8154b004e39b884d2f88d80088a": {
      "model_module": "@jupyter-widgets/base",
      "model_module_version": "1.2.0",
      "model_name": "LayoutModel",
      "state": {}
     },
     "dfeafd67b66e45ab8f55f36b5056d604": {
      "model_module": "@jupyter-widgets/base",
      "model_module_version": "1.2.0",
      "model_name": "LayoutModel",
      "state": {}
     },
     "e03f880574df473084cfbf9f56b93a5b": {
      "model_module": "@jupyter-widgets/controls",
      "model_module_version": "1.5.0",
      "model_name": "FloatProgressModel",
      "state": {
       "layout": "IPY_MODEL_241b3b63b72d45cabf55893188ece3e1",
       "max": 2345,
       "style": "IPY_MODEL_b7c894ec0c1d4d40b85632f285659e7d",
       "value": 2345
      }
     },
     "e052466a83694d54a5986f1aff0298dd": {
      "model_module": "@jupyter-widgets/controls",
      "model_module_version": "1.5.0",
      "model_name": "DescriptionStyleModel",
      "state": {
       "description_width": ""
      }
     },
     "e06152ed27a340a5b1c266ef655b5c63": {
      "model_module": "@jupyter-widgets/controls",
      "model_module_version": "1.5.0",
      "model_name": "DescriptionStyleModel",
      "state": {
       "description_width": ""
      }
     },
     "e094e5ffe35c4b4b8fbe721130cdc2c1": {
      "model_module": "@jupyter-widgets/base",
      "model_module_version": "1.2.0",
      "model_name": "LayoutModel",
      "state": {}
     },
     "e0db4c00603c44bfac85711d4d3446fc": {
      "model_module": "@jupyter-widgets/base",
      "model_module_version": "1.2.0",
      "model_name": "LayoutModel",
      "state": {}
     },
     "e0f3fe1426ae4ba19573a38f5cd9e328": {
      "model_module": "@jupyter-widgets/base",
      "model_module_version": "1.2.0",
      "model_name": "LayoutModel",
      "state": {}
     },
     "e168be49bf454d6f92c90e4a7132d9c5": {
      "model_module": "@jupyter-widgets/controls",
      "model_module_version": "1.5.0",
      "model_name": "HBoxModel",
      "state": {
       "children": [
        "IPY_MODEL_db4eb4fe18164492b4a5acb7949ad7b6",
        "IPY_MODEL_bac06653a2c74892ab8b97e84c0519b9",
        "IPY_MODEL_22363b03bd9847a0a3ac21d3fc1e15eb"
       ],
       "layout": "IPY_MODEL_8a743f62f30b4b2a808c1cf705e41a90"
      }
     },
     "e17ddc1086f04d63a549f618badf3a1b": {
      "model_module": "@jupyter-widgets/base",
      "model_module_version": "1.2.0",
      "model_name": "LayoutModel",
      "state": {}
     },
     "e18b828545364d87ac1d24f225aec48d": {
      "model_module": "@jupyter-widgets/controls",
      "model_module_version": "1.5.0",
      "model_name": "DescriptionStyleModel",
      "state": {
       "description_width": ""
      }
     },
     "e1b9c973bff843c2b7351ab876f2abe8": {
      "model_module": "@jupyter-widgets/controls",
      "model_module_version": "1.5.0",
      "model_name": "HTMLModel",
      "state": {
       "layout": "IPY_MODEL_0b611d62a2b1450d8933923b5bdf2321",
       "style": "IPY_MODEL_03d00a06817b48f49dd3f5a2181ada68",
       "value": "100%"
      }
     },
     "e1cff66d7f5c4c468391cc500f5282c8": {
      "model_module": "@jupyter-widgets/controls",
      "model_module_version": "1.5.0",
      "model_name": "ProgressStyleModel",
      "state": {
       "description_width": ""
      }
     },
     "e1ed68e51cff4bd09e6afef76bb143d7": {
      "model_module": "@jupyter-widgets/controls",
      "model_module_version": "1.5.0",
      "model_name": "FloatProgressModel",
      "state": {
       "layout": "IPY_MODEL_ed028e82645d414582cb081947203a22",
       "max": 2345,
       "style": "IPY_MODEL_198d81deda94459eb9e5f694445a5da3",
       "value": 2345
      }
     },
     "e205aee8661844cbb9325cbc5441b309": {
      "model_module": "@jupyter-widgets/controls",
      "model_module_version": "1.5.0",
      "model_name": "HTMLModel",
      "state": {
       "layout": "IPY_MODEL_dca55cf8a02640efa08bbbf7fb6dc998",
       "style": "IPY_MODEL_78b2403328bd47f1be67f77f05df745e",
       "value": " 2345/2345 [00:13&lt;00:00, 7514.83it/s]"
      }
     },
     "e21e41fd04224da09ae9c2a856460fc1": {
      "model_module": "@jupyter-widgets/controls",
      "model_module_version": "1.5.0",
      "model_name": "HTMLModel",
      "state": {
       "layout": "IPY_MODEL_d0cef15ee2864426ae760f89fc53481e",
       "style": "IPY_MODEL_cefa478eced145c789a8e5e90a975766",
       "value": "100%"
      }
     },
     "e3679b758abf417f9a7dc2196a9e66ab": {
      "model_module": "@jupyter-widgets/controls",
      "model_module_version": "1.5.0",
      "model_name": "FloatProgressModel",
      "state": {
       "layout": "IPY_MODEL_e9eacf278324479281406bba1c63958f",
       "max": 2345,
       "style": "IPY_MODEL_4355d95ccb884f56a840c6f4c93c431f",
       "value": 2345
      }
     },
     "e38389b715844700a8444cf6ec4256fe": {
      "model_module": "@jupyter-widgets/controls",
      "model_module_version": "1.5.0",
      "model_name": "HTMLModel",
      "state": {
       "layout": "IPY_MODEL_9e164313afb849f5a2901103166d6a3e",
       "style": "IPY_MODEL_5d4471d8fa3e47339e07f6b807d608f0",
       "value": " 2345/2345 [00:13&lt;00:00, 7520.17it/s]"
      }
     },
     "e390e6af70e145bbad3743eb0002b5ce": {
      "model_module": "@jupyter-widgets/base",
      "model_module_version": "1.2.0",
      "model_name": "LayoutModel",
      "state": {}
     },
     "e3d88674fd5d46ec913becd4c8f8563e": {
      "model_module": "@jupyter-widgets/controls",
      "model_module_version": "1.5.0",
      "model_name": "HTMLModel",
      "state": {
       "layout": "IPY_MODEL_dd8d6f52a3f247cca4df575b13a8e0a9",
       "style": "IPY_MODEL_1e0a49ddef924bf2827ebac01303e34f",
       "value": " 2345/2345 [00:14&lt;00:00, 7266.29it/s]"
      }
     },
     "e3feddf430244cc892c4ed0ea7fb5b37": {
      "model_module": "@jupyter-widgets/controls",
      "model_module_version": "1.5.0",
      "model_name": "HTMLModel",
      "state": {
       "layout": "IPY_MODEL_ecad621eeb444191917900d8506f93ba",
       "style": "IPY_MODEL_237aa0a5332a44e29d5e7aa23a89d10a",
       "value": " 2345/2345 [01:50&lt;00:00, 26.17it/s]"
      }
     },
     "e41b98003e554232b04155f057231791": {
      "model_module": "@jupyter-widgets/controls",
      "model_module_version": "1.5.0",
      "model_name": "ProgressStyleModel",
      "state": {
       "description_width": ""
      }
     },
     "e42fc1bc0e3d4c9898f86a7d2bb27c07": {
      "model_module": "@jupyter-widgets/controls",
      "model_module_version": "1.5.0",
      "model_name": "HTMLModel",
      "state": {
       "layout": "IPY_MODEL_41a63e5c0807468bb9600ee13287c163",
       "style": "IPY_MODEL_22be36857af647468bee0500d4ab8f0a",
       "value": " 2345/2345 [00:13&lt;00:00, 7676.76it/s]"
      }
     },
     "e43b1806b4f04da291be3439366ff686": {
      "model_module": "@jupyter-widgets/controls",
      "model_module_version": "1.5.0",
      "model_name": "ProgressStyleModel",
      "state": {
       "description_width": ""
      }
     },
     "e45f4727deae49f5a07af62d4e97e73c": {
      "model_module": "@jupyter-widgets/controls",
      "model_module_version": "1.5.0",
      "model_name": "HBoxModel",
      "state": {
       "children": [
        "IPY_MODEL_f942b0703f6f4c0b9b73aca666f371c8",
        "IPY_MODEL_47a4283ee75e48b5bbc65bf8d822ca65",
        "IPY_MODEL_5cc711ede2494c33bbc62e4ae966e192"
       ],
       "layout": "IPY_MODEL_34f6aa3138b14237996b1c4369a1b50c"
      }
     },
     "e46839e3dd064aa89e3d53d81acbe528": {
      "model_module": "@jupyter-widgets/controls",
      "model_module_version": "1.5.0",
      "model_name": "HTMLModel",
      "state": {
       "layout": "IPY_MODEL_1f98c47aaa8341e3b4db1718014ccef2",
       "style": "IPY_MODEL_def7afc926954e0dbf362cdd0f25a639",
       "value": "100%"
      }
     },
     "e4781ad26f5245dbb62066dce2620805": {
      "model_module": "@jupyter-widgets/base",
      "model_module_version": "1.2.0",
      "model_name": "LayoutModel",
      "state": {}
     },
     "e4b9fb033c0a428caf91c777a9ad00c8": {
      "model_module": "@jupyter-widgets/controls",
      "model_module_version": "1.5.0",
      "model_name": "HTMLModel",
      "state": {
       "layout": "IPY_MODEL_c4b1f2d239484d609aed2058534f2896",
       "style": "IPY_MODEL_7c9e2b8e0c5a4680b210a2f272423378",
       "value": "100%"
      }
     },
     "e4ea94cd19a04404aeb5e1fd86789b48": {
      "model_module": "@jupyter-widgets/controls",
      "model_module_version": "1.5.0",
      "model_name": "HTMLModel",
      "state": {
       "layout": "IPY_MODEL_9967f9129acb45fa9e1d40cf79993a55",
       "style": "IPY_MODEL_78d31fe8d9324d4a98eca0baa2913037",
       "value": " 2345/2345 [00:18&lt;00:00, 7469.03it/s]"
      }
     },
     "e54f9e9bd9d54cd2a313fb9e525dfce8": {
      "model_module": "@jupyter-widgets/controls",
      "model_module_version": "1.5.0",
      "model_name": "HTMLModel",
      "state": {
       "layout": "IPY_MODEL_62bd69e8035040ce9ed5caa3665407d8",
       "style": "IPY_MODEL_ea58105461e8443ca6037abb266ecf99",
       "value": "100%"
      }
     },
     "e551b47af1f0497fa91fc3bd8027f2fa": {
      "model_module": "@jupyter-widgets/controls",
      "model_module_version": "1.5.0",
      "model_name": "HTMLModel",
      "state": {
       "layout": "IPY_MODEL_9047d3e7cf9b4aa3a291990d30617639",
       "style": "IPY_MODEL_fe20fbfbf1a344d0b51c82f6e910b1d9",
       "value": " 2345/2345 [01:45&lt;00:00, 25.42it/s]"
      }
     },
     "e5aa961d0a074a4ca57d3709d64351a2": {
      "model_module": "@jupyter-widgets/controls",
      "model_module_version": "1.5.0",
      "model_name": "HBoxModel",
      "state": {
       "children": [
        "IPY_MODEL_fe0e98334a5e42d38896774a24a9e97a",
        "IPY_MODEL_0c8ab4f60c7b40c4b0489df33b28d8e8",
        "IPY_MODEL_78dfb0b78ca449f1b487371081c6c9e7"
       ],
       "layout": "IPY_MODEL_7f7386e169fb49d892d4c4c07aa692e6"
      }
     },
     "e5b0cf36047d480c803d415c710b4c85": {
      "model_module": "@jupyter-widgets/controls",
      "model_module_version": "1.5.0",
      "model_name": "HTMLModel",
      "state": {
       "layout": "IPY_MODEL_d0391a558a2b45498834cb1eb514e59e",
       "style": "IPY_MODEL_f6b166fda96e4951b42dd3d0efe8e533",
       "value": " 2345/2345 [00:18&lt;00:00, 7505.72it/s]"
      }
     },
     "e5c7a4c6ab384e65a93276de86b68d3d": {
      "model_module": "@jupyter-widgets/base",
      "model_module_version": "1.2.0",
      "model_name": "LayoutModel",
      "state": {}
     },
     "e5dfd02e1f8c40a1b94d8e0d8a5d7fb3": {
      "model_module": "@jupyter-widgets/controls",
      "model_module_version": "1.5.0",
      "model_name": "HTMLModel",
      "state": {
       "layout": "IPY_MODEL_57c8ad9af68948c4b6e22f090dac2a16",
       "style": "IPY_MODEL_72a84c2da94f4217b3b6a3d8985ef231",
       "value": " 2345/2345 [00:18&lt;00:00, 7526.70it/s]"
      }
     },
     "e5f2fa7018774f9a8993f4578f3618cb": {
      "model_module": "@jupyter-widgets/base",
      "model_module_version": "1.2.0",
      "model_name": "LayoutModel",
      "state": {}
     },
     "e60821c170b544c4909e509d92e4ad50": {
      "model_module": "@jupyter-widgets/controls",
      "model_module_version": "1.5.0",
      "model_name": "DescriptionStyleModel",
      "state": {
       "description_width": ""
      }
     },
     "e60875a3ff5e482b91e870a59ec1ec9d": {
      "model_module": "@jupyter-widgets/controls",
      "model_module_version": "1.5.0",
      "model_name": "ProgressStyleModel",
      "state": {
       "description_width": ""
      }
     },
     "e6225e07be924985b9307228e9e9fa33": {
      "model_module": "@jupyter-widgets/controls",
      "model_module_version": "1.5.0",
      "model_name": "FloatProgressModel",
      "state": {
       "layout": "IPY_MODEL_7c117e9db270427e8ca56e0e16d066e3",
       "max": 2345,
       "style": "IPY_MODEL_7c6be51bf53e4697a7fdb583d0510229",
       "value": 2345
      }
     },
     "e63750d4c2c04ab4aed7c06a40378a9a": {
      "model_module": "@jupyter-widgets/controls",
      "model_module_version": "1.5.0",
      "model_name": "FloatProgressModel",
      "state": {
       "layout": "IPY_MODEL_d1e4d36afb494f87b6e8958d355a09f5",
       "max": 2345,
       "style": "IPY_MODEL_ca6c63547ded48cfbb5d6cf9cd90d8f4",
       "value": 2345
      }
     },
     "e6cc56c15d98452191d1e434d65ec86e": {
      "model_module": "@jupyter-widgets/base",
      "model_module_version": "1.2.0",
      "model_name": "LayoutModel",
      "state": {}
     },
     "e6d1d41be5884f589ba75973415a3ceb": {
      "model_module": "@jupyter-widgets/base",
      "model_module_version": "1.2.0",
      "model_name": "LayoutModel",
      "state": {}
     },
     "e6facac788ad4ec6a6278e29cbdedd2e": {
      "model_module": "@jupyter-widgets/base",
      "model_module_version": "1.2.0",
      "model_name": "LayoutModel",
      "state": {}
     },
     "e72238e47ee241a6ae46b9fc2d425094": {
      "model_module": "@jupyter-widgets/controls",
      "model_module_version": "1.5.0",
      "model_name": "DescriptionStyleModel",
      "state": {
       "description_width": ""
      }
     },
     "e73b00920db14e10a40e97022d993ef7": {
      "model_module": "@jupyter-widgets/controls",
      "model_module_version": "1.5.0",
      "model_name": "HTMLModel",
      "state": {
       "layout": "IPY_MODEL_42a2a94b02dc45f0989f81af40e86870",
       "style": "IPY_MODEL_8f18971fc54845e7bd0465c54eae7bb4",
       "value": " 2345/2345 [00:16&lt;00:00, 7592.05it/s]"
      }
     },
     "e74c2a7961534676b76f1f52841f7573": {
      "model_module": "@jupyter-widgets/controls",
      "model_module_version": "1.5.0",
      "model_name": "ProgressStyleModel",
      "state": {
       "description_width": ""
      }
     },
     "e75d6b1371ac49d8b95f3bfea9d83d7e": {
      "model_module": "@jupyter-widgets/base",
      "model_module_version": "1.2.0",
      "model_name": "LayoutModel",
      "state": {}
     },
     "e7693daf45e54e1e8708e5eb536d44bb": {
      "model_module": "@jupyter-widgets/controls",
      "model_module_version": "1.5.0",
      "model_name": "HBoxModel",
      "state": {
       "children": [
        "IPY_MODEL_2f327d9d7dfa49dfa5f8e52ab2087c42",
        "IPY_MODEL_f807eebe45c34bd6b88a7ef88202f490",
        "IPY_MODEL_786bd658a0694da6b3b7436ef4f9eef6"
       ],
       "layout": "IPY_MODEL_55e708f940e44f36b9af3ecf6363f5eb"
      }
     },
     "e7907185d38e4ae69c8d5fbd61fb3d5f": {
      "model_module": "@jupyter-widgets/controls",
      "model_module_version": "1.5.0",
      "model_name": "ProgressStyleModel",
      "state": {
       "description_width": ""
      }
     },
     "e795cd36973146b9beb218284c7a9754": {
      "model_module": "@jupyter-widgets/controls",
      "model_module_version": "1.5.0",
      "model_name": "DescriptionStyleModel",
      "state": {
       "description_width": ""
      }
     },
     "e7bf71200d1641de8a930e62a7155bc5": {
      "model_module": "@jupyter-widgets/controls",
      "model_module_version": "1.5.0",
      "model_name": "FloatProgressModel",
      "state": {
       "layout": "IPY_MODEL_360db66d1ca84ab0bc5af11fc2548b0c",
       "max": 2345,
       "style": "IPY_MODEL_634c825c26a349eb8083304eadfc840d",
       "value": 2345
      }
     },
     "e7c5cf5296df4ef28b0428c81274da19": {
      "model_module": "@jupyter-widgets/base",
      "model_module_version": "1.2.0",
      "model_name": "LayoutModel",
      "state": {}
     },
     "e7e0c996c6e64915961b0c8f6da9ad28": {
      "model_module": "@jupyter-widgets/controls",
      "model_module_version": "1.5.0",
      "model_name": "HTMLModel",
      "state": {
       "layout": "IPY_MODEL_f8c8262a4611444f9d3a608112cbc707",
       "style": "IPY_MODEL_378537afd17b42a883888c5166f3d59b",
       "value": " 1266/1266 [01:03&lt;00:00, 24.59it/s]"
      }
     },
     "e7f4f24f1dd24119b573a2465803638c": {
      "model_module": "@jupyter-widgets/base",
      "model_module_version": "1.2.0",
      "model_name": "LayoutModel",
      "state": {}
     },
     "e7fdb25230af436aa7ecbd0f5aa47ed0": {
      "model_module": "@jupyter-widgets/controls",
      "model_module_version": "1.5.0",
      "model_name": "DescriptionStyleModel",
      "state": {
       "description_width": ""
      }
     },
     "e825074e6fa248c79aee7a6c893e0e90": {
      "model_module": "@jupyter-widgets/controls",
      "model_module_version": "1.5.0",
      "model_name": "DescriptionStyleModel",
      "state": {
       "description_width": ""
      }
     },
     "e855e085757545a69a83cc629d9c71f7": {
      "model_module": "@jupyter-widgets/base",
      "model_module_version": "1.2.0",
      "model_name": "LayoutModel",
      "state": {}
     },
     "e891558655f9466ab9862187ab4b5295": {
      "model_module": "@jupyter-widgets/base",
      "model_module_version": "1.2.0",
      "model_name": "LayoutModel",
      "state": {}
     },
     "e8d80c416a7e47fcb278a72bfef6a89e": {
      "model_module": "@jupyter-widgets/controls",
      "model_module_version": "1.5.0",
      "model_name": "DescriptionStyleModel",
      "state": {
       "description_width": ""
      }
     },
     "e8f36548f037485fb55629a1b109d2fc": {
      "model_module": "@jupyter-widgets/controls",
      "model_module_version": "1.5.0",
      "model_name": "HTMLModel",
      "state": {
       "layout": "IPY_MODEL_0fb0bc2b0ea645d6a8a5aedd1418e703",
       "style": "IPY_MODEL_03880e394426434c8e37a2dd8a83297b",
       "value": " 2345/2345 [01:52&lt;00:00, 25.56it/s]"
      }
     },
     "e8fa99b389a5408fa043e5cf924c7ecf": {
      "model_module": "@jupyter-widgets/controls",
      "model_module_version": "1.5.0",
      "model_name": "HTMLModel",
      "state": {
       "layout": "IPY_MODEL_7272b9c2312e4823bc0e8543000c5a22",
       "style": "IPY_MODEL_9e2be87fad2c48c6a30ff48aa1bcf631",
       "value": " 2345/2345 [01:51&lt;00:00, 25.86it/s]"
      }
     },
     "e917d635c4604af08f75569ba2ebced5": {
      "model_module": "@jupyter-widgets/base",
      "model_module_version": "1.2.0",
      "model_name": "LayoutModel",
      "state": {}
     },
     "e971dd7dec4841fd99cb29d7e4a07c75": {
      "model_module": "@jupyter-widgets/base",
      "model_module_version": "1.2.0",
      "model_name": "LayoutModel",
      "state": {}
     },
     "e979a8ef2a4d4509a318a64a672b9b33": {
      "model_module": "@jupyter-widgets/controls",
      "model_module_version": "1.5.0",
      "model_name": "HTMLModel",
      "state": {
       "layout": "IPY_MODEL_48e17a9fb2b1431eb8a07be273bfc2ab",
       "style": "IPY_MODEL_1f3305c8e2e846b99a31acca83aed198",
       "value": " 2345/2345 [01:45&lt;00:00, 26.07it/s]"
      }
     },
     "e97b9f357f244a3db6f7f31e34336fe9": {
      "model_module": "@jupyter-widgets/controls",
      "model_module_version": "1.5.0",
      "model_name": "ProgressStyleModel",
      "state": {
       "description_width": ""
      }
     },
     "e9805dd811a64373bf7f78ecc206d5cf": {
      "model_module": "@jupyter-widgets/controls",
      "model_module_version": "1.5.0",
      "model_name": "FloatProgressModel",
      "state": {
       "layout": "IPY_MODEL_d825153579f844acacbeeeebd57a06b7",
       "max": 1266,
       "style": "IPY_MODEL_f380fbf847f34645b094d79402f411c8",
       "value": 1266
      }
     },
     "e9c38113b1c1499eb4d66f9844a7de80": {
      "model_module": "@jupyter-widgets/controls",
      "model_module_version": "1.5.0",
      "model_name": "DescriptionStyleModel",
      "state": {
       "description_width": ""
      }
     },
     "e9eacf278324479281406bba1c63958f": {
      "model_module": "@jupyter-widgets/base",
      "model_module_version": "1.2.0",
      "model_name": "LayoutModel",
      "state": {}
     },
     "e9f0ce05d58e45608ef0dd50b523bfc2": {
      "model_module": "@jupyter-widgets/base",
      "model_module_version": "1.2.0",
      "model_name": "LayoutModel",
      "state": {}
     },
     "ea2d71ffcb494697adf9ab1b68a3b051": {
      "model_module": "@jupyter-widgets/base",
      "model_module_version": "1.2.0",
      "model_name": "LayoutModel",
      "state": {}
     },
     "ea58105461e8443ca6037abb266ecf99": {
      "model_module": "@jupyter-widgets/controls",
      "model_module_version": "1.5.0",
      "model_name": "DescriptionStyleModel",
      "state": {
       "description_width": ""
      }
     },
     "ea5f661d674642d291196dc9a3689a6b": {
      "model_module": "@jupyter-widgets/base",
      "model_module_version": "1.2.0",
      "model_name": "LayoutModel",
      "state": {}
     },
     "ea6d6128eb124684b6a2659b6cd24278": {
      "model_module": "@jupyter-widgets/controls",
      "model_module_version": "1.5.0",
      "model_name": "FloatProgressModel",
      "state": {
       "layout": "IPY_MODEL_9fc36939a7ae4931b5b23cc43101d899",
       "max": 2345,
       "style": "IPY_MODEL_3cc1a89b67f345d9b906dacfab520e69",
       "value": 2345
      }
     },
     "eaecefa5e8cd4aab9b0356b433e9b5e3": {
      "model_module": "@jupyter-widgets/base",
      "model_module_version": "1.2.0",
      "model_name": "LayoutModel",
      "state": {}
     },
     "eb1403861c064a248153c773830dad26": {
      "model_module": "@jupyter-widgets/controls",
      "model_module_version": "1.5.0",
      "model_name": "FloatProgressModel",
      "state": {
       "layout": "IPY_MODEL_65e629165b5043609e9238e8c0b8387f",
       "max": 1266,
       "style": "IPY_MODEL_4261dc9077f849b39b6c0077b3dac954",
       "value": 1266
      }
     },
     "eba2af6113d145a5a0117bb5d1ff4b5b": {
      "model_module": "@jupyter-widgets/controls",
      "model_module_version": "1.5.0",
      "model_name": "HTMLModel",
      "state": {
       "layout": "IPY_MODEL_00635e8b2f354000a31c72ef1f4b5ddd",
       "style": "IPY_MODEL_5ac0464661f84b838512cb6b46ca0229",
       "value": " 2345/2345 [00:18&lt;00:00, 7500.90it/s]"
      }
     },
     "ebb089c0c9724bb2a2b448572b2a3e95": {
      "model_module": "@jupyter-widgets/base",
      "model_module_version": "1.2.0",
      "model_name": "LayoutModel",
      "state": {}
     },
     "ebb0dfc0995f4e618c7bccb792cd0c24": {
      "model_module": "@jupyter-widgets/controls",
      "model_module_version": "1.5.0",
      "model_name": "HTMLModel",
      "state": {
       "layout": "IPY_MODEL_624a7c3e61b3422ba96750ae7f9da1b6",
       "style": "IPY_MODEL_593b14ed8fcc4511bf2d802df4374928",
       "value": " 2345/2345 [00:12&lt;00:00, 7484.92it/s]"
      }
     },
     "ebc3fcbf19d2480b8884e309749e2462": {
      "model_module": "@jupyter-widgets/controls",
      "model_module_version": "1.5.0",
      "model_name": "FloatProgressModel",
      "state": {
       "layout": "IPY_MODEL_681875c2053f484fa286de48337a256a",
       "max": 2345,
       "style": "IPY_MODEL_77ca95817d7a400a95d5fbd876382b19",
       "value": 2345
      }
     },
     "ec0330e36d1a4122aa5b3a5914338d0f": {
      "model_module": "@jupyter-widgets/controls",
      "model_module_version": "1.5.0",
      "model_name": "HBoxModel",
      "state": {
       "children": [
        "IPY_MODEL_4ddbd2f9444246718259945cc34a6af7",
        "IPY_MODEL_3ff338cf9605460c9e632075862b3f96",
        "IPY_MODEL_ae22a78d2b544b2b9cc43c2bcd4f946f"
       ],
       "layout": "IPY_MODEL_33816ce410194cb8b6d8af7bce934069"
      }
     },
     "ec2ee4cf114643018a6d7b844d49d407": {
      "model_module": "@jupyter-widgets/controls",
      "model_module_version": "1.5.0",
      "model_name": "DescriptionStyleModel",
      "state": {
       "description_width": ""
      }
     },
     "ec423eae7a74453788569b1c472de932": {
      "model_module": "@jupyter-widgets/controls",
      "model_module_version": "1.5.0",
      "model_name": "ProgressStyleModel",
      "state": {
       "description_width": ""
      }
     },
     "ec4a3fc4d30d4f059093728e5dfb4a53": {
      "model_module": "@jupyter-widgets/controls",
      "model_module_version": "1.5.0",
      "model_name": "HTMLModel",
      "state": {
       "layout": "IPY_MODEL_0f658542519541c4bf83aa88299174df",
       "style": "IPY_MODEL_b04387f7f7c14bf1804b9e19d4a71cf5",
       "value": "100%"
      }
     },
     "ec9cafe317bf4a429285a918e5a98bce": {
      "model_module": "@jupyter-widgets/base",
      "model_module_version": "1.2.0",
      "model_name": "LayoutModel",
      "state": {}
     },
     "ecad621eeb444191917900d8506f93ba": {
      "model_module": "@jupyter-widgets/base",
      "model_module_version": "1.2.0",
      "model_name": "LayoutModel",
      "state": {}
     },
     "ecd68a2af9ed449c97779a4ba1fba2b5": {
      "model_module": "@jupyter-widgets/base",
      "model_module_version": "1.2.0",
      "model_name": "LayoutModel",
      "state": {}
     },
     "ed028e82645d414582cb081947203a22": {
      "model_module": "@jupyter-widgets/base",
      "model_module_version": "1.2.0",
      "model_name": "LayoutModel",
      "state": {}
     },
     "ed0fd6cb32904ba0ab2837a3eea4e798": {
      "model_module": "@jupyter-widgets/controls",
      "model_module_version": "1.5.0",
      "model_name": "DescriptionStyleModel",
      "state": {
       "description_width": ""
      }
     },
     "ed2647eafb32471d9163d66c90601715": {
      "model_module": "@jupyter-widgets/base",
      "model_module_version": "1.2.0",
      "model_name": "LayoutModel",
      "state": {}
     },
     "ed5e3f5f67754a928db61f24393928d6": {
      "model_module": "@jupyter-widgets/base",
      "model_module_version": "1.2.0",
      "model_name": "LayoutModel",
      "state": {}
     },
     "edb9e4ca0b5946ef9bb2b21635b62fb0": {
      "model_module": "@jupyter-widgets/controls",
      "model_module_version": "1.5.0",
      "model_name": "FloatProgressModel",
      "state": {
       "layout": "IPY_MODEL_d62e65c7011b4e0a93ad5dc432bebcd2",
       "max": 2345,
       "style": "IPY_MODEL_254a624103224c70af717620a06c32ec",
       "value": 2345
      }
     },
     "edc7000450d54de1b7eacbb5439bb1e7": {
      "model_module": "@jupyter-widgets/base",
      "model_module_version": "1.2.0",
      "model_name": "LayoutModel",
      "state": {}
     },
     "edd0c057fc6b4b649681ac5c8106b8ee": {
      "model_module": "@jupyter-widgets/controls",
      "model_module_version": "1.5.0",
      "model_name": "HTMLModel",
      "state": {
       "layout": "IPY_MODEL_6562afee72ad40bcbfb833d48121bca2",
       "style": "IPY_MODEL_e7fdb25230af436aa7ecbd0f5aa47ed0",
       "value": " 0/10 [00:00&lt;?, ?it/s]"
      }
     },
     "edd7189d6ef44f11bb56a0094c6cbb54": {
      "model_module": "@jupyter-widgets/controls",
      "model_module_version": "1.5.0",
      "model_name": "HBoxModel",
      "state": {
       "children": [
        "IPY_MODEL_acdfedc61f31478e9d39c6b4408a6d6b",
        "IPY_MODEL_edb9e4ca0b5946ef9bb2b21635b62fb0",
        "IPY_MODEL_86f8fba6f33f4096a1533c3c83ac696f"
       ],
       "layout": "IPY_MODEL_19b0d84fb0884e4da0a10bb55e1f5e9f"
      }
     },
     "ee3cd99776664e92bba556336c2f315b": {
      "model_module": "@jupyter-widgets/controls",
      "model_module_version": "1.5.0",
      "model_name": "HTMLModel",
      "state": {
       "layout": "IPY_MODEL_49b76327475b4675a6e73bb205f72654",
       "style": "IPY_MODEL_a28302aa222547faa154a8ec52551934",
       "value": "100%"
      }
     },
     "ee52765f148a4b3cb5482506b8f59204": {
      "model_module": "@jupyter-widgets/base",
      "model_module_version": "1.2.0",
      "model_name": "LayoutModel",
      "state": {}
     },
     "ee7ed7ca7e5b483dbb1ee0923cad3041": {
      "model_module": "@jupyter-widgets/base",
      "model_module_version": "1.2.0",
      "model_name": "LayoutModel",
      "state": {}
     },
     "ee8bbf3cadc94e8486ce44f2e5770871": {
      "model_module": "@jupyter-widgets/controls",
      "model_module_version": "1.5.0",
      "model_name": "HTMLModel",
      "state": {
       "layout": "IPY_MODEL_3cd1bc925276402da10ce3d104595e4d",
       "style": "IPY_MODEL_bbd026248fda4adc87e0d7c3066f3178",
       "value": " 2345/2345 [00:11&lt;00:00, 7509.31it/s]"
      }
     },
     "ee916d2ab1644b9a82d14947557cac29": {
      "model_module": "@jupyter-widgets/controls",
      "model_module_version": "1.5.0",
      "model_name": "DescriptionStyleModel",
      "state": {
       "description_width": ""
      }
     },
     "eed3d860b2f1472da0018404c0c4dafa": {
      "model_module": "@jupyter-widgets/controls",
      "model_module_version": "1.5.0",
      "model_name": "HTMLModel",
      "state": {
       "layout": "IPY_MODEL_a396c1a476f942cd94f85e4952c135f0",
       "style": "IPY_MODEL_495728469de04f50b293bf8fa3dda4e1",
       "value": "100%"
      }
     },
     "ef1f1206db224b0a9bc7ac55b28529d9": {
      "model_module": "@jupyter-widgets/base",
      "model_module_version": "1.2.0",
      "model_name": "LayoutModel",
      "state": {}
     },
     "ef2b2df6409a4716bfa2592fe8ce5c04": {
      "model_module": "@jupyter-widgets/controls",
      "model_module_version": "1.5.0",
      "model_name": "HBoxModel",
      "state": {
       "children": [
        "IPY_MODEL_b25d32ff06d64ee4ad34ca3bd7300e13",
        "IPY_MODEL_ac4de9b191804727b001138a65c97c45",
        "IPY_MODEL_ebb0dfc0995f4e618c7bccb792cd0c24"
       ],
       "layout": "IPY_MODEL_77f80aaa2aff46d0bfd39453fbdd24df"
      }
     },
     "ef5a541deb8b4c0c8299d42c1650c027": {
      "model_module": "@jupyter-widgets/controls",
      "model_module_version": "1.5.0",
      "model_name": "DescriptionStyleModel",
      "state": {
       "description_width": ""
      }
     },
     "ef671f8960b7462094352482ec858806": {
      "model_module": "@jupyter-widgets/base",
      "model_module_version": "1.2.0",
      "model_name": "LayoutModel",
      "state": {}
     },
     "ef6f92d6aa6e46d885939266c61d2386": {
      "model_module": "@jupyter-widgets/base",
      "model_module_version": "1.2.0",
      "model_name": "LayoutModel",
      "state": {}
     },
     "ef8d871504de461886f56db9b3265e48": {
      "model_module": "@jupyter-widgets/controls",
      "model_module_version": "1.5.0",
      "model_name": "HTMLModel",
      "state": {
       "layout": "IPY_MODEL_baa6b7a079ec4e64b610cd774bdde170",
       "style": "IPY_MODEL_721c6143c136481890ab4a9940532547",
       "value": " 2345/2345 [01:49&lt;00:00, 25.28it/s]"
      }
     },
     "efdce077a0e04bcab0f0f79234ecc7d4": {
      "model_module": "@jupyter-widgets/base",
      "model_module_version": "1.2.0",
      "model_name": "LayoutModel",
      "state": {}
     },
     "efe46a2c055546f79c4f9b7c752ed61d": {
      "model_module": "@jupyter-widgets/base",
      "model_module_version": "1.2.0",
      "model_name": "LayoutModel",
      "state": {}
     },
     "f073aeca487e4a1f8ce50b0582fa8d0e": {
      "model_module": "@jupyter-widgets/base",
      "model_module_version": "1.2.0",
      "model_name": "LayoutModel",
      "state": {}
     },
     "f078658aac9a45a8995437ccda356f82": {
      "model_module": "@jupyter-widgets/controls",
      "model_module_version": "1.5.0",
      "model_name": "DescriptionStyleModel",
      "state": {
       "description_width": ""
      }
     },
     "f08668e9e306440e83ebfd6e11a2a6ce": {
      "model_module": "@jupyter-widgets/base",
      "model_module_version": "1.2.0",
      "model_name": "LayoutModel",
      "state": {}
     },
     "f0990cf33b084f279a34ba84a7eb8ed0": {
      "model_module": "@jupyter-widgets/controls",
      "model_module_version": "1.5.0",
      "model_name": "HTMLModel",
      "state": {
       "layout": "IPY_MODEL_77c639e8cf3e42868cb72dec6063f01f",
       "style": "IPY_MODEL_3293610c2bd74520b98f7ae07e3e0d16",
       "value": " 0/2345 [00:00&lt;?, ?it/s]"
      }
     },
     "f0de48ebeab546a4872a75a32a152979": {
      "model_module": "@jupyter-widgets/controls",
      "model_module_version": "1.5.0",
      "model_name": "HBoxModel",
      "state": {
       "children": [
        "IPY_MODEL_64022ca839b8420aa086b0073add9840",
        "IPY_MODEL_479d2ab70650491abb57ea77d6c57281",
        "IPY_MODEL_fdb6d327bfc94b688ab88cb14527a5f3"
       ],
       "layout": "IPY_MODEL_cc8b84466dfc45169f9bee7e7337329c"
      }
     },
     "f0e4bd9c989c4eabb157362950668f8a": {
      "model_module": "@jupyter-widgets/controls",
      "model_module_version": "1.5.0",
      "model_name": "FloatProgressModel",
      "state": {
       "layout": "IPY_MODEL_a7244cb8db7a41958b520077a86590bc",
       "max": 2345,
       "style": "IPY_MODEL_1ee263c86eed42bc81472fb3cebd0a43",
       "value": 2345
      }
     },
     "f0fac1a9f07a4593a91e4af171efad50": {
      "model_module": "@jupyter-widgets/controls",
      "model_module_version": "1.5.0",
      "model_name": "HBoxModel",
      "state": {
       "children": [
        "IPY_MODEL_c17bd6722f7e48d797dd7dfefc13cd4d",
        "IPY_MODEL_40a767b35e1c42aa86082ebdd3d7a2b1",
        "IPY_MODEL_e205aee8661844cbb9325cbc5441b309"
       ],
       "layout": "IPY_MODEL_4d837ec69857467b9ae482f59a0955d4"
      }
     },
     "f15764d25fef48bfa0bb6f96e5b249fe": {
      "model_module": "@jupyter-widgets/controls",
      "model_module_version": "1.5.0",
      "model_name": "HTMLModel",
      "state": {
       "layout": "IPY_MODEL_9312651f21f94c2da1ae5fed3283dffb",
       "style": "IPY_MODEL_2a1074c5256b4be3ac589625238205b7",
       "value": " 2345/2345 [01:49&lt;00:00, 25.50it/s]"
      }
     },
     "f1a65f103d7f4989ba0474cfe8c25300": {
      "model_module": "@jupyter-widgets/controls",
      "model_module_version": "1.5.0",
      "model_name": "HTMLModel",
      "state": {
       "layout": "IPY_MODEL_2b7a89bfe42447dc9c051d587b3fbe8b",
       "style": "IPY_MODEL_9cccb9a083914ff0901e4f777be77cbd",
       "value": "100%"
      }
     },
     "f1acd70167cb45db8feb88368f543302": {
      "model_module": "@jupyter-widgets/controls",
      "model_module_version": "1.5.0",
      "model_name": "HTMLModel",
      "state": {
       "layout": "IPY_MODEL_2bec6ae5883644b3a3f7ff71da2e2b5d",
       "style": "IPY_MODEL_a531394ff4814412a576f1fec58023a5",
       "value": " 2345/2345 [01:44&lt;00:00, 24.86it/s]"
      }
     },
     "f1b7c0592afb4fed95a637c9bfe5f5d2": {
      "model_module": "@jupyter-widgets/controls",
      "model_module_version": "1.5.0",
      "model_name": "FloatProgressModel",
      "state": {
       "layout": "IPY_MODEL_95a4463199604770a9ed7ab863aed1d9",
       "max": 1266,
       "style": "IPY_MODEL_63853afe476647b48eefb79a3936f91c",
       "value": 1266
      }
     },
     "f218935211ba438385a0830fa02c1541": {
      "model_module": "@jupyter-widgets/controls",
      "model_module_version": "1.5.0",
      "model_name": "FloatProgressModel",
      "state": {
       "layout": "IPY_MODEL_0ec5ce37837e4cb891b9f9d1097f321c",
       "max": 2345,
       "style": "IPY_MODEL_b03998714bdd447d8deb5b1a51863779"
      }
     },
     "f2b8750f71ba4ccbba70313ce3185f8e": {
      "model_module": "@jupyter-widgets/base",
      "model_module_version": "1.2.0",
      "model_name": "LayoutModel",
      "state": {}
     },
     "f2fccbe826244558add2d69f8ee1114f": {
      "model_module": "@jupyter-widgets/controls",
      "model_module_version": "1.5.0",
      "model_name": "HTMLModel",
      "state": {
       "layout": "IPY_MODEL_956ff3c06e514117aebe7cab009b68d6",
       "style": "IPY_MODEL_41379f52768a4993acff1ac5c5a8426a",
       "value": " 1266/1266 [01:05&lt;00:00, 25.50it/s]"
      }
     },
     "f32676ccc23b4cf0a38b41f6ea451268": {
      "model_module": "@jupyter-widgets/controls",
      "model_module_version": "1.5.0",
      "model_name": "HTMLModel",
      "state": {
       "layout": "IPY_MODEL_7905a8d53a994d8191b6a3ab3c523d1c",
       "style": "IPY_MODEL_c24e77b376ad4f73a33a232f64c5a557",
       "value": "100%"
      }
     },
     "f32a591fe88f4137ba1584108d0b1d06": {
      "model_module": "@jupyter-widgets/controls",
      "model_module_version": "1.5.0",
      "model_name": "ProgressStyleModel",
      "state": {
       "description_width": ""
      }
     },
     "f3513e26211a4dc398351c6113960817": {
      "model_module": "@jupyter-widgets/base",
      "model_module_version": "1.2.0",
      "model_name": "LayoutModel",
      "state": {}
     },
     "f380fbf847f34645b094d79402f411c8": {
      "model_module": "@jupyter-widgets/controls",
      "model_module_version": "1.5.0",
      "model_name": "ProgressStyleModel",
      "state": {
       "description_width": ""
      }
     },
     "f38de22cebe84321bad34c54579ba538": {
      "model_module": "@jupyter-widgets/controls",
      "model_module_version": "1.5.0",
      "model_name": "DescriptionStyleModel",
      "state": {
       "description_width": ""
      }
     },
     "f398383775384eb0b7f846ed9a281344": {
      "model_module": "@jupyter-widgets/controls",
      "model_module_version": "1.5.0",
      "model_name": "HTMLModel",
      "state": {
       "layout": "IPY_MODEL_e6facac788ad4ec6a6278e29cbdedd2e",
       "style": "IPY_MODEL_98ba63e401a74aa29d1bbec47cb34711",
       "value": "100%"
      }
     },
     "f39e5610a3bb4b81859b55a80066cce0": {
      "model_module": "@jupyter-widgets/base",
      "model_module_version": "1.2.0",
      "model_name": "LayoutModel",
      "state": {}
     },
     "f3ad7318d03b448cb1f5beddb4cf08ad": {
      "model_module": "@jupyter-widgets/controls",
      "model_module_version": "1.5.0",
      "model_name": "FloatProgressModel",
      "state": {
       "layout": "IPY_MODEL_3c66b3c9c09d4d2ebab86a69020d63f1",
       "max": 2345,
       "style": "IPY_MODEL_9a14dfe151704c30af750401c221bc7e",
       "value": 2345
      }
     },
     "f3c727e4366a4b7a932adef9ecf31006": {
      "model_module": "@jupyter-widgets/controls",
      "model_module_version": "1.5.0",
      "model_name": "DescriptionStyleModel",
      "state": {
       "description_width": ""
      }
     },
     "f40767b6c46d4958bb6fe49e11d30224": {
      "model_module": "@jupyter-widgets/controls",
      "model_module_version": "1.5.0",
      "model_name": "HTMLModel",
      "state": {
       "layout": "IPY_MODEL_72dffcb6932542218e4f9bf134eb1eb1",
       "style": "IPY_MODEL_2a070e44172c4cc188aed9482160a5c8",
       "value": "100%"
      }
     },
     "f40c8b8d00fe4ea2866c1d7a20b0e32a": {
      "model_module": "@jupyter-widgets/controls",
      "model_module_version": "1.5.0",
      "model_name": "HTMLModel",
      "state": {
       "layout": "IPY_MODEL_b7a0bac319844f10bac1f316de819808",
       "style": "IPY_MODEL_ee916d2ab1644b9a82d14947557cac29",
       "value": "100%"
      }
     },
     "f456b709290a4ff8ae27cb7befc02601": {
      "model_module": "@jupyter-widgets/base",
      "model_module_version": "1.2.0",
      "model_name": "LayoutModel",
      "state": {}
     },
     "f503acbeb0484560a5fbff816b22f286": {
      "model_module": "@jupyter-widgets/controls",
      "model_module_version": "1.5.0",
      "model_name": "HTMLModel",
      "state": {
       "layout": "IPY_MODEL_6c414e3256d3400e8283a0eb921e0dfa",
       "style": "IPY_MODEL_2cdb8df74fe04c5981dafb592c5284ce",
       "value": "100%"
      }
     },
     "f5154b1aa2dd4ebd9d6dc068927f175f": {
      "model_module": "@jupyter-widgets/controls",
      "model_module_version": "1.5.0",
      "model_name": "ProgressStyleModel",
      "state": {
       "description_width": ""
      }
     },
     "f521fd6fc3384dae87268b00f3613ad8": {
      "model_module": "@jupyter-widgets/base",
      "model_module_version": "1.2.0",
      "model_name": "LayoutModel",
      "state": {}
     },
     "f530434001f34c5e95a0d4269ace7cad": {
      "model_module": "@jupyter-widgets/base",
      "model_module_version": "1.2.0",
      "model_name": "LayoutModel",
      "state": {}
     },
     "f53b40af985d429b8de7a98401756ca0": {
      "model_module": "@jupyter-widgets/base",
      "model_module_version": "1.2.0",
      "model_name": "LayoutModel",
      "state": {}
     },
     "f5f58d41431f4231a019335aef6b408a": {
      "model_module": "@jupyter-widgets/base",
      "model_module_version": "1.2.0",
      "model_name": "LayoutModel",
      "state": {}
     },
     "f6349bbbc03a47c985f354e21b8aad22": {
      "model_module": "@jupyter-widgets/controls",
      "model_module_version": "1.5.0",
      "model_name": "HBoxModel",
      "state": {
       "children": [
        "IPY_MODEL_6b5eda27c0d7493ea092c283f7feff10",
        "IPY_MODEL_373aa29a3f984843863c890b5b9afce5",
        "IPY_MODEL_3d465963aa13431890526d625193baae"
       ],
       "layout": "IPY_MODEL_97399618bfad4a5fb5bf1c7cffc8e5fb"
      }
     },
     "f64eea09e3d945aba20fb61e679137ad": {
      "model_module": "@jupyter-widgets/controls",
      "model_module_version": "1.5.0",
      "model_name": "HBoxModel",
      "state": {
       "children": [
        "IPY_MODEL_c06b428006c947edbef478fafc04d95d",
        "IPY_MODEL_733cdb64abf24218b6850338c4dba0d9",
        "IPY_MODEL_b3eb9631066f4704bb27577c3046d7cc"
       ],
       "layout": "IPY_MODEL_73052541f612441f93e5f99a214fb11d"
      }
     },
     "f68e82b683aa45cf8eb3bbd9fc16baa4": {
      "model_module": "@jupyter-widgets/controls",
      "model_module_version": "1.5.0",
      "model_name": "DescriptionStyleModel",
      "state": {
       "description_width": ""
      }
     },
     "f6a57a0b2b3546b688019c9d0b093d2d": {
      "model_module": "@jupyter-widgets/controls",
      "model_module_version": "1.5.0",
      "model_name": "FloatProgressModel",
      "state": {
       "layout": "IPY_MODEL_6f894999cb8c4f628333797ec5f27605",
       "max": 2345,
       "style": "IPY_MODEL_fe9dbd7218b3494f8cb70ec8e2711b06",
       "value": 2345
      }
     },
     "f6b166fda96e4951b42dd3d0efe8e533": {
      "model_module": "@jupyter-widgets/controls",
      "model_module_version": "1.5.0",
      "model_name": "DescriptionStyleModel",
      "state": {
       "description_width": ""
      }
     },
     "f6c3b3c26d334467bf004b42389d5aaa": {
      "model_module": "@jupyter-widgets/controls",
      "model_module_version": "1.5.0",
      "model_name": "HBoxModel",
      "state": {
       "children": [
        "IPY_MODEL_f8e436298dc04459a291b069dcabd547",
        "IPY_MODEL_ca08415117354607b83741aa073b38ed",
        "IPY_MODEL_c00607bd13c448cebf8aa6b02437cf28"
       ],
       "layout": "IPY_MODEL_bf1c4f5786bf47beb7821746fd7d9575"
      }
     },
     "f6dbeb5c4c1f453c8cc7b8ca0b27b253": {
      "model_module": "@jupyter-widgets/controls",
      "model_module_version": "1.5.0",
      "model_name": "HTMLModel",
      "state": {
       "layout": "IPY_MODEL_46049a644943446a912bb7b09eaac260",
       "style": "IPY_MODEL_e06152ed27a340a5b1c266ef655b5c63",
       "value": "100%"
      }
     },
     "f7069dd43e804ac1b2617e44037b550a": {
      "model_module": "@jupyter-widgets/controls",
      "model_module_version": "1.5.0",
      "model_name": "DescriptionStyleModel",
      "state": {
       "description_width": ""
      }
     },
     "f711d31c11fa4d8fab448aeb81425588": {
      "model_module": "@jupyter-widgets/controls",
      "model_module_version": "1.5.0",
      "model_name": "HTMLModel",
      "state": {
       "layout": "IPY_MODEL_7bd096b3447a4617ae0fdf2dec87d24a",
       "style": "IPY_MODEL_70bf37cf971d4b82a845f98119b69ca6",
       "value": " 2345/2345 [00:16&lt;00:00, 7548.99it/s]"
      }
     },
     "f713694075fb43219a6dcf4981bf4fa0": {
      "model_module": "@jupyter-widgets/base",
      "model_module_version": "1.2.0",
      "model_name": "LayoutModel",
      "state": {}
     },
     "f73a8be3fd2540089a8ac02255afb519": {
      "model_module": "@jupyter-widgets/controls",
      "model_module_version": "1.5.0",
      "model_name": "HBoxModel",
      "state": {
       "children": [
        "IPY_MODEL_111134a57c794ae8b64acab1326b475b",
        "IPY_MODEL_63bba76c5f1d4a72934683c7b4386c51",
        "IPY_MODEL_7b7f2fba3cd049f59a3d034c63dda0d7"
       ],
       "layout": "IPY_MODEL_cf8bb303f1e94bdfab2dbd77b41cb2da"
      }
     },
     "f76aa342d79b4eafb8302f9ac5d17933": {
      "model_module": "@jupyter-widgets/controls",
      "model_module_version": "1.5.0",
      "model_name": "FloatProgressModel",
      "state": {
       "layout": "IPY_MODEL_c1fc65e53e2b4ac390a80b57a8353eff",
       "max": 2345,
       "style": "IPY_MODEL_4148ebaef7f545a59a69baba51feb2a2",
       "value": 2345
      }
     },
     "f7ea2eb8b2dd44a990e33f83b16a0eb2": {
      "model_module": "@jupyter-widgets/base",
      "model_module_version": "1.2.0",
      "model_name": "LayoutModel",
      "state": {}
     },
     "f807eebe45c34bd6b88a7ef88202f490": {
      "model_module": "@jupyter-widgets/controls",
      "model_module_version": "1.5.0",
      "model_name": "FloatProgressModel",
      "state": {
       "layout": "IPY_MODEL_3e4cbe5564304051805d1b116424cb73",
       "max": 2345,
       "style": "IPY_MODEL_4910e704ee8e4f19aa4d63d58092bba9",
       "value": 2345
      }
     },
     "f8574716f8fc497d8a0f9466a6e4926b": {
      "model_module": "@jupyter-widgets/controls",
      "model_module_version": "1.5.0",
      "model_name": "DescriptionStyleModel",
      "state": {
       "description_width": ""
      }
     },
     "f8713e517e4347f180ec3d8be5d277b2": {
      "model_module": "@jupyter-widgets/base",
      "model_module_version": "1.2.0",
      "model_name": "LayoutModel",
      "state": {}
     },
     "f8b09bbd813e4f6caade80e36566e3b2": {
      "model_module": "@jupyter-widgets/controls",
      "model_module_version": "1.5.0",
      "model_name": "FloatProgressModel",
      "state": {
       "layout": "IPY_MODEL_66048b1fcc80493698dbefa9c1663906",
       "max": 2345,
       "style": "IPY_MODEL_904f6e7eb4aa46ee89d62b4db6b608c7",
       "value": 2345
      }
     },
     "f8b2d0865b5340488fd59ebf14227452": {
      "model_module": "@jupyter-widgets/base",
      "model_module_version": "1.2.0",
      "model_name": "LayoutModel",
      "state": {}
     },
     "f8c735dcd89d42faaccff082d6885fa9": {
      "model_module": "@jupyter-widgets/base",
      "model_module_version": "1.2.0",
      "model_name": "LayoutModel",
      "state": {}
     },
     "f8c8262a4611444f9d3a608112cbc707": {
      "model_module": "@jupyter-widgets/base",
      "model_module_version": "1.2.0",
      "model_name": "LayoutModel",
      "state": {}
     },
     "f8c8cda08db54b40819f98a115415352": {
      "model_module": "@jupyter-widgets/base",
      "model_module_version": "1.2.0",
      "model_name": "LayoutModel",
      "state": {}
     },
     "f8e436298dc04459a291b069dcabd547": {
      "model_module": "@jupyter-widgets/controls",
      "model_module_version": "1.5.0",
      "model_name": "HTMLModel",
      "state": {
       "layout": "IPY_MODEL_ca84fa9cb74142d190909e574c097cae",
       "style": "IPY_MODEL_e795cd36973146b9beb218284c7a9754",
       "value": "100%"
      }
     },
     "f8f604dce2eb4006a728bf45fead5a30": {
      "model_module": "@jupyter-widgets/base",
      "model_module_version": "1.2.0",
      "model_name": "LayoutModel",
      "state": {}
     },
     "f8fd99590e484fafb202c32857bd19be": {
      "model_module": "@jupyter-widgets/controls",
      "model_module_version": "1.5.0",
      "model_name": "DescriptionStyleModel",
      "state": {
       "description_width": ""
      }
     },
     "f9093a66fe9146ff9f83c817aeb34188": {
      "model_module": "@jupyter-widgets/controls",
      "model_module_version": "1.5.0",
      "model_name": "HBoxModel",
      "state": {
       "children": [
        "IPY_MODEL_3bf979adf91d4b35a38467e56dca2ae3",
        "IPY_MODEL_6a837edcf6db425fb1b4728f06f77625",
        "IPY_MODEL_95468d7d49324add8e1f282bb72bffc6"
       ],
       "layout": "IPY_MODEL_a0015a515ac446ab917ad5d8c7f9152d"
      }
     },
     "f90f11795cd84ec1973a37b8158b0025": {
      "model_module": "@jupyter-widgets/controls",
      "model_module_version": "1.5.0",
      "model_name": "FloatProgressModel",
      "state": {
       "layout": "IPY_MODEL_591351e11b5c4afbbb18501265561614",
       "max": 2345,
       "style": "IPY_MODEL_12bea307acc041a0bb2c67a3b8fb9317",
       "value": 2345
      }
     },
     "f938e522e5a546e6ae9eca053237e3d8": {
      "model_module": "@jupyter-widgets/base",
      "model_module_version": "1.2.0",
      "model_name": "LayoutModel",
      "state": {}
     },
     "f942b0703f6f4c0b9b73aca666f371c8": {
      "model_module": "@jupyter-widgets/controls",
      "model_module_version": "1.5.0",
      "model_name": "HTMLModel",
      "state": {
       "layout": "IPY_MODEL_e917d635c4604af08f75569ba2ebced5",
       "style": "IPY_MODEL_43982a30d81841a39f7a0bcde6124085",
       "value": "100%"
      }
     },
     "f942d95f4780482f9e17e1a3ff212e71": {
      "model_module": "@jupyter-widgets/controls",
      "model_module_version": "1.5.0",
      "model_name": "DescriptionStyleModel",
      "state": {
       "description_width": ""
      }
     },
     "f9478abee30a4e7783ac0bd2a431d3b6": {
      "model_module": "@jupyter-widgets/base",
      "model_module_version": "1.2.0",
      "model_name": "LayoutModel",
      "state": {}
     },
     "f97e42cdc3874b74a0c26af986b9fe23": {
      "model_module": "@jupyter-widgets/base",
      "model_module_version": "1.2.0",
      "model_name": "LayoutModel",
      "state": {}
     },
     "f9829c6aabf145afb895900bb14172b3": {
      "model_module": "@jupyter-widgets/base",
      "model_module_version": "1.2.0",
      "model_name": "LayoutModel",
      "state": {}
     },
     "f9fe7dd4f0464e129f447955d09afcd1": {
      "model_module": "@jupyter-widgets/base",
      "model_module_version": "1.2.0",
      "model_name": "LayoutModel",
      "state": {}
     },
     "fa169ffaa0f843df82e86c2b73a71124": {
      "model_module": "@jupyter-widgets/base",
      "model_module_version": "1.2.0",
      "model_name": "LayoutModel",
      "state": {}
     },
     "fa5291fa3de14f9b943958e3fc8fdfe0": {
      "model_module": "@jupyter-widgets/controls",
      "model_module_version": "1.5.0",
      "model_name": "DescriptionStyleModel",
      "state": {
       "description_width": ""
      }
     },
     "fa5ac4b3e7af4ec28803f8ef30781ebd": {
      "model_module": "@jupyter-widgets/controls",
      "model_module_version": "1.5.0",
      "model_name": "FloatProgressModel",
      "state": {
       "layout": "IPY_MODEL_7f0b076f73844a948ad4ace4303d0dbf",
       "max": 2345,
       "style": "IPY_MODEL_7dceba7eeba74ef5ae1397843cc07722",
       "value": 2345
      }
     },
     "fa645a1f71c74bbcba91625347e8bbf2": {
      "model_module": "@jupyter-widgets/base",
      "model_module_version": "1.2.0",
      "model_name": "LayoutModel",
      "state": {}
     },
     "fa7aa4780e4c42b89f02939ce28c0c81": {
      "model_module": "@jupyter-widgets/base",
      "model_module_version": "1.2.0",
      "model_name": "LayoutModel",
      "state": {}
     },
     "fa80a40b958e4aa0a30882268fa175bb": {
      "model_module": "@jupyter-widgets/controls",
      "model_module_version": "1.5.0",
      "model_name": "DescriptionStyleModel",
      "state": {
       "description_width": ""
      }
     },
     "fa8ec472a6804823b58b2b0242aba176": {
      "model_module": "@jupyter-widgets/controls",
      "model_module_version": "1.5.0",
      "model_name": "HTMLModel",
      "state": {
       "layout": "IPY_MODEL_bbc757a37f8140658eb8d18a10e8072d",
       "style": "IPY_MODEL_225d7a07f2d3402cb3c5606c8d44e5eb",
       "value": "100%"
      }
     },
     "facc661daf77414fa2903e952129b067": {
      "model_module": "@jupyter-widgets/controls",
      "model_module_version": "1.5.0",
      "model_name": "HTMLModel",
      "state": {
       "layout": "IPY_MODEL_17324ed63f154765977ade6192c96bba",
       "style": "IPY_MODEL_1d15c4626dc24dc0addef1cca8ade696",
       "value": " 1266/1266 [01:08&lt;00:00, 23.94it/s]"
      }
     },
     "fae6dd9cd76644b39b019e8ff6cf10bc": {
      "model_module": "@jupyter-widgets/controls",
      "model_module_version": "1.5.0",
      "model_name": "HTMLModel",
      "state": {
       "layout": "IPY_MODEL_0341f8682fed487e8bbfd50ada0f7366",
       "style": "IPY_MODEL_b393333ca5814a2eae5133100ae9a002",
       "value": "100%"
      }
     },
     "fb2f9dfe70834f0e8739eb72bb2d1ee2": {
      "model_module": "@jupyter-widgets/base",
      "model_module_version": "1.2.0",
      "model_name": "LayoutModel",
      "state": {}
     },
     "fb5161fc5ad24981bb1d658a98d1bcd0": {
      "model_module": "@jupyter-widgets/base",
      "model_module_version": "1.2.0",
      "model_name": "LayoutModel",
      "state": {}
     },
     "fb67b2c2a3124a55925e1f1ba121433f": {
      "model_module": "@jupyter-widgets/base",
      "model_module_version": "1.2.0",
      "model_name": "LayoutModel",
      "state": {}
     },
     "fbb45eeef0514770b3e819627560cf15": {
      "model_module": "@jupyter-widgets/base",
      "model_module_version": "1.2.0",
      "model_name": "LayoutModel",
      "state": {}
     },
     "fbbe721c932b42359497e9a7dba35c19": {
      "model_module": "@jupyter-widgets/controls",
      "model_module_version": "1.5.0",
      "model_name": "HBoxModel",
      "state": {
       "children": [
        "IPY_MODEL_4b1f85232fd94caf9281176987c45292",
        "IPY_MODEL_56782a1dbbf845bba1ce17cdd43a73c8",
        "IPY_MODEL_9a9bdd7bbd1f449c85e28ebdd616fad0"
       ],
       "layout": "IPY_MODEL_d60a6fbf70484621a4be53bf8ffbda66"
      }
     },
     "fbca7e7c40884b8eb62450dad0965e86": {
      "model_module": "@jupyter-widgets/base",
      "model_module_version": "1.2.0",
      "model_name": "LayoutModel",
      "state": {}
     },
     "fbfbf9e1fdb04631b173b382394a0b4e": {
      "model_module": "@jupyter-widgets/controls",
      "model_module_version": "1.5.0",
      "model_name": "DescriptionStyleModel",
      "state": {
       "description_width": ""
      }
     },
     "fc43e4a6195047529ca4a6d742e86590": {
      "model_module": "@jupyter-widgets/controls",
      "model_module_version": "1.5.0",
      "model_name": "ProgressStyleModel",
      "state": {
       "description_width": ""
      }
     },
     "fc5a08c87c8a45eb85f171c0ab3f6b89": {
      "model_module": "@jupyter-widgets/base",
      "model_module_version": "1.2.0",
      "model_name": "LayoutModel",
      "state": {}
     },
     "fc5ddca8c27049159f4e91bff14d7e6c": {
      "model_module": "@jupyter-widgets/controls",
      "model_module_version": "1.5.0",
      "model_name": "HBoxModel",
      "state": {
       "children": [
        "IPY_MODEL_f40c8b8d00fe4ea2866c1d7a20b0e32a",
        "IPY_MODEL_c613f23edce343458e6201148c6073ec",
        "IPY_MODEL_c02658e6dcf943b28b4a8f033072ca60"
       ],
       "layout": "IPY_MODEL_2e6188012867491f9657a1db6634b689"
      }
     },
     "fcadee3f834241f2a82b993a3ad7fb3a": {
      "model_module": "@jupyter-widgets/base",
      "model_module_version": "1.2.0",
      "model_name": "LayoutModel",
      "state": {}
     },
     "fd02114914e9498cab7e247279da8814": {
      "model_module": "@jupyter-widgets/base",
      "model_module_version": "1.2.0",
      "model_name": "LayoutModel",
      "state": {}
     },
     "fd0235b31eab4fff870b336b74ac8dfa": {
      "model_module": "@jupyter-widgets/controls",
      "model_module_version": "1.5.0",
      "model_name": "FloatProgressModel",
      "state": {
       "layout": "IPY_MODEL_4155588b2839484b877f64536da96835",
       "max": 1266,
       "style": "IPY_MODEL_34b4d4b3c0be46179c86694d5c491b15",
       "value": 1266
      }
     },
     "fd110b25291a4bc38916f459c4caead4": {
      "model_module": "@jupyter-widgets/controls",
      "model_module_version": "1.5.0",
      "model_name": "FloatProgressModel",
      "state": {
       "layout": "IPY_MODEL_5667582bee0f4bc5af0e4b330e6202e2",
       "max": 2345,
       "style": "IPY_MODEL_3e5e623329c64973b512caec4c6d1867",
       "value": 2345
      }
     },
     "fd3b4ff5d72c4002a0ddc000925bb125": {
      "model_module": "@jupyter-widgets/controls",
      "model_module_version": "1.5.0",
      "model_name": "HTMLModel",
      "state": {
       "layout": "IPY_MODEL_b9a39e91670d46f79f5b4b21a3fd072b",
       "style": "IPY_MODEL_38a6a9bfb6f14156b800e56d091d01b7",
       "value": " 2345/2345 [00:19&lt;00:00, 7601.73it/s]"
      }
     },
     "fd66042d6b4c4e0eafa1a2bd02c9dd63": {
      "model_module": "@jupyter-widgets/controls",
      "model_module_version": "1.5.0",
      "model_name": "HTMLModel",
      "state": {
       "layout": "IPY_MODEL_97f8c49839634488877f398827c0dc1f",
       "style": "IPY_MODEL_c8c8e20dc9f643ef97226d40948c6e64",
       "value": " 1266/1266 [01:10&lt;00:00, 24.92it/s]"
      }
     },
     "fd7b3da520ad4552ad6a365d29ac424e": {
      "model_module": "@jupyter-widgets/base",
      "model_module_version": "1.2.0",
      "model_name": "LayoutModel",
      "state": {}
     },
     "fd820c1ef9944c59af7655cbe9aeeaf0": {
      "model_module": "@jupyter-widgets/base",
      "model_module_version": "1.2.0",
      "model_name": "LayoutModel",
      "state": {}
     },
     "fdae35059959482ab05695abd3825ac7": {
      "model_module": "@jupyter-widgets/controls",
      "model_module_version": "1.5.0",
      "model_name": "HBoxModel",
      "state": {
       "children": [
        "IPY_MODEL_a9c9ffc18f85448092dc450bd6bdf401",
        "IPY_MODEL_fa5ac4b3e7af4ec28803f8ef30781ebd",
        "IPY_MODEL_160512c31879436d87b2478c0f5ead32"
       ],
       "layout": "IPY_MODEL_929734e2e36f44f2948c07460398e60e"
      }
     },
     "fdb6d327bfc94b688ab88cb14527a5f3": {
      "model_module": "@jupyter-widgets/controls",
      "model_module_version": "1.5.0",
      "model_name": "HTMLModel",
      "state": {
       "layout": "IPY_MODEL_978eca73ff6b417489719f86fc70cf05",
       "style": "IPY_MODEL_3fb6ba499bf14c558eccaf274a1776ba",
       "value": " 2345/2345 [01:43&lt;00:00, 26.07it/s]"
      }
     },
     "fe0e98334a5e42d38896774a24a9e97a": {
      "model_module": "@jupyter-widgets/controls",
      "model_module_version": "1.5.0",
      "model_name": "HTMLModel",
      "state": {
       "layout": "IPY_MODEL_153bca88e4e741c386943bf93d121582",
       "style": "IPY_MODEL_f8574716f8fc497d8a0f9466a6e4926b",
       "value": "100%"
      }
     },
     "fe20fbfbf1a344d0b51c82f6e910b1d9": {
      "model_module": "@jupyter-widgets/controls",
      "model_module_version": "1.5.0",
      "model_name": "DescriptionStyleModel",
      "state": {
       "description_width": ""
      }
     },
     "fe9dbd7218b3494f8cb70ec8e2711b06": {
      "model_module": "@jupyter-widgets/controls",
      "model_module_version": "1.5.0",
      "model_name": "ProgressStyleModel",
      "state": {
       "description_width": ""
      }
     },
     "fea2bda08fb44fd6be56359cc37f748d": {
      "model_module": "@jupyter-widgets/base",
      "model_module_version": "1.2.0",
      "model_name": "LayoutModel",
      "state": {}
     },
     "fea9059337e94c26bd91374e3a8ba2e4": {
      "model_module": "@jupyter-widgets/controls",
      "model_module_version": "1.5.0",
      "model_name": "FloatProgressModel",
      "state": {
       "layout": "IPY_MODEL_c1ec56b5e75344078bf68a1384f7f343",
       "max": 2345,
       "style": "IPY_MODEL_ccd061244abf4c3f85a6af0a766c9de3",
       "value": 2345
      }
     },
     "febe4d5062e548f9bcf165e2e6202538": {
      "model_module": "@jupyter-widgets/controls",
      "model_module_version": "1.5.0",
      "model_name": "FloatProgressModel",
      "state": {
       "layout": "IPY_MODEL_d7942f6b3fc74f7f9aebfa03fc9555a2",
       "max": 1266,
       "style": "IPY_MODEL_8e3c458519f74215b68fc97920da634a",
       "value": 1266
      }
     },
     "fee3303ea2b64cffb68f1b9f0032c477": {
      "model_module": "@jupyter-widgets/base",
      "model_module_version": "1.2.0",
      "model_name": "LayoutModel",
      "state": {}
     },
     "fee923065e3247fabd70633d7098ca62": {
      "model_module": "@jupyter-widgets/controls",
      "model_module_version": "1.5.0",
      "model_name": "HBoxModel",
      "state": {
       "children": [
        "IPY_MODEL_2cdfb48a7b454f76ad1af522c13aa13d",
        "IPY_MODEL_a167f33b7ed4491da8c77d629b519b0c",
        "IPY_MODEL_eba2af6113d145a5a0117bb5d1ff4b5b"
       ],
       "layout": "IPY_MODEL_b6f8df8f26c64008918ac1e44fb69751"
      }
     },
     "fee9d420a5af4568aa1f5f55f8621bbf": {
      "model_module": "@jupyter-widgets/controls",
      "model_module_version": "1.5.0",
      "model_name": "DescriptionStyleModel",
      "state": {
       "description_width": ""
      }
     },
     "ff2dc0de4fae4c0780b7fb0d501b9204": {
      "model_module": "@jupyter-widgets/controls",
      "model_module_version": "1.5.0",
      "model_name": "HBoxModel",
      "state": {
       "children": [
        "IPY_MODEL_407d82eeb54b44878ce02995a3068a77",
        "IPY_MODEL_d1d57d1e54fb44829b9a6514a9dff660",
        "IPY_MODEL_57b35689a1c04d33ac1cdea9fffd519f"
       ],
       "layout": "IPY_MODEL_8d8c347f32b348d1974f0409a6472b76"
      }
     },
     "ff5b61d6035d4a7094033edc85c64d38": {
      "model_module": "@jupyter-widgets/controls",
      "model_module_version": "1.5.0",
      "model_name": "FloatProgressModel",
      "state": {
       "layout": "IPY_MODEL_f9fe7dd4f0464e129f447955d09afcd1",
       "max": 10,
       "style": "IPY_MODEL_c9a0404fcb394f88bd29abdb35e38103"
      }
     },
     "ffb25b51104741c9bc64a92c32eee548": {
      "model_module": "@jupyter-widgets/controls",
      "model_module_version": "1.5.0",
      "model_name": "FloatProgressModel",
      "state": {
       "layout": "IPY_MODEL_3aea4b1fd51d4ce08ab85beea6fef756",
       "max": 2345,
       "style": "IPY_MODEL_1705cb29aff540e7886a3876844ac458",
       "value": 2345
      }
     },
     "ffb97e76c23d41ffa157013d80e34f6b": {
      "model_module": "@jupyter-widgets/controls",
      "model_module_version": "1.5.0",
      "model_name": "HTMLModel",
      "state": {
       "layout": "IPY_MODEL_c57d9e666a0b4b2fa7e4c1ea2de16840",
       "style": "IPY_MODEL_a3542f80118f4a61bcdd2e69d060eab2",
       "value": "100%"
      }
     },
     "ffbb71891ea5404ea779581e6e45abc4": {
      "model_module": "@jupyter-widgets/controls",
      "model_module_version": "1.5.0",
      "model_name": "DescriptionStyleModel",
      "state": {
       "description_width": ""
      }
     },
     "ffc62026069e49709394ee9584647c77": {
      "model_module": "@jupyter-widgets/controls",
      "model_module_version": "1.5.0",
      "model_name": "ProgressStyleModel",
      "state": {
       "description_width": ""
      }
     },
     "ffd16114b5154510bdd75ebe48459e96": {
      "model_module": "@jupyter-widgets/controls",
      "model_module_version": "1.5.0",
      "model_name": "ProgressStyleModel",
      "state": {
       "description_width": ""
      }
     },
     "ffe5c9c50b304807a00e9975db2d7e0d": {
      "model_module": "@jupyter-widgets/controls",
      "model_module_version": "1.5.0",
      "model_name": "DescriptionStyleModel",
      "state": {
       "description_width": ""
      }
     },
     "ffe9ac24a6c34c34b7ebb03bade453b6": {
      "model_module": "@jupyter-widgets/base",
      "model_module_version": "1.2.0",
      "model_name": "LayoutModel",
      "state": {}
     }
    },
    "version_major": 2,
    "version_minor": 0
   }
  }
 },
 "nbformat": 4,
 "nbformat_minor": 5
}
