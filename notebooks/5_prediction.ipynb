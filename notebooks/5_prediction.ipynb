{
 "cells": [
  {
   "cell_type": "markdown",
   "id": "ebf8998f-ade0-4033-9fd0-52811fdabe84",
   "metadata": {},
   "source": [
    "# Predicting Cattle Weight"
   ]
  },
  {
   "cell_type": "code",
   "execution_count": null,
   "id": "0c4c1cb4-5568-44ca-a4f7-4ebb5a859b67",
   "metadata": {},
   "outputs": [],
   "source": [
    "from tensorflow.keras.applications.resnet50 import ResNet50\n",
    "from tensorflow.keras.preprocessing import image\n",
    "from tensorflow.keras import layers\n",
    "import keras\n",
    "import tensorflow as tf\n",
    "from tensorflow.keras.applications.resnet50 import preprocess_input, decode_predictions\n",
    "import numpy as np\n",
    "import os\n",
    "from PIL import Image\n",
    "import tqdm\n",
    "import pandas as pd\n",
    "import json\n",
    "from yolo import Predictor\n",
    "import time"
   ]
  },
  {
   "cell_type": "code",
   "execution_count": null,
   "id": "7d68af1d-83b0-4f39-9e07-6d8dd6f16bed",
   "metadata": {},
   "outputs": [],
   "source": [
    "DATABASE_LOCATION = 'C:/Users/derek/Documents/cattle_data'\n",
    "INPUT_PATH = DATABASE_LOCATION+'/training'\n",
    "DATASET = 'training.json'"
   ]
  },
  {
   "cell_type": "markdown",
   "id": "00cb45c3-a98b-46ee-a0c6-64985222baff",
   "metadata": {},
   "source": [
    "## Load Things"
   ]
  },
  {
   "cell_type": "markdown",
   "id": "72f2d4ba-dd28-461d-8871-a8ee4479a397",
   "metadata": {},
   "source": [
    "### Load Models"
   ]
  },
  {
   "cell_type": "code",
   "execution_count": null,
   "id": "80ea607b-a438-4600-a10a-b87946ea0063",
   "metadata": {},
   "outputs": [],
   "source": [
    "model = keras.models.load_model(DATABASE_LOCATION+\"/models/exceptionet_best_model\")\n",
    "object_detector = Predictor('C:/users/derek/Documents/nets/yolov3.weights', obj_thresh=0.01)"
   ]
  },
  {
   "cell_type": "markdown",
   "id": "289fa86d-355e-4201-a98f-8c7622dccdd4",
   "metadata": {},
   "source": [
    "### Load Data"
   ]
  },
  {
   "cell_type": "code",
   "execution_count": null,
   "id": "611310b0-66c5-4922-9a37-f420f629540c",
   "metadata": {},
   "outputs": [],
   "source": [
    "f_names = []\n",
    "\n",
    "if COMBINE_DATA_FILES:\n",
    "    f_names = []\n",
    "    for name in os.listdir(DATABASE_LOCATION):\n",
    "        if name.endswith('.json'):\n",
    "            f_names.append(name)\n",
    "else:\n",
    "    f_names.append(DATASET) \n",
    "\n",
    "frame = []\n",
    "#load the dataset\n",
    "with open(os.path.join(DATABASE_LOCATION, f_names.pop()), 'r') as file:\n",
    "        frame = json.load(file)\n",
    "\n",
    "# add any other datasets in the folder\n",
    "for name in f_names:\n",
    "    with open(os.path.join(DATABASE_LOCATION, name), 'r') as file:\n",
    "        frame.extend(json.load(file))\n",
    "\n",
    "df = pd.DataFrame(frame)\n",
    "    \n",
    "print('Found {} files.'.format(len(f_names)))\n",
    "print('Loaded {} datapoints!'.format(len(df)))"
   ]
  },
  {
   "cell_type": "code",
   "execution_count": null,
   "id": "9f0133e6-0946-401f-a8ad-f1962de4f93d",
   "metadata": {},
   "outputs": [],
   "source": []
  },
  {
   "cell_type": "markdown",
   "id": "c55ab936-51e6-4751-b587-4a3225219eb3",
   "metadata": {},
   "source": [
    "The dataframe needs image paths so we can use the `flow_from_dataframe` function from keras. Lets create a dataframe that includes this format. Once again, we can combine the data into a single column since we will use the side and end views for the same purpose. "
   ]
  },
  {
   "cell_type": "markdown",
   "id": "fb7b5dc9-ce6d-497a-8607-894c8c12170d",
   "metadata": {},
   "source": [
    "For this first training process, both the side views and end views will be used in the same manner for training the dataset. We will get all the paths and preprocess the images to be the same size. "
   ]
  },
  {
   "cell_type": "code",
   "execution_count": 11,
   "id": "cfdc7d5c-d603-451d-8e91-0c10fa53bdc7",
   "metadata": {},
   "outputs": [],
   "source": [
    "\n",
    "side_df = df.drop(columns='end_id')\n",
    "end_df = df.drop(columns='side_id')\n",
    "\n",
    "# create training dataframe out of the two subframes\n",
    "training_df = pd.concat([side_df, end_df], axis=0, ignore_index=True)\n",
    "\n",
    "# define function for generating filename column\n",
    "def create_filename(d):\n",
    "    \n",
    "    fnames = []\n",
    "    \n",
    "    for i in range(len(d)):\n",
    "        \n",
    "        # check if the side_id column is nan\n",
    "        # for some reason the isna() function would not work here so checking the type is a work around\n",
    "        if type(d.iloc[i].side_id) == float:\n",
    "            \n",
    "            # add path name to column where the image name includes 'end'\n",
    "            fnames.append(os.path.join(INPUT_PATH, 'img', 'end_{}.png'.format(d.iloc[i].end_id)))\n",
    "        \n",
    "        else:\n",
    "            \n",
    "            # add path name to the filname column where name includes 'side'\n",
    "            fnames.append(os.path.join(INPUT_PATH, 'img', 'side_{}.png'.format(d.iloc[i].side_id)))\n",
    "        \n",
    "    return pd.Series(fnames)\n",
    "\n",
    "\n",
    "# excecute the function on the dataset\n",
    "training_df['filename'] = create_filename(training_df)\n",
    "\n",
    "# drop the extraneous columns\n",
    "#train_df.drop(columns=['end_id', 'side_id'], inplace=True)"
   ]
  },
  {
   "cell_type": "code",
   "execution_count": 12,
   "id": "061c4ec0-6bb0-4b03-a2ec-9d752ce454b1",
   "metadata": {},
   "outputs": [
    {
     "data": {
      "text/html": [
       "<div>\n",
       "<style scoped>\n",
       "    .dataframe tbody tr th:only-of-type {\n",
       "        vertical-align: middle;\n",
       "    }\n",
       "\n",
       "    .dataframe tbody tr th {\n",
       "        vertical-align: top;\n",
       "    }\n",
       "\n",
       "    .dataframe thead th {\n",
       "        text-align: right;\n",
       "    }\n",
       "</style>\n",
       "<table border=\"1\" class=\"dataframe\">\n",
       "  <thead>\n",
       "    <tr style=\"text-align: right;\">\n",
       "      <th></th>\n",
       "      <th>weight</th>\n",
       "      <th>side_id</th>\n",
       "      <th>end_id</th>\n",
       "      <th>filename</th>\n",
       "    </tr>\n",
       "  </thead>\n",
       "  <tbody>\n",
       "    <tr>\n",
       "      <th>6240</th>\n",
       "      <td>1260.0</td>\n",
       "      <td>80715</td>\n",
       "      <td>NaN</td>\n",
       "      <td>C:/Users/derek/Documents/cattle_data/refined\\i...</td>\n",
       "    </tr>\n",
       "    <tr>\n",
       "      <th>6241</th>\n",
       "      <td>2195.0</td>\n",
       "      <td>81352</td>\n",
       "      <td>NaN</td>\n",
       "      <td>C:/Users/derek/Documents/cattle_data/refined\\i...</td>\n",
       "    </tr>\n",
       "    <tr>\n",
       "      <th>6242</th>\n",
       "      <td>1210.0</td>\n",
       "      <td>80308</td>\n",
       "      <td>NaN</td>\n",
       "      <td>C:/Users/derek/Documents/cattle_data/refined\\i...</td>\n",
       "    </tr>\n",
       "    <tr>\n",
       "      <th>6243</th>\n",
       "      <td>725.0</td>\n",
       "      <td>NaN</td>\n",
       "      <td>25152</td>\n",
       "      <td>C:/Users/derek/Documents/cattle_data/refined\\i...</td>\n",
       "    </tr>\n",
       "    <tr>\n",
       "      <th>6244</th>\n",
       "      <td>725.0</td>\n",
       "      <td>NaN</td>\n",
       "      <td>24184</td>\n",
       "      <td>C:/Users/derek/Documents/cattle_data/refined\\i...</td>\n",
       "    </tr>\n",
       "  </tbody>\n",
       "</table>\n",
       "</div>"
      ],
      "text/plain": [
       "      weight side_id end_id                                           filename\n",
       "6240  1260.0   80715    NaN  C:/Users/derek/Documents/cattle_data/refined\\i...\n",
       "6241  2195.0   81352    NaN  C:/Users/derek/Documents/cattle_data/refined\\i...\n",
       "6242  1210.0   80308    NaN  C:/Users/derek/Documents/cattle_data/refined\\i...\n",
       "6243   725.0     NaN  25152  C:/Users/derek/Documents/cattle_data/refined\\i...\n",
       "6244   725.0     NaN  24184  C:/Users/derek/Documents/cattle_data/refined\\i..."
      ]
     },
     "execution_count": 12,
     "metadata": {},
     "output_type": "execute_result"
    }
   ],
   "source": [
    "# look at the set where it changes from side to end\n",
    "training_df[6240:6245]"
   ]
  },
  {
   "cell_type": "markdown",
   "id": "b26f9a02-0bcd-4ed0-8093-c0ecf86e8eec",
   "metadata": {},
   "source": [
    "## Prediction Code"
   ]
  },
  {
   "cell_type": "code",
   "execution_count": null,
   "id": "dc168d2b-d8d4-44fe-af28-a017783f19d9",
   "metadata": {},
   "outputs": [],
   "source": [
    "# Add padding to image \n",
    "# Function taken from:\n",
    "# https://note.nkmk.me/en/python-pillow-add-margin-expand-canvas/\n",
    "def expand2square(pil_img, background_color):\n",
    "    width, height = pil_img.size\n",
    "    if width == height:\n",
    "        return pil_img\n",
    "    elif width > height:\n",
    "        result = Image.new(pil_img.mode, (width, width), background_color)\n",
    "        result.paste(pil_img, (0, (width - height) // 2))\n",
    "        return result\n",
    "    else:\n",
    "        result = Image.new(pil_img.mode, (height, height), background_color)\n",
    "        result.paste(pil_img, ((height - width) // 2, 0))\n",
    "        return result"
   ]
  },
  {
   "cell_type": "code",
   "execution_count": null,
   "id": "054d7672-4b8c-4937-80aa-80b3d0f12fe0",
   "metadata": {},
   "outputs": [],
   "source": [
    "def draw_boxes(image, predictions):\n",
    "    \n",
    "    images = tf.image.draw_bounding_boxes(images, boxes, colors, name=None)\n",
    "    \n",
    "    color = (255, 0, 25)\n",
    "    \n",
    "    for pred in predictions:\n",
    "        cv2.rect(image,  (pred['Box']['x'], pred['Box']['y']), (color))"
   ]
  },
  {
   "cell_type": "code",
   "execution_count": null,
   "id": "19ce8358-314e-482c-a428-46a4414721c5",
   "metadata": {},
   "outputs": [],
   "source": [
    "def get_regions_from_df(d):\n",
    "    pred = d.prediction\n",
    "    XPAD = 10\n",
    "    YPAD = 20\n",
    "    \n",
    "    img = []\n",
    "    \n",
    "    for n in range(len(pred)):\n",
    "\n",
    "        if type(pred) == pd.core.frame.DataFrame:\n",
    "            pred = pred.iloc[n]\n",
    "\n",
    "        # Load the image \n",
    "        im = cv2.imread('{}/{}/im_{}.png'.format(INPUT_PATH, d.auction, d.img_id))\n",
    "\n",
    "        # crop the image \n",
    "        im = cv2.cvtColor(im, cv2.COLOR_BGR2GRAY)\n",
    "        im = im[max(pred['Box']['x'][1] - YPAD*2, 0): min(pred['Box']['y'][1] + YPAD, im.shape[0]), \n",
    "                                     max(pred['Box']['x'][0] - XPAD*4, 0): min(pred['Box']['y'][0] + XPAD, im.shape[1])]\n",
    "        \n",
    "        img.append(expand2square(im, (0,0,0)))\n",
    "        \n",
    "    \n",
    "    return img"
   ]
  },
  {
   "cell_type": "code",
   "execution_count": null,
   "id": "9e46f76b-589c-4112-80f3-740c2e2becf7",
   "metadata": {},
   "outputs": [],
   "source": [
    "def get_regions_from_image(image):\n",
    "    \n",
    "    XPAD = 10\n",
    "    YPAD = 20\n",
    "    \n",
    "    pred = object_detector.predict_cow_info(image=image)\n",
    "    \n",
    "    img = []\n",
    "    \n",
    "    for n in range(len(pred)):\n",
    "\n",
    "        # get a single prediction\n",
    "        p = pred[n]\n",
    "\n",
    "        # crop the image \n",
    "        im = cv2.cvtColor(image, cv2.COLOR_BGR2GRAY)\n",
    "        im = im[max(pred['Box']['x'][1] - YPAD*2, 0): min(pred['Box']['y'][1] + YPAD, im.shape[0]), \n",
    "                                     max(pred['Box']['x'][0] - XPAD*4, 0): min(pred['Box']['y'][0] + XPAD, im.shape[1])]\n",
    "        \n",
    "        img.append(expand2square(im, (0,0,0)))\n",
    "        \n",
    "    return img"
   ]
  },
  {
   "cell_type": "code",
   "execution_count": null,
   "id": "88a401de-af24-42d1-bf33-243cafd06ca2",
   "metadata": {},
   "outputs": [],
   "source": [
    "def predict(model, image, jitter=False):\n",
    "    \n",
    "    \n",
    "    "
   ]
  },
  {
   "cell_type": "markdown",
   "id": "e7b4b85a-fd25-4781-a9a4-0c8efb888198",
   "metadata": {},
   "source": [
    "### See the results"
   ]
  },
  {
   "cell_type": "code",
   "execution_count": null,
   "id": "498f5960-bedb-484e-9414-f0bd9869347e",
   "metadata": {},
   "outputs": [],
   "source": []
  }
 ],
 "metadata": {
  "kernelspec": {
   "display_name": "cattle_env",
   "language": "python",
   "name": "cattle_env"
  },
  "language_info": {
   "codemirror_mode": {
    "name": "ipython",
    "version": 3
   },
   "file_extension": ".py",
   "mimetype": "text/x-python",
   "name": "python",
   "nbconvert_exporter": "python",
   "pygments_lexer": "ipython3",
   "version": "3.8.8"
  },
  "widgets": {
   "application/vnd.jupyter.widget-state+json": {
    "state": {},
    "version_major": 2,
    "version_minor": 0
   }
  }
 },
 "nbformat": 4,
 "nbformat_minor": 5
}
