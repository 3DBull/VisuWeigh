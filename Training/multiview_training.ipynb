{
 "cells": [
  {
   "cell_type": "markdown",
   "id": "167f55b0-c31c-4b42-9892-99c86c75ce7c",
   "metadata": {},
   "source": [
    "# Multiview Training\n",
    "This code will produce a model that can take two views of the cow and hopfully achieve a better predication. "
   ]
  },
  {
   "cell_type": "code",
   "execution_count": 65,
   "id": "517aba15-130a-4196-905d-8aff29a80b00",
   "metadata": {},
   "outputs": [],
   "source": [
    "from tensorflow.keras.preprocessing import image\n",
    "from tensorflow.keras import layers\n",
    "import keras\n",
    "import tensorflow as tf\n",
    "import numpy as np\n",
    "import os\n",
    "from PIL import Image\n",
    "from tqdm.notebook import tqdm\n",
    "import keract\n",
    "from matplotlib import pyplot as plt\n",
    "import cv2"
   ]
  },
  {
   "cell_type": "code",
   "execution_count": 36,
   "id": "474d23a9-9091-4f18-9d6f-a3161fddc6cf",
   "metadata": {},
   "outputs": [],
   "source": [
    "DATABASE_LOCATION = 'C:/Users/derek/Documents/cattle_data'\n",
    "INPUT_PATH = DATABASE_LOCATION+'/training'\n",
    "DATASET = 'two_view_training.json'"
   ]
  },
  {
   "cell_type": "markdown",
   "id": "dc46ebcf-330d-4f01-92c8-8e7e4a8cd9ab",
   "metadata": {},
   "source": [
    "## Load Data"
   ]
  },
  {
   "cell_type": "code",
   "execution_count": 42,
   "id": "0b5f374d-5859-44cb-8366-de5a39d3125b",
   "metadata": {},
   "outputs": [
    {
     "name": "stdout",
     "output_type": "stream",
     "text": [
      "19725\n"
     ]
    },
    {
     "data": {
      "text/html": [
       "<div>\n",
       "<style scoped>\n",
       "    .dataframe tbody tr th:only-of-type {\n",
       "        vertical-align: middle;\n",
       "    }\n",
       "\n",
       "    .dataframe tbody tr th {\n",
       "        vertical-align: top;\n",
       "    }\n",
       "\n",
       "    .dataframe thead th {\n",
       "        text-align: right;\n",
       "    }\n",
       "</style>\n",
       "<table border=\"1\" class=\"dataframe\">\n",
       "  <thead>\n",
       "    <tr style=\"text-align: right;\">\n",
       "      <th></th>\n",
       "      <th>date</th>\n",
       "      <th>weight</th>\n",
       "      <th>side_id</th>\n",
       "      <th>end_id</th>\n",
       "      <th>side_path</th>\n",
       "      <th>end_path</th>\n",
       "    </tr>\n",
       "  </thead>\n",
       "  <tbody>\n",
       "    <tr>\n",
       "      <th>0</th>\n",
       "      <td>2021-11-30</td>\n",
       "      <td>565</td>\n",
       "      <td>126454</td>\n",
       "      <td>126452</td>\n",
       "      <td>C:/Users/derek/Documents/cattle_data/training/...</td>\n",
       "      <td>C:/Users/derek/Documents/cattle_data/training/...</td>\n",
       "    </tr>\n",
       "    <tr>\n",
       "      <th>1</th>\n",
       "      <td>2021-11-30</td>\n",
       "      <td>565</td>\n",
       "      <td>126463</td>\n",
       "      <td>126451</td>\n",
       "      <td>C:/Users/derek/Documents/cattle_data/training/...</td>\n",
       "      <td>C:/Users/derek/Documents/cattle_data/training/...</td>\n",
       "    </tr>\n",
       "    <tr>\n",
       "      <th>2</th>\n",
       "      <td>2021-11-30</td>\n",
       "      <td>565</td>\n",
       "      <td>126453</td>\n",
       "      <td>126461</td>\n",
       "      <td>C:/Users/derek/Documents/cattle_data/training/...</td>\n",
       "      <td>C:/Users/derek/Documents/cattle_data/training/...</td>\n",
       "    </tr>\n",
       "    <tr>\n",
       "      <th>3</th>\n",
       "      <td>2021-11-30</td>\n",
       "      <td>565</td>\n",
       "      <td>126460</td>\n",
       "      <td>126462</td>\n",
       "      <td>C:/Users/derek/Documents/cattle_data/training/...</td>\n",
       "      <td>C:/Users/derek/Documents/cattle_data/training/...</td>\n",
       "    </tr>\n",
       "    <tr>\n",
       "      <th>4</th>\n",
       "      <td>2021-11-30</td>\n",
       "      <td>565</td>\n",
       "      <td>126449</td>\n",
       "      <td>126464</td>\n",
       "      <td>C:/Users/derek/Documents/cattle_data/training/...</td>\n",
       "      <td>C:/Users/derek/Documents/cattle_data/training/...</td>\n",
       "    </tr>\n",
       "  </tbody>\n",
       "</table>\n",
       "</div>"
      ],
      "text/plain": [
       "        date  weight  side_id  end_id  \\\n",
       "0 2021-11-30     565   126454  126452   \n",
       "1 2021-11-30     565   126463  126451   \n",
       "2 2021-11-30     565   126453  126461   \n",
       "3 2021-11-30     565   126460  126462   \n",
       "4 2021-11-30     565   126449  126464   \n",
       "\n",
       "                                           side_path  \\\n",
       "0  C:/Users/derek/Documents/cattle_data/training/...   \n",
       "1  C:/Users/derek/Documents/cattle_data/training/...   \n",
       "2  C:/Users/derek/Documents/cattle_data/training/...   \n",
       "3  C:/Users/derek/Documents/cattle_data/training/...   \n",
       "4  C:/Users/derek/Documents/cattle_data/training/...   \n",
       "\n",
       "                                            end_path  \n",
       "0  C:/Users/derek/Documents/cattle_data/training/...  \n",
       "1  C:/Users/derek/Documents/cattle_data/training/...  \n",
       "2  C:/Users/derek/Documents/cattle_data/training/...  \n",
       "3  C:/Users/derek/Documents/cattle_data/training/...  \n",
       "4  C:/Users/derek/Documents/cattle_data/training/...  "
      ]
     },
     "execution_count": 42,
     "metadata": {},
     "output_type": "execute_result"
    }
   ],
   "source": [
    "# load training data\n",
    "import pandas as pd\n",
    "df = pd.read_json(os.path.join(INPUT_PATH, DATASET))\n",
    "print(len(df))\n",
    "df.head()"
   ]
  },
  {
   "cell_type": "code",
   "execution_count": 43,
   "id": "b3b7b709-e66b-4204-a2e6-58aedf974387",
   "metadata": {},
   "outputs": [],
   "source": [
    "# Add padding to image \n",
    "# Function taken from:\n",
    "# https://note.nkmk.me/en/python-pillow-add-margin-expand-canvas/\n",
    "def expand2square(pil_img, background_color):\n",
    "    width, height = pil_img.size\n",
    "    if width == height:\n",
    "        return pil_img\n",
    "    elif width > height:\n",
    "        result = Image.new(pil_img.mode, (width, width), background_color)\n",
    "        result.paste(pil_img, (0, (width - height) // 2))\n",
    "        return result\n",
    "    else:\n",
    "        result = Image.new(pil_img.mode, (height, height), background_color)\n",
    "        result.paste(pil_img, ((height - width) // 2, 0))\n",
    "        return result"
   ]
  },
  {
   "cell_type": "code",
   "execution_count": 45,
   "id": "ab35f230-4c2f-4a7f-b38f-659c71325e9f",
   "metadata": {},
   "outputs": [
    {
     "name": "stdout",
     "output_type": "stream",
     "text": [
      "38397\n",
      "C:/Users/derek/Documents/cattle_data/training\\two_views\\end_100477.png\n"
     ]
    }
   ],
   "source": [
    "# get paths to all images\n",
    "paths = []\n",
    "\n",
    "# add paths\n",
    "for p in os.listdir(os.path.join(INPUT_PATH, 'two_views')):\n",
    "    paths.append(os.path.join(INPUT_PATH, 'two_views', p))\n",
    "    \n",
    "print(len(paths))\n",
    "print(paths[0])"
   ]
  },
  {
   "cell_type": "code",
   "execution_count": 46,
   "id": "5c422921-0c37-4557-baa0-7d00f3d3827b",
   "metadata": {},
   "outputs": [
    {
     "data": {
      "application/vnd.jupyter.widget-view+json": {
       "model_id": "764daf22216d4af0953e3e477d96dcc6",
       "version_major": 2,
       "version_minor": 0
      },
      "text/plain": [
       "  0%|          | 0/38397 [00:00<?, ?it/s]"
      ]
     },
     "metadata": {},
     "output_type": "display_data"
    }
   ],
   "source": [
    "# preprocess entire dataset\n",
    "pbar = tqdm(total=len(paths))\n",
    "\n",
    "for path in paths:\n",
    "    \n",
    "    img = Image.open(path)\n",
    "    img = expand2square(img, (0)).resize((224,224))\n",
    "    img.save(path)\n",
    "    pbar.update(1)"
   ]
  },
  {
   "cell_type": "code",
   "execution_count": 47,
   "id": "99392330-63e0-42bc-ba95-31805e09dc89",
   "metadata": {},
   "outputs": [],
   "source": [
    "# trim the data to a constrained weight range \n",
    "df_trim = df[(df.weight > 400) & (df.weight < 1450)]"
   ]
  },
  {
   "cell_type": "code",
   "execution_count": 48,
   "id": "ad34f0ac-8d51-4b15-a178-bc5183286773",
   "metadata": {},
   "outputs": [],
   "source": [
    "# reserve recent data for evaluation\n",
    "# last reserve from 2022-01-22\n",
    "cuttoff = '2022-02-13'\n",
    "eval_df = df_trim[df_trim.date > cuttoff].copy()\n",
    "training_df = df_trim[df_trim.date < cuttoff].copy()"
   ]
  },
  {
   "cell_type": "code",
   "execution_count": 51,
   "id": "121c194b-78c3-4e86-98aa-0a720f56f808",
   "metadata": {},
   "outputs": [
    {
     "data": {
      "text/plain": [
       "2941"
      ]
     },
     "execution_count": 51,
     "metadata": {},
     "output_type": "execute_result"
    }
   ],
   "source": [
    "len(eval_df)"
   ]
  },
  {
   "cell_type": "code",
   "execution_count": 49,
   "id": "ca2a327b-cbb4-430b-8043-8cf49bde6739",
   "metadata": {},
   "outputs": [],
   "source": [
    "# split the training data into training and testing\n",
    "def train_test_split(d, frac=0.2):\n",
    "    test = d.sample(frac=frac, axis=0)\n",
    "    train = d.drop(index=test.index).sample(frac=1, axis=0)\n",
    "    return train, test"
   ]
  },
  {
   "cell_type": "code",
   "execution_count": 50,
   "id": "3966b188-b680-4e99-8b5e-3c159cf9d398",
   "metadata": {},
   "outputs": [],
   "source": [
    "train_df, test_df = train_test_split(training_df)"
   ]
  },
  {
   "cell_type": "code",
   "execution_count": 63,
   "id": "de76cece-07a6-4d10-b05f-f529305d94ad",
   "metadata": {},
   "outputs": [],
   "source": [
    "def create_gen(model_input_shape, color='grayscale'):\n",
    "    \n",
    "    train_datagen = image.ImageDataGenerator(\n",
    "            rescale=1./255,\n",
    "            #shear_range=0.2,\n",
    "            zoom_range=0.1,\n",
    "            horizontal_flip=True\n",
    "            )\n",
    "\n",
    "    test_datagen = image.ImageDataGenerator(rescale=1./255)\n",
    "\n",
    "    \n",
    "    train_side_generator = train_datagen.flow_from_dataframe(\n",
    "            dataframe=train_df,\n",
    "            directory=os.path.join(INPUT_PATH, 'img'),\n",
    "            x_col=('side_path', 'end_path'),\n",
    "            y_col='weight',\n",
    "            target_size=model_input_shape,\n",
    "            batch_size=128,\n",
    "            class_mode='raw',\n",
    "            color_mode=color,\n",
    "            )\n",
    " \n",
    "    validation_side_generator = test_datagen.flow_from_dataframe(\n",
    "            dataframe=test_df,\n",
    "            directory=os.path.join(INPUT_PATH, 'img'),\n",
    "            x_col=('side_path', 'end_path'),\n",
    "            y_col='weight',\n",
    "            target_size=model_input_shape,\n",
    "            batch_size=128,\n",
    "            class_mode='raw',\n",
    "            color_mode=color,\n",
    "            )\n",
    "\n",
    "    return train_side_generator, train_end_generator, validation_side_generator, validation_end_generator"
   ]
  },
  {
   "cell_type": "code",
   "execution_count": null,
   "id": "9b296532-df91-4100-887f-00a913e6cb63",
   "metadata": {},
   "outputs": [],
   "source": [
    "def augment(images, horizantal_flip=True, zoom_range=0.1):\n",
    "    if horizantal_flip:\n",
    "        images = np.flip(images, axis=1)\n",
    "        \n",
    "    "
   ]
  },
  {
   "cell_type": "code",
   "execution_count": null,
   "id": "dabfcdc9-d0ed-4486-abb6-f1b46d5984bb",
   "metadata": {},
   "outputs": [],
   "source": [
    "def flow_from_frame()"
   ]
  },
  {
   "cell_type": "code",
   "execution_count": null,
   "id": "9d623d17-aba4-42b1-9cab-ed18044d697b",
   "metadata": {},
   "outputs": [],
   "source": [
    "class Generator():\n",
    "    \"\"\"\n",
    "    A Custom image data generator to supply two image inputs to a model.\n",
    "    The images flow from a dataframe path. \n",
    "    \"\"\"\n",
    "    def __init__(self, model_input_shape, color='grayscale'):\n",
    "        \n",
    "        \n",
    "        \n",
    "    def flow_from_frame(d, x_col, y_col, )\n",
    "    "
   ]
  },
  {
   "cell_type": "code",
   "execution_count": 64,
   "id": "9776a5aa-0e09-4ae5-8793-1e2d0008246e",
   "metadata": {
    "collapsed": true,
    "jupyter": {
     "outputs_hidden": true
    },
    "tags": []
   },
   "outputs": [
    {
     "ename": "KeyError",
     "evalue": "('side_path', 'end_path')",
     "output_type": "error",
     "traceback": [
      "\u001b[1;31m---------------------------------------------------------------------------\u001b[0m",
      "\u001b[1;31mKeyError\u001b[0m                                  Traceback (most recent call last)",
      "\u001b[1;32m~\\anaconda3\\lib\\site-packages\\pandas\\core\\indexes\\base.py\u001b[0m in \u001b[0;36mget_loc\u001b[1;34m(self, key, method, tolerance)\u001b[0m\n\u001b[0;32m   3079\u001b[0m             \u001b[1;32mtry\u001b[0m\u001b[1;33m:\u001b[0m\u001b[1;33m\u001b[0m\u001b[1;33m\u001b[0m\u001b[0m\n\u001b[1;32m-> 3080\u001b[1;33m                 \u001b[1;32mreturn\u001b[0m \u001b[0mself\u001b[0m\u001b[1;33m.\u001b[0m\u001b[0m_engine\u001b[0m\u001b[1;33m.\u001b[0m\u001b[0mget_loc\u001b[0m\u001b[1;33m(\u001b[0m\u001b[0mcasted_key\u001b[0m\u001b[1;33m)\u001b[0m\u001b[1;33m\u001b[0m\u001b[1;33m\u001b[0m\u001b[0m\n\u001b[0m\u001b[0;32m   3081\u001b[0m             \u001b[1;32mexcept\u001b[0m \u001b[0mKeyError\u001b[0m \u001b[1;32mas\u001b[0m \u001b[0merr\u001b[0m\u001b[1;33m:\u001b[0m\u001b[1;33m\u001b[0m\u001b[1;33m\u001b[0m\u001b[0m\n",
      "\u001b[1;32mpandas\\_libs\\index.pyx\u001b[0m in \u001b[0;36mpandas._libs.index.IndexEngine.get_loc\u001b[1;34m()\u001b[0m\n",
      "\u001b[1;32mpandas\\_libs\\index.pyx\u001b[0m in \u001b[0;36mpandas._libs.index.IndexEngine.get_loc\u001b[1;34m()\u001b[0m\n",
      "\u001b[1;32mpandas\\_libs\\hashtable_class_helper.pxi\u001b[0m in \u001b[0;36mpandas._libs.hashtable.PyObjectHashTable.get_item\u001b[1;34m()\u001b[0m\n",
      "\u001b[1;32mpandas\\_libs\\hashtable_class_helper.pxi\u001b[0m in \u001b[0;36mpandas._libs.hashtable.PyObjectHashTable.get_item\u001b[1;34m()\u001b[0m\n",
      "\u001b[1;31mKeyError\u001b[0m: ('side_path', 'end_path')",
      "\nThe above exception was the direct cause of the following exception:\n",
      "\u001b[1;31mKeyError\u001b[0m                                  Traceback (most recent call last)",
      "\u001b[1;32m<ipython-input-64-21601e6a5076>\u001b[0m in \u001b[0;36m<module>\u001b[1;34m\u001b[0m\n\u001b[1;32m----> 1\u001b[1;33m \u001b[0mtrain_side_gen\u001b[0m\u001b[1;33m,\u001b[0m \u001b[0mtrain_end_gen\u001b[0m\u001b[1;33m,\u001b[0m \u001b[0mval_side_gen\u001b[0m\u001b[1;33m,\u001b[0m \u001b[0mval_end_gen\u001b[0m \u001b[1;33m=\u001b[0m \u001b[0mcreate_gen\u001b[0m\u001b[1;33m(\u001b[0m\u001b[1;33m(\u001b[0m\u001b[1;36m224\u001b[0m\u001b[1;33m,\u001b[0m\u001b[1;36m224\u001b[0m\u001b[1;33m)\u001b[0m\u001b[1;33m,\u001b[0m \u001b[0mcolor\u001b[0m\u001b[1;33m=\u001b[0m\u001b[1;34m'rgb'\u001b[0m\u001b[1;33m)\u001b[0m\u001b[1;33m\u001b[0m\u001b[1;33m\u001b[0m\u001b[0m\n\u001b[0m",
      "\u001b[1;32m<ipython-input-63-d52b01e39c11>\u001b[0m in \u001b[0;36mcreate_gen\u001b[1;34m(model_input_shape, color)\u001b[0m\n\u001b[0;32m     11\u001b[0m \u001b[1;33m\u001b[0m\u001b[0m\n\u001b[0;32m     12\u001b[0m \u001b[1;33m\u001b[0m\u001b[0m\n\u001b[1;32m---> 13\u001b[1;33m     train_side_generator = train_datagen.flow_from_dataframe(\n\u001b[0m\u001b[0;32m     14\u001b[0m             \u001b[0mdataframe\u001b[0m\u001b[1;33m=\u001b[0m\u001b[0mtrain_df\u001b[0m\u001b[1;33m,\u001b[0m\u001b[1;33m\u001b[0m\u001b[1;33m\u001b[0m\u001b[0m\n\u001b[0;32m     15\u001b[0m             \u001b[0mdirectory\u001b[0m\u001b[1;33m=\u001b[0m\u001b[0mos\u001b[0m\u001b[1;33m.\u001b[0m\u001b[0mpath\u001b[0m\u001b[1;33m.\u001b[0m\u001b[0mjoin\u001b[0m\u001b[1;33m(\u001b[0m\u001b[0mINPUT_PATH\u001b[0m\u001b[1;33m,\u001b[0m \u001b[1;34m'img'\u001b[0m\u001b[1;33m)\u001b[0m\u001b[1;33m,\u001b[0m\u001b[1;33m\u001b[0m\u001b[1;33m\u001b[0m\u001b[0m\n",
      "\u001b[1;32m~\\anaconda3\\lib\\site-packages\\keras\\preprocessing\\image.py\u001b[0m in \u001b[0;36mflow_from_dataframe\u001b[1;34m(self, dataframe, directory, x_col, y_col, weight_col, target_size, color_mode, classes, class_mode, batch_size, shuffle, seed, save_to_dir, save_prefix, save_format, subset, interpolation, validate_filenames, **kwargs)\u001b[0m\n\u001b[0;32m   1115\u001b[0m           DeprecationWarning)\n\u001b[0;32m   1116\u001b[0m \u001b[1;33m\u001b[0m\u001b[0m\n\u001b[1;32m-> 1117\u001b[1;33m     return DataFrameIterator(\n\u001b[0m\u001b[0;32m   1118\u001b[0m         \u001b[0mdataframe\u001b[0m\u001b[1;33m,\u001b[0m\u001b[1;33m\u001b[0m\u001b[1;33m\u001b[0m\u001b[0m\n\u001b[0;32m   1119\u001b[0m         \u001b[0mdirectory\u001b[0m\u001b[1;33m,\u001b[0m\u001b[1;33m\u001b[0m\u001b[1;33m\u001b[0m\u001b[0m\n",
      "\u001b[1;32m~\\anaconda3\\lib\\site-packages\\keras\\preprocessing\\image.py\u001b[0m in \u001b[0;36m__init__\u001b[1;34m(self, dataframe, directory, image_data_generator, x_col, y_col, weight_col, target_size, color_mode, classes, class_mode, batch_size, shuffle, seed, data_format, save_to_dir, save_prefix, save_format, subset, interpolation, dtype, validate_filenames)\u001b[0m\n\u001b[0;32m    569\u001b[0m       \u001b[0mdtype\u001b[0m\u001b[1;33m=\u001b[0m\u001b[1;34m'float32'\u001b[0m\u001b[1;33m,\u001b[0m\u001b[1;33m\u001b[0m\u001b[1;33m\u001b[0m\u001b[0m\n\u001b[0;32m    570\u001b[0m       validate_filenames=True):\n\u001b[1;32m--> 571\u001b[1;33m     super(DataFrameIterator, self).__init__(\n\u001b[0m\u001b[0;32m    572\u001b[0m         \u001b[0mdataframe\u001b[0m\u001b[1;33m=\u001b[0m\u001b[0mdataframe\u001b[0m\u001b[1;33m,\u001b[0m\u001b[1;33m\u001b[0m\u001b[1;33m\u001b[0m\u001b[0m\n\u001b[0;32m    573\u001b[0m         \u001b[0mdirectory\u001b[0m\u001b[1;33m=\u001b[0m\u001b[0mdirectory\u001b[0m\u001b[1;33m,\u001b[0m\u001b[1;33m\u001b[0m\u001b[1;33m\u001b[0m\u001b[0m\n",
      "\u001b[1;32m~\\anaconda3\\lib\\site-packages\\keras_preprocessing\\image\\dataframe_iterator.py\u001b[0m in \u001b[0;36m__init__\u001b[1;34m(self, dataframe, directory, image_data_generator, x_col, y_col, weight_col, target_size, color_mode, classes, class_mode, batch_size, shuffle, seed, data_format, save_to_dir, save_prefix, save_format, subset, interpolation, dtype, validate_filenames)\u001b[0m\n\u001b[0;32m    136\u001b[0m         \u001b[0mself\u001b[0m\u001b[1;33m.\u001b[0m\u001b[0mdtype\u001b[0m \u001b[1;33m=\u001b[0m \u001b[0mdtype\u001b[0m\u001b[1;33m\u001b[0m\u001b[1;33m\u001b[0m\u001b[0m\n\u001b[0;32m    137\u001b[0m         \u001b[1;31m# check that inputs match the required class_mode\u001b[0m\u001b[1;33m\u001b[0m\u001b[1;33m\u001b[0m\u001b[1;33m\u001b[0m\u001b[0m\n\u001b[1;32m--> 138\u001b[1;33m         \u001b[0mself\u001b[0m\u001b[1;33m.\u001b[0m\u001b[0m_check_params\u001b[0m\u001b[1;33m(\u001b[0m\u001b[0mdf\u001b[0m\u001b[1;33m,\u001b[0m \u001b[0mx_col\u001b[0m\u001b[1;33m,\u001b[0m \u001b[0my_col\u001b[0m\u001b[1;33m,\u001b[0m \u001b[0mweight_col\u001b[0m\u001b[1;33m,\u001b[0m \u001b[0mclasses\u001b[0m\u001b[1;33m)\u001b[0m\u001b[1;33m\u001b[0m\u001b[1;33m\u001b[0m\u001b[0m\n\u001b[0m\u001b[0;32m    139\u001b[0m         \u001b[1;32mif\u001b[0m \u001b[0mvalidate_filenames\u001b[0m\u001b[1;33m:\u001b[0m  \u001b[1;31m# check which image files are valid and keep them\u001b[0m\u001b[1;33m\u001b[0m\u001b[1;33m\u001b[0m\u001b[0m\n\u001b[0;32m    140\u001b[0m             \u001b[0mdf\u001b[0m \u001b[1;33m=\u001b[0m \u001b[0mself\u001b[0m\u001b[1;33m.\u001b[0m\u001b[0m_filter_valid_filepaths\u001b[0m\u001b[1;33m(\u001b[0m\u001b[0mdf\u001b[0m\u001b[1;33m,\u001b[0m \u001b[0mx_col\u001b[0m\u001b[1;33m)\u001b[0m\u001b[1;33m\u001b[0m\u001b[1;33m\u001b[0m\u001b[0m\n",
      "\u001b[1;32m~\\anaconda3\\lib\\site-packages\\keras_preprocessing\\image\\dataframe_iterator.py\u001b[0m in \u001b[0;36m_check_params\u001b[1;34m(self, df, x_col, y_col, weight_col, classes)\u001b[0m\n\u001b[0;32m    188\u001b[0m             )\n\u001b[0;32m    189\u001b[0m         \u001b[1;31m# check that filenames/filepaths column values are all strings\u001b[0m\u001b[1;33m\u001b[0m\u001b[1;33m\u001b[0m\u001b[1;33m\u001b[0m\u001b[0m\n\u001b[1;32m--> 190\u001b[1;33m         \u001b[1;32mif\u001b[0m \u001b[1;32mnot\u001b[0m \u001b[0mall\u001b[0m\u001b[1;33m(\u001b[0m\u001b[0mdf\u001b[0m\u001b[1;33m[\u001b[0m\u001b[0mx_col\u001b[0m\u001b[1;33m]\u001b[0m\u001b[1;33m.\u001b[0m\u001b[0mapply\u001b[0m\u001b[1;33m(\u001b[0m\u001b[1;32mlambda\u001b[0m \u001b[0mx\u001b[0m\u001b[1;33m:\u001b[0m \u001b[0misinstance\u001b[0m\u001b[1;33m(\u001b[0m\u001b[0mx\u001b[0m\u001b[1;33m,\u001b[0m \u001b[0mstr\u001b[0m\u001b[1;33m)\u001b[0m\u001b[1;33m)\u001b[0m\u001b[1;33m)\u001b[0m\u001b[1;33m:\u001b[0m\u001b[1;33m\u001b[0m\u001b[1;33m\u001b[0m\u001b[0m\n\u001b[0m\u001b[0;32m    191\u001b[0m             raise TypeError('All values in column x_col={} must be strings.'\n\u001b[0;32m    192\u001b[0m                             .format(x_col))\n",
      "\u001b[1;32m~\\anaconda3\\lib\\site-packages\\pandas\\core\\frame.py\u001b[0m in \u001b[0;36m__getitem__\u001b[1;34m(self, key)\u001b[0m\n\u001b[0;32m   3022\u001b[0m             \u001b[1;32mif\u001b[0m \u001b[0mself\u001b[0m\u001b[1;33m.\u001b[0m\u001b[0mcolumns\u001b[0m\u001b[1;33m.\u001b[0m\u001b[0mnlevels\u001b[0m \u001b[1;33m>\u001b[0m \u001b[1;36m1\u001b[0m\u001b[1;33m:\u001b[0m\u001b[1;33m\u001b[0m\u001b[1;33m\u001b[0m\u001b[0m\n\u001b[0;32m   3023\u001b[0m                 \u001b[1;32mreturn\u001b[0m \u001b[0mself\u001b[0m\u001b[1;33m.\u001b[0m\u001b[0m_getitem_multilevel\u001b[0m\u001b[1;33m(\u001b[0m\u001b[0mkey\u001b[0m\u001b[1;33m)\u001b[0m\u001b[1;33m\u001b[0m\u001b[1;33m\u001b[0m\u001b[0m\n\u001b[1;32m-> 3024\u001b[1;33m             \u001b[0mindexer\u001b[0m \u001b[1;33m=\u001b[0m \u001b[0mself\u001b[0m\u001b[1;33m.\u001b[0m\u001b[0mcolumns\u001b[0m\u001b[1;33m.\u001b[0m\u001b[0mget_loc\u001b[0m\u001b[1;33m(\u001b[0m\u001b[0mkey\u001b[0m\u001b[1;33m)\u001b[0m\u001b[1;33m\u001b[0m\u001b[1;33m\u001b[0m\u001b[0m\n\u001b[0m\u001b[0;32m   3025\u001b[0m             \u001b[1;32mif\u001b[0m \u001b[0mis_integer\u001b[0m\u001b[1;33m(\u001b[0m\u001b[0mindexer\u001b[0m\u001b[1;33m)\u001b[0m\u001b[1;33m:\u001b[0m\u001b[1;33m\u001b[0m\u001b[1;33m\u001b[0m\u001b[0m\n\u001b[0;32m   3026\u001b[0m                 \u001b[0mindexer\u001b[0m \u001b[1;33m=\u001b[0m \u001b[1;33m[\u001b[0m\u001b[0mindexer\u001b[0m\u001b[1;33m]\u001b[0m\u001b[1;33m\u001b[0m\u001b[1;33m\u001b[0m\u001b[0m\n",
      "\u001b[1;32m~\\anaconda3\\lib\\site-packages\\pandas\\core\\indexes\\base.py\u001b[0m in \u001b[0;36mget_loc\u001b[1;34m(self, key, method, tolerance)\u001b[0m\n\u001b[0;32m   3080\u001b[0m                 \u001b[1;32mreturn\u001b[0m \u001b[0mself\u001b[0m\u001b[1;33m.\u001b[0m\u001b[0m_engine\u001b[0m\u001b[1;33m.\u001b[0m\u001b[0mget_loc\u001b[0m\u001b[1;33m(\u001b[0m\u001b[0mcasted_key\u001b[0m\u001b[1;33m)\u001b[0m\u001b[1;33m\u001b[0m\u001b[1;33m\u001b[0m\u001b[0m\n\u001b[0;32m   3081\u001b[0m             \u001b[1;32mexcept\u001b[0m \u001b[0mKeyError\u001b[0m \u001b[1;32mas\u001b[0m \u001b[0merr\u001b[0m\u001b[1;33m:\u001b[0m\u001b[1;33m\u001b[0m\u001b[1;33m\u001b[0m\u001b[0m\n\u001b[1;32m-> 3082\u001b[1;33m                 \u001b[1;32mraise\u001b[0m \u001b[0mKeyError\u001b[0m\u001b[1;33m(\u001b[0m\u001b[0mkey\u001b[0m\u001b[1;33m)\u001b[0m \u001b[1;32mfrom\u001b[0m \u001b[0merr\u001b[0m\u001b[1;33m\u001b[0m\u001b[1;33m\u001b[0m\u001b[0m\n\u001b[0m\u001b[0;32m   3083\u001b[0m \u001b[1;33m\u001b[0m\u001b[0m\n\u001b[0;32m   3084\u001b[0m         \u001b[1;32mif\u001b[0m \u001b[0mtolerance\u001b[0m \u001b[1;32mis\u001b[0m \u001b[1;32mnot\u001b[0m \u001b[1;32mNone\u001b[0m\u001b[1;33m:\u001b[0m\u001b[1;33m\u001b[0m\u001b[1;33m\u001b[0m\u001b[0m\n",
      "\u001b[1;31mKeyError\u001b[0m: ('side_path', 'end_path')"
     ]
    }
   ],
   "source": [
    "train_gen, val_gen = create_gen((224,224), color='rgb')"
   ]
  },
  {
   "cell_type": "code",
   "execution_count": 60,
   "id": "821e4416-329d-4c2c-bff7-1c5bbaac6d9b",
   "metadata": {},
   "outputs": [
    {
     "data": {
      "text/plain": [
       "\u001b[1;31mSignature:\u001b[0m\n",
       "\u001b[0mimage\u001b[0m\u001b[1;33m.\u001b[0m\u001b[0mImageDataGenerator\u001b[0m\u001b[1;33m.\u001b[0m\u001b[0mflow_from_dataframe\u001b[0m\u001b[1;33m(\u001b[0m\u001b[1;33m\n",
       "\u001b[0m    \u001b[0mself\u001b[0m\u001b[1;33m,\u001b[0m\u001b[1;33m\n",
       "\u001b[0m    \u001b[0mdataframe\u001b[0m\u001b[1;33m,\u001b[0m\u001b[1;33m\n",
       "\u001b[0m    \u001b[0mdirectory\u001b[0m\u001b[1;33m=\u001b[0m\u001b[1;32mNone\u001b[0m\u001b[1;33m,\u001b[0m\u001b[1;33m\n",
       "\u001b[0m    \u001b[0mx_col\u001b[0m\u001b[1;33m=\u001b[0m\u001b[1;34m'filename'\u001b[0m\u001b[1;33m,\u001b[0m\u001b[1;33m\n",
       "\u001b[0m    \u001b[0my_col\u001b[0m\u001b[1;33m=\u001b[0m\u001b[1;34m'class'\u001b[0m\u001b[1;33m,\u001b[0m\u001b[1;33m\n",
       "\u001b[0m    \u001b[0mweight_col\u001b[0m\u001b[1;33m=\u001b[0m\u001b[1;32mNone\u001b[0m\u001b[1;33m,\u001b[0m\u001b[1;33m\n",
       "\u001b[0m    \u001b[0mtarget_size\u001b[0m\u001b[1;33m=\u001b[0m\u001b[1;33m(\u001b[0m\u001b[1;36m256\u001b[0m\u001b[1;33m,\u001b[0m \u001b[1;36m256\u001b[0m\u001b[1;33m)\u001b[0m\u001b[1;33m,\u001b[0m\u001b[1;33m\n",
       "\u001b[0m    \u001b[0mcolor_mode\u001b[0m\u001b[1;33m=\u001b[0m\u001b[1;34m'rgb'\u001b[0m\u001b[1;33m,\u001b[0m\u001b[1;33m\n",
       "\u001b[0m    \u001b[0mclasses\u001b[0m\u001b[1;33m=\u001b[0m\u001b[1;32mNone\u001b[0m\u001b[1;33m,\u001b[0m\u001b[1;33m\n",
       "\u001b[0m    \u001b[0mclass_mode\u001b[0m\u001b[1;33m=\u001b[0m\u001b[1;34m'categorical'\u001b[0m\u001b[1;33m,\u001b[0m\u001b[1;33m\n",
       "\u001b[0m    \u001b[0mbatch_size\u001b[0m\u001b[1;33m=\u001b[0m\u001b[1;36m32\u001b[0m\u001b[1;33m,\u001b[0m\u001b[1;33m\n",
       "\u001b[0m    \u001b[0mshuffle\u001b[0m\u001b[1;33m=\u001b[0m\u001b[1;32mTrue\u001b[0m\u001b[1;33m,\u001b[0m\u001b[1;33m\n",
       "\u001b[0m    \u001b[0mseed\u001b[0m\u001b[1;33m=\u001b[0m\u001b[1;32mNone\u001b[0m\u001b[1;33m,\u001b[0m\u001b[1;33m\n",
       "\u001b[0m    \u001b[0msave_to_dir\u001b[0m\u001b[1;33m=\u001b[0m\u001b[1;32mNone\u001b[0m\u001b[1;33m,\u001b[0m\u001b[1;33m\n",
       "\u001b[0m    \u001b[0msave_prefix\u001b[0m\u001b[1;33m=\u001b[0m\u001b[1;34m''\u001b[0m\u001b[1;33m,\u001b[0m\u001b[1;33m\n",
       "\u001b[0m    \u001b[0msave_format\u001b[0m\u001b[1;33m=\u001b[0m\u001b[1;34m'png'\u001b[0m\u001b[1;33m,\u001b[0m\u001b[1;33m\n",
       "\u001b[0m    \u001b[0msubset\u001b[0m\u001b[1;33m=\u001b[0m\u001b[1;32mNone\u001b[0m\u001b[1;33m,\u001b[0m\u001b[1;33m\n",
       "\u001b[0m    \u001b[0minterpolation\u001b[0m\u001b[1;33m=\u001b[0m\u001b[1;34m'nearest'\u001b[0m\u001b[1;33m,\u001b[0m\u001b[1;33m\n",
       "\u001b[0m    \u001b[0mvalidate_filenames\u001b[0m\u001b[1;33m=\u001b[0m\u001b[1;32mTrue\u001b[0m\u001b[1;33m,\u001b[0m\u001b[1;33m\n",
       "\u001b[0m    \u001b[1;33m**\u001b[0m\u001b[0mkwargs\u001b[0m\u001b[1;33m,\u001b[0m\u001b[1;33m\n",
       "\u001b[0m\u001b[1;33m)\u001b[0m\u001b[1;33m\u001b[0m\u001b[1;33m\u001b[0m\u001b[0m\n",
       "\u001b[1;31mDocstring:\u001b[0m\n",
       "Takes the dataframe and the path to a directory + generates batches.\n",
       "\n",
       " The generated batches contain augmented/normalized data.\n",
       "\n",
       "**A simple tutorial can be found **[here](\n",
       "                            http://bit.ly/keras_flow_from_dataframe).\n",
       "\n",
       "Args:\n",
       "    dataframe: Pandas dataframe containing the filepaths relative to\n",
       "      `directory` (or absolute paths if `directory` is None) of the images\n",
       "      in a string column. It should include other column/s\n",
       "        depending on the `class_mode`:\n",
       "        - if `class_mode` is `\"categorical\"` (default value) it must include\n",
       "          the `y_col` column with the class/es of each image. Values in\n",
       "          column can be string/list/tuple if a single class or list/tuple if\n",
       "          multiple classes.\n",
       "        - if `class_mode` is `\"binary\"` or `\"sparse\"` it must include the\n",
       "          given `y_col` column with class values as strings.\n",
       "        - if `class_mode` is `\"raw\"` or `\"multi_output\"` it should contain\n",
       "          the columns specified in `y_col`.\n",
       "        - if `class_mode` is `\"input\"` or `None` no extra column is needed.\n",
       "    directory: string, path to the directory to read images from. If `None`,\n",
       "      data in `x_col` column should be absolute paths.\n",
       "    x_col: string, column in `dataframe` that contains the filenames (or\n",
       "      absolute paths if `directory` is `None`).\n",
       "    y_col: string or list, column/s in `dataframe` that has the target data.\n",
       "    weight_col: string, column in `dataframe` that contains the sample\n",
       "        weights. Default: `None`.\n",
       "    target_size: tuple of integers `(height, width)`, default: `(256, 256)`.\n",
       "      The dimensions to which all images found will be resized.\n",
       "    color_mode: one of \"grayscale\", \"rgb\", \"rgba\". Default: \"rgb\". Whether\n",
       "      the images will be converted to have 1 or 3 color channels.\n",
       "    classes: optional list of classes (e.g. `['dogs', 'cats']`). Default is\n",
       "      None. If not provided, the list of classes will be automatically\n",
       "      inferred from the `y_col`, which will map to the label indices, will\n",
       "      be alphanumeric). The dictionary containing the mapping from class\n",
       "      names to class indices can be obtained via the attribute\n",
       "      `class_indices`.\n",
       "    class_mode: one of \"binary\", \"categorical\", \"input\", \"multi_output\",\n",
       "        \"raw\", sparse\" or None. Default: \"categorical\".\n",
       "        Mode for yielding the targets:\n",
       "        - `\"binary\"`: 1D numpy array of binary labels,\n",
       "        - `\"categorical\"`: 2D numpy array of one-hot encoded labels.\n",
       "          Supports multi-label output.\n",
       "        - `\"input\"`: images identical to input images (mainly used to work\n",
       "          with autoencoders),\n",
       "        - `\"multi_output\"`: list with the values of the different columns,\n",
       "        - `\"raw\"`: numpy array of values in `y_col` column(s),\n",
       "        - `\"sparse\"`: 1D numpy array of integer labels,\n",
       "        - `None`, no targets are returned (the generator will only yield\n",
       "          batches of image data, which is useful to use in\n",
       "          `model.predict()`).\n",
       "    batch_size: size of the batches of data (default: 32).\n",
       "    shuffle: whether to shuffle the data (default: True)\n",
       "    seed: optional random seed for shuffling and transformations.\n",
       "    save_to_dir: None or str (default: None). This allows you to optionally\n",
       "      specify a directory to which to save the augmented pictures being\n",
       "      generated (useful for visualizing what you are doing).\n",
       "    save_prefix: str. Prefix to use for filenames of saved pictures (only\n",
       "      relevant if `save_to_dir` is set).\n",
       "    save_format: one of \"png\", \"jpeg\", \"bmp\", \"pdf\", \"ppm\", \"gif\",\n",
       "        \"tif\", \"jpg\"\n",
       "        (only relevant if `save_to_dir` is set). Default: \"png\".\n",
       "    subset: Subset of data (`\"training\"` or `\"validation\"`) if\n",
       "      `validation_split` is set in `ImageDataGenerator`.\n",
       "    interpolation: Interpolation method used to resample the image if the\n",
       "      target size is different from that of the loaded image. Supported\n",
       "      methods are `\"nearest\"`, `\"bilinear\"`, and `\"bicubic\"`. If PIL version\n",
       "      1.1.3 or newer is installed, `\"lanczos\"` is also supported. If PIL\n",
       "      version 3.4.0 or newer is installed, `\"box\"` and `\"hamming\"` are also\n",
       "      supported. By default, `\"nearest\"` is used.\n",
       "    validate_filenames: Boolean, whether to validate image filenames in\n",
       "      `x_col`. If `True`, invalid images will be ignored. Disabling this\n",
       "      option can lead to speed-up in the execution of this function.\n",
       "      Defaults to `True`.\n",
       "    **kwargs: legacy arguments for raising deprecation warnings.\n",
       "\n",
       "Returns:\n",
       "    A `DataFrameIterator` yielding tuples of `(x, y)`\n",
       "    where `x` is a numpy array containing a batch\n",
       "    of images with shape `(batch_size, *target_size, channels)`\n",
       "    and `y` is a numpy array of corresponding labels.\n",
       "\u001b[1;31mFile:\u001b[0m      c:\\users\\derek\\anaconda3\\lib\\site-packages\\keras\\preprocessing\\image.py\n",
       "\u001b[1;31mType:\u001b[0m      function\n"
      ]
     },
     "metadata": {},
     "output_type": "display_data"
    }
   ],
   "source": [
    "image.ImageDataGenerator.flow_from_dataframe?"
   ]
  },
  {
   "cell_type": "markdown",
   "id": "476283d0-af65-47fa-9d10-341128a09cec",
   "metadata": {},
   "source": [
    "## Create Two View Model"
   ]
  },
  {
   "cell_type": "code",
   "execution_count": 18,
   "id": "25f84d79-d248-48ce-b963-261b2d88d708",
   "metadata": {},
   "outputs": [],
   "source": [
    "# load the model pretrained on single images\n",
    "side_model = keras.models.load_model(DATABASE_LOCATION+\"/models/exceptionet_best_model\")\n",
    "end_model = keras.models.load_model(DATABASE_LOCATION+\"/models/exceptionet_best_model\")"
   ]
  },
  {
   "cell_type": "code",
   "execution_count": 19,
   "id": "2e4985ee-998e-4cf8-a350-578ba627821d",
   "metadata": {},
   "outputs": [
    {
     "name": "stdout",
     "output_type": "stream",
     "text": [
      "Model: \"model_2\"\n",
      "_________________________________________________________________\n",
      " Layer (type)                Output Shape              Param #   \n",
      "=================================================================\n",
      " input_4 (InputLayer)        [(None, 224, 224, 3)]     0         \n",
      "                                                                 \n",
      " xception (Functional)       (None, 7, 7, 2048)        20861480  \n",
      "                                                                 \n",
      " global_average_pooling2d_1   (None, 2048)             0         \n",
      " (GlobalAveragePooling2D)                                        \n",
      "                                                                 \n",
      " dense_2 (Dense)             (None, 100)               204900    \n",
      "                                                                 \n",
      " dropout_1 (Dropout)         (None, 100)               0         \n",
      "                                                                 \n",
      " dense_3 (Dense)             (None, 1)                 101       \n",
      "                                                                 \n",
      "=================================================================\n",
      "Total params: 21,066,481\n",
      "Trainable params: 20,983,441\n",
      "Non-trainable params: 83,040\n",
      "_________________________________________________________________\n"
     ]
    }
   ],
   "source": [
    "side_model.summary()"
   ]
  },
  {
   "cell_type": "code",
   "execution_count": 20,
   "id": "8601300b-3ce9-4b7b-946e-9d036d537599",
   "metadata": {},
   "outputs": [],
   "source": [
    "# unfreeze layers\n",
    "for layer in side_model.layers:\n",
    "    layer.trainable = True\n",
    "for layer in end_model.layers:\n",
    "    layer.trainable = True"
   ]
  },
  {
   "cell_type": "code",
   "execution_count": 24,
   "id": "2472ae22-f5fd-42ec-878e-8b4b22ec928f",
   "metadata": {},
   "outputs": [],
   "source": [
    "# take off last layer\n",
    "side_out = side_model.layers[-2].output\n",
    "end_out = end_model.layers[-2].output\n",
    "\n",
    "side_model = tf.keras.Model(inputs = side_model.input, outputs = side_out)\n",
    "end_model = tf.keras.Model(inputs = end_model.input, outputs = end_out)"
   ]
  },
  {
   "cell_type": "code",
   "execution_count": 32,
   "id": "78d9b6e3-837e-453d-a35f-dbad7bd5df29",
   "metadata": {},
   "outputs": [],
   "source": [
    "# create new inputs for side and end\n",
    "side_input_layer = tf.keras.Input(shape=(224, 224, 3))\n",
    "end_input_layer = tf.keras.Input(shape=(224, 224, 3))\n",
    "\n",
    "side = side_model(side_input_layer, training=True)\n",
    "end = end_model(end_input_layer, training=True)\n",
    "\n",
    "# combine side and end features \n",
    "x = tf.keras.layers.concatenate([side, end])\n",
    "#x = tf.keras.layers.Activation('relu')(x)\n",
    "\n",
    "bias_init = tf.keras.initializers.Constant(700.0)#df.weight.mean())\n",
    "outputs = tf.keras.layers.Dense(1, bias_initializer=bias_init)(x) # reduce to one node for weight prediction\n",
    "\n",
    "model_xcept = tf.keras.Model(inputs = [side_input_layer, end_input_layer], outputs = outputs)"
   ]
  },
  {
   "cell_type": "code",
   "execution_count": 33,
   "id": "027b30ce-9f89-4be8-a46e-5b25d78edcde",
   "metadata": {},
   "outputs": [],
   "source": [
    "model_xcept.compile(\n",
    "    loss= \"mean_squared_error\" , \n",
    "    optimizer=\"adam\", \n",
    "    metrics=[\"mean_squared_error\"])"
   ]
  },
  {
   "cell_type": "code",
   "execution_count": 34,
   "id": "da752249-d176-4fa4-993c-3f91f3a559a5",
   "metadata": {},
   "outputs": [
    {
     "name": "stdout",
     "output_type": "stream",
     "text": [
      "Model: \"model_4\"\n",
      "__________________________________________________________________________________________________\n",
      " Layer (type)                   Output Shape         Param #     Connected to                     \n",
      "==================================================================================================\n",
      " input_10 (InputLayer)          [(None, 224, 224, 3  0           []                               \n",
      "                                )]                                                                \n",
      "                                                                                                  \n",
      " input_11 (InputLayer)          [(None, 224, 224, 3  0           []                               \n",
      "                                )]                                                                \n",
      "                                                                                                  \n",
      " model (Functional)             (None, 100)          21066380    ['input_10[0][0]']               \n",
      "                                                                                                  \n",
      " model_1 (Functional)           (None, 100)          21066380    ['input_11[0][0]']               \n",
      "                                                                                                  \n",
      " concatenate_3 (Concatenate)    (None, 200)          0           ['model[3][0]',                  \n",
      "                                                                  'model_1[3][0]']                \n",
      "                                                                                                  \n",
      " dense_3 (Dense)                (None, 1)            201         ['concatenate_3[0][0]']          \n",
      "                                                                                                  \n",
      "==================================================================================================\n",
      "Total params: 42,132,961\n",
      "Trainable params: 42,023,905\n",
      "Non-trainable params: 109,056\n",
      "__________________________________________________________________________________________________\n"
     ]
    }
   ],
   "source": [
    "model_xcept.summary()"
   ]
  },
  {
   "cell_type": "markdown",
   "id": "ef62b1a5-4d38-4300-a61e-fd541594880e",
   "metadata": {},
   "source": [
    "## Train the Model"
   ]
  },
  {
   "cell_type": "code",
   "execution_count": 57,
   "id": "25f39cab-ba18-4326-bdd1-b921b5d723b1",
   "metadata": {},
   "outputs": [
    {
     "ename": "ValueError",
     "evalue": "Failed to find data adapter that can handle input: (<class 'list'> containing values of types {\"<class 'keras.preprocessing.image.DataFrameIterator'>\"}), <class 'NoneType'>",
     "output_type": "error",
     "traceback": [
      "\u001b[1;31m---------------------------------------------------------------------------\u001b[0m",
      "\u001b[1;31mValueError\u001b[0m                                Traceback (most recent call last)",
      "\u001b[1;32m<ipython-input-57-5fec0b6b6e66>\u001b[0m in \u001b[0;36m<module>\u001b[1;34m\u001b[0m\n\u001b[1;32m----> 1\u001b[1;33m hist = model_xcept.fit(\n\u001b[0m\u001b[0;32m      2\u001b[0m         \u001b[1;33m[\u001b[0m\u001b[0mtrain_side_gen\u001b[0m\u001b[1;33m,\u001b[0m \u001b[0mtrain_end_gen\u001b[0m\u001b[1;33m]\u001b[0m\u001b[1;33m,\u001b[0m\u001b[1;33m\u001b[0m\u001b[1;33m\u001b[0m\u001b[0m\n\u001b[0;32m      3\u001b[0m         \u001b[0msteps_per_epoch\u001b[0m\u001b[1;33m=\u001b[0m\u001b[1;36m300\u001b[0m\u001b[1;33m,\u001b[0m\u001b[1;33m\u001b[0m\u001b[1;33m\u001b[0m\u001b[0m\n\u001b[0;32m      4\u001b[0m         \u001b[0mepochs\u001b[0m\u001b[1;33m=\u001b[0m\u001b[1;36m100\u001b[0m\u001b[1;33m,\u001b[0m\u001b[1;33m\u001b[0m\u001b[1;33m\u001b[0m\u001b[0m\n\u001b[0;32m      5\u001b[0m         \u001b[0mvalidation_data\u001b[0m\u001b[1;33m=\u001b[0m\u001b[1;33m[\u001b[0m\u001b[0mval_side_gen\u001b[0m\u001b[1;33m,\u001b[0m \u001b[0mval_end_gen\u001b[0m\u001b[1;33m]\u001b[0m\u001b[1;33m,\u001b[0m\u001b[1;33m\u001b[0m\u001b[1;33m\u001b[0m\u001b[0m\n",
      "\u001b[1;32m~\\anaconda3\\lib\\site-packages\\keras\\utils\\traceback_utils.py\u001b[0m in \u001b[0;36merror_handler\u001b[1;34m(*args, **kwargs)\u001b[0m\n\u001b[0;32m     65\u001b[0m     \u001b[1;32mexcept\u001b[0m \u001b[0mException\u001b[0m \u001b[1;32mas\u001b[0m \u001b[0me\u001b[0m\u001b[1;33m:\u001b[0m  \u001b[1;31m# pylint: disable=broad-except\u001b[0m\u001b[1;33m\u001b[0m\u001b[1;33m\u001b[0m\u001b[0m\n\u001b[0;32m     66\u001b[0m       \u001b[0mfiltered_tb\u001b[0m \u001b[1;33m=\u001b[0m \u001b[0m_process_traceback_frames\u001b[0m\u001b[1;33m(\u001b[0m\u001b[0me\u001b[0m\u001b[1;33m.\u001b[0m\u001b[0m__traceback__\u001b[0m\u001b[1;33m)\u001b[0m\u001b[1;33m\u001b[0m\u001b[1;33m\u001b[0m\u001b[0m\n\u001b[1;32m---> 67\u001b[1;33m       \u001b[1;32mraise\u001b[0m \u001b[0me\u001b[0m\u001b[1;33m.\u001b[0m\u001b[0mwith_traceback\u001b[0m\u001b[1;33m(\u001b[0m\u001b[0mfiltered_tb\u001b[0m\u001b[1;33m)\u001b[0m \u001b[1;32mfrom\u001b[0m \u001b[1;32mNone\u001b[0m\u001b[1;33m\u001b[0m\u001b[1;33m\u001b[0m\u001b[0m\n\u001b[0m\u001b[0;32m     68\u001b[0m     \u001b[1;32mfinally\u001b[0m\u001b[1;33m:\u001b[0m\u001b[1;33m\u001b[0m\u001b[1;33m\u001b[0m\u001b[0m\n\u001b[0;32m     69\u001b[0m       \u001b[1;32mdel\u001b[0m \u001b[0mfiltered_tb\u001b[0m\u001b[1;33m\u001b[0m\u001b[1;33m\u001b[0m\u001b[0m\n",
      "\u001b[1;32m~\\anaconda3\\lib\\site-packages\\keras\\engine\\data_adapter.py\u001b[0m in \u001b[0;36mselect_data_adapter\u001b[1;34m(x, y)\u001b[0m\n\u001b[0;32m    986\u001b[0m   \u001b[1;32mif\u001b[0m \u001b[1;32mnot\u001b[0m \u001b[0madapter_cls\u001b[0m\u001b[1;33m:\u001b[0m\u001b[1;33m\u001b[0m\u001b[1;33m\u001b[0m\u001b[0m\n\u001b[0;32m    987\u001b[0m     \u001b[1;31m# TODO(scottzhu): This should be a less implementation-specific error.\u001b[0m\u001b[1;33m\u001b[0m\u001b[1;33m\u001b[0m\u001b[1;33m\u001b[0m\u001b[0m\n\u001b[1;32m--> 988\u001b[1;33m     raise ValueError(\n\u001b[0m\u001b[0;32m    989\u001b[0m         \u001b[1;34m\"Failed to find data adapter that can handle \"\u001b[0m\u001b[1;33m\u001b[0m\u001b[1;33m\u001b[0m\u001b[0m\n\u001b[0;32m    990\u001b[0m         \"input: {}, {}\".format(\n",
      "\u001b[1;31mValueError\u001b[0m: Failed to find data adapter that can handle input: (<class 'list'> containing values of types {\"<class 'keras.preprocessing.image.DataFrameIterator'>\"}), <class 'NoneType'>"
     ]
    }
   ],
   "source": [
    "hist = model_xcept.fit(\n",
    "        [train_side_gen, train_end_gen],\n",
    "        steps_per_epoch=300,\n",
    "        epochs=100,\n",
    "        validation_data=[val_side_gen, val_end_gen],\n",
    "        validation_steps=25,\n",
    "        #callbacks=[tensorboard_callback]\n",
    "        )"
   ]
  },
  {
   "cell_type": "code",
   "execution_count": 59,
   "id": "90224198-21bd-4660-b908-1f947b1c3e3a",
   "metadata": {},
   "outputs": [
    {
     "data": {
      "text/plain": [
       "\u001b[1;31mSignature:\u001b[0m\n",
       "\u001b[0mmodel_xcept\u001b[0m\u001b[1;33m.\u001b[0m\u001b[0mfit\u001b[0m\u001b[1;33m(\u001b[0m\u001b[1;33m\n",
       "\u001b[0m    \u001b[0mx\u001b[0m\u001b[1;33m=\u001b[0m\u001b[1;32mNone\u001b[0m\u001b[1;33m,\u001b[0m\u001b[1;33m\n",
       "\u001b[0m    \u001b[0my\u001b[0m\u001b[1;33m=\u001b[0m\u001b[1;32mNone\u001b[0m\u001b[1;33m,\u001b[0m\u001b[1;33m\n",
       "\u001b[0m    \u001b[0mbatch_size\u001b[0m\u001b[1;33m=\u001b[0m\u001b[1;32mNone\u001b[0m\u001b[1;33m,\u001b[0m\u001b[1;33m\n",
       "\u001b[0m    \u001b[0mepochs\u001b[0m\u001b[1;33m=\u001b[0m\u001b[1;36m1\u001b[0m\u001b[1;33m,\u001b[0m\u001b[1;33m\n",
       "\u001b[0m    \u001b[0mverbose\u001b[0m\u001b[1;33m=\u001b[0m\u001b[1;34m'auto'\u001b[0m\u001b[1;33m,\u001b[0m\u001b[1;33m\n",
       "\u001b[0m    \u001b[0mcallbacks\u001b[0m\u001b[1;33m=\u001b[0m\u001b[1;32mNone\u001b[0m\u001b[1;33m,\u001b[0m\u001b[1;33m\n",
       "\u001b[0m    \u001b[0mvalidation_split\u001b[0m\u001b[1;33m=\u001b[0m\u001b[1;36m0.0\u001b[0m\u001b[1;33m,\u001b[0m\u001b[1;33m\n",
       "\u001b[0m    \u001b[0mvalidation_data\u001b[0m\u001b[1;33m=\u001b[0m\u001b[1;32mNone\u001b[0m\u001b[1;33m,\u001b[0m\u001b[1;33m\n",
       "\u001b[0m    \u001b[0mshuffle\u001b[0m\u001b[1;33m=\u001b[0m\u001b[1;32mTrue\u001b[0m\u001b[1;33m,\u001b[0m\u001b[1;33m\n",
       "\u001b[0m    \u001b[0mclass_weight\u001b[0m\u001b[1;33m=\u001b[0m\u001b[1;32mNone\u001b[0m\u001b[1;33m,\u001b[0m\u001b[1;33m\n",
       "\u001b[0m    \u001b[0msample_weight\u001b[0m\u001b[1;33m=\u001b[0m\u001b[1;32mNone\u001b[0m\u001b[1;33m,\u001b[0m\u001b[1;33m\n",
       "\u001b[0m    \u001b[0minitial_epoch\u001b[0m\u001b[1;33m=\u001b[0m\u001b[1;36m0\u001b[0m\u001b[1;33m,\u001b[0m\u001b[1;33m\n",
       "\u001b[0m    \u001b[0msteps_per_epoch\u001b[0m\u001b[1;33m=\u001b[0m\u001b[1;32mNone\u001b[0m\u001b[1;33m,\u001b[0m\u001b[1;33m\n",
       "\u001b[0m    \u001b[0mvalidation_steps\u001b[0m\u001b[1;33m=\u001b[0m\u001b[1;32mNone\u001b[0m\u001b[1;33m,\u001b[0m\u001b[1;33m\n",
       "\u001b[0m    \u001b[0mvalidation_batch_size\u001b[0m\u001b[1;33m=\u001b[0m\u001b[1;32mNone\u001b[0m\u001b[1;33m,\u001b[0m\u001b[1;33m\n",
       "\u001b[0m    \u001b[0mvalidation_freq\u001b[0m\u001b[1;33m=\u001b[0m\u001b[1;36m1\u001b[0m\u001b[1;33m,\u001b[0m\u001b[1;33m\n",
       "\u001b[0m    \u001b[0mmax_queue_size\u001b[0m\u001b[1;33m=\u001b[0m\u001b[1;36m10\u001b[0m\u001b[1;33m,\u001b[0m\u001b[1;33m\n",
       "\u001b[0m    \u001b[0mworkers\u001b[0m\u001b[1;33m=\u001b[0m\u001b[1;36m1\u001b[0m\u001b[1;33m,\u001b[0m\u001b[1;33m\n",
       "\u001b[0m    \u001b[0muse_multiprocessing\u001b[0m\u001b[1;33m=\u001b[0m\u001b[1;32mFalse\u001b[0m\u001b[1;33m,\u001b[0m\u001b[1;33m\n",
       "\u001b[0m\u001b[1;33m)\u001b[0m\u001b[1;33m\u001b[0m\u001b[1;33m\u001b[0m\u001b[0m\n",
       "\u001b[1;31mDocstring:\u001b[0m\n",
       "Trains the model for a fixed number of epochs (iterations on a dataset).\n",
       "\n",
       "Args:\n",
       "    x: Input data. It could be:\n",
       "      - A Numpy array (or array-like), or a list of arrays\n",
       "        (in case the model has multiple inputs).\n",
       "      - A TensorFlow tensor, or a list of tensors\n",
       "        (in case the model has multiple inputs).\n",
       "      - A dict mapping input names to the corresponding array/tensors,\n",
       "        if the model has named inputs.\n",
       "      - A `tf.data` dataset. Should return a tuple\n",
       "        of either `(inputs, targets)` or\n",
       "        `(inputs, targets, sample_weights)`.\n",
       "      - A generator or `keras.utils.Sequence` returning `(inputs, targets)`\n",
       "        or `(inputs, targets, sample_weights)`.\n",
       "      - A `tf.keras.utils.experimental.DatasetCreator`, which wraps a\n",
       "        callable that takes a single argument of type\n",
       "        `tf.distribute.InputContext`, and returns a `tf.data.Dataset`.\n",
       "        `DatasetCreator` should be used when users prefer to specify the\n",
       "        per-replica batching and sharding logic for the `Dataset`.\n",
       "        See `tf.keras.utils.experimental.DatasetCreator` doc for more\n",
       "        information.\n",
       "      A more detailed description of unpacking behavior for iterator types\n",
       "      (Dataset, generator, Sequence) is given below. If using\n",
       "      `tf.distribute.experimental.ParameterServerStrategy`, only\n",
       "      `DatasetCreator` type is supported for `x`.\n",
       "    y: Target data. Like the input data `x`,\n",
       "      it could be either Numpy array(s) or TensorFlow tensor(s).\n",
       "      It should be consistent with `x` (you cannot have Numpy inputs and\n",
       "      tensor targets, or inversely). If `x` is a dataset, generator,\n",
       "      or `keras.utils.Sequence` instance, `y` should\n",
       "      not be specified (since targets will be obtained from `x`).\n",
       "    batch_size: Integer or `None`.\n",
       "        Number of samples per gradient update.\n",
       "        If unspecified, `batch_size` will default to 32.\n",
       "        Do not specify the `batch_size` if your data is in the\n",
       "        form of datasets, generators, or `keras.utils.Sequence` instances\n",
       "        (since they generate batches).\n",
       "    epochs: Integer. Number of epochs to train the model.\n",
       "        An epoch is an iteration over the entire `x` and `y`\n",
       "        data provided\n",
       "        (unless the `steps_per_epoch` flag is set to\n",
       "        something other than None).\n",
       "        Note that in conjunction with `initial_epoch`,\n",
       "        `epochs` is to be understood as \"final epoch\".\n",
       "        The model is not trained for a number of iterations\n",
       "        given by `epochs`, but merely until the epoch\n",
       "        of index `epochs` is reached.\n",
       "    verbose: 'auto', 0, 1, or 2. Verbosity mode.\n",
       "        0 = silent, 1 = progress bar, 2 = one line per epoch.\n",
       "        'auto' defaults to 1 for most cases, but 2 when used with\n",
       "        `ParameterServerStrategy`. Note that the progress bar is not\n",
       "        particularly useful when logged to a file, so verbose=2 is\n",
       "        recommended when not running interactively (eg, in a production\n",
       "        environment).\n",
       "    callbacks: List of `keras.callbacks.Callback` instances.\n",
       "        List of callbacks to apply during training.\n",
       "        See `tf.keras.callbacks`. Note `tf.keras.callbacks.ProgbarLogger`\n",
       "        and `tf.keras.callbacks.History` callbacks are created automatically\n",
       "        and need not be passed into `model.fit`.\n",
       "        `tf.keras.callbacks.ProgbarLogger` is created or not based on\n",
       "        `verbose` argument to `model.fit`.\n",
       "        Callbacks with batch-level calls are currently unsupported with\n",
       "        `tf.distribute.experimental.ParameterServerStrategy`, and users are\n",
       "        advised to implement epoch-level calls instead with an appropriate\n",
       "        `steps_per_epoch` value.\n",
       "    validation_split: Float between 0 and 1.\n",
       "        Fraction of the training data to be used as validation data.\n",
       "        The model will set apart this fraction of the training data,\n",
       "        will not train on it, and will evaluate\n",
       "        the loss and any model metrics\n",
       "        on this data at the end of each epoch.\n",
       "        The validation data is selected from the last samples\n",
       "        in the `x` and `y` data provided, before shuffling. This argument is\n",
       "        not supported when `x` is a dataset, generator or\n",
       "       `keras.utils.Sequence` instance.\n",
       "        `validation_split` is not yet supported with\n",
       "        `tf.distribute.experimental.ParameterServerStrategy`.\n",
       "    validation_data: Data on which to evaluate\n",
       "        the loss and any model metrics at the end of each epoch.\n",
       "        The model will not be trained on this data. Thus, note the fact\n",
       "        that the validation loss of data provided using `validation_split`\n",
       "        or `validation_data` is not affected by regularization layers like\n",
       "        noise and dropout.\n",
       "        `validation_data` will override `validation_split`.\n",
       "        `validation_data` could be:\n",
       "          - A tuple `(x_val, y_val)` of Numpy arrays or tensors.\n",
       "          - A tuple `(x_val, y_val, val_sample_weights)` of NumPy arrays.\n",
       "          - A `tf.data.Dataset`.\n",
       "          - A Python generator or `keras.utils.Sequence` returning\n",
       "          `(inputs, targets)` or `(inputs, targets, sample_weights)`.\n",
       "        `validation_data` is not yet supported with\n",
       "        `tf.distribute.experimental.ParameterServerStrategy`.\n",
       "    shuffle: Boolean (whether to shuffle the training data\n",
       "        before each epoch) or str (for 'batch'). This argument is ignored\n",
       "        when `x` is a generator or an object of tf.data.Dataset.\n",
       "        'batch' is a special option for dealing\n",
       "        with the limitations of HDF5 data; it shuffles in batch-sized\n",
       "        chunks. Has no effect when `steps_per_epoch` is not `None`.\n",
       "    class_weight: Optional dictionary mapping class indices (integers)\n",
       "        to a weight (float) value, used for weighting the loss function\n",
       "        (during training only).\n",
       "        This can be useful to tell the model to\n",
       "        \"pay more attention\" to samples from\n",
       "        an under-represented class.\n",
       "    sample_weight: Optional Numpy array of weights for\n",
       "        the training samples, used for weighting the loss function\n",
       "        (during training only). You can either pass a flat (1D)\n",
       "        Numpy array with the same length as the input samples\n",
       "        (1:1 mapping between weights and samples),\n",
       "        or in the case of temporal data,\n",
       "        you can pass a 2D array with shape\n",
       "        `(samples, sequence_length)`,\n",
       "        to apply a different weight to every timestep of every sample. This\n",
       "        argument is not supported when `x` is a dataset, generator, or\n",
       "       `keras.utils.Sequence` instance, instead provide the sample_weights\n",
       "        as the third element of `x`.\n",
       "    initial_epoch: Integer.\n",
       "        Epoch at which to start training\n",
       "        (useful for resuming a previous training run).\n",
       "    steps_per_epoch: Integer or `None`.\n",
       "        Total number of steps (batches of samples)\n",
       "        before declaring one epoch finished and starting the\n",
       "        next epoch. When training with input tensors such as\n",
       "        TensorFlow data tensors, the default `None` is equal to\n",
       "        the number of samples in your dataset divided by\n",
       "        the batch size, or 1 if that cannot be determined. If x is a\n",
       "        `tf.data` dataset, and 'steps_per_epoch'\n",
       "        is None, the epoch will run until the input dataset is exhausted.\n",
       "        When passing an infinitely repeating dataset, you must specify the\n",
       "        `steps_per_epoch` argument. If `steps_per_epoch=-1` the training\n",
       "        will run indefinitely with an infinitely repeating dataset.\n",
       "        This argument is not supported with array inputs.\n",
       "        When using `tf.distribute.experimental.ParameterServerStrategy`:\n",
       "          * `steps_per_epoch=None` is not supported.\n",
       "    validation_steps: Only relevant if `validation_data` is provided and\n",
       "        is a `tf.data` dataset. Total number of steps (batches of\n",
       "        samples) to draw before stopping when performing validation\n",
       "        at the end of every epoch. If 'validation_steps' is None, validation\n",
       "        will run until the `validation_data` dataset is exhausted. In the\n",
       "        case of an infinitely repeated dataset, it will run into an\n",
       "        infinite loop. If 'validation_steps' is specified and only part of\n",
       "        the dataset will be consumed, the evaluation will start from the\n",
       "        beginning of the dataset at each epoch. This ensures that the same\n",
       "        validation samples are used every time.\n",
       "    validation_batch_size: Integer or `None`.\n",
       "        Number of samples per validation batch.\n",
       "        If unspecified, will default to `batch_size`.\n",
       "        Do not specify the `validation_batch_size` if your data is in the\n",
       "        form of datasets, generators, or `keras.utils.Sequence` instances\n",
       "        (since they generate batches).\n",
       "    validation_freq: Only relevant if validation data is provided. Integer\n",
       "        or `collections.abc.Container` instance (e.g. list, tuple, etc.).\n",
       "        If an integer, specifies how many training epochs to run before a\n",
       "        new validation run is performed, e.g. `validation_freq=2` runs\n",
       "        validation every 2 epochs. If a Container, specifies the epochs on\n",
       "        which to run validation, e.g. `validation_freq=[1, 2, 10]` runs\n",
       "        validation at the end of the 1st, 2nd, and 10th epochs.\n",
       "    max_queue_size: Integer. Used for generator or `keras.utils.Sequence`\n",
       "        input only. Maximum size for the generator queue.\n",
       "        If unspecified, `max_queue_size` will default to 10.\n",
       "    workers: Integer. Used for generator or `keras.utils.Sequence` input\n",
       "        only. Maximum number of processes to spin up\n",
       "        when using process-based threading. If unspecified, `workers`\n",
       "        will default to 1.\n",
       "    use_multiprocessing: Boolean. Used for generator or\n",
       "        `keras.utils.Sequence` input only. If `True`, use process-based\n",
       "        threading. If unspecified, `use_multiprocessing` will default to\n",
       "        `False`. Note that because this implementation relies on\n",
       "        multiprocessing, you should not pass non-picklable arguments to\n",
       "        the generator as they can't be passed easily to children processes.\n",
       "\n",
       "Unpacking behavior for iterator-like inputs:\n",
       "    A common pattern is to pass a tf.data.Dataset, generator, or\n",
       "  tf.keras.utils.Sequence to the `x` argument of fit, which will in fact\n",
       "  yield not only features (x) but optionally targets (y) and sample weights.\n",
       "  Keras requires that the output of such iterator-likes be unambiguous. The\n",
       "  iterator should return a tuple of length 1, 2, or 3, where the optional\n",
       "  second and third elements will be used for y and sample_weight\n",
       "  respectively. Any other type provided will be wrapped in a length one\n",
       "  tuple, effectively treating everything as 'x'. When yielding dicts, they\n",
       "  should still adhere to the top-level tuple structure.\n",
       "  e.g. `({\"x0\": x0, \"x1\": x1}, y)`. Keras will not attempt to separate\n",
       "  features, targets, and weights from the keys of a single dict.\n",
       "    A notable unsupported data type is the namedtuple. The reason is that\n",
       "  it behaves like both an ordered datatype (tuple) and a mapping\n",
       "  datatype (dict). So given a namedtuple of the form:\n",
       "      `namedtuple(\"example_tuple\", [\"y\", \"x\"])`\n",
       "  it is ambiguous whether to reverse the order of the elements when\n",
       "  interpreting the value. Even worse is a tuple of the form:\n",
       "      `namedtuple(\"other_tuple\", [\"x\", \"y\", \"z\"])`\n",
       "  where it is unclear if the tuple was intended to be unpacked into x, y,\n",
       "  and sample_weight or passed through as a single element to `x`. As a\n",
       "  result the data processing code will simply raise a ValueError if it\n",
       "  encounters a namedtuple. (Along with instructions to remedy the issue.)\n",
       "\n",
       "Returns:\n",
       "    A `History` object. Its `History.history` attribute is\n",
       "    a record of training loss values and metrics values\n",
       "    at successive epochs, as well as validation loss values\n",
       "    and validation metrics values (if applicable).\n",
       "\n",
       "Raises:\n",
       "    RuntimeError: 1. If the model was never compiled or,\n",
       "    2. If `model.fit` is  wrapped in `tf.function`.\n",
       "\n",
       "    ValueError: In case of mismatch between the provided input data\n",
       "        and what the model expects or when the input data is empty.\n",
       "\u001b[1;31mFile:\u001b[0m      c:\\users\\derek\\anaconda3\\lib\\site-packages\\keras\\engine\\training.py\n",
       "\u001b[1;31mType:\u001b[0m      method\n"
      ]
     },
     "metadata": {},
     "output_type": "display_data"
    }
   ],
   "source": [
    "model_xcept.fit?"
   ]
  },
  {
   "cell_type": "code",
   "execution_count": 58,
   "id": "4d3a6616-a634-4db4-830c-93b0b270abed",
   "metadata": {},
   "outputs": [
    {
     "data": {
      "text/plain": [
       "keras.preprocessing.image.DataFrameIterator"
      ]
     },
     "execution_count": 58,
     "metadata": {},
     "output_type": "execute_result"
    }
   ],
   "source": [
    "type(train_end_gen)"
   ]
  },
  {
   "cell_type": "code",
   "execution_count": null,
   "id": "bc615924-923d-4080-b70b-a64783eb1ef7",
   "metadata": {},
   "outputs": [],
   "source": [
    "model_vit.save(DATABASE_LOCATION+\"/models/vit_best_model\")"
   ]
  },
  {
   "cell_type": "code",
   "execution_count": null,
   "id": "529dce15-a462-4620-9858-e5c7ad3416f5",
   "metadata": {},
   "outputs": [],
   "source": [
    "history = hist\n",
    "plt.plot(history.history['loss'])\n",
    "plt.plot(history.history['val_loss'])\n",
    "plt.title('model loss')\n",
    "plt.ylabel('loss')\n",
    "plt.xlabel('epoch')\n",
    "plt.legend(['train', 'test'], loc='upper left')\n",
    "plt.show()"
   ]
  }
 ],
 "metadata": {
  "kernelspec": {
   "display_name": "cattle_env",
   "language": "python",
   "name": "cattle_env"
  },
  "language_info": {
   "codemirror_mode": {
    "name": "ipython",
    "version": 3
   },
   "file_extension": ".py",
   "mimetype": "text/x-python",
   "name": "python",
   "nbconvert_exporter": "python",
   "pygments_lexer": "ipython3",
   "version": "3.8.12"
  },
  "widgets": {
   "application/vnd.jupyter.widget-state+json": {
    "state": {
     "04f13d76f9c04130a0a6c7bd54d31201": {
      "model_module": "@jupyter-widgets/base",
      "model_module_version": "1.2.0",
      "model_name": "LayoutModel",
      "state": {}
     },
     "0a0448b1767345aa876ce4fff77531c8": {
      "model_module": "@jupyter-widgets/controls",
      "model_module_version": "1.5.0",
      "model_name": "DescriptionStyleModel",
      "state": {
       "description_width": ""
      }
     },
     "1343281e1c9947f0bf0d898dcbdce0e5": {
      "model_module": "@jupyter-widgets/controls",
      "model_module_version": "1.5.0",
      "model_name": "ProgressStyleModel",
      "state": {
       "description_width": ""
      }
     },
     "1378c26079dc4f10a07c9aa43d932688": {
      "model_module": "@jupyter-widgets/base",
      "model_module_version": "1.2.0",
      "model_name": "LayoutModel",
      "state": {}
     },
     "497e76a3b6334215ae83fb7f9d4c2a29": {
      "model_module": "@jupyter-widgets/base",
      "model_module_version": "1.2.0",
      "model_name": "LayoutModel",
      "state": {}
     },
     "504d41debf244b18a2108eb932d8e572": {
      "model_module": "@jupyter-widgets/controls",
      "model_module_version": "1.5.0",
      "model_name": "HTMLModel",
      "state": {
       "layout": "IPY_MODEL_497e76a3b6334215ae83fb7f9d4c2a29",
       "style": "IPY_MODEL_920f179dc917434ba7978ae37a674468",
       "value": " 38397/38397 [05:20&lt;00:00, 100.53it/s]"
      }
     },
     "73c28403bef04e0db73194459d6f11e4": {
      "model_module": "@jupyter-widgets/controls",
      "model_module_version": "1.5.0",
      "model_name": "HTMLModel",
      "state": {
       "layout": "IPY_MODEL_75a25050762645199679f6d1acae6d2e",
       "style": "IPY_MODEL_0a0448b1767345aa876ce4fff77531c8",
       "value": "100%"
      }
     },
     "75a25050762645199679f6d1acae6d2e": {
      "model_module": "@jupyter-widgets/base",
      "model_module_version": "1.2.0",
      "model_name": "LayoutModel",
      "state": {}
     },
     "764daf22216d4af0953e3e477d96dcc6": {
      "model_module": "@jupyter-widgets/controls",
      "model_module_version": "1.5.0",
      "model_name": "HBoxModel",
      "state": {
       "children": [
        "IPY_MODEL_73c28403bef04e0db73194459d6f11e4",
        "IPY_MODEL_8a786ff4ca864c0a8861b3898ce0f15d",
        "IPY_MODEL_504d41debf244b18a2108eb932d8e572"
       ],
       "layout": "IPY_MODEL_1378c26079dc4f10a07c9aa43d932688"
      }
     },
     "8a786ff4ca864c0a8861b3898ce0f15d": {
      "model_module": "@jupyter-widgets/controls",
      "model_module_version": "1.5.0",
      "model_name": "FloatProgressModel",
      "state": {
       "layout": "IPY_MODEL_04f13d76f9c04130a0a6c7bd54d31201",
       "max": 38397,
       "style": "IPY_MODEL_1343281e1c9947f0bf0d898dcbdce0e5",
       "value": 38397
      }
     },
     "920f179dc917434ba7978ae37a674468": {
      "model_module": "@jupyter-widgets/controls",
      "model_module_version": "1.5.0",
      "model_name": "DescriptionStyleModel",
      "state": {
       "description_width": ""
      }
     }
    },
    "version_major": 2,
    "version_minor": 0
   }
  }
 },
 "nbformat": 4,
 "nbformat_minor": 5
}
